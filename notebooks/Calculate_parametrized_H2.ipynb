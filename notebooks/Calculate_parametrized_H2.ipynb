{
 "cells": [
  {
   "cell_type": "code",
   "execution_count": 1,
   "metadata": {},
   "outputs": [],
   "source": [
    "import numpy as np\n",
    "from astropy.table import Table"
   ]
  },
  {
   "cell_type": "code",
   "execution_count": 2,
   "metadata": {},
   "outputs": [],
   "source": [
    "working_table_fn = '/Users/nityaravi/Documents/Research/RotationCurves/data/manga/output_files/DR17/CURRENT_MASTER_TABLE/H_alpha_HIvel_BB_extinction_H2_MxCG_R90_v3p5_Z_SFR_Portsmouthflux_Zglob.fits'\n"
   ]
  },
  {
   "cell_type": "code",
   "execution_count": 3,
   "metadata": {},
   "outputs": [],
   "source": [
    "working_table = Table.read(working_table_fn, format='fits')"
   ]
  },
  {
   "cell_type": "code",
   "execution_count": 4,
   "metadata": {},
   "outputs": [],
   "source": [
    "working_table['param_H2'] = np.ones(len(working_table))*np.nan\n",
    "working_table['param_H2_err'] = np.ones(len(working_table))*np.nan"
   ]
  },
  {
   "cell_type": "code",
   "execution_count": 5,
   "metadata": {},
   "outputs": [],
   "source": [
    "for i in range(0, len(working_table)):\n",
    "    \n",
    "    CMD_class = working_table['CMD_class'][i]\n",
    "    \n",
    "    M_r = working_table['rabsmag_NSA'][i]\n",
    "    \n",
    "    if M_r < -50:\n",
    "        continue\n",
    "    \n",
    "    if CMD_class == 1:\n",
    "        \n",
    "        \n",
    "        \n",
    "        working_table['param_H2'][i]= -0.4*M_r + 1.23\n",
    "        working_table['param_H2_err'][i] = np.sqrt(M_r**2 * .02**2 + 0.32**2)\n",
    "        \n",
    "        \n",
    "    elif CMD_class == 2 or CMD_class ==  3:\n",
    "        \n",
    "        working_table['param_H2'][i]= -0.27*M_r + 3.68\n",
    "        working_table['param_H2_err'][i] = np.sqrt(M_r**2 * 0.02**2 + 0.41**2)\n",
    "        "
   ]
  },
  {
   "cell_type": "code",
   "execution_count": 7,
   "metadata": {},
   "outputs": [],
   "source": [
    "working_table.write(working_table_fn, format='fits', overwrite=True)"
   ]
  },
  {
   "cell_type": "code",
   "execution_count": null,
   "metadata": {},
   "outputs": [],
   "source": []
  }
 ],
 "metadata": {
  "kernelspec": {
   "display_name": "Python 3",
   "language": "python",
   "name": "python3"
  },
  "language_info": {
   "codemirror_mode": {
    "name": "ipython",
    "version": 3
   },
   "file_extension": ".py",
   "mimetype": "text/x-python",
   "name": "python",
   "nbconvert_exporter": "python",
   "pygments_lexer": "ipython3",
   "version": "3.7.4"
  }
 },
 "nbformat": 4,
 "nbformat_minor": 2
}
