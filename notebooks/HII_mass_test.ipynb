{
 "cells": [
  {
   "cell_type": "markdown",
   "id": "a56989aa-ba34-45c5-84dc-dd7cab09f81b",
   "metadata": {},
   "source": [
    "Test the calculation of the HII mass of a galaxy from its H$\\alpha$ emission"
   ]
  },
  {
   "cell_type": "code",
   "execution_count": 59,
   "id": "582bb9da-cc43-4598-b2f2-e2fce3707dfb",
   "metadata": {},
   "outputs": [],
   "source": [
    "import numpy as np\n",
    "import numpy.ma as ma\n",
    "\n",
    "from astropy.table import Table\n",
    "import astropy.constants as const\n",
    "import astropy.units as u\n",
    "\n",
    "import matplotlib.pyplot as plt\n",
    "\n",
    "import sys\n",
    "\n",
    "sys.path.insert(1, '/home/kelly/Documents/RotationCurves/spirals/')\n",
    "from DRP_rotation_curve import extract_data"
   ]
  },
  {
   "cell_type": "markdown",
   "id": "030f7787-64d0-4000-b6a3-80b4af860696",
   "metadata": {},
   "source": [
    "# Data"
   ]
  },
  {
   "cell_type": "code",
   "execution_count": 56,
   "id": "c8d4181f-d31f-4db0-9e92-cd17a1b7b21a",
   "metadata": {},
   "outputs": [],
   "source": [
    "fits_dir = '/home/kelly/Documents/Data/SDSS/dr17/'\n",
    "\n",
    "fits_filename = fits_dir + 'master_table_Halpha_BB_HI_H2_MxCG_R90_CMD_ZPG16R_SFR_MZ_phi.txt'\n",
    "\n",
    "fits = Table.read(fits_filename, format='ascii.commented_header')"
   ]
  },
  {
   "cell_type": "code",
   "execution_count": 19,
   "id": "8c628544-b7e4-4387-aa4d-12f41ffca87e",
   "metadata": {},
   "outputs": [],
   "source": [
    "MANGA_FOLDER = '/home/kelly/Documents/Data/SDSS/dr17/manga/spectro/'\n",
    "\n",
    "VEL_MAP_FOLDER = MANGA_FOLDER + 'analysis/v3_1_1/3.1.0/HYB10-MILESHC-MASTARSSP/'"
   ]
  },
  {
   "cell_type": "code",
   "execution_count": 58,
   "id": "1bf4eb99-5b6b-4b50-a30f-e33f7a8478dc",
   "metadata": {},
   "outputs": [],
   "source": [
    "gal_ID = '8997-9102'\n",
    "\n",
    "maps = extract_data(VEL_MAP_FOLDER, gal_ID, ['Ha_flux', 'Ha_flux_err'], dr=17)\n",
    "\n",
    "plate, ifu = gal_ID.split('-')\n",
    "\n",
    "fit_row = fits[(fits['MaNGA_plate'] == int(plate)) & (fits['MaNGA_IFU'] == int(ifu))]"
   ]
  },
  {
   "cell_type": "code",
   "execution_count": 90,
   "id": "8c63fa75-b747-429a-aac5-5f31bb1f56eb",
   "metadata": {},
   "outputs": [],
   "source": [
    "mHa_flux = ma.array(maps['Ha_flux'], mask=maps['Ha_flux_mask'], dtype=np.float64)"
   ]
  },
  {
   "cell_type": "markdown",
   "id": "e73c73a6-1249-4aa1-940d-ae3b42ab49fb",
   "metadata": {},
   "source": [
    "# Calculate recombination rate for H\n",
    "\n",
    "From [Badnell (2006)](https://ui.adsabs.harvard.edu/abs/2006ApJS..167..334B/abstract):\n",
    "\\begin{equation}\n",
    "  \\alpha (T) = A \\left[ \\sqrt{\\frac{T}{T_0}} \\left( 1 + \\sqrt{\\frac{T}{T_0}} \\right)^{1 - B} \\left( 1 + \\sqrt{\\frac{T}{T_1}} \\right)^{1 + B} \\right]^{-1}\n",
    "\\end{equation}"
   ]
  },
  {
   "cell_type": "code",
   "execution_count": 91,
   "id": "37f8a8b7-5788-41c2-bf75-142c6abe6664",
   "metadata": {},
   "outputs": [],
   "source": [
    "def alpha(T, A, B, T0, T1):\n",
    "    '''\n",
    "    Calculate the Case A recombination coefficient\n",
    "    \n",
    "    Units of alpha: cm^3 s^-1\n",
    "    '''\n",
    "    \n",
    "    return A/(np.sqrt(T/T0)*(1 + np.sqrt(T/T0))**(1 - B)*(1 + np.sqrt(T/T1))**(1 + B))"
   ]
  },
  {
   "cell_type": "code",
   "execution_count": 92,
   "id": "c98e35cb-eba6-4c11-8605-0a0966f5541f",
   "metadata": {},
   "outputs": [
    {
     "data": {
      "text/plain": [
       "4.1933023584895474e-13"
      ]
     },
     "execution_count": 92,
     "metadata": {},
     "output_type": "execute_result"
    }
   ],
   "source": [
    "# HII parameters are from '/home/kelly/Documents/Data/CHIANTI/h/h_2/h_2.rrparams'\n",
    "A = 8.3180e-11\n",
    "B = 0.74720\n",
    "T0 = 2.9650e+00\n",
    "T1 = 7.0010e+05\n",
    "\n",
    "a_A_Hii = alpha(1E4, A, B, T0, T1)\n",
    "a_A_Hii"
   ]
  },
  {
   "cell_type": "markdown",
   "id": "19f8f002-4641-4f4d-8c0a-f2a24f15d9d1",
   "metadata": {},
   "source": [
    "This is for Case A recombinatin, which I don't think we want...\n",
    "\n",
    "Instead, let's use the values given by Dan in ASTR 244:"
   ]
  },
  {
   "cell_type": "code",
   "execution_count": 93,
   "id": "035f9d18-c350-4bba-bfca-6ee0be8c7fd7",
   "metadata": {},
   "outputs": [],
   "source": [
    "hca_Ha = 3.54e-25 # erg cm^-3 s^-1\n",
    "hca_Hb = 1.24e-25 # erg cm^-3 s^-1"
   ]
  },
  {
   "cell_type": "markdown",
   "id": "ed83412e-a292-42a7-9ee0-2e7fa0da85fe",
   "metadata": {},
   "source": [
    "# Calculate $M_{HII}$"
   ]
  },
  {
   "cell_type": "code",
   "execution_count": 94,
   "id": "53586deb-386f-4edb-a746-3d4816e86d31",
   "metadata": {},
   "outputs": [],
   "source": [
    "def Np(hca, ne, I):\n",
    "    '''\n",
    "    Calculate the number density of protons integrated along the line of sight.\n",
    "    \n",
    "    \n",
    "    PARAMETERS\n",
    "    ==========\n",
    "    \n",
    "    hca : float\n",
    "        hc*(alpha/lambda) for a given transition\n",
    "        \n",
    "        Units are erg cm^-3 s^-1\n",
    "        \n",
    "    ne : float\n",
    "        Electron number density\n",
    "        \n",
    "        Units are cm^-3\n",
    "    \n",
    "    I : float or ndarray\n",
    "        Observed emission line intensity\n",
    "        \n",
    "        Units are 10^-17 erg/s/cm^2/spaxel\n",
    "    '''\n",
    "    \n",
    "    return 4*np.pi*I/(hca*ne)\n",
    "\n",
    "\n",
    "def M_Hii(hca, I, ne=100):\n",
    "    '''\n",
    "    Calculate the HII mass observed in a given emission line\n",
    "    \n",
    "    \n",
    "    PARAMETERS\n",
    "    ==========\n",
    "    \n",
    "    hca : float\n",
    "        hc*(alpha/lambda) for a given transition\n",
    "        \n",
    "        Units are erg cm^-3 s^-1\n",
    "        \n",
    "    ne : float\n",
    "        Electron number density.  Default = 100 cm^-3\n",
    "    \n",
    "    I : float or ndarray\n",
    "        Observed emission line intensity\n",
    "        \n",
    "        Units are 10^-17 erg/s/cm^2/spaxel\n",
    "    '''\n",
    "    \n",
    "    return const.m_p * Np(hca, ne, I)"
   ]
  },
  {
   "cell_type": "code",
   "execution_count": 95,
   "id": "e360b0cf-df9d-40f3-8540-60a89bbfd603",
   "metadata": {},
   "outputs": [],
   "source": [
    "mMp_Hii_map = M_Hii(hca_Ha, mHa_flux) # This is the mass per unit area (cm^2) per spaxel"
   ]
  },
  {
   "cell_type": "markdown",
   "id": "62c60454-c308-4b37-862d-7246b5c4212a",
   "metadata": {},
   "source": [
    "## Multiply by the area of each spaxel (in cm) to compute the total mass in protons in each spaxel"
   ]
  },
  {
   "cell_type": "code",
   "execution_count": 96,
   "id": "89cbdb03-a62c-4c15-b00c-973a4daa9187",
   "metadata": {},
   "outputs": [
    {
     "data": {
      "text/latex": [
       "$7.3053866 \\times 10^{20} \\; \\mathrm{cm}$"
      ],
      "text/plain": [
       "<Quantity 7.30538661e+20 cm>"
      ]
     },
     "execution_count": 96,
     "metadata": {},
     "output_type": "execute_result"
    }
   ],
   "source": [
    "H0 = 100*u.km/u.s/u.Mpc\n",
    "\n",
    "MANGA_SPAXEL_SIZE = 0.5*(1/60)*(1/60)*(np.pi/180)  # spaxel size (0.5\") in radians\n",
    "\n",
    "dist_to_galaxy = const.c*fit_row['NSA_redshift'][0]/H0\n",
    "\n",
    "pix_scale_factor = dist_to_galaxy.to('cm')*np.tan(MANGA_SPAXEL_SIZE)\n",
    "pix_scale_factor"
   ]
  },
  {
   "cell_type": "code",
   "execution_count": 98,
   "id": "b144a32d-c52e-496b-8e67-4fe9c468a2b1",
   "metadata": {},
   "outputs": [],
   "source": [
    "mM_Hii_map = mMp_Hii_map*pix_scale_factor.value*pix_scale_factor.value"
   ]
  },
  {
   "cell_type": "code",
   "execution_count": 110,
   "id": "1bfe28fa-883f-4017-8437-a7c0e7dfd863",
   "metadata": {},
   "outputs": [
    {
     "data": {
      "image/png": "[encoded data removed]",
      "text/plain": [
       "<Figure size 640x480 with 2 Axes>"
      ]
     },
     "metadata": {},
     "output_type": "display_data"
    }
   ],
   "source": [
    "plt.figure(tight_layout=True)\n",
    "\n",
    "plt.imshow(ma.log10(mM_Hii_map*1e-17/const.M_sun), origin='lower', vmin=-9.5, vmax=-7.5)\n",
    "\n",
    "plt.colorbar(label=\"log($M_{HII}/M_\\odot$)\");"
   ]
  },
  {
   "cell_type": "code",
   "execution_count": null,
   "id": "c4cd72a3-ff5c-43a5-b697-d536294f94a5",
   "metadata": {},
   "outputs": [],
   "source": []
  }
 ],
 "metadata": {
  "kernelspec": {
   "display_name": "Python 3 (ipykernel)",
   "language": "python",
   "name": "python3"
  },
  "language_info": {
   "codemirror_mode": {
    "name": "ipython",
    "version": 3
   },
   "file_extension": ".py",
   "mimetype": "text/x-python",
   "name": "python",
   "nbconvert_exporter": "python",
   "pygments_lexer": "ipython3",
   "version": "3.7.16"
  }
 },
 "nbformat": 4,
 "nbformat_minor": 5
}
