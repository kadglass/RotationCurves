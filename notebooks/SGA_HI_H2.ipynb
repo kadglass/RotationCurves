{
 "cells": [
  {
   "cell_type": "code",
   "execution_count": 1,
   "metadata": {},
   "outputs": [],
   "source": [
    "from astropy.table import Table\n",
    "import numpy as np"
   ]
  },
  {
   "cell_type": "code",
   "execution_count": 32,
   "metadata": {},
   "outputs": [],
   "source": [
    "data_folder='/Users/nityaravi/Documents/Research/RotationCurves/data/'\n",
    "A = Table.read(data_folder+'a100.code12.table2.190808.csv', format='csv', fast_reader=False, guess=False)\n",
    "SGA = Table.read(data_folder + 'SGA-2020_ALFALFA_xCOLD_GASS_MASCOT.fits', format='fits')\n",
    "MASCOT = Table.read(data_folder + 'manga/MASCOT.fits', format='fits')\n",
    "xCG = Table.read(data_folder + 'manga/xCOLDGASS_PubCat.fits', format='fits')"
   ]
  },
  {
   "cell_type": "code",
   "execution_count": 13,
   "metadata": {},
   "outputs": [
    {
     "name": "stdout",
     "output_type": "stream",
     "text": [
      "SGA galaxies with HI:  21897\n"
     ]
    }
   ],
   "source": [
    "print('SGA galaxies with HI: ', len(SGA[SGA['ALFALFA_index'] > 1]))"
   ]
  },
  {
   "cell_type": "code",
   "execution_count": 29,
   "metadata": {},
   "outputs": [
    {
     "name": "stdout",
     "output_type": "stream",
     "text": [
      "SGA galaxies with H2 in MASCOT:  169\n"
     ]
    }
   ],
   "source": [
    "print('SGA galaxies with H2 in MASCOT: ', len(MASCOT[SGA['MASCOT_index'][SGA['MASCOT_index'] > -1]]))"
   ]
  },
  {
   "cell_type": "code",
   "execution_count": 35,
   "metadata": {},
   "outputs": [
    {
     "name": "stdout",
     "output_type": "stream",
     "text": [
      "SGA galaxies in xCOLD GASS:  505\n"
     ]
    }
   ],
   "source": [
    "print('SGA galaxies in xCOLD GASS: ', len(SGA[SGA['xCOLD_GASS_index'] > -1]))"
   ]
  },
  {
   "cell_type": "code",
   "execution_count": 41,
   "metadata": {},
   "outputs": [],
   "source": [
    "xCG_in_SGA = xCG[SGA['xCOLD_GASS_index'][SGA['xCOLD_GASS_index'] > -1]]"
   ]
  },
  {
   "cell_type": "code",
   "execution_count": 43,
   "metadata": {},
   "outputs": [
    {
     "name": "stdout",
     "output_type": "stream",
     "text": [
      "SGA galaxies with H2 in xCOLD GASS:  319\n"
     ]
    }
   ],
   "source": [
    "print('SGA galaxies with H2 in xCOLD GASS: ', len(xCG_in_SGA[xCG_in_SGA['LOGMH2'] > 0]))"
   ]
  },
  {
   "cell_type": "code",
   "execution_count": 46,
   "metadata": {},
   "outputs": [
    {
     "name": "stdout",
     "output_type": "stream",
     "text": [
      "in ALFALFA and MASCOT:  23\n"
     ]
    }
   ],
   "source": [
    "print('in ALFALFA and MASCOT: ', len(SGA[np.logical_and(SGA['ALFALFA_index'] > -1, SGA['MASCOT_index'] > -1)]))"
   ]
  },
  {
   "cell_type": "code",
   "execution_count": 47,
   "metadata": {},
   "outputs": [
    {
     "name": "stdout",
     "output_type": "stream",
     "text": [
      "in ALFALFA and xCOLD GASS:  239\n"
     ]
    }
   ],
   "source": [
    "print('in ALFALFA and xCOLD GASS: ', len(SGA[np.logical_and(SGA['ALFALFA_index'] > -1, SGA['xCOLD_GASS_index'] > -1)]))"
   ]
  },
  {
   "cell_type": "code",
   "execution_count": 51,
   "metadata": {},
   "outputs": [],
   "source": [
    "xCG_ALFLAFA = xCG[SGA['xCOLD_GASS_index'][np.logical_and(SGA['ALFALFA_index'] > -1, SGA['xCOLD_GASS_index'] > -1)]]"
   ]
  },
  {
   "cell_type": "code",
   "execution_count": 53,
   "metadata": {},
   "outputs": [
    {
     "name": "stdout",
     "output_type": "stream",
     "text": [
      "in ALFALFA and xCOLD GASS with H2:  204\n"
     ]
    }
   ],
   "source": [
    "print('in ALFALFA and xCOLD GASS with H2: ', len(xCG_ALFLAFA[xCG_ALFLAFA['LOGMH2'] > 0]))"
   ]
  },
  {
   "cell_type": "code",
   "execution_count": null,
   "metadata": {},
   "outputs": [],
   "source": []
  }
 ],
 "metadata": {
  "kernelspec": {
   "display_name": "Python 3",
   "language": "python",
   "name": "python3"
  },
  "language_info": {
   "codemirror_mode": {
    "name": "ipython",
    "version": 3
   },
   "file_extension": ".py",
   "mimetype": "text/x-python",
   "name": "python",
   "nbconvert_exporter": "python",
   "pygments_lexer": "ipython3",
   "version": "3.7.4"
  }
 },
 "nbformat": 4,
 "nbformat_minor": 2
}
