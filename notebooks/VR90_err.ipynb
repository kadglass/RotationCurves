{
 "cells": [
  {
   "cell_type": "code",
   "execution_count": 3,
   "metadata": {},
   "outputs": [],
   "source": [
    "import numpy as np\n",
    "from astropy.io import fits\n",
    "from astropy.table import Table\n",
    "\n",
    "import sys\n",
    "sys.path.append('/Users/nityaravi/Documents/Github/RotationCurves/spirals/')\n",
    "from dark_matter_mass_v1 import rot_fit_BB"
   ]
  },
  {
   "cell_type": "code",
   "execution_count": 59,
   "metadata": {},
   "outputs": [],
   "source": [
    "HESS_FOLDER = '/Users/nityaravi/Documents/Research/data/manga/DRP_map_Hessians/'\n",
    "tab_fn = '/Users/nityaravi/Documents/Research/data/manga/output_files/final2table.txt'\n",
    "tab2_fn = '/Users/nityaravi/Documents/Research/data/manga/output_files/DRP_HaVel_map_results_BB_smooth_lt_2.0_.fits'"
   ]
  },
  {
   "cell_type": "code",
   "execution_count": 60,
   "metadata": {},
   "outputs": [
    {
     "data": {
      "text/html": [
       "<i>Row index=0</i>\n",
       "<table id=\"table140163708536016\">\n",
       "<thead><tr><th>plateifu</th><th>Mtot</th><th>Mtot_err</th><th>Mstar</th><th>Mstar_err</th><th>MHI</th><th>MH2</th><th>Mdust</th><th>Mr</th><th>Z</th><th>R90</th><th>v_max</th><th>r_turn</th><th>alpha</th></tr></thead>\n",
       "<thead><tr><th>str11</th><th>float64</th><th>float64</th><th>float64</th><th>float64</th><th>float64</th><th>float64</th><th>float64</th><th>float64</th><th>float64</th><th>float64</th><th>float64</th><th>float64</th><th>float64</th></tr></thead>\n",
       "<tr><td>10001-3702</td><td>11.052790322774381</td><td>10.928525167884018</td><td>10.0200393746564</td><td>12.86078304577374</td><td>8.947139739990234</td><td>8.77132441413365</td><td>6.942434416615007</td><td>-19.4337</td><td>8.754925012287872</td><td>13.263102531433105</td><td>313.6762095221658</td><td>0.7925717678215113</td><td>8.720845050623494</td></tr>\n",
       "</table>"
      ],
      "text/plain": [
       "<Row index=0>\n",
       " plateifu         Mtot             Mtot_err           Mstar           Mstar_err            MHI              MH2              Mdust          Mr            Z                R90               v_max             r_turn             alpha      \n",
       "  str11         float64            float64           float64           float64           float64          float64           float64      float64       float64           float64            float64           float64            float64     \n",
       "---------- ------------------ ------------------ ---------------- ----------------- ----------------- ---------------- ----------------- -------- ----------------- ------------------ ----------------- ------------------ -----------------\n",
       "10001-3702 11.052790322774381 10.928525167884018 10.0200393746564 12.86078304577374 8.947139739990234 8.77132441413365 6.942434416615007 -19.4337 8.754925012287872 13.263102531433105 313.6762095221658 0.7925717678215113 8.720845050623494"
      ]
     },
     "execution_count": 60,
     "metadata": {},
     "output_type": "execute_result"
    }
   ],
   "source": [
    "tab = Table.read(tab_fn, format='ascii.commented_header')\n",
    "tab[0]"
   ]
  },
  {
   "cell_type": "code",
   "execution_count": 19,
   "metadata": {},
   "outputs": [
    {
     "data": {
      "text/html": [
       "<i>Row index=0</i>\n",
       "<table id=\"table140165324032400\">\n",
       "<thead><tr><th>plate</th><th>ifudsgn</th><th>plateifu</th><th>mangaid</th><th>versdrp2</th><th>versdrp3</th><th>verscore</th><th>versutil</th><th>versprim</th><th>platetyp</th><th>srvymode</th><th>objra</th><th>objdec</th><th>ifuglon</th><th>ifuglat</th><th>ifura</th><th>ifudec</th><th>ebvgal</th><th>nexp</th><th>exptime</th><th>drp3qual</th><th>bluesn2</th><th>redsn2</th><th>harname</th><th>frlplug</th><th>cartid</th><th>designid</th><th>cenra</th><th>cendec</th><th>airmsmin</th><th>airmsmed</th><th>airmsmax</th><th>seemin</th><th>seemed</th><th>seemax</th><th>transmin</th><th>transmed</th><th>transmax</th><th>mjdmin</th><th>mjdmed</th><th>mjdmax</th><th>gfwhm</th><th>rfwhm</th><th>ifwhm</th><th>zfwhm</th><th>mngtarg1</th><th>mngtarg2</th><th>mngtarg3</th><th>catidnum</th><th>plttarg</th><th>manga_tileid</th><th>nsa_iauname</th><th>ifudesignsize</th><th>ifutargetsize</th><th>ifudesignwrongsize</th><th>z</th><th>zmin</th><th>zmax</th><th>szmin</th><th>szmax</th><th>ezmin</th><th>ezmax</th><th>probs</th><th>pweight</th><th>psweight</th><th>psrweight</th><th>sweight</th><th>srweight</th><th>eweight</th><th>esweight</th><th>esrweight</th><th>nsa_field</th><th>nsa_run</th><th>nsa_camcol</th><th>nsa_version</th><th>nsa_nsaid</th><th>nsa_nsaid_v1b</th><th>nsa_z</th><th>nsa_zdist</th><th>nsa_sersic_absmag [7]</th><th>nsa_elpetro_absmag [7]</th><th>nsa_elpetro_amivar [7]</th><th>nsa_sersic_mass</th><th>nsa_elpetro_mass</th><th>nsa_elpetro_ba</th><th>nsa_elpetro_phi</th><th>nsa_extinction [7]</th><th>nsa_elpetro_th50_r</th><th>nsa_petro_th50</th><th>nsa_petro_flux [7]</th><th>nsa_petro_flux_ivar [7]</th><th>nsa_elpetro_flux [7]</th><th>nsa_elpetro_flux_ivar [7]</th><th>nsa_sersic_ba</th><th>nsa_sersic_n</th><th>nsa_sersic_phi</th><th>nsa_sersic_th50</th><th>nsa_sersic_flux [7]</th><th>nsa_sersic_flux_ivar [7]</th><th>smoothness_score</th><th>nsa_elpetro_th90</th><th>v_sys</th><th>v_sys_err</th><th>ba</th><th>ba_err</th><th>x0</th><th>x0_err</th><th>y0</th><th>y0_err</th><th>phi</th><th>phi_err</th><th>v_max</th><th>v_max_err</th><th>r_turn</th><th>r_turn_err</th><th>chi2</th><th>alpha</th><th>alpha_err</th><th>Rmax</th><th>M</th><th>M_err</th><th>fit_flag</th></tr></thead>\n",
       "<thead><tr><th>int64</th><th>bytes32</th><th>bytes32</th><th>bytes32</th><th>bytes32</th><th>bytes32</th><th>bytes32</th><th>bytes32</th><th>bytes32</th><th>bytes32</th><th>bytes32</th><th>float64</th><th>float64</th><th>float64</th><th>float64</th><th>float64</th><th>float64</th><th>float64</th><th>int64</th><th>float64</th><th>int64</th><th>float64</th><th>float64</th><th>bytes53</th><th>int64</th><th>bytes32</th><th>int64</th><th>float64</th><th>float64</th><th>float64</th><th>float64</th><th>float64</th><th>float64</th><th>float64</th><th>float64</th><th>float64</th><th>float64</th><th>float64</th><th>int64</th><th>int64</th><th>int64</th><th>float64</th><th>float64</th><th>float64</th><th>float64</th><th>int64</th><th>int64</th><th>int64</th><th>int64</th><th>bytes32</th><th>int64</th><th>bytes19</th><th>int64</th><th>int64</th><th>int64</th><th>float64</th><th>float64</th><th>float64</th><th>float64</th><th>float64</th><th>float64</th><th>float64</th><th>float64</th><th>float64</th><th>float64</th><th>float64</th><th>float64</th><th>float64</th><th>float64</th><th>float64</th><th>float64</th><th>int64</th><th>int64</th><th>int64</th><th>bytes6</th><th>int64</th><th>int64</th><th>float64</th><th>float64</th><th>float64</th><th>float64</th><th>float64</th><th>float64</th><th>float64</th><th>float64</th><th>float64</th><th>float64</th><th>float64</th><th>float64</th><th>float64</th><th>float64</th><th>float64</th><th>float64</th><th>float64</th><th>float64</th><th>float64</th><th>float64</th><th>float64</th><th>float64</th><th>float64</th><th>float64</th><th>float64</th><th>float64</th><th>float64</th><th>float64</th><th>float64</th><th>float64</th><th>float64</th><th>float64</th><th>float64</th><th>float64</th><th>float64</th><th>float64</th><th>float64</th><th>float64</th><th>float64</th><th>float64</th><th>float64</th><th>float64</th><th>float64</th><th>float64</th><th>float64</th></tr></thead>\n",
       "<tr><td>10001</td><td>12701</td><td>10001-12701</td><td>1-48157</td><td>v3_1_1</td><td>v3_1_1</td><td>v1_9_1</td><td>v5_5_36</td><td>v2_9</td><td>APOGEE-2&amp;MaNGA</td><td>MaNGA dither</td><td>133.371090612</td><td>57.5984251446</td><td>159.27921887</td><td>38.8381829181</td><td>133.37109</td><td>57.598425</td><td>0.0545561</td><td>9</td><td>8100.81</td><td>0</td><td>20.0835</td><td>41.292</td><td>ma079</td><td>22</td><td>3</td><td>9114</td><td>134.41357</td><td>57.604214</td><td>1.10715</td><td>1.15321</td><td>1.21404</td><td>1.78219</td><td>1.85994</td><td>2.12685</td><td>0.898721</td><td>0.929654</td><td>0.937466</td><td>57372</td><td>57373</td><td>57373</td><td>2.69906</td><td>2.64546</td><td>2.59645</td><td>2.54039</td><td>2080</td><td>0</td><td>0</td><td>1</td><td>plateTargets-1.par</td><td>6013</td><td>J085329.03+573554.9</td><td>127</td><td>127</td><td>0</td><td>0.0392074</td><td>0.0193562</td><td>0.0264775</td><td>0.0386959</td><td>0.0429176</td><td>0.0193562</td><td>0.0264775</td><td>0.748562</td><td>-999.0</td><td>0.665321</td><td>0.705378</td><td>1.08789</td><td>1.19925</td><td>-999.0</td><td>0.66562</td><td>0.705713</td><td>203</td><td>1350</td><td>6</td><td>v1_0_1</td><td>51226</td><td>-999</td><td>0.0392074</td><td>0.0395926</td><td>-16.2982 .. -19.5112</td><td>-16.2321 .. -19.5522</td><td>275.541 .. 452.944</td><td>3068010000.0</td><td>2685340000.0</td><td>0.417013</td><td>69.2463</td><td>0.448783 .. 0.0800664</td><td>5.16633</td><td>3.63987</td><td>12.7947 .. 413.049</td><td>3.26768 .. 0.000422625</td><td>13.8306 .. 425.941</td><td>3.03694 .. 0.00496838</td><td>0.335333</td><td>0.741845</td><td>68.2584</td><td>5.29184</td><td>14.8124 .. 412.19</td><td>2.50888 .. 0.0150605</td><td>--</td><td>--</td><td>--</td><td>--</td><td>--</td><td>--</td><td>--</td><td>--</td><td>--</td><td>--</td><td>--</td><td>--</td><td>--</td><td>--</td><td>--</td><td>--</td><td>--</td><td>--</td><td>--</td><td>--</td><td>--</td><td>--</td><td>--</td></tr>\n",
       "</table>"
      ],
      "text/plain": [
       "<Row index=0>\n",
       "plate ifudsgn   plateifu  mangaid versdrp2 versdrp3 verscore versutil versprim    platetyp      srvymode       objra         objdec      ifuglon       ifuglat      ifura     ifudec    ebvgal   nexp exptime drp3qual bluesn2  redsn2 harname frlplug  cartid designid   cenra     cendec  airmsmin airmsmed airmsmax  seemin  seemed  seemax transmin transmed transmax mjdmin mjdmed mjdmax  gfwhm   rfwhm   ifwhm   zfwhm  mngtarg1 mngtarg2 mngtarg3 catidnum      plttarg       manga_tileid     nsa_iauname     ifudesignsize ifutargetsize ifudesignwrongsize     z        zmin      zmax     szmin     szmax     ezmin     ezmax    probs   pweight psweight psrweight sweight srweight eweight esweight esrweight nsa_field nsa_run nsa_camcol nsa_version nsa_nsaid nsa_nsaid_v1b   nsa_z   nsa_zdist nsa_sersic_absmag [7] nsa_elpetro_absmag [7] nsa_elpetro_amivar [7] nsa_sersic_mass nsa_elpetro_mass nsa_elpetro_ba nsa_elpetro_phi   nsa_extinction [7]  nsa_elpetro_th50_r nsa_petro_th50 nsa_petro_flux [7] nsa_petro_flux_ivar [7] nsa_elpetro_flux [7] nsa_elpetro_flux_ivar [7] nsa_sersic_ba nsa_sersic_n nsa_sersic_phi nsa_sersic_th50 nsa_sersic_flux [7] nsa_sersic_flux_ivar [7] smoothness_score nsa_elpetro_th90  v_sys  v_sys_err    ba    ba_err    x0    x0_err    y0    y0_err   phi   phi_err  v_max  v_max_err  r_turn r_turn_err   chi2   alpha  alpha_err   Rmax     M     M_err  fit_flag\n",
       "int64 bytes32   bytes32   bytes32 bytes32  bytes32  bytes32  bytes32  bytes32     bytes32       bytes32       float64       float64      float64       float64     float64   float64   float64  int64 float64  int64   float64 float64 bytes53  int64  bytes32  int64    float64   float64  float64  float64  float64  float64 float64 float64 float64  float64  float64  int64  int64  int64  float64 float64 float64 float64  int64    int64    int64    int64        bytes32          int64           bytes19           int64         int64           int64         float64   float64   float64   float64   float64   float64   float64  float64  float64 float64   float64  float64 float64  float64 float64   float64    int64    int64    int64       bytes6     int64       int64      float64   float64         float64               float64                float64             float64         float64         float64         float64            float64             float64          float64          float64               float64               float64                 float64             float64      float64       float64         float64           float64               float64              float64          float64      float64  float64  float64 float64 float64 float64 float64 float64 float64 float64 float64  float64  float64  float64   float64 float64  float64  float64 float64 float64 float64 \n",
       "----- ------- ----------- ------- -------- -------- -------- -------- -------- -------------- ------------ ------------- ------------- ------------ ------------- --------- --------- --------- ----- ------- -------- ------- ------- ------- ------- ------- -------- --------- --------- -------- -------- -------- ------- ------- ------- -------- -------- -------- ------ ------ ------ ------- ------- ------- ------- -------- -------- -------- -------- ------------------ ------------ ------------------- ------------- ------------- ------------------ --------- --------- --------- --------- --------- --------- --------- -------- ------- -------- --------- ------- -------- ------- -------- --------- --------- ------- ---------- ----------- --------- ------------- --------- --------- --------------------- ---------------------- ---------------------- --------------- ---------------- -------------- --------------- --------------------- ------------------ -------------- ------------------ ----------------------- -------------------- ------------------------- ------------- ------------ -------------- --------------- ------------------- ------------------------ ---------------- ---------------- ------- --------- ------- ------- ------- ------- ------- ------- ------- ------- ------- --------- ------- ---------- ------- ------- --------- ------- ------- ------- --------\n",
       "10001   12701 10001-12701 1-48157   v3_1_1   v3_1_1   v1_9_1  v5_5_36     v2_9 APOGEE-2&MaNGA MaNGA dither 133.371090612 57.5984251446 159.27921887 38.8381829181 133.37109 57.598425 0.0545561     9 8100.81        0 20.0835  41.292   ma079      22       3     9114 134.41357 57.604214  1.10715  1.15321  1.21404 1.78219 1.85994 2.12685 0.898721 0.929654 0.937466  57372  57373  57373 2.69906 2.64546 2.59645 2.54039     2080        0        0        1 plateTargets-1.par         6013 J085329.03+573554.9           127           127                  0 0.0392074 0.0193562 0.0264775 0.0386959 0.0429176 0.0193562 0.0264775 0.748562  -999.0 0.665321  0.705378 1.08789  1.19925  -999.0  0.66562  0.705713       203    1350          6      v1_0_1     51226          -999 0.0392074 0.0395926  -16.2982 .. -19.5112   -16.2321 .. -19.5522     275.541 .. 452.944    3068010000.0     2685340000.0       0.417013         69.2463 0.448783 .. 0.0800664            5.16633        3.63987 12.7947 .. 413.049  3.26768 .. 0.000422625   13.8306 .. 425.941     3.03694 .. 0.00496838      0.335333     0.741845        68.2584         5.29184   14.8124 .. 412.19     2.50888 .. 0.0150605               --               --      --        --      --      --      --      --      --      --      --      --      --        --      --         --      --      --        --      --      --      --       --"
      ]
     },
     "execution_count": 19,
     "metadata": {},
     "output_type": "execute_result"
    }
   ],
   "source": [
    "tab2 = Table.read(tab2_fn)\n",
    "tab2[0]"
   ]
  },
  {
   "cell_type": "code",
   "execution_count": 22,
   "metadata": {},
   "outputs": [],
   "source": [
    "H_0 = 100      # Hubble's Constant in units of h km/s/Mpc\n",
    "c = 299792.458 # Speed of light in units of km/s"
   ]
  },
  {
   "cell_type": "code",
   "execution_count": 43,
   "metadata": {},
   "outputs": [],
   "source": [
    "v_R90 = np.zeros(88)\n",
    "v_R90_err = np.zeros(88)"
   ]
  },
  {
   "cell_type": "code",
   "execution_count": 45,
   "metadata": {},
   "outputs": [
    {
     "name": "stderr",
     "output_type": "stream",
     "text": [
      "/Users/nityaravi/anaconda3/lib/python3.7/site-packages/ipykernel_launcher.py:32: RuntimeWarning: covariance is not positive-semidefinite.\n"
     ]
    }
   ],
   "source": [
    "for i in range (0,88):\n",
    "    \n",
    "    gal_ID = tab['plateifu'][i]\n",
    "    i_params = np.where(tab['plateifu'][i] == tab2['plateifu'])[0][0]\n",
    "    z = tab2['z'][i_params]\n",
    "    params = [tab2['v_max'][i_params], tab2['r_turn'][i_params], tab2['alpha'][i_params]]\n",
    "    r90 = tab2['nsa_elpetro_th90'][i_params]\n",
    "    \n",
    "    ############################################################################\n",
    "    # Convert r90 from arcsec to kpc\n",
    "    #---------------------------------------------------------------------------\n",
    "    dist_to_galaxy_Mpc = c*z/H_0\n",
    "    dist_to_galaxy_kpc = dist_to_galaxy_Mpc*1000\n",
    "\n",
    "    r90_kpc = dist_to_galaxy_kpc*np.tan(r90*(1./60)*(1./60)*(np.pi/180))\n",
    "    ############################################################################\n",
    "\n",
    "    ############################################################################\n",
    "    # Calculate velocity at given radius\n",
    "    #---------------------------------------------------------------------------\n",
    "    hess = np.load(HESS_FOLDER + gal_ID + '_Hessian.npy')\n",
    "\n",
    "    N_samples = 10000\n",
    "\n",
    "    v_samples = np.zeros(N_samples, dtype=float)\n",
    "\n",
    "    v = rot_fit_BB(r90_kpc, params) # params is the set of best-fit values for the model\n",
    "    v_R90[i] = v\n",
    "\n",
    "    try:\n",
    "\n",
    "        param_samples = np.random.multivariate_normal(mean=params, cov=0.5*hess[-3:,-3:], size=N_samples)\n",
    "\n",
    "        for j in range(N_samples):\n",
    "                \n",
    "            if np.all(param_samples[j] > 0):\n",
    "                v_samples[j] = rot_fit_BB(r90_kpc, param_samples[j])\n",
    "\n",
    "        v_err = np.std(v_samples[np.isfinite(v_samples)])\n",
    "        v_R90_err[i] = v_err\n",
    "    \n",
    "    except np.linalg.LinAlgError:\n",
    "        v_err = np.nan\n",
    "        v_R90_err[i] = v_err\n",
    "    ############################################################################"
   ]
  },
  {
   "cell_type": "code",
   "execution_count": 61,
   "metadata": {},
   "outputs": [],
   "source": [
    "col1 = Table.Column(name='v_R90', data=v_R90)\n",
    "col2 = Table.Column(name='v_R90_err', data=v_R90_err)"
   ]
  },
  {
   "cell_type": "code",
   "execution_count": 62,
   "metadata": {},
   "outputs": [],
   "source": [
    "tab.add_column(col1)"
   ]
  },
  {
   "cell_type": "code",
   "execution_count": 63,
   "metadata": {},
   "outputs": [
    {
     "data": {
      "text/html": [
       "<div><i>Table length=88</i>\n",
       "<table id=\"table140163708536016\" class=\"table-striped table-bordered table-condensed\">\n",
       "<thead><tr><th>plateifu</th><th>Mtot</th><th>Mtot_err</th><th>Mstar</th><th>Mstar_err</th><th>MHI</th><th>MH2</th><th>Mdust</th><th>Mr</th><th>Z</th><th>R90</th><th>v_max</th><th>r_turn</th><th>alpha</th><th>v_R90</th></tr></thead>\n",
       "<thead><tr><th>str11</th><th>float64</th><th>float64</th><th>float64</th><th>float64</th><th>float64</th><th>float64</th><th>float64</th><th>float64</th><th>float64</th><th>float64</th><th>float64</th><th>float64</th><th>float64</th><th>float64</th></tr></thead>\n",
       "<tr><td>10001-3702</td><td>11.052790322774381</td><td>10.928525167884018</td><td>10.0200393746564</td><td>12.86078304577374</td><td>8.947139739990234</td><td>8.77132441413365</td><td>6.942434416615007</td><td>-19.4337</td><td>8.754925012287872</td><td>13.263102531433105</td><td>313.6762095221658</td><td>0.7925717678215113</td><td>8.720845050623494</td><td>313.6762052707942</td></tr>\n",
       "<tr><td>7815-3702</td><td>10.613039578007609</td><td>10.294796645844741</td><td>10.441004906748342</td><td>13.435080247636705</td><td>9.002732276916504</td><td>9.006900445142412</td><td>6.963697702470532</td><td>-20.0207</td><td>8.644526172790677</td><td>10.38451099395752</td><td>199.46555714049532</td><td>1.1936356887733697</td><td>7.930411988698445</td><td>199.46479810036843</td></tr>\n",
       "<tr><td>7990-6104</td><td>10.651277732422022</td><td>10.366704314336037</td><td>10.156365239029698</td><td>12.511487931293033</td><td>9.559786796569824</td><td>9.463747580850782</td><td>7.350859799653533</td><td>-19.84</td><td>8.526241889021023</td><td>16.161773681640625</td><td>213.16018677919567</td><td>1.2679737743976607</td><td>1.0024670875178068</td><td>176.94340907589887</td></tr>\n",
       "<tr><td>7992-6104</td><td>10.679068928886512</td><td>10.931951002910834</td><td>10.352457455190857</td><td>11.777541918384703</td><td>9.142339706420898</td><td>9.080653272468302</td><td>7.083779295020389</td><td>-19.9142</td><td>8.656355276096175</td><td>17.880041122436523</td><td>370.25235829482443</td><td>4.406683328587263</td><td>0.700065575499098</td><td>170.68607758793047</td></tr>\n",
       "<tr><td>8077-12704</td><td>10.867338335470095</td><td>10.636390301650888</td><td>9.99319696409062</td><td>12.58406390041193</td><td>9.619999885559082</td><td>8.493991621794368</td><td>7.227032576663279</td><td>-19.7518</td><td>8.565284957451594</td><td>23.467266082763672</td><td>210.46636915420416</td><td>0.8222675298899436</td><td>1.0585089143440773</td><td>194.70416198773384</td></tr>\n",
       "<tr><td>8077-6102</td><td>10.659860699154235</td><td>10.355629999068695</td><td>9.816905376165465</td><td>10.829595243833525</td><td>9.309956550598145</td><td>8.744420323140734</td><td>7.00784554464874</td><td>-18.655</td><td>8.582427528583263</td><td>16.799543380737305</td><td>317.70041105671606</td><td>8.626072047704287</td><td>3.9822430490810157</td><td>191.15485862982027</td></tr>\n",
       "<tr><td>8080-12702</td><td>11.178796131677775</td><td>10.251123830832475</td><td>10.869727403183214</td><td>11.977514016153917</td><td>10.25059700012207</td><td>9.61940129961914</td><td>8.035643218275176</td><td>-20.4291</td><td>8.679040247387787</td><td>42.67671203613281</td><td>197.64676312533655</td><td>5.343154170164197</td><td>34.34946918375905</td><td>197.64676312533655</td></tr>\n",
       "<tr><td>8082-12702</td><td>11.614500335079871</td><td>11.577018357671777</td><td>11.015169113136754</td><td>14.608237508686512</td><td>10.02690315246582</td><td>9.245969289935173</td><td>7.894666832091676</td><td>-21.6454</td><td>8.781368352259319</td><td>44.79909896850586</td><td>323.50053283634924</td><td>0.7099201517535662</td><td>21.72672932085675</td><td>323.5005328363492</td></tr>\n",
       "<tr><td>8146-1901</td><td>10.542383187889719</td><td>10.16183658209533</td><td>10.25663327898968</td><td>13.266177780012208</td><td>9.15999984741211</td><td>9.014225690297076</td><td>7.160611658939073</td><td>-20.0406</td><td>8.748315021302002</td><td>7.916838645935059</td><td>219.58841715125416</td><td>0.9766459800774372</td><td>5.056868853419022</td><td>219.46511239680967</td></tr>\n",
       "<tr><td>8153-1901</td><td>10.395581165200216</td><td>9.852631598024827</td><td>9.894985192942851</td><td>12.353294061907595</td><td>9.2872953414917</td><td>8.935978797251439</td><td>7.0646445637591535</td><td>-18.5701</td><td>8.605559456698497</td><td>6.649196147918701</td><td>243.96414877221406</td><td>0.8792380549144583</td><td>1.8061416928455225</td><td>221.23531293870747</td></tr>\n",
       "<tr><td>...</td><td>...</td><td>...</td><td>...</td><td>...</td><td>...</td><td>...</td><td>...</td><td>...</td><td>...</td><td>...</td><td>...</td><td>...</td><td>...</td><td>...</td></tr>\n",
       "<tr><td>8089-12701</td><td>10.15115507604112</td><td>10.069012405048827</td><td>9.6327063867983</td><td>10.81359329081097</td><td>9.390000343322754</td><td>8.503275871276855</td><td>6.799930880287783</td><td>-18.4513</td><td>8.352092826794546</td><td>22.759305953979492</td><td>101.44076065412732</td><td>2.813527875873027</td><td>6.52500891569864</td><td>101.32184684126734</td></tr>\n",
       "<tr><td>9506-1901</td><td>9.99767451105192</td><td>9.508015018175424</td><td>9.709737667926367</td><td>12.071347336128644</td><td>8.965579986572266</td><td>8.6726655960083</td><td>6.785567122371588</td><td>-18.7231</td><td>8.628487106916973</td><td>8.18807601928711</td><td>144.23073993036928</td><td>0.846895845528565</td><td>6.7642913875463835</td><td>144.1782741727607</td></tr>\n",
       "<tr><td>12769-6104</td><td>11.4294531380105</td><td>11.364171046791492</td><td>9.543343412225257</td><td>9.071421699200021</td><td>9.239999771118164</td><td>8.206710815429688</td><td>6.765839108652242</td><td>-18.227442</td><td>8.479540905668635</td><td>12.757383346557617</td><td>736.0007497500408</td><td>4.115252969029918</td><td>29.764841069081484</td><td>591.3226657230766</td></tr>\n",
       "<tr><td>12700-12702</td><td>10.645035480264145</td><td>11.413792264716578</td><td>9.914048274152677</td><td>12.232750369400085</td><td>9.149999618530273</td><td>8.767026901245117</td><td>6.845305397726319</td><td>-17.908829</td><td>8.535396058995925</td><td>20.693172454833984</td><td>1208.2147095402652</td><td>6.804275589837504</td><td>0.39982392814294615</td><td>188.55475191230255</td></tr>\n",
       "<tr><td>9493-6103</td><td>10.235735370462377</td><td>9.798804139492923</td><td>10.018341512471393</td><td>12.70009699029723</td><td>9.047574996948242</td><td>8.853238105773926</td><td>6.939428964917962</td><td>-19.0677</td><td>8.663125817788242</td><td>15.14119815826416</td><td>142.8723144851287</td><td>1.1275778644926737</td><td>3.042410263133156</td><td>141.6206988086348</td></tr>\n",
       "<tr><td>9494-3701</td><td>10.904549077587651</td><td>11.656195388597105</td><td>9.912873508420148</td><td>12.43287806546721</td><td>8.432292938232422</td><td>7.780843257904053</td><td>6.660431022869975</td><td>-19.7996</td><td>9.094350544165726</td><td>11.409893989562988</td><td>2505.761708379848</td><td>2.154457112654482</td><td>0.3477106826120589</td><td>369.4414409927542</td></tr>\n",
       "<tr><td>8087-9102</td><td>10.653177079568124</td><td>10.57170456193419</td><td>9.471542442094016</td><td>11.523729783774334</td><td>9.350000381469727</td><td>8.62215805053711</td><td>6.843578907091474</td><td>-18.5078</td><td>8.412925159027752</td><td>18.029293060302734</td><td>194.90893390366486</td><td>1.121117535692701</td><td>2.868621554682398</td><td>194.054608950142</td></tr>\n",
       "<tr><td>10514-3701</td><td>10.120668486232537</td><td>9.868079477357535</td><td>9.367818342672356</td><td>11.087050845773478</td><td>9.082841873168945</td><td>8.066030502319336</td><td>6.676426482677812</td><td>-17.6275</td><td>8.543972293535765</td><td>11.950155258178711</td><td>135.72154416197756</td><td>1.4093230513028072</td><td>2.784935069254214</td><td>131.39569974866197</td></tr>\n",
       "<tr><td>10214-6101</td><td>10.131487916929581</td><td>9.966851418345868</td><td>9.627122934908735</td><td>11.014279835333928</td><td>9.545133590698242</td><td>8.513724327087402</td><td>6.961169530671683</td><td>-18.5115</td><td>8.372156894608688</td><td>15.825783729553223</td><td>122.92645153517671</td><td>1.501722032937655</td><td>2.8079893347896414</td><td>120.28778287710702</td></tr>\n",
       "<tr><td>8934-3701</td><td>10.965530822669644</td><td>10.183229806708065</td><td>9.592337424049532</td><td>12.031822755704649</td><td>8.913228988647461</td><td>8.870747566223145</td><td>6.677208379234285</td><td>-18.5996</td><td>8.475939631973796</td><td>10.313628196716309</td><td>412.54700810394615</td><td>0.4519724463453932</td><td>1.7510685094687954</td><td>400.97748408858246</td></tr>\n",
       "</table></div>"
      ],
      "text/plain": [
       "<Table length=88>\n",
       "  plateifu         Mtot        ...        alpha              v_R90       \n",
       "   str11         float64       ...       float64            float64      \n",
       "----------- ------------------ ... ------------------- ------------------\n",
       " 10001-3702 11.052790322774381 ...   8.720845050623494  313.6762052707942\n",
       "  7815-3702 10.613039578007609 ...   7.930411988698445 199.46479810036843\n",
       "  7990-6104 10.651277732422022 ...  1.0024670875178068 176.94340907589887\n",
       "  7992-6104 10.679068928886512 ...   0.700065575499098 170.68607758793047\n",
       " 8077-12704 10.867338335470095 ...  1.0585089143440773 194.70416198773384\n",
       "  8077-6102 10.659860699154235 ...  3.9822430490810157 191.15485862982027\n",
       " 8080-12702 11.178796131677775 ...   34.34946918375905 197.64676312533655\n",
       " 8082-12702 11.614500335079871 ...   21.72672932085675  323.5005328363492\n",
       "  8146-1901 10.542383187889719 ...   5.056868853419022 219.46511239680967\n",
       "  8153-1901 10.395581165200216 ...  1.8061416928455225 221.23531293870747\n",
       "        ...                ... ...                 ...                ...\n",
       " 8089-12701  10.15115507604112 ...    6.52500891569864 101.32184684126734\n",
       "  9506-1901   9.99767451105192 ...  6.7642913875463835  144.1782741727607\n",
       " 12769-6104   11.4294531380105 ...  29.764841069081484  591.3226657230766\n",
       "12700-12702 10.645035480264145 ... 0.39982392814294615 188.55475191230255\n",
       "  9493-6103 10.235735370462377 ...   3.042410263133156  141.6206988086348\n",
       "  9494-3701 10.904549077587651 ...  0.3477106826120589  369.4414409927542\n",
       "  8087-9102 10.653177079568124 ...   2.868621554682398   194.054608950142\n",
       " 10514-3701 10.120668486232537 ...   2.784935069254214 131.39569974866197\n",
       " 10214-6101 10.131487916929581 ...  2.8079893347896414 120.28778287710702\n",
       "  8934-3701 10.965530822669644 ...  1.7510685094687954 400.97748408858246"
      ]
     },
     "execution_count": 63,
     "metadata": {},
     "output_type": "execute_result"
    }
   ],
   "source": [
    "tab"
   ]
  },
  {
   "cell_type": "code",
   "execution_count": 64,
   "metadata": {},
   "outputs": [],
   "source": [
    "tab.add_column(col2)"
   ]
  },
  {
   "cell_type": "code",
   "execution_count": 65,
   "metadata": {},
   "outputs": [
    {
     "data": {
      "text/html": [
       "<div><i>Table length=88</i>\n",
       "<table id=\"table140163708536016\" class=\"table-striped table-bordered table-condensed\">\n",
       "<thead><tr><th>plateifu</th><th>Mtot</th><th>Mtot_err</th><th>Mstar</th><th>Mstar_err</th><th>MHI</th><th>MH2</th><th>Mdust</th><th>Mr</th><th>Z</th><th>R90</th><th>v_max</th><th>r_turn</th><th>alpha</th><th>v_R90</th><th>v_R90_err</th></tr></thead>\n",
       "<thead><tr><th>str11</th><th>float64</th><th>float64</th><th>float64</th><th>float64</th><th>float64</th><th>float64</th><th>float64</th><th>float64</th><th>float64</th><th>float64</th><th>float64</th><th>float64</th><th>float64</th><th>float64</th><th>float64</th></tr></thead>\n",
       "<tr><td>10001-3702</td><td>11.052790322774381</td><td>10.928525167884018</td><td>10.0200393746564</td><td>12.86078304577374</td><td>8.947139739990234</td><td>8.77132441413365</td><td>6.942434416615007</td><td>-19.4337</td><td>8.754925012287872</td><td>13.263102531433105</td><td>313.6762095221658</td><td>0.7925717678215113</td><td>8.720845050623494</td><td>313.6762052707942</td><td>3.204736962978333</td></tr>\n",
       "<tr><td>7815-3702</td><td>10.613039578007609</td><td>10.294796645844741</td><td>10.441004906748342</td><td>13.435080247636705</td><td>9.002732276916504</td><td>9.006900445142412</td><td>6.963697702470532</td><td>-20.0207</td><td>8.644526172790677</td><td>10.38451099395752</td><td>199.46555714049532</td><td>1.1936356887733697</td><td>7.930411988698445</td><td>199.46479810036843</td><td>0.03103360940014056</td></tr>\n",
       "<tr><td>7990-6104</td><td>10.651277732422022</td><td>10.366704314336037</td><td>10.156365239029698</td><td>12.511487931293033</td><td>9.559786796569824</td><td>9.463747580850782</td><td>7.350859799653533</td><td>-19.84</td><td>8.526241889021023</td><td>16.161773681640625</td><td>213.16018677919567</td><td>1.2679737743976607</td><td>1.0024670875178068</td><td>176.94340907589887</td><td>nan</td></tr>\n",
       "<tr><td>7992-6104</td><td>10.679068928886512</td><td>10.931951002910834</td><td>10.352457455190857</td><td>11.777541918384703</td><td>9.142339706420898</td><td>9.080653272468302</td><td>7.083779295020389</td><td>-19.9142</td><td>8.656355276096175</td><td>17.880041122436523</td><td>370.25235829482443</td><td>4.406683328587263</td><td>0.700065575499098</td><td>170.68607758793047</td><td>5.179308209073311</td></tr>\n",
       "<tr><td>8077-12704</td><td>10.867338335470095</td><td>10.636390301650888</td><td>9.99319696409062</td><td>12.58406390041193</td><td>9.619999885559082</td><td>8.493991621794368</td><td>7.227032576663279</td><td>-19.7518</td><td>8.565284957451594</td><td>23.467266082763672</td><td>210.46636915420416</td><td>0.8222675298899436</td><td>1.0585089143440773</td><td>194.70416198773384</td><td>14.610365765242049</td></tr>\n",
       "<tr><td>8077-6102</td><td>10.659860699154235</td><td>10.355629999068695</td><td>9.816905376165465</td><td>10.829595243833525</td><td>9.309956550598145</td><td>8.744420323140734</td><td>7.00784554464874</td><td>-18.655</td><td>8.582427528583263</td><td>16.799543380737305</td><td>317.70041105671606</td><td>8.626072047704287</td><td>3.9822430490810157</td><td>191.15485862982027</td><td>0.3663906501000165</td></tr>\n",
       "<tr><td>8080-12702</td><td>11.178796131677775</td><td>10.251123830832475</td><td>10.869727403183214</td><td>11.977514016153917</td><td>10.25059700012207</td><td>9.61940129961914</td><td>8.035643218275176</td><td>-20.4291</td><td>8.679040247387787</td><td>42.67671203613281</td><td>197.64676312533655</td><td>5.343154170164197</td><td>34.34946918375905</td><td>197.64676312533655</td><td>0.05178676539332151</td></tr>\n",
       "<tr><td>8082-12702</td><td>11.614500335079871</td><td>11.577018357671777</td><td>11.015169113136754</td><td>14.608237508686512</td><td>10.02690315246582</td><td>9.245969289935173</td><td>7.894666832091676</td><td>-21.6454</td><td>8.781368352259319</td><td>44.79909896850586</td><td>323.50053283634924</td><td>0.7099201517535662</td><td>21.72672932085675</td><td>323.5005328363492</td><td>nan</td></tr>\n",
       "<tr><td>8146-1901</td><td>10.542383187889719</td><td>10.16183658209533</td><td>10.25663327898968</td><td>13.266177780012208</td><td>9.15999984741211</td><td>9.014225690297076</td><td>7.160611658939073</td><td>-20.0406</td><td>8.748315021302002</td><td>7.916838645935059</td><td>219.58841715125416</td><td>0.9766459800774372</td><td>5.056868853419022</td><td>219.46511239680967</td><td>0.0</td></tr>\n",
       "<tr><td>8153-1901</td><td>10.395581165200216</td><td>9.852631598024827</td><td>9.894985192942851</td><td>12.353294061907595</td><td>9.2872953414917</td><td>8.935978797251439</td><td>7.0646445637591535</td><td>-18.5701</td><td>8.605559456698497</td><td>6.649196147918701</td><td>243.96414877221406</td><td>0.8792380549144583</td><td>1.8061416928455225</td><td>221.23531293870747</td><td>5.076116926811141</td></tr>\n",
       "<tr><td>...</td><td>...</td><td>...</td><td>...</td><td>...</td><td>...</td><td>...</td><td>...</td><td>...</td><td>...</td><td>...</td><td>...</td><td>...</td><td>...</td><td>...</td><td>...</td></tr>\n",
       "<tr><td>8089-12701</td><td>10.15115507604112</td><td>10.069012405048827</td><td>9.6327063867983</td><td>10.81359329081097</td><td>9.390000343322754</td><td>8.503275871276855</td><td>6.799930880287783</td><td>-18.4513</td><td>8.352092826794546</td><td>22.759305953979492</td><td>101.44076065412732</td><td>2.813527875873027</td><td>6.52500891569864</td><td>101.32184684126734</td><td>42.42202664550197</td></tr>\n",
       "<tr><td>9506-1901</td><td>9.99767451105192</td><td>9.508015018175424</td><td>9.709737667926367</td><td>12.071347336128644</td><td>8.965579986572266</td><td>8.6726655960083</td><td>6.785567122371588</td><td>-18.7231</td><td>8.628487106916973</td><td>8.18807601928711</td><td>144.23073993036928</td><td>0.846895845528565</td><td>6.7642913875463835</td><td>144.1782741727607</td><td>3.515405994348566</td></tr>\n",
       "<tr><td>12769-6104</td><td>11.4294531380105</td><td>11.364171046791492</td><td>9.543343412225257</td><td>9.071421699200021</td><td>9.239999771118164</td><td>8.206710815429688</td><td>6.765839108652242</td><td>-18.227442</td><td>8.479540905668635</td><td>12.757383346557617</td><td>736.0007497500408</td><td>4.115252969029918</td><td>29.764841069081484</td><td>591.3226657230766</td><td>254.43217686175402</td></tr>\n",
       "<tr><td>12700-12702</td><td>10.645035480264145</td><td>11.413792264716578</td><td>9.914048274152677</td><td>12.232750369400085</td><td>9.149999618530273</td><td>8.767026901245117</td><td>6.845305397726319</td><td>-17.908829</td><td>8.535396058995925</td><td>20.693172454833984</td><td>1208.2147095402652</td><td>6.804275589837504</td><td>0.39982392814294615</td><td>188.55475191230255</td><td>554.3462880346145</td></tr>\n",
       "<tr><td>9493-6103</td><td>10.235735370462377</td><td>9.798804139492923</td><td>10.018341512471393</td><td>12.70009699029723</td><td>9.047574996948242</td><td>8.853238105773926</td><td>6.939428964917962</td><td>-19.0677</td><td>8.663125817788242</td><td>15.14119815826416</td><td>142.8723144851287</td><td>1.1275778644926737</td><td>3.042410263133156</td><td>141.6206988086348</td><td>536.0587714361078</td></tr>\n",
       "<tr><td>9494-3701</td><td>10.904549077587651</td><td>11.656195388597105</td><td>9.912873508420148</td><td>12.43287806546721</td><td>8.432292938232422</td><td>7.780843257904053</td><td>6.660431022869975</td><td>-19.7996</td><td>9.094350544165726</td><td>11.409893989562988</td><td>2505.761708379848</td><td>2.154457112654482</td><td>0.3477106826120589</td><td>369.4414409927542</td><td>1041.051758649278</td></tr>\n",
       "<tr><td>8087-9102</td><td>10.653177079568124</td><td>10.57170456193419</td><td>9.471542442094016</td><td>11.523729783774334</td><td>9.350000381469727</td><td>8.62215805053711</td><td>6.843578907091474</td><td>-18.5078</td><td>8.412925159027752</td><td>18.029293060302734</td><td>194.90893390366486</td><td>1.121117535692701</td><td>2.868621554682398</td><td>194.054608950142</td><td>nan</td></tr>\n",
       "<tr><td>10514-3701</td><td>10.120668486232537</td><td>9.868079477357535</td><td>9.367818342672356</td><td>11.087050845773478</td><td>9.082841873168945</td><td>8.066030502319336</td><td>6.676426482677812</td><td>-17.6275</td><td>8.543972293535765</td><td>11.950155258178711</td><td>135.72154416197756</td><td>1.4093230513028072</td><td>2.784935069254214</td><td>131.39569974866197</td><td>6.203710734596399</td></tr>\n",
       "<tr><td>10214-6101</td><td>10.131487916929581</td><td>9.966851418345868</td><td>9.627122934908735</td><td>11.014279835333928</td><td>9.545133590698242</td><td>8.513724327087402</td><td>6.961169530671683</td><td>-18.5115</td><td>8.372156894608688</td><td>15.825783729553223</td><td>122.92645153517671</td><td>1.501722032937655</td><td>2.8079893347896414</td><td>120.28778287710702</td><td>1.4210854715202004e-14</td></tr>\n",
       "<tr><td>8934-3701</td><td>10.965530822669644</td><td>10.183229806708065</td><td>9.592337424049532</td><td>12.031822755704649</td><td>8.913228988647461</td><td>8.870747566223145</td><td>6.677208379234285</td><td>-18.5996</td><td>8.475939631973796</td><td>10.313628196716309</td><td>412.54700810394615</td><td>0.4519724463453932</td><td>1.7510685094687954</td><td>400.97748408858246</td><td>nan</td></tr>\n",
       "</table></div>"
      ],
      "text/plain": [
       "<Table length=88>\n",
       "  plateifu         Mtot        ...       v_R90              v_R90_err       \n",
       "   str11         float64       ...      float64              float64        \n",
       "----------- ------------------ ... ------------------ ----------------------\n",
       " 10001-3702 11.052790322774381 ...  313.6762052707942      3.204736962978333\n",
       "  7815-3702 10.613039578007609 ... 199.46479810036843    0.03103360940014056\n",
       "  7990-6104 10.651277732422022 ... 176.94340907589887                    nan\n",
       "  7992-6104 10.679068928886512 ... 170.68607758793047      5.179308209073311\n",
       " 8077-12704 10.867338335470095 ... 194.70416198773384     14.610365765242049\n",
       "  8077-6102 10.659860699154235 ... 191.15485862982027     0.3663906501000165\n",
       " 8080-12702 11.178796131677775 ... 197.64676312533655    0.05178676539332151\n",
       " 8082-12702 11.614500335079871 ...  323.5005328363492                    nan\n",
       "  8146-1901 10.542383187889719 ... 219.46511239680967                    0.0\n",
       "  8153-1901 10.395581165200216 ... 221.23531293870747      5.076116926811141\n",
       "        ...                ... ...                ...                    ...\n",
       " 8089-12701  10.15115507604112 ... 101.32184684126734      42.42202664550197\n",
       "  9506-1901   9.99767451105192 ...  144.1782741727607      3.515405994348566\n",
       " 12769-6104   11.4294531380105 ...  591.3226657230766     254.43217686175402\n",
       "12700-12702 10.645035480264145 ... 188.55475191230255      554.3462880346145\n",
       "  9493-6103 10.235735370462377 ...  141.6206988086348      536.0587714361078\n",
       "  9494-3701 10.904549077587651 ...  369.4414409927542      1041.051758649278\n",
       "  8087-9102 10.653177079568124 ...   194.054608950142                    nan\n",
       " 10514-3701 10.120668486232537 ... 131.39569974866197      6.203710734596399\n",
       " 10214-6101 10.131487916929581 ... 120.28778287710702 1.4210854715202004e-14\n",
       "  8934-3701 10.965530822669644 ... 400.97748408858246                    nan"
      ]
     },
     "execution_count": 65,
     "metadata": {},
     "output_type": "execute_result"
    }
   ],
   "source": [
    "tab"
   ]
  },
  {
   "cell_type": "code",
   "execution_count": 66,
   "metadata": {},
   "outputs": [],
   "source": [
    "tab.write('/Users/nityaravi/Documents/Research/data/manga/output_files/final3table.txt',\n",
    "                    format='ascii.commented_header',\n",
    "                    overwrite=True)"
   ]
  },
  {
   "cell_type": "code",
   "execution_count": null,
   "metadata": {},
   "outputs": [],
   "source": []
  }
 ],
 "metadata": {
  "kernelspec": {
   "display_name": "Python 3",
   "language": "python",
   "name": "python3"
  },
  "language_info": {
   "codemirror_mode": {
    "name": "ipython",
    "version": 3
   },
   "file_extension": ".py",
   "mimetype": "text/x-python",
   "name": "python",
   "nbconvert_exporter": "python",
   "pygments_lexer": "ipython3",
   "version": "3.7.4"
  }
 },
 "nbformat": 4,
 "nbformat_minor": 2
}
