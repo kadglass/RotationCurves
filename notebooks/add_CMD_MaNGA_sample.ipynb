{
 "cells": [
  {
   "cell_type": "code",
   "execution_count": 1,
   "metadata": {},
   "outputs": [],
   "source": [
    "import numpy as np\n",
    "from astropy.table import Table"
   ]
  },
  {
   "cell_type": "code",
   "execution_count": 2,
   "metadata": {},
   "outputs": [],
   "source": [
    "master_table_fn = 'master_table_H_alpha_BB_HI_H2_R90.fits'\n",
    "working_table_fn = 'H_alpha_HIvel_BB_extinction_H2_R90_v3p5.fits'\n",
    "KIAS_fn = '/Users/nityaravi/Documents/Research/RotationCurves/data/manga/output_files/old/douglass/NSA_v1_0_1_VAGC_CMDJan2020_vflag-V2-VF.fits'"
   ]
  },
  {
   "cell_type": "code",
   "execution_count": 3,
   "metadata": {},
   "outputs": [],
   "source": [
    "master_table = Table.read(master_table_fn, format='fits')\n",
    "working_table = Table.read(working_table_fn, format='fits')\n",
    "KIAS = Table.read(KIAS_fn, format='fits')"
   ]
  },
  {
   "cell_type": "code",
   "execution_count": 4,
   "metadata": {},
   "outputs": [
    {
     "data": {
      "text/html": [
       "<div><i>Table length=4</i>\n",
       "<table id=\"table140461582512336\" class=\"table-striped table-bordered table-condensed\">\n",
       "<thead><tr><th>plate</th><th>ifudsgn</th><th>plateifu</th><th>mangaid</th><th>versdrp2</th><th>versdrp3</th><th>verscore</th><th>versutil</th><th>versprim</th><th>platetyp</th><th>srvymode</th><th>objra</th><th>objdec</th><th>ifuglon</th><th>ifuglat</th><th>ifura</th><th>ifudec</th><th>ebvgal</th><th>nexp</th><th>exptime</th><th>drp3qual</th><th>bluesn2</th><th>redsn2</th><th>harname</th><th>frlplug</th><th>cartid</th><th>designid</th><th>cenra</th><th>cendec</th><th>airmsmin</th><th>airmsmed</th><th>airmsmax</th><th>seemin</th><th>seemed</th><th>seemax</th><th>transmin</th><th>transmed</th><th>transmax</th><th>mjdmin</th><th>mjdmed</th><th>mjdmax</th><th>gfwhm</th><th>rfwhm</th><th>ifwhm</th><th>zfwhm</th><th>mngtarg1</th><th>mngtarg2</th><th>mngtarg3</th><th>catidnum</th><th>plttarg</th><th>manga_tileid</th><th>nsa_iauname</th><th>ifudesignsize</th><th>ifutargetsize</th><th>ifudesignwrongsize</th><th>z</th><th>zmin</th><th>zmax</th><th>szmin</th><th>szmax</th><th>ezmin</th><th>ezmax</th><th>probs</th><th>pweight</th><th>psweight</th><th>psrweight</th><th>sweight</th><th>srweight</th><th>eweight</th><th>esweight</th><th>esrweight</th><th>nsa_field</th><th>nsa_run</th><th>nsa_camcol</th><th>nsa_version</th><th>nsa_nsaid</th><th>nsa_nsaid_v1b</th><th>nsa_z</th><th>nsa_zdist</th><th>nsa_sersic_absmag [7]</th><th>nsa_elpetro_absmag [7]</th><th>nsa_elpetro_amivar [7]</th><th>nsa_sersic_mass</th><th>nsa_elpetro_mass</th><th>nsa_elpetro_ba</th><th>nsa_elpetro_phi</th><th>nsa_extinction [7]</th><th>nsa_elpetro_th50_r</th><th>nsa_petro_th50</th><th>nsa_petro_flux [7]</th><th>nsa_petro_flux_ivar [7]</th><th>nsa_elpetro_flux [7]</th><th>nsa_elpetro_flux_ivar [7]</th><th>nsa_sersic_ba</th><th>nsa_sersic_n</th><th>nsa_sersic_phi</th><th>nsa_sersic_th50</th><th>nsa_sersic_flux [7]</th><th>nsa_sersic_flux_ivar [7]</th><th>smoothness_score</th><th>nsa_elpetro_th90</th><th>v_sys</th><th>v_sys_err</th><th>ba</th><th>ba_err</th><th>x0</th><th>x0_err</th><th>y0</th><th>y0_err</th><th>phi</th><th>phi_err</th><th>v_max</th><th>v_max_err</th><th>r_turn</th><th>r_turn_err</th><th>chi2</th><th>alpha</th><th>alpha_err</th><th>Rmax</th><th>M</th><th>M_err</th><th>fit_flag</th><th>Sigma_disk</th><th>Sigma_disk_err</th><th>R_disk</th><th>R_disk_err</th><th>rho_bulge</th><th>rho_bulge_err</th><th>R_bulge</th><th>R_bulge_err</th><th>M90_disk</th><th>M90_disk_err</th><th>M_disk</th><th>M_disk_err</th><th>chi2_disk</th><th>logHI</th><th>logHIlim</th><th>WF50</th><th>WF50_err</th><th>DL_ttype</th><th>vis_tidal</th><th>b</th><th>b_err</th><th>M_R90</th><th>M_R90_err</th><th>fit_function</th><th>A_g</th><th>A_r</th><th>logH2</th><th>R90_kpc</th><th>v_3p5</th><th>v_3p5_err</th></tr></thead>\n",
       "<thead><tr><th>int64</th><th>bytes32</th><th>bytes32</th><th>bytes32</th><th>bytes32</th><th>bytes32</th><th>bytes32</th><th>bytes32</th><th>bytes32</th><th>bytes32</th><th>bytes32</th><th>float64</th><th>float64</th><th>float64</th><th>float64</th><th>float64</th><th>float64</th><th>float64</th><th>int64</th><th>float64</th><th>int64</th><th>float64</th><th>float64</th><th>bytes53</th><th>int64</th><th>bytes32</th><th>int64</th><th>float64</th><th>float64</th><th>float64</th><th>float64</th><th>float64</th><th>float64</th><th>float64</th><th>float64</th><th>float64</th><th>float64</th><th>float64</th><th>int64</th><th>int64</th><th>int64</th><th>float64</th><th>float64</th><th>float64</th><th>float64</th><th>int64</th><th>int64</th><th>int64</th><th>int64</th><th>bytes32</th><th>int64</th><th>bytes19</th><th>int64</th><th>int64</th><th>int64</th><th>float64</th><th>float64</th><th>float64</th><th>float64</th><th>float64</th><th>float64</th><th>float64</th><th>float64</th><th>float64</th><th>float64</th><th>float64</th><th>float64</th><th>float64</th><th>float64</th><th>float64</th><th>float64</th><th>int64</th><th>int64</th><th>int64</th><th>bytes6</th><th>int64</th><th>int64</th><th>float64</th><th>float64</th><th>float64</th><th>float64</th><th>float64</th><th>float64</th><th>float64</th><th>float64</th><th>float64</th><th>float64</th><th>float64</th><th>float64</th><th>float64</th><th>float64</th><th>float64</th><th>float64</th><th>float64</th><th>float64</th><th>float64</th><th>float64</th><th>float64</th><th>float64</th><th>float64</th><th>float64</th><th>float64</th><th>float64</th><th>float64</th><th>float64</th><th>float64</th><th>float64</th><th>float64</th><th>float64</th><th>float64</th><th>float64</th><th>float64</th><th>float64</th><th>float64</th><th>float64</th><th>float64</th><th>float64</th><th>float64</th><th>float64</th><th>float64</th><th>float64</th><th>float64</th><th>float64</th><th>float64</th><th>float64</th><th>float64</th><th>float64</th><th>float64</th><th>float64</th><th>float64</th><th>float64</th><th>float64</th><th>float64</th><th>float64</th><th>float64</th><th>float64</th><th>float64</th><th>float64</th><th>float64</th><th>float64</th><th>float64</th><th>float64</th><th>float64</th><th>float64</th><th>float64</th><th>float64</th><th>float64</th><th>float64</th><th>float64</th><th>float64</th><th>float64</th><th>float64</th></tr></thead>\n",
       "<tr><td>10001</td><td>12701</td><td>10001-12701</td><td>1-48157</td><td>v3_1_1</td><td>v3_1_1</td><td>v1_9_1</td><td>v5_5_36</td><td>v2_9</td><td>APOGEE-2&amp;MaNGA</td><td>MaNGA dither</td><td>133.371090612</td><td>57.5984251446</td><td>159.27921887</td><td>38.8381829181</td><td>133.37109</td><td>57.598425</td><td>0.0545561</td><td>9</td><td>8100.81</td><td>0</td><td>20.0835</td><td>41.292</td><td>ma079</td><td>22</td><td>3</td><td>9114</td><td>134.41357</td><td>57.604214</td><td>1.10715</td><td>1.15321</td><td>1.21404</td><td>1.78219</td><td>1.85994</td><td>2.12685</td><td>0.898721</td><td>0.929654</td><td>0.937466</td><td>57372</td><td>57373</td><td>57373</td><td>2.69906</td><td>2.64546</td><td>2.59645</td><td>2.54039</td><td>2080</td><td>0</td><td>0</td><td>1</td><td>plateTargets-1.par</td><td>6013</td><td>J085329.03+573554.9</td><td>127</td><td>127</td><td>0</td><td>0.0392074</td><td>0.0193562</td><td>0.0264775</td><td>0.0386959</td><td>0.0429176</td><td>0.0193562</td><td>0.0264775</td><td>0.748562</td><td>-999.0</td><td>0.665321</td><td>0.705378</td><td>1.08789</td><td>1.19925</td><td>-999.0</td><td>0.66562</td><td>0.705713</td><td>203</td><td>1350</td><td>6</td><td>v1_0_1</td><td>51226</td><td>-999</td><td>0.0392074</td><td>0.0395926</td><td>-16.2982 .. -19.5112</td><td>-16.2321 .. -19.5522</td><td>275.541 .. 452.944</td><td>3068010000.0</td><td>2685340000.0</td><td>0.417013</td><td>69.2463</td><td>0.448783 .. 0.0800664</td><td>5.16633</td><td>3.63987</td><td>12.7947 .. 413.049</td><td>3.26768 .. 0.000422625</td><td>13.8306 .. 425.941</td><td>3.03694 .. 0.00496838</td><td>0.335333</td><td>0.741845</td><td>68.2584</td><td>5.29184</td><td>14.8124 .. 412.19</td><td>2.50888 .. 0.0150605</td><td>1.560186343059074</td><td>9.852487564086914</td><td>2.946989472970758</td><td>0.09848277794062997</td><td>0.8525269160441389</td><td>0.004661246847300842</td><td>38.7739389484797</td><td>0.022936739976051144</td><td>37.440940071078124</td><td>0.016138461970098106</td><td>61.88507825188626</td><td>0.07338042747869138</td><td>183.15428191832711</td><td>2.8318738759310786</td><td>2.2299464843830368</td><td>0.006099342053787376</td><td>10.529260284502032</td><td>4.181226771589277</td><td>0.07058094055808059</td><td>6.435441132989916</td><td>11.185428134112588</td><td>10.663096428880776</td><td>1.5</td><td>300.9007693953248</td><td>15.203381761428345</td><td>0.42300918794160963</td><td>0.04332889447409282</td><td>318528356.25649077</td><td>10973819.90888883</td><td>1.1700697820493802</td><td>0.01234311518755433</td><td>10.054323200255043</td><td>8.681101900065409</td><td>10.119328135890797</td><td>8.780959524997495</td><td>471538.3029792875</td><td>10.350040435791016</td><td>-999.0</td><td>309.752973573684</td><td>50.84180796596384</td><td>6.564641952514648</td><td>0.0</td><td>0.0</td><td>0.0</td><td>10.637055736445056</td><td>9.856536145016422</td><td>0.0</td><td>0.18</td><td>0.125</td><td>-999.0</td><td>5.614479609229095</td><td>183.14938552312165</td><td>24.91258446340628</td></tr>\n",
       "<tr><td>10001</td><td>12702</td><td>10001-12702</td><td>1-48188</td><td>v3_1_1</td><td>v3_1_1</td><td>v1_9_1</td><td>v5_5_36</td><td>v2_9</td><td>APOGEE-2&amp;MaNGA</td><td>MaNGA dither</td><td>133.685669869</td><td>57.4802503218</td><td>159.390126911</td><td>39.0253440844</td><td>133.68567</td><td>57.48025</td><td>0.0492053</td><td>9</td><td>8100.81</td><td>0</td><td>20.0835</td><td>41.292</td><td>ma078</td><td>25</td><td>3</td><td>9114</td><td>134.41357</td><td>57.604214</td><td>1.10569</td><td>1.15089</td><td>1.21106</td><td>1.78219</td><td>1.85994</td><td>2.12685</td><td>0.898721</td><td>0.929654</td><td>0.937466</td><td>57372</td><td>57373</td><td>57373</td><td>2.72072</td><td>2.66314</td><td>2.64652</td><td>2.61686</td><td>2080</td><td>0</td><td>0</td><td>1</td><td>plateTargets-1.par</td><td>6013</td><td>J085444.56+572848.8</td><td>127</td><td>217</td><td>0</td><td>0.0408108</td><td>0.0193227</td><td>0.0264533</td><td>0.0386469</td><td>0.042869</td><td>0.0188554</td><td>0.0266531</td><td>0.794785</td><td>-999.0</td><td>0.651037</td><td>0.681893</td><td>1.04947</td><td>1.13205</td><td>-999.0</td><td>0.631507</td><td>0.660498</td><td>35</td><td>3600</td><td>5</td><td>v1_0_1</td><td>51261</td><td>-999</td><td>0.0408108</td><td>0.0411932</td><td>-15.9069 .. -19.6569</td><td>-16.127 .. -19.5493</td><td>206.664 .. 49.3569</td><td>5341650000.0</td><td>4642460000.0</td><td>0.598115</td><td>12.5169</td><td>0.405779 .. 0.072394</td><td>7.01311</td><td>6.11281</td><td>12.4553 .. 396.399</td><td>2.27628 .. 0.000372112</td><td>12.4406 .. 390.985</td><td>2.3517 .. 0.000398299</td><td>0.508217</td><td>1.44272</td><td>12.3759</td><td>8.34906</td><td>10.1128 .. 432.884</td><td>3.38905 .. 0.00964978</td><td>1.5619979358006435</td><td>14.355437278747559</td><td>0.6765359119793715</td><td>0.23419562301556418</td><td>0.6739844282455619</td><td>0.006739656007202572</td><td>36.85326879733403</td><td>0.04204024887591865</td><td>37.98221005537202</td><td>0.05640746039294769</td><td>188.3088174477578</td><td>0.16826186470866497</td><td>194.97775272347383</td><td>6.932242299930594</td><td>0.9585752877878831</td><td>0.07208969706038451</td><td>2.457986344552885</td><td>0.6629820156636723</td><td>0.04575759010348131</td><td>10.492041769351301</td><td>11.292909462167833</td><td>10.847252340042417</td><td>3.5</td><td>293.3478638373148</td><td>10.60192409708804</td><td>0.6790488070059231</td><td>0.05316399052089292</td><td>115971867.9868961</td><td>7747575.084882941</td><td>1.6956282295929506</td><td>0.03670610210595715</td><td>10.124313484194262</td><td>9.034999166941406</td><td>10.177811159857796</td><td>9.124034282826187</td><td>1207886.7459959988</td><td>9.583724021911621</td><td>-999.0</td><td>273.50491644321835</td><td>6.866128229994085</td><td>4.730921268463135</td><td>0.0</td><td>0.0</td><td>0.0</td><td>10.600037009816079</td><td>10.15080355502181</td><td>0.0</td><td>0.163</td><td>0.112</td><td>-999.0</td><td>8.515048082090281</td><td>168.30899596736322</td><td>29.53675151629983</td></tr>\n",
       "<tr><td>10001</td><td>12703</td><td>10001-12703</td><td>1-55648</td><td>v3_1_1</td><td>v3_1_1</td><td>v1_9_1</td><td>v5_5_36</td><td>v2_9</td><td>APOGEE-2&amp;MaNGA</td><td>MaNGA dither</td><td>136.017159969</td><td>57.0923291779</td><td>159.56459216</td><td>40.3368076472</td><td>136.01716</td><td>57.092329</td><td>0.0258626</td><td>9</td><td>8100.81</td><td>0</td><td>19.9086</td><td>40.7596</td><td>ma077</td><td>31</td><td>3</td><td>9114</td><td>134.41357</td><td>57.604214</td><td>1.09975</td><td>1.13824</td><td>1.19323</td><td>1.78219</td><td>1.85994</td><td>2.12685</td><td>0.898721</td><td>0.929654</td><td>0.937466</td><td>57372</td><td>57373</td><td>57373</td><td>2.7262</td><td>2.61384</td><td>2.56576</td><td>2.53132</td><td>2080</td><td>0</td><td>0</td><td>1</td><td>plateTargets-1.par</td><td>6013</td><td>J090404.13+570532.3</td><td>127</td><td>169</td><td>0</td><td>0.0462094</td><td>0.0227277</td><td>0.0296235</td><td>0.0443908</td><td>0.0487145</td><td>0.0222592</td><td>0.03022</td><td>0.55597</td><td>-999.0</td><td>0.570051</td><td>0.643308</td><td>0.979861</td><td>1.21834</td><td>-999.0</td><td>0.534143</td><td>0.597944</td><td>39</td><td>3600</td><td>2</td><td>v1_0_1</td><td>59078</td><td>-999</td><td>0.0462094</td><td>0.046579</td><td>-15.9552 .. -20.5965</td><td>-16.3926 .. -20.4663</td><td>223.74 .. 875.365</td><td>13693500000.0</td><td>9439710000.0</td><td>0.378034</td><td>51.5052</td><td>0.219711 .. 0.0391981</td><td>6.523</td><td>4.87172</td><td>13.8626 .. 635.975</td><td>1.79171 .. 0.00598687</td><td>14.4442 .. 722.823</td><td>1.96905 .. 0.00930865</td><td>0.205749</td><td>2.18084</td><td>51.2808</td><td>8.09139</td><td>9.82225 .. 820.242</td><td>2.79287 .. 0.0443689</td><td>1.1414035570714935</td><td>14.743389129638672</td><td>16.699456893928602</td><td>0.0963277859001372</td><td>0.868911357820688</td><td>0.0007131052643978732</td><td>36.558508375391675</td><td>0.020946818786307338</td><td>35.641571170832165</td><td>0.018071593708941423</td><td>56.79483322166177</td><td>0.08249999450764357</td><td>369.9104377816068</td><td>1.1162754236338</td><td>2.2255004811754473</td><td>0.025995323685563534</td><td>57.98401438954021</td><td>1.0019694161891133</td><td>0.003716146716676395</td><td>10.501250692751151</td><td>11.98875372506019</td><td>11.44150293569664</td><td>2.5</td><td>1201.0759702017704</td><td>23.844360911771343</td><td>0.5494068894426105</td><td>0.02030870938454245</td><td>494628915.16105384</td><td>13753186.951918408</td><td>1.3970129924747783</td><td>0.0114278522601265</td><td>10.546935338970071</td><td>9.081725877664413</td><td>10.558369569453301</td><td>9.103192513387299</td><td>203727.58256011392</td><td>9.775858879089355</td><td>-999.0</td><td>383.131393858277</td><td>32.519186623217024</td><td>4.756507873535156</td><td>0.0</td><td>0.0</td><td>0.0</td><td>11.32307263875663</td><td>10.727979027247507</td><td>0.0</td><td>0.085</td><td>0.059</td><td>-999.0</td><td>9.902006982545116</td><td>347.745404077086</td><td>47.8247202374236</td></tr>\n",
       "<tr><td>10001</td><td>12704</td><td>10001-12704</td><td>1-55616</td><td>v3_1_1</td><td>v3_1_1</td><td>v1_9_1</td><td>v5_5_36</td><td>v2_9</td><td>APOGEE-2&amp;MaNGA</td><td>MaNGA dither</td><td>133.989966869</td><td>57.6779676669</td><td>159.101196491</td><td>39.1494998661</td><td>133.98997</td><td>57.677968</td><td>0.0476794</td><td>9</td><td>8100.81</td><td>64</td><td>19.9086</td><td>40.7596</td><td>ma076</td><td>34</td><td>3</td><td>9114</td><td>134.41357</td><td>57.604214</td><td>1.10705</td><td>1.15123</td><td>1.21051</td><td>1.78219</td><td>1.85994</td><td>2.12685</td><td>0.898721</td><td>0.929654</td><td>0.937466</td><td>57372</td><td>57373</td><td>57373</td><td>2.6788</td><td>2.58733</td><td>2.52311</td><td>2.47903</td><td>4160</td><td>0</td><td>0</td><td>1</td><td>plateTargets-1.par</td><td>6013</td><td>J085557.56+574040.6</td><td>127</td><td>397</td><td>0</td><td>0.0141215</td><td>0.0183756</td><td>0.0258019</td><td>0.037294</td><td>0.0415338</td><td>0.0141373</td><td>0.0310467</td><td>0.67973</td><td>-999.0</td><td>-999.0</td><td>-999.0</td><td>-999.0</td><td>-999.0</td><td>0.716568</td><td>0.45291</td><td>0.474847</td><td>36</td><td>3600</td><td>5</td><td>v1_0_1</td><td>59044</td><td>-999</td><td>0.0141215</td><td>0.0145852</td><td>-14.2399 .. -19.4321</td><td>-14.2982 .. -19.3602</td><td>262.464 .. 794.079</td><td>4286640000.0</td><td>4218380000.0</td><td>0.212315</td><td>81.0961</td><td>0.388503 .. 0.0693118</td><td>16.0734</td><td>11.44</td><td>18.0685 .. 2387.32</td><td>0.731053 .. 1.94195e-05</td><td>18.855 .. 2747.21</td><td>1.50036 .. 0.000434694</td><td>0.15</td><td>0.869326</td><td>81.2193</td><td>18.2816</td><td>17.8616 .. 2923.9</td><td>2.16404 .. 0.00123046</td><td>1.2909390780165348</td><td>33.156402587890625</td><td>-2.634762784476005</td><td>0.09187106750706249</td><td>0.4055339772671592</td><td>0.0006001633102882991</td><td>36.43376557407452</td><td>0.01858300451194395</td><td>38.139029680496584</td><td>0.02222913860579567</td><td>85.11107958400636</td><td>0.057813166931291814</td><td>122.48415062258817</td><td>0.3994965769481449</td><td>2.016120495793798</td><td>0.004139169135295307</td><td>22.622761000584767</td><td>3.9043682508897124</td><td>0.08876432226865019</td><td>5.708876239096034</td><td>10.919496867791567</td><td>10.33626744461852</td><td>3.5</td><td>589.741380235529</td><td>13.146010279176876</td><td>0.16832394280031962</td><td>0.004839248890317191</td><td>541588696.96986</td><td>5004394.585211396</td><td>0.8480244916060672</td><td>0.0027159735332440583</td><td>9.918768524805014</td><td>8.032310918758885</td><td>9.924592856288296</td><td>8.044620557122625</td><td>265311.1920361342</td><td>9.239542007446289</td><td>-999.0</td><td>292.93732389433455</td><td>4.826130375197129</td><td>4.773223400115967</td><td>0.0</td><td>0.0</td><td>0.0</td><td>10.37352631137793</td><td>9.51492042443341</td><td>0.0</td><td>0.157</td><td>0.109</td><td>-999.0</td><td>6.80524567314194</td><td>122.48211130453265</td><td>14.72299702222846</td></tr>\n",
       "</table></div>"
      ],
      "text/plain": [
       "<Table length=4>\n",
       "plate ifudsgn   plateifu  ...       v_3p5            v_3p5_err    \n",
       "int64 bytes32   bytes32   ...      float64            float64     \n",
       "----- ------- ----------- ... ------------------ -----------------\n",
       "10001   12701 10001-12701 ... 183.14938552312165 24.91258446340628\n",
       "10001   12702 10001-12702 ... 168.30899596736322 29.53675151629983\n",
       "10001   12703 10001-12703 ...   347.745404077086  47.8247202374236\n",
       "10001   12704 10001-12704 ... 122.48211130453265 14.72299702222846"
      ]
     },
     "execution_count": 4,
     "metadata": {},
     "output_type": "execute_result"
    }
   ],
   "source": [
    "working_table[0:4]"
   ]
  },
  {
   "cell_type": "code",
   "execution_count": 5,
   "metadata": {},
   "outputs": [],
   "source": [
    "# key: primary - 1, secondary - 2, color-enhanced - 3, other - -999\n",
    "master_table['MaNGA_sample'] = np.ones(len(master_table))*np.nan"
   ]
  },
  {
   "cell_type": "code",
   "execution_count": 6,
   "metadata": {},
   "outputs": [],
   "source": [
    "for i in range(0, len(working_table)):\n",
    "    \n",
    "    mngtarg1 = working_table['mngtarg1'][i]\n",
    "    \n",
    "    if  mngtarg1 == 0 :\n",
    "        master_table['MaNGA_sample'][i] = -999\n",
    "    \n",
    "    elif mngtarg1 >= 2**0 and mngtarg1 < 2**1:\n",
    "        master_table['MaNGA_sample'][i] = -999\n",
    "    \n",
    "    elif mngtarg1 >= 2**1 and mngtarg1 < 2**2:\n",
    "        master_table['MaNGA_sample'][i] = 1\n",
    "        \n",
    "    elif mngtarg1 >= 2**2 and mngtarg1 < 2**3:\n",
    "        master_table['MaNGA_sample'][i] = 2\n",
    "        \n",
    "    elif mngtarg1 >= 2**3 and mngtarg1 < 2**4:\n",
    "        master_table['MaNGA_sample'][i] = 3\n",
    "        \n",
    "    elif mngtarg1 >= 2**4 and mngtarg1 < 2**5:\n",
    "        master_table['MaNGA_sample'][i] = 1\n",
    "        \n",
    "    elif mngtarg1 >= 2**5 and mngtarg1 < 2**6:\n",
    "        master_table['MaNGA_sample'][i] = 2\n",
    "        \n",
    "    elif mngtarg1 >= 2**6 and mngtarg1 < 2**7:\n",
    "        master_table['MaNGA_sample'][i] = 3\n",
    "        \n",
    "    elif mngtarg1 >= 2**7 and mngtarg1 < 2**8:\n",
    "        master_table['MaNGA_sample'][i] = 1\n",
    "        \n",
    "    elif mngtarg1 >= 2**8 and mngtarg1 < 2**9:\n",
    "        master_table['MaNGA_sample'][i] = 2\n",
    "        \n",
    "    elif mngtarg1 >= 2**9 and mngtarg1 < 2**10:\n",
    "        master_table['MaNGA_sample'][i] = 3\n",
    "        \n",
    "    elif mngtarg1 >= 2**10 and mngtarg1 < 2**11:\n",
    "        master_table['MaNGA_sample'][i] = 1\n",
    "    \n",
    "    elif mngtarg1 >= 2**11 and mngtarg1 < 2**12:\n",
    "        master_table['MaNGA_sample'][i] = 2\n",
    "        \n",
    "    elif mngtarg1 >= 2**12 and mngtarg1 < 2**13:\n",
    "        master_table['MaNGA_sample'][i] = 3\n",
    "        \n",
    "    elif mngtarg1 >= 2**13:\n",
    "        master_table['MaNGA_sample'][i] = -999\n",
    "    \n",
    "    "
   ]
  },
  {
   "cell_type": "code",
   "execution_count": 7,
   "metadata": {},
   "outputs": [
    {
     "data": {
      "text/html": [
       "<div><i>Table length=4</i>\n",
       "<table id=\"table140461582664272\" class=\"table-striped table-bordered table-condensed\">\n",
       "<thead><tr><th>MaNGA_plate</th><th>MaNGA_IFU</th><th>NSA_plate</th><th>NSA_fiberID</th><th>NSA_MJD</th><th>NSA_index</th><th>NSA_ID</th><th>NSA_RA</th><th>NSA_DEC</th><th>NSA_ba</th><th>NSA_phi</th><th>NSA_redshift</th><th>NSA_Mstar</th><th>smoothness_score</th><th>ba_map</th><th>ba_err_map</th><th>phi_map</th><th>phi_err_map</th><th>Vsys_map</th><th>Vsys_err_map</th><th>x0_map</th><th>x0_err_map</th><th>y0_map</th><th>y0_err_map</th><th>Vmax_map</th><th>Vmax_err_map</th><th>alpha_map</th><th>alpha_err_map</th><th>Rturn_map</th><th>Rturn_err_map</th><th>M90_map</th><th>M90_err_map</th><th>M3p5_map</th><th>M3p5_err_map</th><th>rho_bulge_map</th><th>rho_bulge_err_map</th><th>R_bulge_map</th><th>R_bulge_err_map</th><th>M90_disk_map</th><th>M90_disk_err_map</th><th>M3p5_disk_map</th><th>M3p5_disk_err_map</th><th>NSA_elpetro_th90</th><th>chi2_map</th><th>chi2_disk_map</th><th>logHI</th><th>logHI200kms</th><th>WF50</th><th>WF50_err</th><th>map_fit_flag</th><th>DL_ttype</th><th>rabsmag_NSA</th><th>logH2</th><th>R90_kpc</th><th>MaNGA_sample</th></tr></thead>\n",
       "<thead><tr><th>int64</th><th>int64</th><th>int64</th><th>int64</th><th>int64</th><th>int64</th><th>int64</th><th>float64</th><th>float64</th><th>float64</th><th>float64</th><th>float64</th><th>float64</th><th>float64</th><th>float64</th><th>float64</th><th>float64</th><th>float64</th><th>float64</th><th>float64</th><th>float64</th><th>float64</th><th>float64</th><th>float64</th><th>float64</th><th>float64</th><th>float64</th><th>float64</th><th>float64</th><th>float64</th><th>float64</th><th>float64</th><th>float64</th><th>float64</th><th>float64</th><th>float64</th><th>float64</th><th>float64</th><th>float64</th><th>float64</th><th>float64</th><th>float64</th><th>float64</th><th>float64</th><th>float64</th><th>float64</th><th>float64</th><th>float64</th><th>float64</th><th>float64</th><th>float64</th><th>float64</th><th>float64</th><th>float64</th><th>float64</th></tr></thead>\n",
       "<tr><td>10001</td><td>12701</td><td>448</td><td>450</td><td>51900</td><td>48157</td><td>51226</td><td>133.3710906116639</td><td>57.59842514455842</td><td>0.417013</td><td>69.2463</td><td>0.0392074</td><td>2685340000.0</td><td>1.560186343059074</td><td>0.8525269160441389</td><td>0.004661246847300842</td><td>61.88507825188626</td><td>0.07338042747869138</td><td>2.946989472970758</td><td>0.09848277794062997</td><td>38.7739389484797</td><td>0.022936739976051144</td><td>37.440940071078124</td><td>0.016138461970098106</td><td>183.15428191832711</td><td>2.8318738759310786</td><td>4.181226771589277</td><td>0.07058094055808059</td><td>2.2299464843830368</td><td>0.006099342053787376</td><td>10.637055736445056</td><td>9.856536145016422</td><td>11.185428134112588</td><td>10.663096428880776</td><td>318528356.25649077</td><td>10973819.90888883</td><td>1.1700697820493802</td><td>0.01234311518755433</td><td>10.054323200255043</td><td>8.681101900065409</td><td>10.119328135890797</td><td>8.780959524997495</td><td>9.852487564086914</td><td>10.529260284502032</td><td>10.529260284502032</td><td>10.350040435791016</td><td>-999.0</td><td>309.752973573684</td><td>50.84180796596384</td><td>1.5</td><td>6.564641952514648</td><td>-19.2112</td><td>-999.0</td><td>5.614479609229095</td><td>2.0</td></tr>\n",
       "<tr><td>10001</td><td>12702</td><td>448</td><td>524</td><td>51900</td><td>48188</td><td>51261</td><td>133.68566986867248</td><td>57.48025032183927</td><td>0.598115</td><td>12.5169</td><td>0.0408108</td><td>4642460000.0</td><td>1.5619979358006435</td><td>0.6739844282455619</td><td>0.006739656007202572</td><td>188.3088174477578</td><td>0.16826186470866497</td><td>0.6765359119793715</td><td>0.23419562301556418</td><td>36.85326879733403</td><td>0.04204024887591865</td><td>37.98221005537202</td><td>0.05640746039294769</td><td>194.97775272347383</td><td>6.932242299930594</td><td>0.6629820156636723</td><td>0.04575759010348131</td><td>0.9585752877878831</td><td>0.07208969706038451</td><td>10.600037009816079</td><td>10.15080355502181</td><td>11.292909462167833</td><td>10.847252340042417</td><td>115971867.9868961</td><td>7747575.084882941</td><td>1.6956282295929506</td><td>0.03670610210595715</td><td>10.124313484194262</td><td>9.034999166941406</td><td>10.177811159857796</td><td>9.124034282826187</td><td>14.355437278747559</td><td>2.457986344552885</td><td>2.457986344552885</td><td>9.583724021911621</td><td>-999.0</td><td>273.50491644321835</td><td>6.866128229994085</td><td>3.5</td><td>4.730921268463135</td><td>-19.0722</td><td>-999.0</td><td>8.515048082090281</td><td>2.0</td></tr>\n",
       "<tr><td>10001</td><td>12703</td><td>483</td><td>535</td><td>51924</td><td>55648</td><td>59078</td><td>136.01715996919202</td><td>57.09232917791099</td><td>0.378034</td><td>51.5052</td><td>0.0462094</td><td>9439710000.0</td><td>1.1414035570714935</td><td>0.868911357820688</td><td>0.0007131052643978732</td><td>56.79483322166177</td><td>0.08249999450764357</td><td>16.699456893928602</td><td>0.0963277859001372</td><td>36.558508375391675</td><td>0.020946818786307338</td><td>35.641571170832165</td><td>0.018071593708941423</td><td>369.9104377816068</td><td>1.1162754236338</td><td>1.0019694161891133</td><td>0.003716146716676395</td><td>2.2255004811754473</td><td>0.025995323685563534</td><td>11.32307263875663</td><td>10.727979027247507</td><td>11.98875372506019</td><td>11.44150293569664</td><td>494628915.16105384</td><td>13753186.951918408</td><td>1.3970129924747783</td><td>0.0114278522601265</td><td>10.546935338970071</td><td>9.081725877664413</td><td>10.558369569453301</td><td>9.103192513387299</td><td>14.743389129638672</td><td>57.98401438954021</td><td>57.98401438954021</td><td>9.775858879089355</td><td>-999.0</td><td>383.131393858277</td><td>32.519186623217024</td><td>2.5</td><td>4.756507873535156</td><td>-19.9387</td><td>-999.0</td><td>9.902006982545116</td><td>2.0</td></tr>\n",
       "<tr><td>10001</td><td>12704</td><td>483</td><td>456</td><td>51924</td><td>55616</td><td>59044</td><td>133.98996686918764</td><td>57.677967666915094</td><td>0.212315</td><td>81.0961</td><td>0.0141215</td><td>4218380000.0</td><td>1.2909390780165348</td><td>0.4055339772671592</td><td>0.0006001633102882991</td><td>85.11107958400636</td><td>0.057813166931291814</td><td>-2.634762784476005</td><td>0.09187106750706249</td><td>36.43376557407452</td><td>0.01858300451194395</td><td>38.139029680496584</td><td>0.02222913860579567</td><td>122.48415062258817</td><td>0.3994965769481449</td><td>3.9043682508897124</td><td>0.08876432226865019</td><td>2.016120495793798</td><td>0.004139169135295307</td><td>10.37352631137793</td><td>9.51492042443341</td><td>10.919496867791567</td><td>10.33626744461852</td><td>541588696.96986</td><td>5004394.585211396</td><td>0.8480244916060672</td><td>0.0027159735332440583</td><td>9.918768524805014</td><td>8.032310918758885</td><td>9.924592856288296</td><td>8.044620557122625</td><td>33.156402587890625</td><td>22.622761000584767</td><td>22.622761000584767</td><td>9.239542007446289</td><td>-999.0</td><td>292.93732389433455</td><td>4.826130375197129</td><td>3.5</td><td>4.773223400115967</td><td>-18.7303</td><td>-999.0</td><td>6.80524567314194</td><td>3.0</td></tr>\n",
       "</table></div>"
      ],
      "text/plain": [
       "<Table length=4>\n",
       "MaNGA_plate MaNGA_IFU NSA_plate ...  logH2       R90_kpc      MaNGA_sample\n",
       "   int64      int64     int64   ... float64      float64        float64   \n",
       "----------- --------- --------- ... ------- ----------------- ------------\n",
       "      10001     12701       448 ...  -999.0 5.614479609229095          2.0\n",
       "      10001     12702       448 ...  -999.0 8.515048082090281          2.0\n",
       "      10001     12703       483 ...  -999.0 9.902006982545116          2.0\n",
       "      10001     12704       483 ...  -999.0  6.80524567314194          3.0"
      ]
     },
     "execution_count": 7,
     "metadata": {},
     "output_type": "execute_result"
    }
   ],
   "source": [
    "master_table[0:4]"
   ]
  },
  {
   "cell_type": "code",
   "execution_count": 8,
   "metadata": {},
   "outputs": [
    {
     "data": {
      "text/html": [
       "<div><i>Table length=4</i>\n",
       "<table id=\"table140461582497616\" class=\"table-striped table-bordered table-condensed\">\n",
       "<thead><tr><th>plate</th><th>ifudsgn</th><th>plateifu</th><th>mangaid</th><th>versdrp2</th><th>versdrp3</th><th>verscore</th><th>versutil</th><th>versprim</th><th>platetyp</th><th>srvymode</th><th>objra</th><th>objdec</th><th>ifuglon</th><th>ifuglat</th><th>ifura</th><th>ifudec</th><th>ebvgal</th><th>nexp</th><th>exptime</th><th>drp3qual</th><th>bluesn2</th><th>redsn2</th><th>harname</th><th>frlplug</th><th>cartid</th><th>designid</th><th>cenra</th><th>cendec</th><th>airmsmin</th><th>airmsmed</th><th>airmsmax</th><th>seemin</th><th>seemed</th><th>seemax</th><th>transmin</th><th>transmed</th><th>transmax</th><th>mjdmin</th><th>mjdmed</th><th>mjdmax</th><th>gfwhm</th><th>rfwhm</th><th>ifwhm</th><th>zfwhm</th><th>mngtarg1</th><th>mngtarg2</th><th>mngtarg3</th><th>catidnum</th><th>plttarg</th><th>manga_tileid</th><th>nsa_iauname</th><th>ifudesignsize</th><th>ifutargetsize</th><th>ifudesignwrongsize</th><th>z</th><th>zmin</th><th>zmax</th><th>szmin</th><th>szmax</th><th>ezmin</th><th>ezmax</th><th>probs</th><th>pweight</th><th>psweight</th><th>psrweight</th><th>sweight</th><th>srweight</th><th>eweight</th><th>esweight</th><th>esrweight</th><th>nsa_field</th><th>nsa_run</th><th>nsa_camcol</th><th>nsa_version</th><th>nsa_nsaid</th><th>nsa_nsaid_v1b</th><th>nsa_z</th><th>nsa_zdist</th><th>nsa_sersic_absmag [7]</th><th>nsa_elpetro_absmag [7]</th><th>nsa_elpetro_amivar [7]</th><th>nsa_sersic_mass</th><th>nsa_elpetro_mass</th><th>nsa_elpetro_ba</th><th>nsa_elpetro_phi</th><th>nsa_extinction [7]</th><th>nsa_elpetro_th50_r</th><th>nsa_petro_th50</th><th>nsa_petro_flux [7]</th><th>nsa_petro_flux_ivar [7]</th><th>nsa_elpetro_flux [7]</th><th>nsa_elpetro_flux_ivar [7]</th><th>nsa_sersic_ba</th><th>nsa_sersic_n</th><th>nsa_sersic_phi</th><th>nsa_sersic_th50</th><th>nsa_sersic_flux [7]</th><th>nsa_sersic_flux_ivar [7]</th><th>smoothness_score</th><th>nsa_elpetro_th90</th><th>v_sys</th><th>v_sys_err</th><th>ba</th><th>ba_err</th><th>x0</th><th>x0_err</th><th>y0</th><th>y0_err</th><th>phi</th><th>phi_err</th><th>v_max</th><th>v_max_err</th><th>r_turn</th><th>r_turn_err</th><th>chi2</th><th>alpha</th><th>alpha_err</th><th>Rmax</th><th>M</th><th>M_err</th><th>fit_flag</th><th>Sigma_disk</th><th>Sigma_disk_err</th><th>R_disk</th><th>R_disk_err</th><th>rho_bulge</th><th>rho_bulge_err</th><th>R_bulge</th><th>R_bulge_err</th><th>M90_disk</th><th>M90_disk_err</th><th>M_disk</th><th>M_disk_err</th><th>chi2_disk</th><th>logHI</th><th>logHIlim</th><th>WF50</th><th>WF50_err</th><th>DL_ttype</th><th>vis_tidal</th><th>b</th><th>b_err</th><th>M_R90</th><th>M_R90_err</th><th>fit_function</th><th>A_g</th><th>A_r</th><th>logH2</th><th>R90_kpc</th><th>v_3p5</th><th>v_3p5_err</th></tr></thead>\n",
       "<thead><tr><th>int64</th><th>bytes32</th><th>bytes32</th><th>bytes32</th><th>bytes32</th><th>bytes32</th><th>bytes32</th><th>bytes32</th><th>bytes32</th><th>bytes32</th><th>bytes32</th><th>float64</th><th>float64</th><th>float64</th><th>float64</th><th>float64</th><th>float64</th><th>float64</th><th>int64</th><th>float64</th><th>int64</th><th>float64</th><th>float64</th><th>bytes53</th><th>int64</th><th>bytes32</th><th>int64</th><th>float64</th><th>float64</th><th>float64</th><th>float64</th><th>float64</th><th>float64</th><th>float64</th><th>float64</th><th>float64</th><th>float64</th><th>float64</th><th>int64</th><th>int64</th><th>int64</th><th>float64</th><th>float64</th><th>float64</th><th>float64</th><th>int64</th><th>int64</th><th>int64</th><th>int64</th><th>bytes32</th><th>int64</th><th>bytes19</th><th>int64</th><th>int64</th><th>int64</th><th>float64</th><th>float64</th><th>float64</th><th>float64</th><th>float64</th><th>float64</th><th>float64</th><th>float64</th><th>float64</th><th>float64</th><th>float64</th><th>float64</th><th>float64</th><th>float64</th><th>float64</th><th>float64</th><th>int64</th><th>int64</th><th>int64</th><th>bytes6</th><th>int64</th><th>int64</th><th>float64</th><th>float64</th><th>float64</th><th>float64</th><th>float64</th><th>float64</th><th>float64</th><th>float64</th><th>float64</th><th>float64</th><th>float64</th><th>float64</th><th>float64</th><th>float64</th><th>float64</th><th>float64</th><th>float64</th><th>float64</th><th>float64</th><th>float64</th><th>float64</th><th>float64</th><th>float64</th><th>float64</th><th>float64</th><th>float64</th><th>float64</th><th>float64</th><th>float64</th><th>float64</th><th>float64</th><th>float64</th><th>float64</th><th>float64</th><th>float64</th><th>float64</th><th>float64</th><th>float64</th><th>float64</th><th>float64</th><th>float64</th><th>float64</th><th>float64</th><th>float64</th><th>float64</th><th>float64</th><th>float64</th><th>float64</th><th>float64</th><th>float64</th><th>float64</th><th>float64</th><th>float64</th><th>float64</th><th>float64</th><th>float64</th><th>float64</th><th>float64</th><th>float64</th><th>float64</th><th>float64</th><th>float64</th><th>float64</th><th>float64</th><th>float64</th><th>float64</th><th>float64</th><th>float64</th><th>float64</th><th>float64</th><th>float64</th><th>float64</th><th>float64</th><th>float64</th><th>float64</th></tr></thead>\n",
       "<tr><td>10001</td><td>12701</td><td>10001-12701</td><td>1-48157</td><td>v3_1_1</td><td>v3_1_1</td><td>v1_9_1</td><td>v5_5_36</td><td>v2_9</td><td>APOGEE-2&amp;MaNGA</td><td>MaNGA dither</td><td>133.371090612</td><td>57.5984251446</td><td>159.27921887</td><td>38.8381829181</td><td>133.37109</td><td>57.598425</td><td>0.0545561</td><td>9</td><td>8100.81</td><td>0</td><td>20.0835</td><td>41.292</td><td>ma079</td><td>22</td><td>3</td><td>9114</td><td>134.41357</td><td>57.604214</td><td>1.10715</td><td>1.15321</td><td>1.21404</td><td>1.78219</td><td>1.85994</td><td>2.12685</td><td>0.898721</td><td>0.929654</td><td>0.937466</td><td>57372</td><td>57373</td><td>57373</td><td>2.69906</td><td>2.64546</td><td>2.59645</td><td>2.54039</td><td>2080</td><td>0</td><td>0</td><td>1</td><td>plateTargets-1.par</td><td>6013</td><td>J085329.03+573554.9</td><td>127</td><td>127</td><td>0</td><td>0.0392074</td><td>0.0193562</td><td>0.0264775</td><td>0.0386959</td><td>0.0429176</td><td>0.0193562</td><td>0.0264775</td><td>0.748562</td><td>-999.0</td><td>0.665321</td><td>0.705378</td><td>1.08789</td><td>1.19925</td><td>-999.0</td><td>0.66562</td><td>0.705713</td><td>203</td><td>1350</td><td>6</td><td>v1_0_1</td><td>51226</td><td>-999</td><td>0.0392074</td><td>0.0395926</td><td>-16.2982 .. -19.5112</td><td>-16.2321 .. -19.5522</td><td>275.541 .. 452.944</td><td>3068010000.0</td><td>2685340000.0</td><td>0.417013</td><td>69.2463</td><td>0.448783 .. 0.0800664</td><td>5.16633</td><td>3.63987</td><td>12.7947 .. 413.049</td><td>3.26768 .. 0.000422625</td><td>13.8306 .. 425.941</td><td>3.03694 .. 0.00496838</td><td>0.335333</td><td>0.741845</td><td>68.2584</td><td>5.29184</td><td>14.8124 .. 412.19</td><td>2.50888 .. 0.0150605</td><td>1.560186343059074</td><td>9.852487564086914</td><td>2.946989472970758</td><td>0.09848277794062997</td><td>0.8525269160441389</td><td>0.004661246847300842</td><td>38.7739389484797</td><td>0.022936739976051144</td><td>37.440940071078124</td><td>0.016138461970098106</td><td>61.88507825188626</td><td>0.07338042747869138</td><td>183.15428191832711</td><td>2.8318738759310786</td><td>2.2299464843830368</td><td>0.006099342053787376</td><td>10.529260284502032</td><td>4.181226771589277</td><td>0.07058094055808059</td><td>6.435441132989916</td><td>11.185428134112588</td><td>10.663096428880776</td><td>1.5</td><td>300.9007693953248</td><td>15.203381761428345</td><td>0.42300918794160963</td><td>0.04332889447409282</td><td>318528356.25649077</td><td>10973819.90888883</td><td>1.1700697820493802</td><td>0.01234311518755433</td><td>10.054323200255043</td><td>8.681101900065409</td><td>10.119328135890797</td><td>8.780959524997495</td><td>471538.3029792875</td><td>10.350040435791016</td><td>-999.0</td><td>309.752973573684</td><td>50.84180796596384</td><td>6.564641952514648</td><td>0.0</td><td>0.0</td><td>0.0</td><td>10.637055736445056</td><td>9.856536145016422</td><td>0.0</td><td>0.18</td><td>0.125</td><td>-999.0</td><td>5.614479609229095</td><td>183.14938552312165</td><td>24.91258446340628</td></tr>\n",
       "<tr><td>10001</td><td>12702</td><td>10001-12702</td><td>1-48188</td><td>v3_1_1</td><td>v3_1_1</td><td>v1_9_1</td><td>v5_5_36</td><td>v2_9</td><td>APOGEE-2&amp;MaNGA</td><td>MaNGA dither</td><td>133.685669869</td><td>57.4802503218</td><td>159.390126911</td><td>39.0253440844</td><td>133.68567</td><td>57.48025</td><td>0.0492053</td><td>9</td><td>8100.81</td><td>0</td><td>20.0835</td><td>41.292</td><td>ma078</td><td>25</td><td>3</td><td>9114</td><td>134.41357</td><td>57.604214</td><td>1.10569</td><td>1.15089</td><td>1.21106</td><td>1.78219</td><td>1.85994</td><td>2.12685</td><td>0.898721</td><td>0.929654</td><td>0.937466</td><td>57372</td><td>57373</td><td>57373</td><td>2.72072</td><td>2.66314</td><td>2.64652</td><td>2.61686</td><td>2080</td><td>0</td><td>0</td><td>1</td><td>plateTargets-1.par</td><td>6013</td><td>J085444.56+572848.8</td><td>127</td><td>217</td><td>0</td><td>0.0408108</td><td>0.0193227</td><td>0.0264533</td><td>0.0386469</td><td>0.042869</td><td>0.0188554</td><td>0.0266531</td><td>0.794785</td><td>-999.0</td><td>0.651037</td><td>0.681893</td><td>1.04947</td><td>1.13205</td><td>-999.0</td><td>0.631507</td><td>0.660498</td><td>35</td><td>3600</td><td>5</td><td>v1_0_1</td><td>51261</td><td>-999</td><td>0.0408108</td><td>0.0411932</td><td>-15.9069 .. -19.6569</td><td>-16.127 .. -19.5493</td><td>206.664 .. 49.3569</td><td>5341650000.0</td><td>4642460000.0</td><td>0.598115</td><td>12.5169</td><td>0.405779 .. 0.072394</td><td>7.01311</td><td>6.11281</td><td>12.4553 .. 396.399</td><td>2.27628 .. 0.000372112</td><td>12.4406 .. 390.985</td><td>2.3517 .. 0.000398299</td><td>0.508217</td><td>1.44272</td><td>12.3759</td><td>8.34906</td><td>10.1128 .. 432.884</td><td>3.38905 .. 0.00964978</td><td>1.5619979358006435</td><td>14.355437278747559</td><td>0.6765359119793715</td><td>0.23419562301556418</td><td>0.6739844282455619</td><td>0.006739656007202572</td><td>36.85326879733403</td><td>0.04204024887591865</td><td>37.98221005537202</td><td>0.05640746039294769</td><td>188.3088174477578</td><td>0.16826186470866497</td><td>194.97775272347383</td><td>6.932242299930594</td><td>0.9585752877878831</td><td>0.07208969706038451</td><td>2.457986344552885</td><td>0.6629820156636723</td><td>0.04575759010348131</td><td>10.492041769351301</td><td>11.292909462167833</td><td>10.847252340042417</td><td>3.5</td><td>293.3478638373148</td><td>10.60192409708804</td><td>0.6790488070059231</td><td>0.05316399052089292</td><td>115971867.9868961</td><td>7747575.084882941</td><td>1.6956282295929506</td><td>0.03670610210595715</td><td>10.124313484194262</td><td>9.034999166941406</td><td>10.177811159857796</td><td>9.124034282826187</td><td>1207886.7459959988</td><td>9.583724021911621</td><td>-999.0</td><td>273.50491644321835</td><td>6.866128229994085</td><td>4.730921268463135</td><td>0.0</td><td>0.0</td><td>0.0</td><td>10.600037009816079</td><td>10.15080355502181</td><td>0.0</td><td>0.163</td><td>0.112</td><td>-999.0</td><td>8.515048082090281</td><td>168.30899596736322</td><td>29.53675151629983</td></tr>\n",
       "<tr><td>10001</td><td>12703</td><td>10001-12703</td><td>1-55648</td><td>v3_1_1</td><td>v3_1_1</td><td>v1_9_1</td><td>v5_5_36</td><td>v2_9</td><td>APOGEE-2&amp;MaNGA</td><td>MaNGA dither</td><td>136.017159969</td><td>57.0923291779</td><td>159.56459216</td><td>40.3368076472</td><td>136.01716</td><td>57.092329</td><td>0.0258626</td><td>9</td><td>8100.81</td><td>0</td><td>19.9086</td><td>40.7596</td><td>ma077</td><td>31</td><td>3</td><td>9114</td><td>134.41357</td><td>57.604214</td><td>1.09975</td><td>1.13824</td><td>1.19323</td><td>1.78219</td><td>1.85994</td><td>2.12685</td><td>0.898721</td><td>0.929654</td><td>0.937466</td><td>57372</td><td>57373</td><td>57373</td><td>2.7262</td><td>2.61384</td><td>2.56576</td><td>2.53132</td><td>2080</td><td>0</td><td>0</td><td>1</td><td>plateTargets-1.par</td><td>6013</td><td>J090404.13+570532.3</td><td>127</td><td>169</td><td>0</td><td>0.0462094</td><td>0.0227277</td><td>0.0296235</td><td>0.0443908</td><td>0.0487145</td><td>0.0222592</td><td>0.03022</td><td>0.55597</td><td>-999.0</td><td>0.570051</td><td>0.643308</td><td>0.979861</td><td>1.21834</td><td>-999.0</td><td>0.534143</td><td>0.597944</td><td>39</td><td>3600</td><td>2</td><td>v1_0_1</td><td>59078</td><td>-999</td><td>0.0462094</td><td>0.046579</td><td>-15.9552 .. -20.5965</td><td>-16.3926 .. -20.4663</td><td>223.74 .. 875.365</td><td>13693500000.0</td><td>9439710000.0</td><td>0.378034</td><td>51.5052</td><td>0.219711 .. 0.0391981</td><td>6.523</td><td>4.87172</td><td>13.8626 .. 635.975</td><td>1.79171 .. 0.00598687</td><td>14.4442 .. 722.823</td><td>1.96905 .. 0.00930865</td><td>0.205749</td><td>2.18084</td><td>51.2808</td><td>8.09139</td><td>9.82225 .. 820.242</td><td>2.79287 .. 0.0443689</td><td>1.1414035570714935</td><td>14.743389129638672</td><td>16.699456893928602</td><td>0.0963277859001372</td><td>0.868911357820688</td><td>0.0007131052643978732</td><td>36.558508375391675</td><td>0.020946818786307338</td><td>35.641571170832165</td><td>0.018071593708941423</td><td>56.79483322166177</td><td>0.08249999450764357</td><td>369.9104377816068</td><td>1.1162754236338</td><td>2.2255004811754473</td><td>0.025995323685563534</td><td>57.98401438954021</td><td>1.0019694161891133</td><td>0.003716146716676395</td><td>10.501250692751151</td><td>11.98875372506019</td><td>11.44150293569664</td><td>2.5</td><td>1201.0759702017704</td><td>23.844360911771343</td><td>0.5494068894426105</td><td>0.02030870938454245</td><td>494628915.16105384</td><td>13753186.951918408</td><td>1.3970129924747783</td><td>0.0114278522601265</td><td>10.546935338970071</td><td>9.081725877664413</td><td>10.558369569453301</td><td>9.103192513387299</td><td>203727.58256011392</td><td>9.775858879089355</td><td>-999.0</td><td>383.131393858277</td><td>32.519186623217024</td><td>4.756507873535156</td><td>0.0</td><td>0.0</td><td>0.0</td><td>11.32307263875663</td><td>10.727979027247507</td><td>0.0</td><td>0.085</td><td>0.059</td><td>-999.0</td><td>9.902006982545116</td><td>347.745404077086</td><td>47.8247202374236</td></tr>\n",
       "<tr><td>10001</td><td>12704</td><td>10001-12704</td><td>1-55616</td><td>v3_1_1</td><td>v3_1_1</td><td>v1_9_1</td><td>v5_5_36</td><td>v2_9</td><td>APOGEE-2&amp;MaNGA</td><td>MaNGA dither</td><td>133.989966869</td><td>57.6779676669</td><td>159.101196491</td><td>39.1494998661</td><td>133.98997</td><td>57.677968</td><td>0.0476794</td><td>9</td><td>8100.81</td><td>64</td><td>19.9086</td><td>40.7596</td><td>ma076</td><td>34</td><td>3</td><td>9114</td><td>134.41357</td><td>57.604214</td><td>1.10705</td><td>1.15123</td><td>1.21051</td><td>1.78219</td><td>1.85994</td><td>2.12685</td><td>0.898721</td><td>0.929654</td><td>0.937466</td><td>57372</td><td>57373</td><td>57373</td><td>2.6788</td><td>2.58733</td><td>2.52311</td><td>2.47903</td><td>4160</td><td>0</td><td>0</td><td>1</td><td>plateTargets-1.par</td><td>6013</td><td>J085557.56+574040.6</td><td>127</td><td>397</td><td>0</td><td>0.0141215</td><td>0.0183756</td><td>0.0258019</td><td>0.037294</td><td>0.0415338</td><td>0.0141373</td><td>0.0310467</td><td>0.67973</td><td>-999.0</td><td>-999.0</td><td>-999.0</td><td>-999.0</td><td>-999.0</td><td>0.716568</td><td>0.45291</td><td>0.474847</td><td>36</td><td>3600</td><td>5</td><td>v1_0_1</td><td>59044</td><td>-999</td><td>0.0141215</td><td>0.0145852</td><td>-14.2399 .. -19.4321</td><td>-14.2982 .. -19.3602</td><td>262.464 .. 794.079</td><td>4286640000.0</td><td>4218380000.0</td><td>0.212315</td><td>81.0961</td><td>0.388503 .. 0.0693118</td><td>16.0734</td><td>11.44</td><td>18.0685 .. 2387.32</td><td>0.731053 .. 1.94195e-05</td><td>18.855 .. 2747.21</td><td>1.50036 .. 0.000434694</td><td>0.15</td><td>0.869326</td><td>81.2193</td><td>18.2816</td><td>17.8616 .. 2923.9</td><td>2.16404 .. 0.00123046</td><td>1.2909390780165348</td><td>33.156402587890625</td><td>-2.634762784476005</td><td>0.09187106750706249</td><td>0.4055339772671592</td><td>0.0006001633102882991</td><td>36.43376557407452</td><td>0.01858300451194395</td><td>38.139029680496584</td><td>0.02222913860579567</td><td>85.11107958400636</td><td>0.057813166931291814</td><td>122.48415062258817</td><td>0.3994965769481449</td><td>2.016120495793798</td><td>0.004139169135295307</td><td>22.622761000584767</td><td>3.9043682508897124</td><td>0.08876432226865019</td><td>5.708876239096034</td><td>10.919496867791567</td><td>10.33626744461852</td><td>3.5</td><td>589.741380235529</td><td>13.146010279176876</td><td>0.16832394280031962</td><td>0.004839248890317191</td><td>541588696.96986</td><td>5004394.585211396</td><td>0.8480244916060672</td><td>0.0027159735332440583</td><td>9.918768524805014</td><td>8.032310918758885</td><td>9.924592856288296</td><td>8.044620557122625</td><td>265311.1920361342</td><td>9.239542007446289</td><td>-999.0</td><td>292.93732389433455</td><td>4.826130375197129</td><td>4.773223400115967</td><td>0.0</td><td>0.0</td><td>0.0</td><td>10.37352631137793</td><td>9.51492042443341</td><td>0.0</td><td>0.157</td><td>0.109</td><td>-999.0</td><td>6.80524567314194</td><td>122.48211130453265</td><td>14.72299702222846</td></tr>\n",
       "</table></div>"
      ],
      "text/plain": [
       "<Table length=4>\n",
       "plate ifudsgn   plateifu  ...       v_3p5            v_3p5_err    \n",
       "int64 bytes32   bytes32   ...      float64            float64     \n",
       "----- ------- ----------- ... ------------------ -----------------\n",
       "10001   12701 10001-12701 ... 183.14938552312165 24.91258446340628\n",
       "10001   12702 10001-12702 ... 168.30899596736322 29.53675151629983\n",
       "10001   12703 10001-12703 ...   347.745404077086  47.8247202374236\n",
       "10001   12704 10001-12704 ... 122.48211130453265 14.72299702222846"
      ]
     },
     "execution_count": 8,
     "metadata": {},
     "output_type": "execute_result"
    }
   ],
   "source": [
    "working_table[0:4]"
   ]
  },
  {
   "cell_type": "code",
   "execution_count": 9,
   "metadata": {},
   "outputs": [
    {
     "data": {
      "text/html": [
       "<div><i>Table length=4</i>\n",
       "<table id=\"table140461582515728\" class=\"table-striped table-bordered table-condensed\">\n",
       "<thead><tr><th>IAUNAME</th><th>SUBDIR</th><th>RA</th><th>DEC</th><th>ISDSS</th><th>INED</th><th>ISIXDF</th><th>IALFALFA</th><th>IZCAT</th><th>ITWODF</th><th>MAG</th><th>Z</th><th>ZSRC</th><th>SIZE</th><th>RUN</th><th>CAMCOL</th><th>FIELD</th><th>RERUN</th><th>XPOS</th><th>YPOS</th><th>NSAID</th><th>ZDIST</th><th>SERSIC_NMGY [7]</th><th>SERSIC_NMGY_IVAR [7]</th><th>SERSIC_OK</th><th>SERSIC_RNMGY [7]</th><th>SERSIC_ABSMAG [7]</th><th>SERSIC_AMIVAR [7]</th><th>EXTINCTION [7]</th><th>SERSIC_KCORRECT [7]</th><th>SERSIC_KCOEFF [5]</th><th>SERSIC_MTOL [7]</th><th>SERSIC_B300</th><th>SERSIC_B1000</th><th>SERSIC_METS</th><th>SERSIC_MASS</th><th>XCEN</th><th>YCEN</th><th>NPROF [7]</th><th>PROFMEAN [15,7]</th><th>PROFMEAN_IVAR [15,7]</th><th>QSTOKES [15,7]</th><th>USTOKES [15,7]</th><th>BASTOKES [15,7]</th><th>PHISTOKES [15,7]</th><th>PETRO_FLUX [7]</th><th>PETRO_FLUX_IVAR [7]</th><th>FIBER_FLUX [7]</th><th>FIBER_FLUX_IVAR [7]</th><th>PETRO_BA50</th><th>PETRO_PHI50</th><th>PETRO_BA90</th><th>PETRO_PHI90</th><th>SERSIC_FLUX [7]</th><th>SERSIC_FLUX_IVAR [7]</th><th>SERSIC_N</th><th>SERSIC_BA</th><th>SERSIC_PHI</th><th>ASYMMETRY [7]</th><th>CLUMPY [7]</th><th>DFLAGS [7]</th><th>AID</th><th>PID</th><th>DVERSION</th><th>PROFTHETA [15]</th><th>PETRO_THETA</th><th>PETRO_TH50</th><th>PETRO_TH90</th><th>SERSIC_TH50</th><th>PLATE</th><th>FIBERID</th><th>MJD</th><th>RACAT</th><th>DECCAT</th><th>ZSDSSLINE</th><th>SURVEY</th><th>PROGRAMNAME</th><th>PLATEQUALITY</th><th>TILE</th><th>PLUG_RA</th><th>PLUG_DEC</th><th>ELPETRO_BA</th><th>ELPETRO_PHI</th><th>ELPETRO_FLUX_R</th><th>ELPETRO_FLUX_IVAR_R</th><th>ELPETRO_THETA_R</th><th>ELPETRO_TH50_R</th><th>ELPETRO_TH90_R</th><th>ELPETRO_THETA</th><th>ELPETRO_FLUX [7]</th><th>ELPETRO_FLUX_IVAR [7]</th><th>ELPETRO_TH50 [7]</th><th>ELPETRO_TH90 [7]</th><th>ELPETRO_APCORR_R</th><th>ELPETRO_APCORR [7]</th><th>ELPETRO_APCORR_SELF [7]</th><th>ELPETRO_NMGY [7]</th><th>ELPETRO_NMGY_IVAR [7]</th><th>ELPETRO_OK</th><th>ELPETRO_RNMGY [7]</th><th>ELPETRO_ABSMAG [7]</th><th>ELPETRO_AMIVAR [7]</th><th>ELPETRO_KCORRECT [7]</th><th>ELPETRO_KCOEFF [5]</th><th>ELPETRO_MASS</th><th>ELPETRO_MTOL [7]</th><th>ELPETRO_B300</th><th>ELPETRO_B1000</th><th>ELPETRO_METS</th><th>IN_DR7_LSS</th><th>u_r</th><th>g_r</th><th>NUV_r</th><th>index</th><th>imc</th><th>aimc</th><th>cd</th><th>conx1</th><th>u_r_KIAS</th><th>prmag</th><th>BPTclass</th><th>SFR</th><th>sSFR</th><th>HImass</th><th>flag3727</th><th>t3</th><th>Z12logOH</th><th>Zerr</th><th>N12logNH</th><th>NHerr</th><th>logNO</th><th>NOerr</th><th>Ne12logNeH</th><th>NeHerr</th><th>logNeO</th><th>NeOerr</th><th>Z_N2O2</th><th>vorvol</th><th>V2_depth</th><th>vflag_V2</th><th>vflag_VF</th><th>u_r_err</th><th>g_r_err</th><th>NUV_r_err</th><th>CMD_class</th><th>MPA_index</th><th>sSFR_err</th><th>SFR_err</th></tr></thead>\n",
       "<thead><tr><th>bytes19</th><th>bytes27</th><th>float64</th><th>float64</th><th>int32</th><th>int32</th><th>int32</th><th>int32</th><th>int32</th><th>int32</th><th>float32</th><th>float32</th><th>bytes7</th><th>float32</th><th>int16</th><th>uint8</th><th>int16</th><th>bytes3</th><th>float32</th><th>float32</th><th>int32</th><th>float32</th><th>float32</th><th>float32</th><th>int16</th><th>float32</th><th>float32</th><th>float32</th><th>float32</th><th>float32</th><th>float32</th><th>float32</th><th>float32</th><th>float32</th><th>float32</th><th>float32</th><th>float64</th><th>float64</th><th>uint8</th><th>float32</th><th>float32</th><th>float32</th><th>float32</th><th>float32</th><th>float32</th><th>float32</th><th>float32</th><th>float32</th><th>float32</th><th>float32</th><th>float32</th><th>float32</th><th>float32</th><th>float32</th><th>float32</th><th>float32</th><th>float32</th><th>float32</th><th>float32</th><th>float32</th><th>int32</th><th>int32</th><th>int32</th><th>bytes8</th><th>float32</th><th>float32</th><th>float32</th><th>float32</th><th>float32</th><th>int32</th><th>int16</th><th>int32</th><th>float64</th><th>float64</th><th>float32</th><th>bytes6</th><th>bytes27</th><th>bytes8</th><th>int32</th><th>float64</th><th>float64</th><th>float32</th><th>float32</th><th>float32</th><th>float32</th><th>float32</th><th>float32</th><th>float32</th><th>float32</th><th>float32</th><th>float32</th><th>float32</th><th>float32</th><th>float32</th><th>float32</th><th>float32</th><th>float32</th><th>float32</th><th>int16</th><th>float32</th><th>float32</th><th>float32</th><th>float32</th><th>float32</th><th>float32</th><th>float32</th><th>float32</th><th>float32</th><th>float32</th><th>float64</th><th>float64</th><th>float64</th><th>float64</th><th>int64</th><th>int64</th><th>float64</th><th>float64</th><th>float64</th><th>float64</th><th>float64</th><th>float64</th><th>float64</th><th>float64</th><th>float64</th><th>float64</th><th>float64</th><th>float64</th><th>float64</th><th>float64</th><th>float64</th><th>float64</th><th>float64</th><th>float64</th><th>float64</th><th>float64</th><th>float64</th><th>float64</th><th>float64</th><th>float64</th><th>int64</th><th>int64</th><th>float32</th><th>float32</th><th>float32</th><th>int64</th><th>int64</th><th>float64</th><th>float64</th></tr></thead>\n",
       "<tr><td>J094651.40-010228.5</td><td>09h/m00/J094651.40-010228.5</td><td>146.714215072841</td><td>-1.0412800233313741</td><td>0</td><td>72212</td><td>37354</td><td>-1</td><td>-1</td><td>-1</td><td>15.178774</td><td>0.021222278</td><td>sdss</td><td>0.07</td><td>756</td><td>1</td><td>206</td><td>301</td><td>136.2967</td><td>1095.152</td><td>0</td><td>0.020687785</td><td>29.696056 .. 3267.6895</td><td>0.29814342 .. 0.00012172792</td><td>1</td><td>31.368013 .. 3501.2527</td><td>-15.17281 .. -20.302134</td><td>223.03555 .. 1102.6129</td><td>0.4536473 .. 0.080934174</td><td>-0.005893635 .. 0.019576037</td><td>0.00017777947 .. 5.1533486e-11</td><td>0.00020792194 .. 0.98780394</td><td>2.7473723e-05</td><td>0.31195974</td><td>0.035135116</td><td>8898397000.0</td><td>215.39407348632812</td><td>213.4535369873047</td><td>10 .. 12</td><td>0.3149959 .. 0.0</td><td>233.37904 .. 0.0</td><td>0.062215745 .. -0.07950058</td><td>0.0006146176 .. -0.1274703</td><td>0.8828513 .. 0.7387829</td><td>0.2829979 .. -60.97547</td><td>18.203371 .. 2264.6604</td><td>1.9946122 .. 0.015697604</td><td>1.0260131 .. 561.97687</td><td>47.3397 .. 0.33574256</td><td>0.88909996</td><td>14.777527</td><td>0.80408496</td><td>17.367554</td><td>19.554192 .. 3146.785</td><td>1.0691423 .. 0.017162137</td><td>4.7761517</td><td>0.6651653</td><td>15.97821</td><td>-0.0109440535 .. 0.004525926</td><td>0.042470127 .. 0.042621203</td><td>0 .. 0</td><td>0</td><td>36</td><td>v2_1_13</td><td>0.22341923 .. 258.39</td><td>7.2478933</td><td>3.4641922</td><td>10.453795</td><td>5.882104</td><td>266</td><td>1</td><td>51630</td><td>146.71420341874853</td><td>-1.0412749124036818</td><td>0.0</td><td>sdss</td><td>legacy</td><td>good</td><td>122</td><td>146.71421</td><td>-1.0413043</td><td>0.80408496</td><td>17.367554</td><td>1144.0713</td><td>0.4582725</td><td>7.3913364</td><td>3.7061903</td><td>10.666219</td><td>7.3913364</td><td>18.787916 .. 2225.009</td><td>1.8480047 .. 0.017611798</td><td>5.8557696 .. 3.4004514</td><td>11.650886 .. 10.1460905</td><td>0.9986329</td><td>1.0687045 .. 1.001099</td><td>1.0695114 .. 1.0010818</td><td>28.532349 .. 2310.4973</td><td>0.42499655 .. 0.00024172392</td><td>1</td><td>28.661283 .. 2337.7668</td><td>-15.124495 .. -19.915525</td><td>293.50247 .. 1094.6666</td><td>-0.010805 .. 0.009306902</td><td>3.9630737e-05 .. 2.6251464e-06</td><td>6833158000.0</td><td>0.00017553588 .. 1.14686</td><td>0.004447123</td><td>0.09061434</td><td>0.025269886</td><td>0.0</td><td>2.3124398291110992</td><td>0.7627769559621811</td><td>3.9262890815734863</td><td>4000000</td><td>-99</td><td>-99.0</td><td>-99.0</td><td>-99.0</td><td>-99.0</td><td>-99.0</td><td>--</td><td>--</td><td>--</td><td>--</td><td>--</td><td>--</td><td>--</td><td>--</td><td>--</td><td>--</td><td>--</td><td>--</td><td>--</td><td>--</td><td>--</td><td>--</td><td>--</td><td>--</td><td>-1.0</td><td>9</td><td>9</td><td>0.01981808</td><td>0.0023560452</td><td>0.018687407</td><td>-99</td><td>-1</td><td>--</td><td>--</td></tr>\n",
       "<tr><td>J094630.85-004554.5</td><td>09h/m00/J094630.85-004554.5</td><td>146.6285851269414</td><td>-0.7651620976591762</td><td>1</td><td>-1</td><td>-1</td><td>-1</td><td>-1</td><td>-1</td><td>17.318521</td><td>0.06465632</td><td>sdss</td><td>0.06491773</td><td>1239</td><td>2</td><td>175</td><td>301</td><td>735.56384</td><td>1277.3636</td><td>1</td><td>0.06403577</td><td>2.4606192 .. 443.66675</td><td>5.447516 .. 0.006137319</td><td>1</td><td>2.6590455 .. 454.05856</td><td>-14.978118 .. -20.688284</td><td>27.979414 .. 1024.811</td><td>0.60185605 .. 0.10737576</td><td>-0.018567445 .. 0.051569887</td><td>1.7666649e-05 .. 6.712402e-13</td><td>0.00035330586 .. 1.0529422</td><td>1.4492807e-05</td><td>0.21530226</td><td>0.031020422</td><td>12929411000.0</td><td>145.3625946044922</td><td>121.33534240722656</td><td>10 .. 11</td><td>0.044930786 .. 0.0</td><td>1644.0168 .. 0.0</td><td>0.15447958 .. 0.1804297</td><td>0.0016548077 .. 0.05960713</td><td>0.73236895 .. 0.680643</td><td>0.30686864 .. 9.140798</td><td>1.5539132 .. 380.1313</td><td>11.729078 .. 0.018252498</td><td>0.10988019 .. 131.71373</td><td>345.7848 .. 0.57769156</td><td>0.7371746</td><td>87.53705</td><td>0.50988674</td><td>87.96927</td><td>1.4135201 .. 416.9717</td><td>17.281208 .. 0.089459315</td><td>2.222374</td><td>0.27854216</td><td>86.21106</td><td>-0.0066564083 .. 0.0052427053</td><td>0.04789895 .. 0.075857244</td><td>0 .. 0</td><td>0</td><td>29</td><td>v2_1_13</td><td>0.22341923 .. 258.39</td><td>5.6178217</td><td>2.3269887</td><td>6.7219906</td><td>3.291051</td><td>266</td><td>4</td><td>51630</td><td>146.62857001083813</td><td>-0.7651439853236099</td><td>0.0</td><td>sdss</td><td>legacy</td><td>good</td><td>122</td><td>146.62857</td><td>-0.76513683</td><td>0.50988674</td><td>87.96926</td><td>185.97183</td><td>0.62044895</td><td>6.581605</td><td>2.9719684</td><td>8.093729</td><td>6.581605</td><td>1.614101 .. 385.6091</td><td>12.512996 .. 0.025627436</td><td>6.0647826 .. 2.8283458</td><td>9.8568735 .. 8.044135</td><td>1.0033052</td><td>1.101541 .. 0.9988729</td><td>1.1308625 .. 0.99827486</td><td>2.8097854 .. 410.2963</td><td>3.9543293 .. 0.005790308</td><td>1</td><td>2.917754 .. 415.73123</td><td>-15.113855 .. -20.591503</td><td>26.483196 .. 826.89087</td><td>-0.026901115 .. 0.039683696</td><td>1.06661e-05 .. 1.3970519e-12</td><td>12135996000.0</td><td>0.0003045496 .. 1.0913272</td><td>1.6861053e-05</td><td>0.14151204</td><td>0.027635332</td><td>1.0</td><td>2.976039946079254</td><td>0.8633808791637421</td><td>4.488303065299988</td><td>180229</td><td>1</td><td>1.0</td><td>-0.169</td><td>0.356</td><td>2.697</td><td>16.627</td><td>3.0</td><td>-0.6210674047470093</td><td>-11.241625785827637</td><td>--</td><td>--</td><td>--</td><td>--</td><td>--</td><td>--</td><td>--</td><td>--</td><td>--</td><td>--</td><td>--</td><td>--</td><td>--</td><td>9.48280122055993</td><td>0.0</td><td>-1.0</td><td>2</td><td>2</td><td>0.2007312</td><td>0.01439242</td><td>0.07260616</td><td>2</td><td>496</td><td>1.169804573059082</td><td>1.1743613481521606</td></tr>\n",
       "<tr><td>J094631.59-005917.7</td><td>09h/m00/J094631.59-005917.7</td><td>146.63170644325592</td><td>-0.9883467023052999</td><td>2</td><td>72132</td><td>-1</td><td>-1</td><td>-1</td><td>-1</td><td>18.123354</td><td>0.05265425</td><td>sdss</td><td>0.07</td><td>756</td><td>1</td><td>206</td><td>301</td><td>618.0556</td><td>344.6873</td><td>2</td><td>0.052030597</td><td>5.9062114 .. 117.6328</td><td>2.735704 .. 0.048443027</td><td>1</td><td>5.766684 .. 117.70143</td><td>-15.453841 .. -18.720377</td><td>80.95401 .. 568.64264</td><td>0.43238893 .. 0.07714152</td><td>-0.024124824 .. -0.005638472</td><td>2.5192165e-07 .. 4.9804896e-07</td><td>3.070332e-05 .. 0.8028418</td><td>0.024668738</td><td>0.0852406</td><td>0.021334123</td><td>1573399200.0</td><td>79.96614074707031</td><td>90.70097351074219</td><td>9 .. 10</td><td>0.15507016 .. 0.0</td><td>454.9598 .. 0.0</td><td>-0.006260235 .. -0.12462888</td><td>0.00027153647 .. -0.03455963</td><td>0.9875458 .. 0.7709587</td><td>88.75818 .. -82.25064</td><td>3.430186 .. 138.60387</td><td>8.568999 .. 0.018438479</td><td>0.4591055 .. 31.897715</td><td>115.09581 .. 0.68231297</td><td>0.76752096</td><td>161.0622</td><td>0.5954031</td><td>162.72363</td><td>3.9660065 .. 113.676796</td><td>6.9698696 .. 0.10624967</td><td>0.88311815</td><td>0.45403665</td><td>163.90436</td><td>0.04256475 .. 0.012925059</td><td>0.2935813 .. -0.043825477</td><td>0 .. 0</td><td>0</td><td>33</td><td>v2_1_13</td><td>0.22341923 .. 258.39</td><td>4.7698913</td><td>2.278736</td><td>5.1779103</td><td>2.8177862</td><td>266</td><td>6</td><td>51630</td><td>146.63164771049065</td><td>-0.9882588093923149</td><td>0.0</td><td>sdss</td><td>legacy</td><td>good</td><td>122</td><td>146.63167</td><td>-0.98827781</td><td>0.5954031</td><td>162.72362</td><td>73.537186</td><td>0.70116085</td><td>5.5319614</td><td>2.7789824</td><td>6.0893784</td><td>5.5319614</td><td>4.895678 .. 115.44117</td><td>7.500193 .. 0.022838634</td><td>4.4029393 .. 2.9222565</td><td>9.300362 .. 6.7642803</td><td>1.0013566</td><td>1.108137 .. 1.0008979</td><td>1.0882177 .. 1.0029837</td><td>7.290686 .. 119.45858</td><td>2.7185972 .. 0.01730672</td><td>1</td><td>6.974619 .. 122.09129</td><td>-15.660282 .. -18.744165</td><td>122.58378 .. 209.5081</td><td>-0.046333067 .. 0.001428483</td><td>5.522025e-11 .. 1.388793e-07</td><td>1788938800.0</td><td>2.9459869e-05 .. 0.8742925</td><td>0.006104483</td><td>0.057695847</td><td>0.021391599</td><td>0.0</td><td>1.7119742929935455</td><td>0.5155415460467339</td><td>2.713152766227722</td><td>4000001</td><td>-99</td><td>-99.0</td><td>-99.0</td><td>-99.0</td><td>-99.0</td><td>-99.0</td><td>--</td><td>--</td><td>--</td><td>--</td><td>--</td><td>--</td><td>--</td><td>--</td><td>--</td><td>--</td><td>--</td><td>--</td><td>--</td><td>--</td><td>--</td><td>--</td><td>--</td><td>--</td><td>-1.0</td><td>9</td><td>2</td><td>0.10613795</td><td>0.026766071</td><td>0.05221</td><td>-99</td><td>-1</td><td>--</td><td>--</td></tr>\n",
       "<tr><td>J094744.18-004013.4</td><td>09h/m00/J094744.18-004013.4</td><td>146.9341288729797</td><td>-0.6704053610430766</td><td>3</td><td>-1</td><td>-1</td><td>-1</td><td>-1</td><td>-1</td><td>17.660961</td><td>0.121270485</td><td>sdss</td><td>0.035120796</td><td>1239</td><td>2</td><td>177</td><td>301</td><td>1596.5807</td><td>1332.545</td><td>3</td><td>0.1206503</td><td>0.59546506 .. 578.8718</td><td>9.035561 .. 0.0035411348</td><td>1</td><td>0.7218249 .. 553.9784</td><td>-14.764457 .. -22.449923</td><td>2.7178097 .. 1006.60394</td><td>0.7170526 .. 0.12792772</td><td>-0.1506549 .. 0.06549595</td><td>1.19462175e-05 .. 1.7515072e-08</td><td>0.002110761 .. 1.223524</td><td>0.00011213933</td><td>0.09278005</td><td>0.025959628</td><td>71169860000.0</td><td>137.42404174804688</td><td>125.49797058105469</td><td>8 .. 11</td><td>0.003647356 .. 0.0</td><td>8113.7544 .. 0.0</td><td>-0.19626419 .. -0.055742305</td><td>-0.030730866 .. 0.05399963</td><td>0.668536 .. 0.85596067</td><td>-85.55046 .. 67.95488</td><td>0.20122944 .. 426.2722</td><td>17.745825 .. 0.012332003</td><td>0.034221034 .. 143.77124</td><td>967.08167 .. 0.45689023</td><td>0.86656487</td><td>143.07059</td><td>0.8717792</td><td>137.78821</td><td>0.30763465 .. 533.8403</td><td>34.00086 .. 0.044268627</td><td>6.0</td><td>0.9274694</td><td>151.60822</td><td>-0.948365 .. -0.035975456</td><td>0.03786385 .. -0.040295005</td><td>0 .. 0</td><td>0</td><td>10</td><td>v2_1_13</td><td>0.22341923 .. 258.39</td><td>6.243227</td><td>2.6551907</td><td>9.177605</td><td>2.3659685</td><td>266</td><td>11</td><td>51630</td><td>146.93412051706812</td><td>-0.6704051378070931</td><td>0.0</td><td>sdss</td><td>legacy</td><td>good</td><td>122</td><td>146.9341</td><td>-0.67040397</td><td>0.8717792</td><td>137.78822</td><td>188.01964</td><td>0.0045111887</td><td>6.0937533</td><td>2.5156991</td><td>8.819097</td><td>6.0937533</td><td>0.17188334 .. 430.66693</td><td>17.761442 .. 0.014656738</td><td>2.0069053 .. 2.448878</td><td>5.1804347 .. 8.978253</td><td>1.000473</td><td>1.0810981 .. 1.0031528</td><td>1.0690908 .. 1.0021293</td><td>0.33270153 .. 466.9954</td><td>4.7372575 .. 0.0040530795</td><td>1</td><td>0.3503071 .. 468.5555</td><td>-14.501482 .. -22.221018</td><td>0.44482368 .. 749.82794</td><td>0.21837461 .. 0.069767624</td><td>1.23576565e-05 .. 9.264894e-12</td><td>57484075000.0</td><td>0.0025006996 .. 1.1638231</td><td>4.5900248e-07</td><td>0.124371074</td><td>0.027231464</td><td>1.0</td><td>3.0934733152389526</td><td>1.1193519085645676</td><td>5.987549424171448</td><td>180235</td><td>1</td><td>1.0</td><td>-0.008</td><td>0.297</td><td>2.798</td><td>16.643</td><td>-1.0</td><td>-0.5</td><td>-11.71275806427002</td><td>--</td><td>--</td><td>--</td><td>--</td><td>--</td><td>--</td><td>--</td><td>--</td><td>--</td><td>--</td><td>--</td><td>--</td><td>--</td><td>--</td><td>0.0</td><td>-1.0</td><td>9</td><td>9</td><td>0.22668667</td><td>0.08720722</td><td>0.32544073</td><td>3</td><td>501</td><td>1.3031730651855469</td><td>1.3095574378967285</td></tr>\n",
       "</table></div>"
      ],
      "text/plain": [
       "<Table length=4>\n",
       "      IAUNAME                  SUBDIR           ...      SFR_err      \n",
       "      bytes19                 bytes27           ...      float64      \n",
       "------------------- --------------------------- ... ------------------\n",
       "J094651.40-010228.5 09h/m00/J094651.40-010228.5 ...                 --\n",
       "J094630.85-004554.5 09h/m00/J094630.85-004554.5 ... 1.1743613481521606\n",
       "J094631.59-005917.7 09h/m00/J094631.59-005917.7 ...                 --\n",
       "J094744.18-004013.4 09h/m00/J094744.18-004013.4 ... 1.3095574378967285"
      ]
     },
     "execution_count": 9,
     "metadata": {},
     "output_type": "execute_result"
    }
   ],
   "source": [
    "KIAS[0:4]"
   ]
  },
  {
   "cell_type": "code",
   "execution_count": 10,
   "metadata": {},
   "outputs": [
    {
     "data": {
      "text/html": [
       "&lt;MaskedColumn name=&apos;CMD_class&apos; dtype=&apos;int64&apos; length=1&gt;\n",
       "<table>\n",
       "<tr><td>-99</td></tr>\n",
       "</table>"
      ],
      "text/plain": [
       "<MaskedColumn name='CMD_class' dtype='int64' length=1>\n",
       "-99"
      ]
     },
     "execution_count": 10,
     "metadata": {},
     "output_type": "execute_result"
    }
   ],
   "source": [
    "KIAS[KIAS['NSAID'] == 0]['CMD_class']"
   ]
  },
  {
   "cell_type": "code",
   "execution_count": 11,
   "metadata": {},
   "outputs": [],
   "source": [
    "master_table['CMD_class'] = np.ones(len(master_table))*np.nan"
   ]
  },
  {
   "cell_type": "code",
   "execution_count": 25,
   "metadata": {},
   "outputs": [],
   "source": [
    "kias_dict = {}\n",
    "for i in range(0,len(KIAS)):\n",
    "    key = KIAS['NSAID'][i]\n",
    "    kias_dict[key] = i"
   ]
  },
  {
   "cell_type": "code",
   "execution_count": 27,
   "metadata": {},
   "outputs": [
    {
     "data": {
      "text/html": [
       "<i>Row index=14</i>\n",
       "<table id=\"table140461582585104\">\n",
       "<thead><tr><th>IAUNAME</th><th>SUBDIR</th><th>RA</th><th>DEC</th><th>ISDSS</th><th>INED</th><th>ISIXDF</th><th>IALFALFA</th><th>IZCAT</th><th>ITWODF</th><th>MAG</th><th>Z</th><th>ZSRC</th><th>SIZE</th><th>RUN</th><th>CAMCOL</th><th>FIELD</th><th>RERUN</th><th>XPOS</th><th>YPOS</th><th>NSAID</th><th>ZDIST</th><th>SERSIC_NMGY [7]</th><th>SERSIC_NMGY_IVAR [7]</th><th>SERSIC_OK</th><th>SERSIC_RNMGY [7]</th><th>SERSIC_ABSMAG [7]</th><th>SERSIC_AMIVAR [7]</th><th>EXTINCTION [7]</th><th>SERSIC_KCORRECT [7]</th><th>SERSIC_KCOEFF [5]</th><th>SERSIC_MTOL [7]</th><th>SERSIC_B300</th><th>SERSIC_B1000</th><th>SERSIC_METS</th><th>SERSIC_MASS</th><th>XCEN</th><th>YCEN</th><th>NPROF [7]</th><th>PROFMEAN [15,7]</th><th>PROFMEAN_IVAR [15,7]</th><th>QSTOKES [15,7]</th><th>USTOKES [15,7]</th><th>BASTOKES [15,7]</th><th>PHISTOKES [15,7]</th><th>PETRO_FLUX [7]</th><th>PETRO_FLUX_IVAR [7]</th><th>FIBER_FLUX [7]</th><th>FIBER_FLUX_IVAR [7]</th><th>PETRO_BA50</th><th>PETRO_PHI50</th><th>PETRO_BA90</th><th>PETRO_PHI90</th><th>SERSIC_FLUX [7]</th><th>SERSIC_FLUX_IVAR [7]</th><th>SERSIC_N</th><th>SERSIC_BA</th><th>SERSIC_PHI</th><th>ASYMMETRY [7]</th><th>CLUMPY [7]</th><th>DFLAGS [7]</th><th>AID</th><th>PID</th><th>DVERSION</th><th>PROFTHETA [15]</th><th>PETRO_THETA</th><th>PETRO_TH50</th><th>PETRO_TH90</th><th>SERSIC_TH50</th><th>PLATE</th><th>FIBERID</th><th>MJD</th><th>RACAT</th><th>DECCAT</th><th>ZSDSSLINE</th><th>SURVEY</th><th>PROGRAMNAME</th><th>PLATEQUALITY</th><th>TILE</th><th>PLUG_RA</th><th>PLUG_DEC</th><th>ELPETRO_BA</th><th>ELPETRO_PHI</th><th>ELPETRO_FLUX_R</th><th>ELPETRO_FLUX_IVAR_R</th><th>ELPETRO_THETA_R</th><th>ELPETRO_TH50_R</th><th>ELPETRO_TH90_R</th><th>ELPETRO_THETA</th><th>ELPETRO_FLUX [7]</th><th>ELPETRO_FLUX_IVAR [7]</th><th>ELPETRO_TH50 [7]</th><th>ELPETRO_TH90 [7]</th><th>ELPETRO_APCORR_R</th><th>ELPETRO_APCORR [7]</th><th>ELPETRO_APCORR_SELF [7]</th><th>ELPETRO_NMGY [7]</th><th>ELPETRO_NMGY_IVAR [7]</th><th>ELPETRO_OK</th><th>ELPETRO_RNMGY [7]</th><th>ELPETRO_ABSMAG [7]</th><th>ELPETRO_AMIVAR [7]</th><th>ELPETRO_KCORRECT [7]</th><th>ELPETRO_KCOEFF [5]</th><th>ELPETRO_MASS</th><th>ELPETRO_MTOL [7]</th><th>ELPETRO_B300</th><th>ELPETRO_B1000</th><th>ELPETRO_METS</th><th>IN_DR7_LSS</th><th>u_r</th><th>g_r</th><th>NUV_r</th><th>index</th><th>imc</th><th>aimc</th><th>cd</th><th>conx1</th><th>u_r_KIAS</th><th>prmag</th><th>BPTclass</th><th>SFR</th><th>sSFR</th><th>HImass</th><th>flag3727</th><th>t3</th><th>Z12logOH</th><th>Zerr</th><th>N12logNH</th><th>NHerr</th><th>logNO</th><th>NOerr</th><th>Ne12logNeH</th><th>NeHerr</th><th>logNeO</th><th>NeOerr</th><th>Z_N2O2</th><th>vorvol</th><th>V2_depth</th><th>vflag_V2</th><th>vflag_VF</th><th>u_r_err</th><th>g_r_err</th><th>NUV_r_err</th><th>CMD_class</th><th>MPA_index</th><th>sSFR_err</th><th>SFR_err</th></tr></thead>\n",
       "<thead><tr><th>bytes19</th><th>bytes27</th><th>float64</th><th>float64</th><th>int32</th><th>int32</th><th>int32</th><th>int32</th><th>int32</th><th>int32</th><th>float32</th><th>float32</th><th>bytes7</th><th>float32</th><th>int16</th><th>uint8</th><th>int16</th><th>bytes3</th><th>float32</th><th>float32</th><th>int32</th><th>float32</th><th>float32</th><th>float32</th><th>int16</th><th>float32</th><th>float32</th><th>float32</th><th>float32</th><th>float32</th><th>float32</th><th>float32</th><th>float32</th><th>float32</th><th>float32</th><th>float32</th><th>float64</th><th>float64</th><th>uint8</th><th>float32</th><th>float32</th><th>float32</th><th>float32</th><th>float32</th><th>float32</th><th>float32</th><th>float32</th><th>float32</th><th>float32</th><th>float32</th><th>float32</th><th>float32</th><th>float32</th><th>float32</th><th>float32</th><th>float32</th><th>float32</th><th>float32</th><th>float32</th><th>float32</th><th>int32</th><th>int32</th><th>int32</th><th>bytes8</th><th>float32</th><th>float32</th><th>float32</th><th>float32</th><th>float32</th><th>int32</th><th>int16</th><th>int32</th><th>float64</th><th>float64</th><th>float32</th><th>bytes6</th><th>bytes27</th><th>bytes8</th><th>int32</th><th>float64</th><th>float64</th><th>float32</th><th>float32</th><th>float32</th><th>float32</th><th>float32</th><th>float32</th><th>float32</th><th>float32</th><th>float32</th><th>float32</th><th>float32</th><th>float32</th><th>float32</th><th>float32</th><th>float32</th><th>float32</th><th>float32</th><th>int16</th><th>float32</th><th>float32</th><th>float32</th><th>float32</th><th>float32</th><th>float32</th><th>float32</th><th>float32</th><th>float32</th><th>float32</th><th>float64</th><th>float64</th><th>float64</th><th>float64</th><th>int64</th><th>int64</th><th>float64</th><th>float64</th><th>float64</th><th>float64</th><th>float64</th><th>float64</th><th>float64</th><th>float64</th><th>float64</th><th>float64</th><th>float64</th><th>float64</th><th>float64</th><th>float64</th><th>float64</th><th>float64</th><th>float64</th><th>float64</th><th>float64</th><th>float64</th><th>float64</th><th>float64</th><th>float64</th><th>float64</th><th>int64</th><th>int64</th><th>float32</th><th>float32</th><th>float32</th><th>int64</th><th>int64</th><th>float64</th><th>float64</th></tr></thead>\n",
       "<tr><td>J094740.82-001823.2</td><td>09h/m00/J094740.82-001823.2</td><td>146.92012479722956</td><td>-0.3064532793322252</td><td>17</td><td>-1</td><td>-1</td><td>-1</td><td>-1</td><td>-1</td><td>17.967087</td><td>0.13148007</td><td>sdss</td><td>0.029747333</td><td>1239</td><td>3</td><td>177</td><td>301</td><td>1091.6372</td><td>1204.6284</td><td>17</td><td>0.13086501</td><td>2.1577022 .. 276.70654</td><td>3.426386 .. 0.013302846</td><td>1</td><td>2.6688805 .. 289.6642</td><td>-16.44171 .. -21.801031</td><td>13.53227 .. 864.0418</td><td>1.1336411 .. 0.20225033</td><td>-0.062060636 .. 0.027188517</td><td>4.6579027e-17 .. 2.8266888e-07</td><td>0.00027306573 .. 1.2580462</td><td>0.0033911378</td><td>0.0034044331</td><td>0.02135137</td><td>44034036000.0</td><td>89.39474487304688</td><td>89.6252212524414</td><td>8 .. 10</td><td>0.022256153 .. 0.0</td><td>3973.9873 .. 0.0</td><td>0.06025768 .. -0.09083717</td><td>-0.009304956 .. -0.08676116</td><td>0.885064 .. 0.77680796</td><td>-4.3891225 .. -68.15737</td><td>0.3451174 .. 265.25778</td><td>15.075934 .. 0.011757946</td><td>0.11989182 .. 61.61374</td><td>404.96426 .. 0.6917756</td><td>0.7992595</td><td>93.55438</td><td>0.8622902</td><td>100.085144</td><td>0.7595127 .. 238.2974</td><td>28.26544 .. 0.08066476</td><td>2.4321854</td><td>0.708896</td><td>94.4827</td><td>0.49042827 .. -0.06995669</td><td>0.26625526 .. -0.054744303</td><td>0 .. 0</td><td>0</td><td>7</td><td>v2_1_13</td><td>0.22341923 .. 258.39</td><td>6.623578</td><td>3.0591478</td><td>7.259929</td><td>2.8126435</td><td>266</td><td>35</td><td>51630</td><td>146.92011321931344</td><td>-0.30646705367044375</td><td>0.0</td><td>sdss</td><td>legacy</td><td>good</td><td>122</td><td>146.9201</td><td>-0.30646208</td><td>0.8622902</td><td>100.085144</td><td>115.5949</td><td>0.23124667</td><td>7.2914886</td><td>3.0381851</td><td>7.1216707</td><td>7.2914886</td><td>0.2813597 .. 263.7199</td><td>12.003082 .. 0.011133086</td><td>2.056067 .. 3.0953205</td><td>-9999.0 .. 7.32667</td><td>0.9941061</td><td>1.0695356 .. 1.0058593</td><td>1.0188777 .. 1.0057074</td><td>0.7993157 .. 306.2267</td><td>1.4853204 .. 0.005189256</td><td>1</td><td>1.1140809 .. 309.25235</td><td>-15.776497 .. -21.93337</td><td>0.8050227 .. 412.80267</td><td>0.3509086 .. 0.04947036</td><td>6.0386487e-06 .. 4.6543497e-07</td><td>41888700000.0</td><td>0.00042540272 .. 1.0981811</td><td>0.0059977397</td><td>0.10946858</td><td>0.025842542</td><td>1.0</td><td>2.542262077331543</td><td>1.0186020284891129</td><td>4.80614572763443</td><td>181357</td><td>2</td><td>26.62</td><td>-0.112</td><td>0.444</td><td>2.105</td><td>17.033</td><td>5.0</td><td>0.3195730447769165</td><td>-10.664406776428223</td><td>--</td><td>--</td><td>--</td><td>--</td><td>--</td><td>--</td><td>--</td><td>--</td><td>--</td><td>--</td><td>--</td><td>--</td><td>--</td><td>9.13620490261715</td><td>121.86446925759924</td><td>-1.0</td><td>9</td><td>9</td><td>0.22116302</td><td>0.03211703</td><td>0.182615</td><td>1</td><td>519</td><td>0.6905670166015625</td><td>0.6750171780586243</td></tr>\n",
       "</table>"
      ],
      "text/plain": [
       "<Row index=14>\n",
       "      IAUNAME                  SUBDIR                   RA                 DEC         ISDSS  INED ISIXDF IALFALFA IZCAT ITWODF    MAG        Z       ZSRC      SIZE     RUN  CAMCOL FIELD RERUN     XPOS      YPOS   NSAID   ZDIST       SERSIC_NMGY [7]       SERSIC_NMGY_IVAR [7]  SERSIC_OK    SERSIC_RNMGY [7]      SERSIC_ABSMAG [7]     SERSIC_AMIVAR [7]        EXTINCTION [7]         SERSIC_KCORRECT [7]           SERSIC_KCOEFF [5]             SERSIC_MTOL [7]       SERSIC_B300  SERSIC_B1000 SERSIC_METS  SERSIC_MASS         XCEN             YCEN       NPROF [7]  PROFMEAN [15,7]   PROFMEAN_IVAR [15,7]       QSTOKES [15,7]             USTOKES [15,7]          BASTOKES [15,7]         PHISTOKES [15,7]        PETRO_FLUX [7]       PETRO_FLUX_IVAR [7]        FIBER_FLUX [7]      FIBER_FLUX_IVAR [7]   PETRO_BA50 PETRO_PHI50 PETRO_BA90 PETRO_PHI90    SERSIC_FLUX [7]     SERSIC_FLUX_IVAR [7]   SERSIC_N SERSIC_BA SERSIC_PHI       ASYMMETRY [7]               CLUMPY [7]         DFLAGS [7]  AID   PID  DVERSION    PROFTHETA [15]    PETRO_THETA PETRO_TH50 PETRO_TH90 SERSIC_TH50 PLATE FIBERID  MJD        RACAT               DECCAT        ZSDSSLINE SURVEY PROGRAMNAME PLATEQUALITY  TILE PLUG_RA    PLUG_DEC  ELPETRO_BA ELPETRO_PHI ELPETRO_FLUX_R ELPETRO_FLUX_IVAR_R ELPETRO_THETA_R ELPETRO_TH50_R ELPETRO_TH90_R ELPETRO_THETA    ELPETRO_FLUX [7]    ELPETRO_FLUX_IVAR [7]      ELPETRO_TH50 [7]    ELPETRO_TH90 [7]  ELPETRO_APCORR_R   ELPETRO_APCORR [7]   ELPETRO_APCORR_SELF [7]    ELPETRO_NMGY [7]    ELPETRO_NMGY_IVAR [7]   ELPETRO_OK   ELPETRO_RNMGY [7]       ELPETRO_ABSMAG [7]     ELPETRO_AMIVAR [7]     ELPETRO_KCORRECT [7]        ELPETRO_KCOEFF [5]        ELPETRO_MASS      ELPETRO_MTOL [7]      ELPETRO_B300 ELPETRO_B1000 ELPETRO_METS IN_DR7_LSS        u_r               g_r              NUV_r       index   imc    aimc     cd    conx1  u_r_KIAS  prmag  BPTclass        SFR                 sSFR         HImass flag3727    t3   Z12logOH   Zerr  N12logNH  NHerr   logNO   NOerr  Ne12logNeH  NeHerr  logNeO  NeOerr      Z_N2O2            vorvol       V2_depth vflag_V2 vflag_VF  u_r_err    g_r_err   NUV_r_err CMD_class MPA_index      sSFR_err           SFR_err      \n",
       "      bytes19                 bytes27                float64             float64       int32 int32 int32   int32   int32 int32   float32   float32   bytes7   float32   int16 uint8  int16 bytes3  float32   float32  int32  float32          float32                 float32           int16          float32                float32               float32                float32                   float32                      float32                      float32             float32      float32      float32      float32         float64          float64        uint8        float32             float32                 float32                    float32                  float32                 float32                float32                 float32                 float32                float32          float32     float32    float32     float32          float32               float32          float32   float32   float32            float32                   float32             int32    int32 int32  bytes8        float32          float32    float32    float32     float32   int32  int16  int32      float64             float64         float32  bytes6   bytes27      bytes8    int32 float64    float64    float32     float32      float32           float32           float32        float32        float32        float32           float32                float32                 float32             float32           float32             float32                 float32                float32                float32            int16           float32                 float32                float32                 float32                    float32                float32             float32             float32       float32      float32     float64        float64           float64           float64      int64  int64 float64 float64 float64 float64  float64 float64       float64             float64       float64 float64  float64 float64  float64 float64  float64 float64 float64  float64   float64 float64 float64     float64           float64       float64   int64    int64    float32    float32    float32    int64     int64        float64            float64      \n",
       "------------------- --------------------------- ------------------ ------------------- ----- ----- ------ -------- ----- ------ --------- ---------- ------ ----------- ----- ------ ----- ------ --------- --------- ----- ---------- ---------------------- ----------------------- --------- --------------------- ----------------------- -------------------- ----------------------- --------------------------- ------------------------------ -------------------------- ------------ ------------ ----------- ------------- ----------------- ---------------- --------- ------------------ -------------------- ------------------------- --------------------------- ---------------------- ----------------------- ---------------------- ------------------------ ---------------------- ---------------------- ---------- ----------- ---------- ----------- --------------------- ---------------------- --------- --------- ---------- ------------------------- -------------------------- ---------- ----- ----- -------- -------------------- ----------- ---------- ---------- ----------- ----- ------- ----- ------------------ -------------------- --------- ------ ----------- ------------ ----- -------- ----------- ---------- ----------- -------------- ------------------- --------------- -------------- -------------- ------------- --------------------- ------------------------ --------------------- ------------------ ---------------- ---------------------- ----------------------- --------------------- ------------------------ ---------- ---------------------- ----------------------- ---------------------- ----------------------- ------------------------------ ------------- -------------------------- ------------ ------------- ------------ ---------- ----------------- ------------------ ---------------- ------ ----- ------- ------- ------- -------- ------- -------- ------------------ ------------------- ------- -------- ------- -------- ------- -------- ------- ------- ------- ---------- ------- ------- ------- ---------------- ------------------ -------- -------- -------- ---------- ---------- --------- --------- --------- ------------------ ------------------\n",
       "J094740.82-001823.2 09h/m00/J094740.82-001823.2 146.92012479722956 -0.3064532793322252    17    -1     -1       -1    -1     -1 17.967087 0.13148007   sdss 0.029747333  1239      3   177    301 1091.6372 1204.6284    17 0.13086501 2.1577022 .. 276.70654 3.426386 .. 0.013302846         1 2.6688805 .. 289.6642 -16.44171 .. -21.801031 13.53227 .. 864.0418 1.1336411 .. 0.20225033 -0.062060636 .. 0.027188517 4.6579027e-17 .. 2.8266888e-07 0.00027306573 .. 1.2580462 0.0033911378 0.0034044331  0.02135137 44034036000.0 89.39474487304688 89.6252212524414   8 .. 10 0.022256153 .. 0.0     3973.9873 .. 0.0 0.06025768 .. -0.09083717 -0.009304956 .. -0.08676116 0.885064 .. 0.77680796 -4.3891225 .. -68.15737 0.3451174 .. 265.25778 15.075934 .. 0.011757946 0.11989182 .. 61.61374 404.96426 .. 0.6917756  0.7992595    93.55438  0.8622902  100.085144 0.7595127 .. 238.2974 28.26544 .. 0.08066476 2.4321854  0.708896    94.4827 0.49042827 .. -0.06995669 0.26625526 .. -0.054744303     0 .. 0     0     7  v2_1_13 0.22341923 .. 258.39    6.623578  3.0591478   7.259929   2.8126435   266      35 51630 146.92011321931344 -0.30646705367044375       0.0   sdss      legacy         good   122 146.9201 -0.30646208  0.8622902  100.085144       115.5949          0.23124667       7.2914886      3.0381851      7.1216707     7.2914886 0.2813597 .. 263.7199 12.003082 .. 0.011133086 2.056067 .. 3.0953205 -9999.0 .. 7.32667        0.9941061 1.0695356 .. 1.0058593  1.0188777 .. 1.0057074 0.7993157 .. 306.2267 1.4853204 .. 0.005189256          1 1.1140809 .. 309.25235 -15.776497 .. -21.93337 0.8050227 .. 412.80267 0.3509086 .. 0.04947036 6.0386487e-06 .. 4.6543497e-07 41888700000.0 0.00042540272 .. 1.0981811 0.0059977397    0.10946858  0.025842542        1.0 2.542262077331543 1.0186020284891129 4.80614572763443 181357     2   26.62  -0.112   0.444    2.105  17.033      5.0 0.3195730447769165 -10.664406776428223      --       --      --       --      --       --      --      --      --         --      --      --      -- 9.13620490261715 121.86446925759924     -1.0        9        9 0.22116302 0.03211703  0.182615         1       519 0.6905670166015625 0.6750171780586243"
      ]
     },
     "execution_count": 27,
     "metadata": {},
     "output_type": "execute_result"
    }
   ],
   "source": [
    "KIAS[14]"
   ]
  },
  {
   "cell_type": "code",
   "execution_count": 30,
   "metadata": {},
   "outputs": [
    {
     "data": {
      "text/plain": [
       "14"
      ]
     },
     "execution_count": 30,
     "metadata": {},
     "output_type": "execute_result"
    }
   ],
   "source": [
    "kias_dict[17]"
   ]
  },
  {
   "cell_type": "code",
   "execution_count": 33,
   "metadata": {},
   "outputs": [
    {
     "name": "stdout",
     "output_type": "stream",
     "text": [
      "0\n",
      "50\n",
      "100\n",
      "150\n",
      "200\n",
      "250\n",
      "300\n",
      "350\n",
      "400\n",
      "450\n",
      "500\n",
      "550\n",
      "600\n",
      "650\n",
      "700\n",
      "750\n",
      "800\n",
      "850\n",
      "900\n",
      "950\n",
      "1000\n",
      "1050\n",
      "1100\n",
      "1150\n",
      "1200\n",
      "1250\n",
      "1300\n",
      "1350\n",
      "1400\n",
      "1450\n",
      "1500\n",
      "1550\n",
      "1600\n",
      "1650\n",
      "1700\n",
      "1750\n",
      "1800\n",
      "1850\n",
      "1900\n",
      "1950\n",
      "2000\n",
      "2050\n",
      "2100\n",
      "2150\n",
      "2200\n",
      "2250\n",
      "2300\n",
      "2350\n",
      "2400\n",
      "2450\n",
      "2500\n",
      "2550\n",
      "2600\n",
      "2650\n",
      "2700\n",
      "2750\n",
      "2800\n",
      "2850\n",
      "2900\n",
      "2950\n",
      "3000\n",
      "3050\n",
      "3100\n",
      "3150\n",
      "3200\n",
      "3250\n",
      "3300\n",
      "3350\n",
      "3400\n",
      "3450\n",
      "3500\n",
      "3550\n",
      "3600\n",
      "3650\n",
      "3700\n",
      "3750\n",
      "3800\n",
      "3850\n",
      "3900\n",
      "3950\n",
      "4000\n",
      "4050\n",
      "4100\n",
      "4150\n",
      "4200\n",
      "4250\n",
      "4300\n",
      "4350\n",
      "4400\n",
      "4450\n",
      "4500\n",
      "4550\n",
      "4600\n",
      "4650\n",
      "4700\n",
      "4750\n",
      "4800\n",
      "4850\n",
      "4900\n",
      "4950\n",
      "5000\n",
      "5050\n",
      "5100\n",
      "5150\n",
      "5200\n",
      "5250\n",
      "5300\n",
      "5350\n",
      "5400\n",
      "5450\n",
      "5500\n",
      "5550\n",
      "5600\n",
      "5650\n",
      "5700\n",
      "5750\n",
      "5800\n",
      "5850\n",
      "5900\n",
      "5950\n",
      "6000\n",
      "6050\n",
      "6100\n",
      "6150\n",
      "6200\n",
      "6250\n",
      "6300\n",
      "6350\n",
      "6400\n",
      "6450\n",
      "6500\n",
      "6550\n",
      "6600\n",
      "6650\n",
      "6700\n",
      "6750\n",
      "6800\n",
      "6850\n",
      "6900\n",
      "6950\n",
      "7000\n",
      "7050\n",
      "7100\n",
      "7150\n",
      "7200\n",
      "7250\n",
      "7300\n",
      "7350\n",
      "7400\n",
      "7450\n",
      "7500\n",
      "7550\n",
      "7600\n",
      "7650\n",
      "7700\n",
      "7750\n",
      "7800\n",
      "7850\n",
      "7900\n",
      "7950\n",
      "8000\n",
      "8050\n",
      "8100\n",
      "8150\n",
      "8200\n",
      "8250\n",
      "8300\n",
      "8350\n",
      "8400\n",
      "8450\n",
      "8500\n",
      "8550\n",
      "8600\n",
      "8650\n",
      "8700\n",
      "8750\n",
      "8800\n",
      "8850\n",
      "8900\n",
      "8950\n",
      "9000\n",
      "9050\n",
      "9100\n",
      "9150\n",
      "9200\n",
      "9250\n",
      "9300\n",
      "9350\n",
      "9400\n",
      "9450\n",
      "9500\n",
      "9550\n",
      "9600\n",
      "9650\n",
      "9700\n",
      "9750\n",
      "9800\n",
      "9850\n",
      "9900\n",
      "9950\n",
      "10000\n",
      "10050\n",
      "10100\n",
      "10150\n",
      "10200\n",
      "10250\n",
      "10300\n",
      "10350\n",
      "10400\n",
      "10450\n",
      "10500\n",
      "10550\n",
      "10600\n",
      "10650\n",
      "10700\n",
      "10750\n",
      "10800\n",
      "10850\n",
      "10900\n",
      "10950\n",
      "11000\n",
      "11050\n",
      "11100\n",
      "11150\n",
      "11200\n",
      "11250\n"
     ]
    }
   ],
   "source": [
    "for i in range(0, len(master_table)):\n",
    "    \n",
    "    nsaid = master_table['NSA_ID'][i]\n",
    "    \n",
    "    if nsaid >= 0:\n",
    "        i_KIAS = kias_dict[nsaid]\n",
    "        master_table['CMD_class'][i] = KIAS['CMD_class'][i_KIAS]\n",
    "        \n",
    "    if i % 50 == 0:\n",
    "        print(i)"
   ]
  },
  {
   "cell_type": "code",
   "execution_count": 40,
   "metadata": {},
   "outputs": [],
   "source": [
    "master_table['CMD_class'][np.isnan(master_table['CMD_class'])] = -999"
   ]
  },
  {
   "cell_type": "code",
   "execution_count": 42,
   "metadata": {},
   "outputs": [],
   "source": [
    "master_table['MaNGA_sample'][np.isnan(master_table['MaNGA_sample'])] = -999"
   ]
  },
  {
   "cell_type": "code",
   "execution_count": 45,
   "metadata": {},
   "outputs": [],
   "source": [
    "master_table['NSA_RA'][np.isnan(master_table['NSA_RA'])] = -999\n",
    "master_table['NSA_DEC'][np.isnan(master_table['NSA_DEC'])] = -999"
   ]
  },
  {
   "cell_type": "code",
   "execution_count": 50,
   "metadata": {},
   "outputs": [],
   "source": [
    "verr_table_fn = 'H_alpha_HIvel_BB_extinction_H2_R90_v3p5.fits'"
   ]
  },
  {
   "cell_type": "code",
   "execution_count": 53,
   "metadata": {},
   "outputs": [
    {
     "data": {
      "text/html": [
       "<div><i>Table length=4</i>\n",
       "<table id=\"table140461320006864\" class=\"table-striped table-bordered table-condensed\">\n",
       "<thead><tr><th>plate</th><th>ifudsgn</th><th>plateifu</th><th>mangaid</th><th>versdrp2</th><th>versdrp3</th><th>verscore</th><th>versutil</th><th>versprim</th><th>platetyp</th><th>srvymode</th><th>objra</th><th>objdec</th><th>ifuglon</th><th>ifuglat</th><th>ifura</th><th>ifudec</th><th>ebvgal</th><th>nexp</th><th>exptime</th><th>drp3qual</th><th>bluesn2</th><th>redsn2</th><th>harname</th><th>frlplug</th><th>cartid</th><th>designid</th><th>cenra</th><th>cendec</th><th>airmsmin</th><th>airmsmed</th><th>airmsmax</th><th>seemin</th><th>seemed</th><th>seemax</th><th>transmin</th><th>transmed</th><th>transmax</th><th>mjdmin</th><th>mjdmed</th><th>mjdmax</th><th>gfwhm</th><th>rfwhm</th><th>ifwhm</th><th>zfwhm</th><th>mngtarg1</th><th>mngtarg2</th><th>mngtarg3</th><th>catidnum</th><th>plttarg</th><th>manga_tileid</th><th>nsa_iauname</th><th>ifudesignsize</th><th>ifutargetsize</th><th>ifudesignwrongsize</th><th>z</th><th>zmin</th><th>zmax</th><th>szmin</th><th>szmax</th><th>ezmin</th><th>ezmax</th><th>probs</th><th>pweight</th><th>psweight</th><th>psrweight</th><th>sweight</th><th>srweight</th><th>eweight</th><th>esweight</th><th>esrweight</th><th>nsa_field</th><th>nsa_run</th><th>nsa_camcol</th><th>nsa_version</th><th>nsa_nsaid</th><th>nsa_nsaid_v1b</th><th>nsa_z</th><th>nsa_zdist</th><th>nsa_sersic_absmag [7]</th><th>nsa_elpetro_absmag [7]</th><th>nsa_elpetro_amivar [7]</th><th>nsa_sersic_mass</th><th>nsa_elpetro_mass</th><th>nsa_elpetro_ba</th><th>nsa_elpetro_phi</th><th>nsa_extinction [7]</th><th>nsa_elpetro_th50_r</th><th>nsa_petro_th50</th><th>nsa_petro_flux [7]</th><th>nsa_petro_flux_ivar [7]</th><th>nsa_elpetro_flux [7]</th><th>nsa_elpetro_flux_ivar [7]</th><th>nsa_sersic_ba</th><th>nsa_sersic_n</th><th>nsa_sersic_phi</th><th>nsa_sersic_th50</th><th>nsa_sersic_flux [7]</th><th>nsa_sersic_flux_ivar [7]</th><th>smoothness_score</th><th>nsa_elpetro_th90</th><th>v_sys</th><th>v_sys_err</th><th>ba</th><th>ba_err</th><th>x0</th><th>x0_err</th><th>y0</th><th>y0_err</th><th>phi</th><th>phi_err</th><th>v_max</th><th>v_max_err</th><th>r_turn</th><th>r_turn_err</th><th>chi2</th><th>alpha</th><th>alpha_err</th><th>Rmax</th><th>M</th><th>M_err</th><th>fit_flag</th><th>Sigma_disk</th><th>Sigma_disk_err</th><th>R_disk</th><th>R_disk_err</th><th>rho_bulge</th><th>rho_bulge_err</th><th>R_bulge</th><th>R_bulge_err</th><th>M90_disk</th><th>M90_disk_err</th><th>M_disk</th><th>M_disk_err</th><th>chi2_disk</th><th>logHI</th><th>logHIlim</th><th>WF50</th><th>WF50_err</th><th>DL_ttype</th><th>vis_tidal</th><th>b</th><th>b_err</th><th>M_R90</th><th>M_R90_err</th><th>fit_function</th><th>A_g</th><th>A_r</th><th>logH2</th><th>R90_kpc</th><th>v_3p5</th><th>v_3p5_err</th></tr></thead>\n",
       "<thead><tr><th>int64</th><th>bytes32</th><th>bytes32</th><th>bytes32</th><th>bytes32</th><th>bytes32</th><th>bytes32</th><th>bytes32</th><th>bytes32</th><th>bytes32</th><th>bytes32</th><th>float64</th><th>float64</th><th>float64</th><th>float64</th><th>float64</th><th>float64</th><th>float64</th><th>int64</th><th>float64</th><th>int64</th><th>float64</th><th>float64</th><th>bytes53</th><th>int64</th><th>bytes32</th><th>int64</th><th>float64</th><th>float64</th><th>float64</th><th>float64</th><th>float64</th><th>float64</th><th>float64</th><th>float64</th><th>float64</th><th>float64</th><th>float64</th><th>int64</th><th>int64</th><th>int64</th><th>float64</th><th>float64</th><th>float64</th><th>float64</th><th>int64</th><th>int64</th><th>int64</th><th>int64</th><th>bytes32</th><th>int64</th><th>bytes19</th><th>int64</th><th>int64</th><th>int64</th><th>float64</th><th>float64</th><th>float64</th><th>float64</th><th>float64</th><th>float64</th><th>float64</th><th>float64</th><th>float64</th><th>float64</th><th>float64</th><th>float64</th><th>float64</th><th>float64</th><th>float64</th><th>float64</th><th>int64</th><th>int64</th><th>int64</th><th>bytes6</th><th>int64</th><th>int64</th><th>float64</th><th>float64</th><th>float64</th><th>float64</th><th>float64</th><th>float64</th><th>float64</th><th>float64</th><th>float64</th><th>float64</th><th>float64</th><th>float64</th><th>float64</th><th>float64</th><th>float64</th><th>float64</th><th>float64</th><th>float64</th><th>float64</th><th>float64</th><th>float64</th><th>float64</th><th>float64</th><th>float64</th><th>float64</th><th>float64</th><th>float64</th><th>float64</th><th>float64</th><th>float64</th><th>float64</th><th>float64</th><th>float64</th><th>float64</th><th>float64</th><th>float64</th><th>float64</th><th>float64</th><th>float64</th><th>float64</th><th>float64</th><th>float64</th><th>float64</th><th>float64</th><th>float64</th><th>float64</th><th>float64</th><th>float64</th><th>float64</th><th>float64</th><th>float64</th><th>float64</th><th>float64</th><th>float64</th><th>float64</th><th>float64</th><th>float64</th><th>float64</th><th>float64</th><th>float64</th><th>float64</th><th>float64</th><th>float64</th><th>float64</th><th>float64</th><th>float64</th><th>float64</th><th>float64</th><th>float64</th><th>float64</th><th>float64</th><th>float64</th><th>float64</th><th>float64</th><th>float64</th></tr></thead>\n",
       "<tr><td>10001</td><td>12701</td><td>10001-12701</td><td>1-48157</td><td>v3_1_1</td><td>v3_1_1</td><td>v1_9_1</td><td>v5_5_36</td><td>v2_9</td><td>APOGEE-2&amp;MaNGA</td><td>MaNGA dither</td><td>133.371090612</td><td>57.5984251446</td><td>159.27921887</td><td>38.8381829181</td><td>133.37109</td><td>57.598425</td><td>0.0545561</td><td>9</td><td>8100.81</td><td>0</td><td>20.0835</td><td>41.292</td><td>ma079</td><td>22</td><td>3</td><td>9114</td><td>134.41357</td><td>57.604214</td><td>1.10715</td><td>1.15321</td><td>1.21404</td><td>1.78219</td><td>1.85994</td><td>2.12685</td><td>0.898721</td><td>0.929654</td><td>0.937466</td><td>57372</td><td>57373</td><td>57373</td><td>2.69906</td><td>2.64546</td><td>2.59645</td><td>2.54039</td><td>2080</td><td>0</td><td>0</td><td>1</td><td>plateTargets-1.par</td><td>6013</td><td>J085329.03+573554.9</td><td>127</td><td>127</td><td>0</td><td>0.0392074</td><td>0.0193562</td><td>0.0264775</td><td>0.0386959</td><td>0.0429176</td><td>0.0193562</td><td>0.0264775</td><td>0.748562</td><td>-999.0</td><td>0.665321</td><td>0.705378</td><td>1.08789</td><td>1.19925</td><td>-999.0</td><td>0.66562</td><td>0.705713</td><td>203</td><td>1350</td><td>6</td><td>v1_0_1</td><td>51226</td><td>-999</td><td>0.0392074</td><td>0.0395926</td><td>-16.2982 .. -19.5112</td><td>-16.2321 .. -19.5522</td><td>275.541 .. 452.944</td><td>3068010000.0</td><td>2685340000.0</td><td>0.417013</td><td>69.2463</td><td>0.448783 .. 0.0800664</td><td>5.16633</td><td>3.63987</td><td>12.7947 .. 413.049</td><td>3.26768 .. 0.000422625</td><td>13.8306 .. 425.941</td><td>3.03694 .. 0.00496838</td><td>0.335333</td><td>0.741845</td><td>68.2584</td><td>5.29184</td><td>14.8124 .. 412.19</td><td>2.50888 .. 0.0150605</td><td>1.560186343059074</td><td>9.852487564086914</td><td>2.946989472970758</td><td>0.09848277794062997</td><td>0.8525269160441389</td><td>0.004661246847300842</td><td>38.7739389484797</td><td>0.022936739976051144</td><td>37.440940071078124</td><td>0.016138461970098106</td><td>61.88507825188626</td><td>0.07338042747869138</td><td>183.15428191832711</td><td>2.8318738759310786</td><td>2.2299464843830368</td><td>0.006099342053787376</td><td>10.529260284502032</td><td>4.181226771589277</td><td>0.07058094055808059</td><td>6.435441132989916</td><td>11.185428134112588</td><td>10.663096428880776</td><td>1.5</td><td>300.9007693953248</td><td>15.203381761428345</td><td>0.42300918794160963</td><td>0.04332889447409282</td><td>318528356.25649077</td><td>10973819.90888883</td><td>1.1700697820493802</td><td>0.01234311518755433</td><td>10.054323200255043</td><td>8.681101900065409</td><td>10.119328135890797</td><td>8.780959524997495</td><td>471538.3029792875</td><td>10.350040435791016</td><td>-999.0</td><td>309.752973573684</td><td>50.84180796596384</td><td>6.564641952514648</td><td>0.0</td><td>0.0</td><td>0.0</td><td>10.637055736445056</td><td>9.856536145016422</td><td>0.0</td><td>0.18</td><td>0.125</td><td>-999.0</td><td>5.614479609229095</td><td>183.14938552312165</td><td>24.91258446340628</td></tr>\n",
       "<tr><td>10001</td><td>12702</td><td>10001-12702</td><td>1-48188</td><td>v3_1_1</td><td>v3_1_1</td><td>v1_9_1</td><td>v5_5_36</td><td>v2_9</td><td>APOGEE-2&amp;MaNGA</td><td>MaNGA dither</td><td>133.685669869</td><td>57.4802503218</td><td>159.390126911</td><td>39.0253440844</td><td>133.68567</td><td>57.48025</td><td>0.0492053</td><td>9</td><td>8100.81</td><td>0</td><td>20.0835</td><td>41.292</td><td>ma078</td><td>25</td><td>3</td><td>9114</td><td>134.41357</td><td>57.604214</td><td>1.10569</td><td>1.15089</td><td>1.21106</td><td>1.78219</td><td>1.85994</td><td>2.12685</td><td>0.898721</td><td>0.929654</td><td>0.937466</td><td>57372</td><td>57373</td><td>57373</td><td>2.72072</td><td>2.66314</td><td>2.64652</td><td>2.61686</td><td>2080</td><td>0</td><td>0</td><td>1</td><td>plateTargets-1.par</td><td>6013</td><td>J085444.56+572848.8</td><td>127</td><td>217</td><td>0</td><td>0.0408108</td><td>0.0193227</td><td>0.0264533</td><td>0.0386469</td><td>0.042869</td><td>0.0188554</td><td>0.0266531</td><td>0.794785</td><td>-999.0</td><td>0.651037</td><td>0.681893</td><td>1.04947</td><td>1.13205</td><td>-999.0</td><td>0.631507</td><td>0.660498</td><td>35</td><td>3600</td><td>5</td><td>v1_0_1</td><td>51261</td><td>-999</td><td>0.0408108</td><td>0.0411932</td><td>-15.9069 .. -19.6569</td><td>-16.127 .. -19.5493</td><td>206.664 .. 49.3569</td><td>5341650000.0</td><td>4642460000.0</td><td>0.598115</td><td>12.5169</td><td>0.405779 .. 0.072394</td><td>7.01311</td><td>6.11281</td><td>12.4553 .. 396.399</td><td>2.27628 .. 0.000372112</td><td>12.4406 .. 390.985</td><td>2.3517 .. 0.000398299</td><td>0.508217</td><td>1.44272</td><td>12.3759</td><td>8.34906</td><td>10.1128 .. 432.884</td><td>3.38905 .. 0.00964978</td><td>1.5619979358006435</td><td>14.355437278747559</td><td>0.6765359119793715</td><td>0.23419562301556418</td><td>0.6739844282455619</td><td>0.006739656007202572</td><td>36.85326879733403</td><td>0.04204024887591865</td><td>37.98221005537202</td><td>0.05640746039294769</td><td>188.3088174477578</td><td>0.16826186470866497</td><td>194.97775272347383</td><td>6.932242299930594</td><td>0.9585752877878831</td><td>0.07208969706038451</td><td>2.457986344552885</td><td>0.6629820156636723</td><td>0.04575759010348131</td><td>10.492041769351301</td><td>11.292909462167833</td><td>10.847252340042417</td><td>3.5</td><td>293.3478638373148</td><td>10.60192409708804</td><td>0.6790488070059231</td><td>0.05316399052089292</td><td>115971867.9868961</td><td>7747575.084882941</td><td>1.6956282295929506</td><td>0.03670610210595715</td><td>10.124313484194262</td><td>9.034999166941406</td><td>10.177811159857796</td><td>9.124034282826187</td><td>1207886.7459959988</td><td>9.583724021911621</td><td>-999.0</td><td>273.50491644321835</td><td>6.866128229994085</td><td>4.730921268463135</td><td>0.0</td><td>0.0</td><td>0.0</td><td>10.600037009816079</td><td>10.15080355502181</td><td>0.0</td><td>0.163</td><td>0.112</td><td>-999.0</td><td>8.515048082090281</td><td>168.30899596736322</td><td>29.53675151629983</td></tr>\n",
       "<tr><td>10001</td><td>12703</td><td>10001-12703</td><td>1-55648</td><td>v3_1_1</td><td>v3_1_1</td><td>v1_9_1</td><td>v5_5_36</td><td>v2_9</td><td>APOGEE-2&amp;MaNGA</td><td>MaNGA dither</td><td>136.017159969</td><td>57.0923291779</td><td>159.56459216</td><td>40.3368076472</td><td>136.01716</td><td>57.092329</td><td>0.0258626</td><td>9</td><td>8100.81</td><td>0</td><td>19.9086</td><td>40.7596</td><td>ma077</td><td>31</td><td>3</td><td>9114</td><td>134.41357</td><td>57.604214</td><td>1.09975</td><td>1.13824</td><td>1.19323</td><td>1.78219</td><td>1.85994</td><td>2.12685</td><td>0.898721</td><td>0.929654</td><td>0.937466</td><td>57372</td><td>57373</td><td>57373</td><td>2.7262</td><td>2.61384</td><td>2.56576</td><td>2.53132</td><td>2080</td><td>0</td><td>0</td><td>1</td><td>plateTargets-1.par</td><td>6013</td><td>J090404.13+570532.3</td><td>127</td><td>169</td><td>0</td><td>0.0462094</td><td>0.0227277</td><td>0.0296235</td><td>0.0443908</td><td>0.0487145</td><td>0.0222592</td><td>0.03022</td><td>0.55597</td><td>-999.0</td><td>0.570051</td><td>0.643308</td><td>0.979861</td><td>1.21834</td><td>-999.0</td><td>0.534143</td><td>0.597944</td><td>39</td><td>3600</td><td>2</td><td>v1_0_1</td><td>59078</td><td>-999</td><td>0.0462094</td><td>0.046579</td><td>-15.9552 .. -20.5965</td><td>-16.3926 .. -20.4663</td><td>223.74 .. 875.365</td><td>13693500000.0</td><td>9439710000.0</td><td>0.378034</td><td>51.5052</td><td>0.219711 .. 0.0391981</td><td>6.523</td><td>4.87172</td><td>13.8626 .. 635.975</td><td>1.79171 .. 0.00598687</td><td>14.4442 .. 722.823</td><td>1.96905 .. 0.00930865</td><td>0.205749</td><td>2.18084</td><td>51.2808</td><td>8.09139</td><td>9.82225 .. 820.242</td><td>2.79287 .. 0.0443689</td><td>1.1414035570714935</td><td>14.743389129638672</td><td>16.699456893928602</td><td>0.0963277859001372</td><td>0.868911357820688</td><td>0.0007131052643978732</td><td>36.558508375391675</td><td>0.020946818786307338</td><td>35.641571170832165</td><td>0.018071593708941423</td><td>56.79483322166177</td><td>0.08249999450764357</td><td>369.9104377816068</td><td>1.1162754236338</td><td>2.2255004811754473</td><td>0.025995323685563534</td><td>57.98401438954021</td><td>1.0019694161891133</td><td>0.003716146716676395</td><td>10.501250692751151</td><td>11.98875372506019</td><td>11.44150293569664</td><td>2.5</td><td>1201.0759702017704</td><td>23.844360911771343</td><td>0.5494068894426105</td><td>0.02030870938454245</td><td>494628915.16105384</td><td>13753186.951918408</td><td>1.3970129924747783</td><td>0.0114278522601265</td><td>10.546935338970071</td><td>9.081725877664413</td><td>10.558369569453301</td><td>9.103192513387299</td><td>203727.58256011392</td><td>9.775858879089355</td><td>-999.0</td><td>383.131393858277</td><td>32.519186623217024</td><td>4.756507873535156</td><td>0.0</td><td>0.0</td><td>0.0</td><td>11.32307263875663</td><td>10.727979027247507</td><td>0.0</td><td>0.085</td><td>0.059</td><td>-999.0</td><td>9.902006982545116</td><td>347.745404077086</td><td>47.8247202374236</td></tr>\n",
       "<tr><td>10001</td><td>12704</td><td>10001-12704</td><td>1-55616</td><td>v3_1_1</td><td>v3_1_1</td><td>v1_9_1</td><td>v5_5_36</td><td>v2_9</td><td>APOGEE-2&amp;MaNGA</td><td>MaNGA dither</td><td>133.989966869</td><td>57.6779676669</td><td>159.101196491</td><td>39.1494998661</td><td>133.98997</td><td>57.677968</td><td>0.0476794</td><td>9</td><td>8100.81</td><td>64</td><td>19.9086</td><td>40.7596</td><td>ma076</td><td>34</td><td>3</td><td>9114</td><td>134.41357</td><td>57.604214</td><td>1.10705</td><td>1.15123</td><td>1.21051</td><td>1.78219</td><td>1.85994</td><td>2.12685</td><td>0.898721</td><td>0.929654</td><td>0.937466</td><td>57372</td><td>57373</td><td>57373</td><td>2.6788</td><td>2.58733</td><td>2.52311</td><td>2.47903</td><td>4160</td><td>0</td><td>0</td><td>1</td><td>plateTargets-1.par</td><td>6013</td><td>J085557.56+574040.6</td><td>127</td><td>397</td><td>0</td><td>0.0141215</td><td>0.0183756</td><td>0.0258019</td><td>0.037294</td><td>0.0415338</td><td>0.0141373</td><td>0.0310467</td><td>0.67973</td><td>-999.0</td><td>-999.0</td><td>-999.0</td><td>-999.0</td><td>-999.0</td><td>0.716568</td><td>0.45291</td><td>0.474847</td><td>36</td><td>3600</td><td>5</td><td>v1_0_1</td><td>59044</td><td>-999</td><td>0.0141215</td><td>0.0145852</td><td>-14.2399 .. -19.4321</td><td>-14.2982 .. -19.3602</td><td>262.464 .. 794.079</td><td>4286640000.0</td><td>4218380000.0</td><td>0.212315</td><td>81.0961</td><td>0.388503 .. 0.0693118</td><td>16.0734</td><td>11.44</td><td>18.0685 .. 2387.32</td><td>0.731053 .. 1.94195e-05</td><td>18.855 .. 2747.21</td><td>1.50036 .. 0.000434694</td><td>0.15</td><td>0.869326</td><td>81.2193</td><td>18.2816</td><td>17.8616 .. 2923.9</td><td>2.16404 .. 0.00123046</td><td>1.2909390780165348</td><td>33.156402587890625</td><td>-2.634762784476005</td><td>0.09187106750706249</td><td>0.4055339772671592</td><td>0.0006001633102882991</td><td>36.43376557407452</td><td>0.01858300451194395</td><td>38.139029680496584</td><td>0.02222913860579567</td><td>85.11107958400636</td><td>0.057813166931291814</td><td>122.48415062258817</td><td>0.3994965769481449</td><td>2.016120495793798</td><td>0.004139169135295307</td><td>22.622761000584767</td><td>3.9043682508897124</td><td>0.08876432226865019</td><td>5.708876239096034</td><td>10.919496867791567</td><td>10.33626744461852</td><td>3.5</td><td>589.741380235529</td><td>13.146010279176876</td><td>0.16832394280031962</td><td>0.004839248890317191</td><td>541588696.96986</td><td>5004394.585211396</td><td>0.8480244916060672</td><td>0.0027159735332440583</td><td>9.918768524805014</td><td>8.032310918758885</td><td>9.924592856288296</td><td>8.044620557122625</td><td>265311.1920361342</td><td>9.239542007446289</td><td>-999.0</td><td>292.93732389433455</td><td>4.826130375197129</td><td>4.773223400115967</td><td>0.0</td><td>0.0</td><td>0.0</td><td>10.37352631137793</td><td>9.51492042443341</td><td>0.0</td><td>0.157</td><td>0.109</td><td>-999.0</td><td>6.80524567314194</td><td>122.48211130453265</td><td>14.72299702222846</td></tr>\n",
       "</table></div>"
      ],
      "text/plain": [
       "<Table length=4>\n",
       "plate ifudsgn   plateifu  ...       v_3p5            v_3p5_err    \n",
       "int64 bytes32   bytes32   ...      float64            float64     \n",
       "----- ------- ----------- ... ------------------ -----------------\n",
       "10001   12701 10001-12701 ... 183.14938552312165 24.91258446340628\n",
       "10001   12702 10001-12702 ... 168.30899596736322 29.53675151629983\n",
       "10001   12703 10001-12703 ...   347.745404077086  47.8247202374236\n",
       "10001   12704 10001-12704 ... 122.48211130453265 14.72299702222846"
      ]
     },
     "execution_count": 53,
     "metadata": {},
     "output_type": "execute_result"
    }
   ],
   "source": [
    "verr_table = Table.read(verr_table_fn, format='fits')\n",
    "verr_table[0:4]"
   ]
  },
  {
   "cell_type": "code",
   "execution_count": 54,
   "metadata": {},
   "outputs": [],
   "source": [
    "master_table['v_3p5'] = verr_table['v_3p5']\n",
    "master_table['v_3p5_err'] = verr_table['v_3p5_err']"
   ]
  },
  {
   "cell_type": "code",
   "execution_count": 55,
   "metadata": {},
   "outputs": [],
   "source": [
    "master_table['v_3p5'][np.isnan(master_table['v_3p5'])] = -999\n",
    "master_table['v_3p5_err'][np.isnan(master_table['v_3p5_err'])] = -999"
   ]
  },
  {
   "cell_type": "code",
   "execution_count": 57,
   "metadata": {},
   "outputs": [],
   "source": [
    "master_table.write('master_table_H_alpha_BB_HI_H2_R90_CMD.fits', format='fits', overwrite=True)"
   ]
  },
  {
   "cell_type": "code",
   "execution_count": 58,
   "metadata": {},
   "outputs": [],
   "source": [
    "master_table.write('master_table_H_alpha_BB_HI_H2_R90_CMD.txt', format='ascii.commented_header', overwrite=True)"
   ]
  },
  {
   "cell_type": "code",
   "execution_count": 59,
   "metadata": {},
   "outputs": [
    {
     "data": {
      "text/html": [
       "<div><i>Table length=11273</i>\n",
       "<table id=\"table140461577208720\" class=\"table-striped table-bordered table-condensed\">\n",
       "<thead><tr><th>MaNGA_plate</th><th>MaNGA_IFU</th><th>NSA_plate</th><th>NSA_fiberID</th><th>NSA_MJD</th><th>NSA_index</th><th>NSA_ID</th><th>NSA_RA</th><th>NSA_DEC</th><th>NSA_ba</th><th>NSA_phi</th><th>NSA_redshift</th><th>NSA_Mstar</th><th>smoothness_score</th><th>ba_map</th><th>ba_err_map</th><th>phi_map</th><th>phi_err_map</th><th>Vsys_map</th><th>Vsys_err_map</th><th>x0_map</th><th>x0_err_map</th><th>y0_map</th><th>y0_err_map</th><th>Vmax_map</th><th>Vmax_err_map</th><th>alpha_map</th><th>alpha_err_map</th><th>Rturn_map</th><th>Rturn_err_map</th><th>M90_map</th><th>M90_err_map</th><th>M3p5_map</th><th>M3p5_err_map</th><th>rho_bulge_map</th><th>rho_bulge_err_map</th><th>R_bulge_map</th><th>R_bulge_err_map</th><th>M90_disk_map</th><th>M90_disk_err_map</th><th>M3p5_disk_map</th><th>M3p5_disk_err_map</th><th>NSA_elpetro_th90</th><th>chi2_map</th><th>chi2_disk_map</th><th>logHI</th><th>logHI200kms</th><th>WF50</th><th>WF50_err</th><th>map_fit_flag</th><th>DL_ttype</th><th>rabsmag_NSA</th><th>logH2</th><th>R90_kpc</th><th>MaNGA_sample</th><th>CMD_class</th><th>v_3p5</th><th>v_3p5_err</th></tr></thead>\n",
       "<thead><tr><th>int64</th><th>int64</th><th>int64</th><th>int64</th><th>int64</th><th>int64</th><th>int64</th><th>float64</th><th>float64</th><th>float64</th><th>float64</th><th>float64</th><th>float64</th><th>float64</th><th>float64</th><th>float64</th><th>float64</th><th>float64</th><th>float64</th><th>float64</th><th>float64</th><th>float64</th><th>float64</th><th>float64</th><th>float64</th><th>float64</th><th>float64</th><th>float64</th><th>float64</th><th>float64</th><th>float64</th><th>float64</th><th>float64</th><th>float64</th><th>float64</th><th>float64</th><th>float64</th><th>float64</th><th>float64</th><th>float64</th><th>float64</th><th>float64</th><th>float64</th><th>float64</th><th>float64</th><th>float64</th><th>float64</th><th>float64</th><th>float64</th><th>float64</th><th>float64</th><th>float64</th><th>float64</th><th>float64</th><th>float64</th><th>float64</th><th>float64</th><th>float64</th></tr></thead>\n",
       "<tr><td>10001</td><td>12701</td><td>448</td><td>450</td><td>51900</td><td>48157</td><td>51226</td><td>133.3710906116639</td><td>57.59842514455842</td><td>0.417013</td><td>69.2463</td><td>0.0392074</td><td>2685340000.0</td><td>1.560186343059074</td><td>0.8525269160441389</td><td>0.004661246847300842</td><td>61.88507825188626</td><td>0.07338042747869138</td><td>2.946989472970758</td><td>0.09848277794062997</td><td>38.7739389484797</td><td>0.022936739976051144</td><td>37.440940071078124</td><td>0.016138461970098106</td><td>183.15428191832711</td><td>2.8318738759310786</td><td>4.181226771589277</td><td>0.07058094055808059</td><td>2.2299464843830368</td><td>0.006099342053787376</td><td>10.637055736445056</td><td>9.856536145016422</td><td>11.185428134112588</td><td>10.663096428880776</td><td>318528356.25649077</td><td>10973819.90888883</td><td>1.1700697820493802</td><td>0.01234311518755433</td><td>10.054323200255043</td><td>8.681101900065409</td><td>10.119328135890797</td><td>8.780959524997495</td><td>9.852487564086914</td><td>10.529260284502032</td><td>10.529260284502032</td><td>10.350040435791016</td><td>-999.0</td><td>309.752973573684</td><td>50.84180796596384</td><td>1.5</td><td>6.564641952514648</td><td>-19.2112</td><td>-999.0</td><td>5.614479609229095</td><td>2.0</td><td>1.0</td><td>183.14938552312165</td><td>24.91258446340628</td></tr>\n",
       "<tr><td>10001</td><td>12702</td><td>448</td><td>524</td><td>51900</td><td>48188</td><td>51261</td><td>133.68566986867248</td><td>57.48025032183927</td><td>0.598115</td><td>12.5169</td><td>0.0408108</td><td>4642460000.0</td><td>1.5619979358006435</td><td>0.6739844282455619</td><td>0.006739656007202572</td><td>188.3088174477578</td><td>0.16826186470866497</td><td>0.6765359119793715</td><td>0.23419562301556418</td><td>36.85326879733403</td><td>0.04204024887591865</td><td>37.98221005537202</td><td>0.05640746039294769</td><td>194.97775272347383</td><td>6.932242299930594</td><td>0.6629820156636723</td><td>0.04575759010348131</td><td>0.9585752877878831</td><td>0.07208969706038451</td><td>10.600037009816079</td><td>10.15080355502181</td><td>11.292909462167833</td><td>10.847252340042417</td><td>115971867.9868961</td><td>7747575.084882941</td><td>1.6956282295929506</td><td>0.03670610210595715</td><td>10.124313484194262</td><td>9.034999166941406</td><td>10.177811159857796</td><td>9.124034282826187</td><td>14.355437278747559</td><td>2.457986344552885</td><td>2.457986344552885</td><td>9.583724021911621</td><td>-999.0</td><td>273.50491644321835</td><td>6.866128229994085</td><td>3.5</td><td>4.730921268463135</td><td>-19.0722</td><td>-999.0</td><td>8.515048082090281</td><td>2.0</td><td>2.0</td><td>168.30899596736322</td><td>29.53675151629983</td></tr>\n",
       "<tr><td>10001</td><td>12703</td><td>483</td><td>535</td><td>51924</td><td>55648</td><td>59078</td><td>136.01715996919202</td><td>57.09232917791099</td><td>0.378034</td><td>51.5052</td><td>0.0462094</td><td>9439710000.0</td><td>1.1414035570714935</td><td>0.868911357820688</td><td>0.0007131052643978732</td><td>56.79483322166177</td><td>0.08249999450764357</td><td>16.699456893928602</td><td>0.0963277859001372</td><td>36.558508375391675</td><td>0.020946818786307338</td><td>35.641571170832165</td><td>0.018071593708941423</td><td>369.9104377816068</td><td>1.1162754236338</td><td>1.0019694161891133</td><td>0.003716146716676395</td><td>2.2255004811754473</td><td>0.025995323685563534</td><td>11.32307263875663</td><td>10.727979027247507</td><td>11.98875372506019</td><td>11.44150293569664</td><td>494628915.16105384</td><td>13753186.951918408</td><td>1.3970129924747783</td><td>0.0114278522601265</td><td>10.546935338970071</td><td>9.081725877664413</td><td>10.558369569453301</td><td>9.103192513387299</td><td>14.743389129638672</td><td>57.98401438954021</td><td>57.98401438954021</td><td>9.775858879089355</td><td>-999.0</td><td>383.131393858277</td><td>32.519186623217024</td><td>2.5</td><td>4.756507873535156</td><td>-19.9387</td><td>-999.0</td><td>9.902006982545116</td><td>2.0</td><td>1.0</td><td>347.745404077086</td><td>47.8247202374236</td></tr>\n",
       "<tr><td>10001</td><td>12704</td><td>483</td><td>456</td><td>51924</td><td>55616</td><td>59044</td><td>133.98996686918764</td><td>57.677967666915094</td><td>0.212315</td><td>81.0961</td><td>0.0141215</td><td>4218380000.0</td><td>1.2909390780165348</td><td>0.4055339772671592</td><td>0.0006001633102882991</td><td>85.11107958400636</td><td>0.057813166931291814</td><td>-2.634762784476005</td><td>0.09187106750706249</td><td>36.43376557407452</td><td>0.01858300451194395</td><td>38.139029680496584</td><td>0.02222913860579567</td><td>122.48415062258817</td><td>0.3994965769481449</td><td>3.9043682508897124</td><td>0.08876432226865019</td><td>2.016120495793798</td><td>0.004139169135295307</td><td>10.37352631137793</td><td>9.51492042443341</td><td>10.919496867791567</td><td>10.33626744461852</td><td>541588696.96986</td><td>5004394.585211396</td><td>0.8480244916060672</td><td>0.0027159735332440583</td><td>9.918768524805014</td><td>8.032310918758885</td><td>9.924592856288296</td><td>8.044620557122625</td><td>33.156402587890625</td><td>22.622761000584767</td><td>22.622761000584767</td><td>9.239542007446289</td><td>-999.0</td><td>292.93732389433455</td><td>4.826130375197129</td><td>3.5</td><td>4.773223400115967</td><td>-18.7303</td><td>-999.0</td><td>6.80524567314194</td><td>3.0</td><td>-99.0</td><td>122.48211130453265</td><td>14.72299702222846</td></tr>\n",
       "<tr><td>10001</td><td>12705</td><td>484</td><td>281</td><td>51907</td><td>55784</td><td>59219</td><td>136.7513745097166</td><td>57.45143692411711</td><td>0.541128</td><td>132.903</td><td>0.0462349</td><td>9651730000.0</td><td>1.116217114299689</td><td>0.9497052971746266</td><td>0.0007072587113618216</td><td>301.8849973850022</td><td>0.03844968008047375</td><td>-8.559958473756444</td><td>0.07498428303186003</td><td>36.80000403333341</td><td>0.011457654590714562</td><td>37.926953271029255</td><td>0.01071175343699258</td><td>576.8959287841191</td><td>3.9366078252233434</td><td>1.0207175658745684</td><td>0.009951905349191898</td><td>1.929803966282252</td><td>0.011467226401374831</td><td>11.635990412349255</td><td>10.81301448064697</td><td>12.301076709360334</td><td>11.549619822177911</td><td>417122595.5683198</td><td>11888416.927521065</td><td>1.4122833591643253</td><td>0.012338668467583646</td><td>10.47990656722755</td><td>9.012954266113937</td><td>10.507483607381268</td><td>9.0620649533384</td><td>12.379983901977539</td><td>38.76054951559863</td><td>38.76054951559863</td><td>9.864717483520508</td><td>-999.0</td><td>429.8801805090781</td><td>67.64509032547672</td><td>0.5</td><td>4.76101016998291</td><td>-20.2512</td><td>-999.0</td><td>8.319276770107702</td><td>2.0</td><td>1.0</td><td>543.5527785584017</td><td>50.98015669144624</td></tr>\n",
       "<tr><td>10001</td><td>1901</td><td>483</td><td>220</td><td>51924</td><td>55567</td><td>58994</td><td>133.3300280089807</td><td>57.04115537077163</td><td>0.532468</td><td>92.5268</td><td>0.0257497</td><td>1378800000.0</td><td>1.2054986454566976</td><td>0.8551121038690792</td><td>0.003564327341511937</td><td>277.85087159012426</td><td>0.24931717867660336</td><td>-0.03433457807697139</td><td>0.587896585164577</td><td>16.820596317477364</td><td>0.07107260082268141</td><td>16.98710987388809</td><td>0.043540493061579255</td><td>146.8385573119916</td><td>1.7159805685225533</td><td>9.886637568039838</td><td>0.8899642017946018</td><td>0.9812465213304451</td><td>0.010902926169170971</td><td>10.029728499104738</td><td>9.289068572860335</td><td>10.573836655416985</td><td>10.071368934304115</td><td>658469.9933385629</td><td>2251305.8607102907</td><td>98.19665861795625</td><td>7823.438218080771</td><td>9.554971850561376</td><td>8.263547250832534</td><td>9.728325661681072</td><td>9.791503106878459</td><td>5.707961082458496</td><td>5.384675941053368</td><td>5.384675941053368</td><td>-999.0</td><td>8.94516658782959</td><td>-999.0</td><td>-999.0</td><td>1.5</td><td>1.6820045709609985</td><td>-17.4637</td><td>-999.0</td><td>2.1362336256545142</td><td>3.0</td><td>-99.0</td><td>146.83855728365265</td><td>22.974448652982666</td></tr>\n",
       "<tr><td>10001</td><td>1902</td><td>448</td><td>542</td><td>51900</td><td>48201</td><td>51274</td><td>134.19392335201022</td><td>56.78674699883484</td><td>0.839959</td><td>153.782</td><td>0.0253909</td><td>11365900000.0</td><td>2.901467556423611</td><td>-999.0</td><td>-999.0</td><td>-999.0</td><td>-999.0</td><td>-999.0</td><td>-999.0</td><td>-999.0</td><td>-999.0</td><td>-999.0</td><td>-999.0</td><td>-999.0</td><td>-999.0</td><td>-999.0</td><td>-999.0</td><td>-999.0</td><td>-999.0</td><td>-999.0</td><td>-999.0</td><td>-999.0</td><td>-999.0</td><td>40326008.65186796</td><td>253624001.001724</td><td>46.98239413093261</td><td>5885.902626292272</td><td>10.594006040515394</td><td>11.25968148416235</td><td>11.777378468567452</td><td>13.276639406448886</td><td>12.705109596252441</td><td>-999.0</td><td>-999.0</td><td>-999.0</td><td>8.865785598754883</td><td>-999.0</td><td>-999.0</td><td>-999.0</td><td>0.021545112133026123</td><td>-19.7595</td><td>-999.0</td><td>4.688696061025609</td><td>1.0</td><td>3.0</td><td>-999.0</td><td>-999.0</td></tr>\n",
       "<tr><td>10001</td><td>3701</td><td>448</td><td>365</td><td>51900</td><td>48111</td><td>51179</td><td>132.46564676505207</td><td>57.14372790241855</td><td>0.907966</td><td>177.501</td><td>0.0394191</td><td>5164150000.0</td><td>-999.0</td><td>-999.0</td><td>-999.0</td><td>-999.0</td><td>-999.0</td><td>-999.0</td><td>-999.0</td><td>-999.0</td><td>-999.0</td><td>-999.0</td><td>-999.0</td><td>-999.0</td><td>-999.0</td><td>-999.0</td><td>-999.0</td><td>-999.0</td><td>-999.0</td><td>-999.0</td><td>-999.0</td><td>-999.0</td><td>-999.0</td><td>198824469.65162137</td><td>197129419.85540995</td><td>1.1627527508165183</td><td>0.3537447597826135</td><td>10.173519595699522</td><td>9.544990495811586</td><td>10.314561186301773</td><td>10.015467424189602</td><td>-999.0</td><td>-999.0</td><td>-999.0</td><td>-999.0</td><td>9.25123119354248</td><td>-999.0</td><td>-999.0</td><td>-999.0</td><td>-1.1476022005081177</td><td>-18.9117</td><td>-999.0</td><td>-999.0</td><td>2.0</td><td>3.0</td><td>-999.0</td><td>-999.0</td></tr>\n",
       "<tr><td>10001</td><td>3702</td><td>448</td><td>414</td><td>51900</td><td>48136</td><td>51205</td><td>132.91276824299706</td><td>57.107423556773426</td><td>0.948903</td><td>138.512</td><td>0.0256063</td><td>7120350000.0</td><td>1.4364336310030654</td><td>0.9977952755833552</td><td>0.00032507247704009805</td><td>131.9780707101533</td><td>0.13323144471176138</td><td>0.5355698374151958</td><td>0.09486161282985876</td><td>22.69926530857051</td><td>0.03543429236308005</td><td>21.842596263878455</td><td>0.03400451290841465</td><td>327.95979961610425</td><td>24.149346834122127</td><td>8.269559229259357</td><td>0.5447774062966564</td><td>0.7975307272391542</td><td>0.005365741884101756</td><td>11.091468366898619</td><td>10.397539498361633</td><td>11.63553644782294</td><td>11.181855998811569</td><td>442975839.2614335</td><td>650556128.0702031</td><td>0.9793996211100631</td><td>0.5463551051699264</td><td>10.187397628057635</td><td>10.273914213997061</td><td>10.221858267793396</td><td>10.368271823196594</td><td>13.263102531433105</td><td>5.911274881618843</td><td>5.911274881618843</td><td>-999.0</td><td>8.947139739990234</td><td>-999.0</td><td>-999.0</td><td>3.5</td><td>0.09041932225227356</td><td>-19.4337</td><td>8.77132441413365</td><td>4.936140657980654</td><td>1.0</td><td>2.0</td><td>327.9597996157472</td><td>58.52773289439171</td></tr>\n",
       "<tr><td>10001</td><td>3703</td><td>483</td><td>441</td><td>51924</td><td>55612</td><td>59040</td><td>134.5914989461959</td><td>57.68496532618204</td><td>0.610528</td><td>169.053</td><td>0.0405528</td><td>3108960000.0</td><td>0.8464522553718801</td><td>0.7377862436422706</td><td>0.00583754620312789</td><td>347.2655566719979</td><td>0.09690811656434264</td><td>5.1325075915864</td><td>0.20430290535436632</td><td>22.10451522201103</td><td>0.016817246639048086</td><td>21.48986517952336</td><td>0.03463288069179958</td><td>188.27724188398483</td><td>2.103035222313516</td><td>3.267567081049244</td><td>0.0762254602751253</td><td>2.3626749211952283</td><td>0.010622762866378243</td><td>10.46223926195032</td><td>9.716764181306537</td><td>11.052108437015512</td><td>10.536282949006209</td><td>1319811434.81165</td><td>1750184802.8768334</td><td>0.6935415285306981</td><td>0.20323738787089146</td><td>10.095863516472278</td><td>10.200128823299702</td><td>10.12617580842941</td><td>10.250263766384244</td><td>6.644127368927002</td><td>9.049264300230107</td><td>9.049264300230107</td><td>-999.0</td><td>9.339608192443848</td><td>-999.0</td><td>-999.0</td><td>0.5</td><td>2.792056083679199</td><td>-18.7373</td><td>-999.0</td><td>3.9161053362796108</td><td>2.0</td><td>-99.0</td><td>188.09324123684044</td><td>27.322259601849403</td></tr>\n",
       "<tr><td>...</td><td>...</td><td>...</td><td>...</td><td>...</td><td>...</td><td>...</td><td>...</td><td>...</td><td>...</td><td>...</td><td>...</td><td>...</td><td>...</td><td>...</td><td>...</td><td>...</td><td>...</td><td>...</td><td>...</td><td>...</td><td>...</td><td>...</td><td>...</td><td>...</td><td>...</td><td>...</td><td>...</td><td>...</td><td>...</td><td>...</td><td>...</td><td>...</td><td>...</td><td>...</td><td>...</td><td>...</td><td>...</td><td>...</td><td>...</td><td>...</td><td>...</td><td>...</td><td>...</td><td>...</td><td>...</td><td>...</td><td>...</td><td>...</td><td>...</td><td>...</td><td>...</td><td>...</td><td>...</td><td>...</td><td>...</td><td>...</td><td>...</td></tr>\n",
       "<tr><td>9894</td><td>3701</td><td>1569</td><td>315</td><td>53168</td><td>294356</td><td>311399</td><td>250.68114339551937</td><td>20.363226573353387</td><td>0.477112</td><td>23.3593</td><td>0.0232843</td><td>13469500000.0</td><td>1.2284519706497887</td><td>0.6270388639817868</td><td>0.006234379398158807</td><td>204.03194081233283</td><td>0.19110852714929571</td><td>-9.098581439007932</td><td>0.35399734571422453</td><td>22.69306991822004</td><td>0.025995449468704707</td><td>22.138176718471552</td><td>0.033358500723071206</td><td>202.6477892284282</td><td>2.756031710218897</td><td>1.4654731109786665</td><td>0.05661160873604152</td><td>0.7685961724653013</td><td>0.014446639103154373</td><td>10.581052457518279</td><td>9.820080727661654</td><td>11.161898051554374</td><td>10.611533986214976</td><td>11065823177.458866</td><td>740260254.5809968</td><td>0.5218140825764006</td><td>0.009674271831568203</td><td>10.655598386212116</td><td>9.53373436436431</td><td>10.659202881552034</td><td>9.541514981260175</td><td>13.052409172058105</td><td>6.217515378224066</td><td>6.217515378224066</td><td>-999.0</td><td>8.819275856018066</td><td>-999.0</td><td>-999.0</td><td>3.5</td><td>0.34328705072402954</td><td>-19.8422</td><td>-999.0</td><td>4.4172241337047335</td><td>1.0</td><td>-99.0</td><td>200.96501482778473</td><td>28.575915002982388</td></tr>\n",
       "<tr><td>9894</td><td>3702</td><td>1570</td><td>551</td><td>53149</td><td>294376</td><td>311420</td><td>251.2350326777564</td><td>21.77525688341615</td><td>0.564483</td><td>9.36792</td><td>0.0312239</td><td>14779900000.0</td><td>0.564601061815884</td><td>0.6171849523859114</td><td>0.0010873934202881852</td><td>10.494685926491195</td><td>0.030173933829294976</td><td>10.593696138354842</td><td>0.09871816870607275</td><td>21.777370895308902</td><td>0.01431316050895307</td><td>22.562316766778284</td><td>0.008879482834338282</td><td>195.4317817746642</td><td>0.3237635843790937</td><td>1.997835627898128</td><td>0.02406486416611582</td><td>1.3658284569128476</td><td>0.009408796736885905</td><td>10.678956173046725</td><td>9.892005417153726</td><td>11.245415337074773</td><td>10.670352648548763</td><td>1012698119.8440671</td><td>73751250.96608187</td><td>1.0432646951564406</td><td>0.02740442277218652</td><td>10.459522613034457</td><td>9.423553851592606</td><td>10.497611149270224</td><td>9.494087991538668</td><td>12.533947944641113</td><td>30.409574184364715</td><td>30.409574184364715</td><td>9.672205924987793</td><td>-999.0</td><td>377.0152647830218</td><td>7.536419467662554</td><td>2.5</td><td>3.838649272918701</td><td>-20.2021</td><td>-999.0</td><td>5.68814428756309</td><td>3.0</td><td>2.0</td><td>194.9703262937354</td><td>24.902286693367998</td></tr>\n",
       "<tr><td>9894</td><td>3703</td><td>1569</td><td>246</td><td>53168</td><td>294332</td><td>311374</td><td>251.1281903007863</td><td>19.940763041825303</td><td>0.860733</td><td>147.692</td><td>0.0229775</td><td>11761000000.0</td><td>-999.0</td><td>-999.0</td><td>-999.0</td><td>-999.0</td><td>-999.0</td><td>-999.0</td><td>-999.0</td><td>-999.0</td><td>-999.0</td><td>-999.0</td><td>-999.0</td><td>-999.0</td><td>-999.0</td><td>-999.0</td><td>-999.0</td><td>-999.0</td><td>-999.0</td><td>-999.0</td><td>-999.0</td><td>-999.0</td><td>-999.0</td><td>1145309086.4137936</td><td>1716885044.6197805</td><td>0.9078992900885559</td><td>0.4804822941130696</td><td>10.566892286288821</td><td>10.590435553781663</td><td>10.59404315522276</td><td>10.673933940609649</td><td>-999.0</td><td>-999.0</td><td>-999.0</td><td>9.355055809020996</td><td>-999.0</td><td>274.654433381935</td><td>78.89613682191995</td><td>-999.0</td><td>-1.511540174484253</td><td>-20.0012</td><td>-999.0</td><td>-999.0</td><td>1.0</td><td>2.0</td><td>-999.0</td><td>-999.0</td></tr>\n",
       "<tr><td>9894</td><td>3704</td><td>1568</td><td>371</td><td>53169</td><td>294189</td><td>311218</td><td>252.72549893416863</td><td>20.52293931918067</td><td>0.779598</td><td>77.7282</td><td>0.0550603</td><td>26433400000.0</td><td>-999.0</td><td>-999.0</td><td>-999.0</td><td>-999.0</td><td>-999.0</td><td>-999.0</td><td>-999.0</td><td>-999.0</td><td>-999.0</td><td>-999.0</td><td>-999.0</td><td>-999.0</td><td>-999.0</td><td>-999.0</td><td>-999.0</td><td>-999.0</td><td>-999.0</td><td>-999.0</td><td>-999.0</td><td>-999.0</td><td>-999.0</td><td>1287362437.6152523</td><td>218923443.60761517</td><td>1.2822037247811287</td><td>0.060709900229937136</td><td>10.936341783652178</td><td>10.126727855680787</td><td>10.963725113965852</td><td>10.183481529551786</td><td>-999.0</td><td>-999.0</td><td>-999.0</td><td>-999.0</td><td>-999.0</td><td>-999.0</td><td>-999.0</td><td>-999.0</td><td>-2.3530690670013428</td><td>-20.7091</td><td>-999.0</td><td>-999.0</td><td>2.0</td><td>3.0</td><td>-999.0</td><td>-999.0</td></tr>\n",
       "<tr><td>9894</td><td>6101</td><td>1569</td><td>308</td><td>53168</td><td>294355</td><td>311398</td><td>250.4247552299957</td><td>20.07941710402263</td><td>0.701425</td><td>144.461</td><td>0.0604006</td><td>26557100000.0</td><td>1.2218607567231607</td><td>0.8610380272063718</td><td>0.0006236667829629429</td><td>156.14864657251246</td><td>0.05265018668482702</td><td>-37.379628681789825</td><td>0.12127751569767048</td><td>27.665495152200464</td><td>0.006735954028439803</td><td>27.483344390732004</td><td>0.009759731978395815</td><td>317.65613267430064</td><td>0.6772111819193607</td><td>3.9131403172473482</td><td>0.03985100810940979</td><td>1.336496008740551</td><td>0.006547115871551679</td><td>11.301003703868206</td><td>10.646695647812704</td><td>11.845227867449609</td><td>11.441708064824091</td><td>120134051.937823</td><td>92797464.72073455</td><td>2.31699907591899</td><td>0.5494202433442881</td><td>10.827274385675969</td><td>10.398969536405586</td><td>10.893649792520124</td><td>10.598936134261326</td><td>9.713372230529785</td><td>28.593172017978365</td><td>28.593172017978365</td><td>-999.0</td><td>-999.0</td><td>-999.0</td><td>-999.0</td><td>2.5</td><td>2.6373136043548584</td><td>-20.844</td><td>-999.0</td><td>8.527207961929609</td><td>2.0</td><td>2.0</td><td>317.6557051437935</td><td>62.00251190005114</td></tr>\n",
       "<tr><td>9894</td><td>6102</td><td>1568</td><td>319</td><td>53169</td><td>294166</td><td>311194</td><td>251.74110750466537</td><td>19.67099399885814</td><td>0.880851</td><td>140.534</td><td>0.0230133</td><td>750806000.0</td><td>1.1781794029896653</td><td>0.9973736018003825</td><td>0.000311588653287533</td><td>220.39207256489098</td><td>1.3383692474282645</td><td>9.685982354619476</td><td>0.35395863116333875</td><td>27.29905413597955</td><td>0.4216867303889947</td><td>38.99995914079741</td><td>0.8111494330093758</td><td>928.446954889438</td><td>124.48218409152979</td><td>0.48886785405367233</td><td>0.04893724908662001</td><td>8.599916940198082</td><td>1.7002011595621638</td><td>10.229660379222823</td><td>10.89654733373838</td><td>11.347121242525308</td><td>11.807813483070227</td><td>297742036.3499547</td><td>71958728.42953981</td><td>0.6508115859427073</td><td>0.044007725356765996</td><td>9.334037265467678</td><td>8.761597610699495</td><td>9.365807612605108</td><td>8.816844101270375</td><td>11.00224494934082</td><td>8.527264067647494</td><td>8.527264067647494</td><td>9.338874816894531</td><td>-999.0</td><td>97.4966163088885</td><td>24.958015804388022</td><td>3.5</td><td>6.283726215362549</td><td>-18.2878</td><td>-999.0</td><td>3.6800674506282793</td><td>1.0</td><td>1.0</td><td>272.5077655033903</td><td>388.2292699537662</td></tr>\n",
       "<tr><td>9894</td><td>6103</td><td>1569</td><td>348</td><td>53168</td><td>294369</td><td>311413</td><td>250.1988094569345</td><td>20.920389206349455</td><td>0.60531</td><td>10.7086</td><td>0.0231724</td><td>1256450000.0</td><td>1.0128618048492974</td><td>0.6602313589813543</td><td>0.006390096386897973</td><td>182.39419943562595</td><td>0.1403058206777461</td><td>-1.4167062250683777</td><td>0.15786424098071716</td><td>26.870684773157777</td><td>0.04361093123690017</td><td>27.254588979528446</td><td>0.0514739793301282</td><td>100.84364278639711</td><td>2.2241776578300936</td><td>1.6055096025676894</td><td>0.08703537415713847</td><td>1.909024373571824</td><td>0.02328558341032747</td><td>9.981475492603632</td><td>9.3590438263456</td><td>10.611974385089116</td><td>10.175566547118173</td><td>323360014.5612709</td><td>20165773.898612637</td><td>0.8140308798006772</td><td>0.018136472322521652</td><td>9.629200893159119</td><td>8.563198184491885</td><td>9.651192185522808</td><td>8.60428878011284</td><td>15.187213897705078</td><td>3.760709848603071</td><td>3.760709848603071</td><td>9.631711959838867</td><td>-999.0</td><td>216.3631739070769</td><td>11.44682276658552</td><td>1.5</td><td>4.672900199890137</td><td>-18.0667</td><td>-999.0</td><td>5.114988914292864</td><td>1.0</td><td>1.0</td><td>99.15417254984281</td><td>17.377007208701187</td></tr>\n",
       "<tr><td>9894</td><td>6104</td><td>1569</td><td>371</td><td>53168</td><td>294374</td><td>311418</td><td>250.90782633530682</td><td>21.691287065224973</td><td>0.773976</td><td>108.366</td><td>0.0353909</td><td>21762100000.0</td><td>0.37198274913883633</td><td>0.9163945913867013</td><td>0.00035287468492303765</td><td>296.50011430443567</td><td>0.012923043062992402</td><td>-3.4359262950843763</td><td>0.02885952827026869</td><td>26.637381087777655</td><td>0.003856364401528655</td><td>27.12653847698587</td><td>0.0028327424662012565</td><td>348.2774866820976</td><td>0.8223785236989956</td><td>1.7630290331930538</td><td>0.02255471631530957</td><td>0.8457692270143371</td><td>0.00716991663662322</td><td>11.340884576235728</td><td>10.349669903228312</td><td>11.89331683482895</td><td>11.080399253055289</td><td>2021705125.0108945</td><td>148645692.70804366</td><td>1.0329261223508734</td><td>0.024061955850934912</td><td>10.795472127113388</td><td>9.74284329351517</td><td>10.802233939378931</td><td>9.757549406865024</td><td>15.442344665527344</td><td>45.83189458866559</td><td>45.83189458866559</td><td>9.723223686218262</td><td>-999.0</td><td>513.5803562431037</td><td>43.99101220394474</td><td>3.5</td><td>3.4287099838256836</td><td>-20.7368</td><td>-999.0</td><td>7.94329001135029</td><td>1.0</td><td>1.0</td><td>347.8598925588174</td><td>26.99643238891639</td></tr>\n",
       "<tr><td>9894</td><td>9101</td><td>1570</td><td>8</td><td>53149</td><td>294459</td><td>311510</td><td>251.25783905461017</td><td>20.57121050209705</td><td>0.780211</td><td>169.946</td><td>0.129538</td><td>107128000000.0</td><td>-999.0</td><td>-999.0</td><td>-999.0</td><td>-999.0</td><td>-999.0</td><td>-999.0</td><td>-999.0</td><td>-999.0</td><td>-999.0</td><td>-999.0</td><td>-999.0</td><td>-999.0</td><td>-999.0</td><td>-999.0</td><td>-999.0</td><td>-999.0</td><td>-999.0</td><td>-999.0</td><td>-999.0</td><td>-999.0</td><td>-999.0</td><td>108328289.46412064</td><td>5668305.270909563</td><td>4.797862714905982</td><td>0.08381920208263613</td><td>11.577398959024956</td><td>10.29477141551439</td><td>11.602727588080647</td><td>10.35163381796654</td><td>-999.0</td><td>-999.0</td><td>-999.0</td><td>-999.0</td><td>-999.0</td><td>-999.0</td><td>-999.0</td><td>-999.0</td><td>-0.9255131483078003</td><td>-22.1882</td><td>-999.0</td><td>-999.0</td><td>2.0</td><td>3.0</td><td>-999.0</td><td>-999.0</td></tr>\n",
       "<tr><td>9894</td><td>9102</td><td>4179</td><td>400</td><td>55684</td><td>550782</td><td>583187</td><td>251.6051554570846</td><td>19.76959270898755</td><td>0.484479</td><td>75.2506</td><td>0.0231664</td><td>656051000.0</td><td>0.9512362007472827</td><td>0.8254745415453144</td><td>0.002645201417552119</td><td>41.85172442914769</td><td>0.055450778290252585</td><td>-31.98891283651659</td><td>0.14671522762089262</td><td>32.182762759742545</td><td>0.07463946003030436</td><td>41.26412619555808</td><td>0.09358434643400987</td><td>152.0300851844481</td><td>1.3649206205210702</td><td>8.550835704114329</td><td>0.10658937312887891</td><td>3.313359654647645</td><td>0.022660231977332152</td><td>10.515616846701365</td><td>9.594617965741444</td><td>11.060227652729028</td><td>10.387924922580023</td><td>152339.94401566742</td><td>302342.68914536486</td><td>81.07734926349174</td><td>1685.9469998871857</td><td>9.624273055606702</td><td>8.520916134292502</td><td>9.97008291922816</td><td>10.364137901040957</td><td>18.13872528076172</td><td>181.22310298037732</td><td>181.22310298037732</td><td>9.764639854431152</td><td>-999.0</td><td>218.9390960294742</td><td>18.231268227620408</td><td>3.5</td><td>6.997000694274902</td><td>-18.7905</td><td>-999.0</td><td>6.107463566421845</td><td>1.0</td><td>-99.0</td><td>152.03008306292227</td><td>16.542374292485746</td></tr>\n",
       "</table></div>"
      ],
      "text/plain": [
       "<Table length=11273>\n",
       "MaNGA_plate MaNGA_IFU NSA_plate ...       v_3p5            v_3p5_err     \n",
       "   int64      int64     int64   ...      float64            float64      \n",
       "----------- --------- --------- ... ------------------ ------------------\n",
       "      10001     12701       448 ... 183.14938552312165  24.91258446340628\n",
       "      10001     12702       448 ... 168.30899596736322  29.53675151629983\n",
       "      10001     12703       483 ...   347.745404077086   47.8247202374236\n",
       "      10001     12704       483 ... 122.48211130453265  14.72299702222846\n",
       "      10001     12705       484 ...  543.5527785584017  50.98015669144624\n",
       "      10001      1901       483 ... 146.83855728365265 22.974448652982666\n",
       "      10001      1902       448 ...             -999.0             -999.0\n",
       "      10001      3701       448 ...             -999.0             -999.0\n",
       "      10001      3702       448 ...  327.9597996157472  58.52773289439171\n",
       "      10001      3703       483 ... 188.09324123684044 27.322259601849403\n",
       "        ...       ...       ... ...                ...                ...\n",
       "       9894      3701      1569 ... 200.96501482778473 28.575915002982388\n",
       "       9894      3702      1570 ...  194.9703262937354 24.902286693367998\n",
       "       9894      3703      1569 ...             -999.0             -999.0\n",
       "       9894      3704      1568 ...             -999.0             -999.0\n",
       "       9894      6101      1569 ...  317.6557051437935  62.00251190005114\n",
       "       9894      6102      1568 ...  272.5077655033903  388.2292699537662\n",
       "       9894      6103      1569 ...  99.15417254984281 17.377007208701187\n",
       "       9894      6104      1569 ...  347.8598925588174  26.99643238891639\n",
       "       9894      9101      1570 ...             -999.0             -999.0\n",
       "       9894      9102      4179 ... 152.03008306292227 16.542374292485746"
      ]
     },
     "execution_count": 59,
     "metadata": {},
     "output_type": "execute_result"
    }
   ],
   "source": [
    "master_table"
   ]
  },
  {
   "cell_type": "code",
   "execution_count": 60,
   "metadata": {},
   "outputs": [
    {
     "data": {
      "text/html": [
       "<div><i>Table length=4</i>\n",
       "<table id=\"table140461583108496\" class=\"table-striped table-bordered table-condensed\">\n",
       "<thead><tr><th>plate</th><th>ifudsgn</th><th>plateifu</th><th>mangaid</th><th>versdrp2</th><th>versdrp3</th><th>verscore</th><th>versutil</th><th>versprim</th><th>platetyp</th><th>srvymode</th><th>objra</th><th>objdec</th><th>ifuglon</th><th>ifuglat</th><th>ifura</th><th>ifudec</th><th>ebvgal</th><th>nexp</th><th>exptime</th><th>drp3qual</th><th>bluesn2</th><th>redsn2</th><th>harname</th><th>frlplug</th><th>cartid</th><th>designid</th><th>cenra</th><th>cendec</th><th>airmsmin</th><th>airmsmed</th><th>airmsmax</th><th>seemin</th><th>seemed</th><th>seemax</th><th>transmin</th><th>transmed</th><th>transmax</th><th>mjdmin</th><th>mjdmed</th><th>mjdmax</th><th>gfwhm</th><th>rfwhm</th><th>ifwhm</th><th>zfwhm</th><th>mngtarg1</th><th>mngtarg2</th><th>mngtarg3</th><th>catidnum</th><th>plttarg</th><th>manga_tileid</th><th>nsa_iauname</th><th>ifudesignsize</th><th>ifutargetsize</th><th>ifudesignwrongsize</th><th>z</th><th>zmin</th><th>zmax</th><th>szmin</th><th>szmax</th><th>ezmin</th><th>ezmax</th><th>probs</th><th>pweight</th><th>psweight</th><th>psrweight</th><th>sweight</th><th>srweight</th><th>eweight</th><th>esweight</th><th>esrweight</th><th>nsa_field</th><th>nsa_run</th><th>nsa_camcol</th><th>nsa_version</th><th>nsa_nsaid</th><th>nsa_nsaid_v1b</th><th>nsa_z</th><th>nsa_zdist</th><th>nsa_sersic_absmag [7]</th><th>nsa_elpetro_absmag [7]</th><th>nsa_elpetro_amivar [7]</th><th>nsa_sersic_mass</th><th>nsa_elpetro_mass</th><th>nsa_elpetro_ba</th><th>nsa_elpetro_phi</th><th>nsa_extinction [7]</th><th>nsa_elpetro_th50_r</th><th>nsa_petro_th50</th><th>nsa_petro_flux [7]</th><th>nsa_petro_flux_ivar [7]</th><th>nsa_elpetro_flux [7]</th><th>nsa_elpetro_flux_ivar [7]</th><th>nsa_sersic_ba</th><th>nsa_sersic_n</th><th>nsa_sersic_phi</th><th>nsa_sersic_th50</th><th>nsa_sersic_flux [7]</th><th>nsa_sersic_flux_ivar [7]</th><th>smoothness_score</th><th>nsa_elpetro_th90</th><th>v_sys</th><th>v_sys_err</th><th>ba</th><th>ba_err</th><th>x0</th><th>x0_err</th><th>y0</th><th>y0_err</th><th>phi</th><th>phi_err</th><th>v_max</th><th>v_max_err</th><th>r_turn</th><th>r_turn_err</th><th>chi2</th><th>alpha</th><th>alpha_err</th><th>Rmax</th><th>M</th><th>M_err</th><th>fit_flag</th><th>Sigma_disk</th><th>Sigma_disk_err</th><th>R_disk</th><th>R_disk_err</th><th>rho_bulge</th><th>rho_bulge_err</th><th>R_bulge</th><th>R_bulge_err</th><th>M90_disk</th><th>M90_disk_err</th><th>M_disk</th><th>M_disk_err</th><th>chi2_disk</th><th>logHI</th><th>logHIlim</th><th>WF50</th><th>WF50_err</th><th>DL_ttype</th><th>vis_tidal</th><th>b</th><th>b_err</th><th>M_R90</th><th>M_R90_err</th><th>fit_function</th><th>A_g</th><th>A_r</th><th>logH2</th><th>R90_kpc</th><th>v_3p5</th><th>v_3p5_err</th></tr></thead>\n",
       "<thead><tr><th>int64</th><th>bytes32</th><th>bytes32</th><th>bytes32</th><th>bytes32</th><th>bytes32</th><th>bytes32</th><th>bytes32</th><th>bytes32</th><th>bytes32</th><th>bytes32</th><th>float64</th><th>float64</th><th>float64</th><th>float64</th><th>float64</th><th>float64</th><th>float64</th><th>int64</th><th>float64</th><th>int64</th><th>float64</th><th>float64</th><th>bytes53</th><th>int64</th><th>bytes32</th><th>int64</th><th>float64</th><th>float64</th><th>float64</th><th>float64</th><th>float64</th><th>float64</th><th>float64</th><th>float64</th><th>float64</th><th>float64</th><th>float64</th><th>int64</th><th>int64</th><th>int64</th><th>float64</th><th>float64</th><th>float64</th><th>float64</th><th>int64</th><th>int64</th><th>int64</th><th>int64</th><th>bytes32</th><th>int64</th><th>bytes19</th><th>int64</th><th>int64</th><th>int64</th><th>float64</th><th>float64</th><th>float64</th><th>float64</th><th>float64</th><th>float64</th><th>float64</th><th>float64</th><th>float64</th><th>float64</th><th>float64</th><th>float64</th><th>float64</th><th>float64</th><th>float64</th><th>float64</th><th>int64</th><th>int64</th><th>int64</th><th>bytes6</th><th>int64</th><th>int64</th><th>float64</th><th>float64</th><th>float64</th><th>float64</th><th>float64</th><th>float64</th><th>float64</th><th>float64</th><th>float64</th><th>float64</th><th>float64</th><th>float64</th><th>float64</th><th>float64</th><th>float64</th><th>float64</th><th>float64</th><th>float64</th><th>float64</th><th>float64</th><th>float64</th><th>float64</th><th>float64</th><th>float64</th><th>float64</th><th>float64</th><th>float64</th><th>float64</th><th>float64</th><th>float64</th><th>float64</th><th>float64</th><th>float64</th><th>float64</th><th>float64</th><th>float64</th><th>float64</th><th>float64</th><th>float64</th><th>float64</th><th>float64</th><th>float64</th><th>float64</th><th>float64</th><th>float64</th><th>float64</th><th>float64</th><th>float64</th><th>float64</th><th>float64</th><th>float64</th><th>float64</th><th>float64</th><th>float64</th><th>float64</th><th>float64</th><th>float64</th><th>float64</th><th>float64</th><th>float64</th><th>float64</th><th>float64</th><th>float64</th><th>float64</th><th>float64</th><th>float64</th><th>float64</th><th>float64</th><th>float64</th><th>float64</th><th>float64</th><th>float64</th><th>float64</th><th>float64</th><th>float64</th></tr></thead>\n",
       "<tr><td>10001</td><td>12701</td><td>10001-12701</td><td>1-48157</td><td>v3_1_1</td><td>v3_1_1</td><td>v1_9_1</td><td>v5_5_36</td><td>v2_9</td><td>APOGEE-2&amp;MaNGA</td><td>MaNGA dither</td><td>133.371090612</td><td>57.5984251446</td><td>159.27921887</td><td>38.8381829181</td><td>133.37109</td><td>57.598425</td><td>0.0545561</td><td>9</td><td>8100.81</td><td>0</td><td>20.0835</td><td>41.292</td><td>ma079</td><td>22</td><td>3</td><td>9114</td><td>134.41357</td><td>57.604214</td><td>1.10715</td><td>1.15321</td><td>1.21404</td><td>1.78219</td><td>1.85994</td><td>2.12685</td><td>0.898721</td><td>0.929654</td><td>0.937466</td><td>57372</td><td>57373</td><td>57373</td><td>2.69906</td><td>2.64546</td><td>2.59645</td><td>2.54039</td><td>2080</td><td>0</td><td>0</td><td>1</td><td>plateTargets-1.par</td><td>6013</td><td>J085329.03+573554.9</td><td>127</td><td>127</td><td>0</td><td>0.0392074</td><td>0.0193562</td><td>0.0264775</td><td>0.0386959</td><td>0.0429176</td><td>0.0193562</td><td>0.0264775</td><td>0.748562</td><td>-999.0</td><td>0.665321</td><td>0.705378</td><td>1.08789</td><td>1.19925</td><td>-999.0</td><td>0.66562</td><td>0.705713</td><td>203</td><td>1350</td><td>6</td><td>v1_0_1</td><td>51226</td><td>-999</td><td>0.0392074</td><td>0.0395926</td><td>-16.2982 .. -19.5112</td><td>-16.2321 .. -19.5522</td><td>275.541 .. 452.944</td><td>3068010000.0</td><td>2685340000.0</td><td>0.417013</td><td>69.2463</td><td>0.448783 .. 0.0800664</td><td>5.16633</td><td>3.63987</td><td>12.7947 .. 413.049</td><td>3.26768 .. 0.000422625</td><td>13.8306 .. 425.941</td><td>3.03694 .. 0.00496838</td><td>0.335333</td><td>0.741845</td><td>68.2584</td><td>5.29184</td><td>14.8124 .. 412.19</td><td>2.50888 .. 0.0150605</td><td>1.560186343059074</td><td>9.852487564086914</td><td>2.946989472970758</td><td>0.09848277794062997</td><td>0.8525269160441389</td><td>0.004661246847300842</td><td>38.7739389484797</td><td>0.022936739976051144</td><td>37.440940071078124</td><td>0.016138461970098106</td><td>61.88507825188626</td><td>0.07338042747869138</td><td>183.15428191832711</td><td>2.8318738759310786</td><td>2.2299464843830368</td><td>0.006099342053787376</td><td>10.529260284502032</td><td>4.181226771589277</td><td>0.07058094055808059</td><td>6.435441132989916</td><td>11.185428134112588</td><td>10.663096428880776</td><td>1.5</td><td>300.9007693953248</td><td>15.203381761428345</td><td>0.42300918794160963</td><td>0.04332889447409282</td><td>318528356.25649077</td><td>10973819.90888883</td><td>1.1700697820493802</td><td>0.01234311518755433</td><td>10.054323200255043</td><td>8.681101900065409</td><td>10.119328135890797</td><td>8.780959524997495</td><td>471538.3029792875</td><td>10.350040435791016</td><td>-999.0</td><td>309.752973573684</td><td>50.84180796596384</td><td>6.564641952514648</td><td>0.0</td><td>0.0</td><td>0.0</td><td>10.637055736445056</td><td>9.856536145016422</td><td>0.0</td><td>0.18</td><td>0.125</td><td>-999.0</td><td>5.614479609229095</td><td>183.14938552312165</td><td>24.91258446340628</td></tr>\n",
       "<tr><td>10001</td><td>12702</td><td>10001-12702</td><td>1-48188</td><td>v3_1_1</td><td>v3_1_1</td><td>v1_9_1</td><td>v5_5_36</td><td>v2_9</td><td>APOGEE-2&amp;MaNGA</td><td>MaNGA dither</td><td>133.685669869</td><td>57.4802503218</td><td>159.390126911</td><td>39.0253440844</td><td>133.68567</td><td>57.48025</td><td>0.0492053</td><td>9</td><td>8100.81</td><td>0</td><td>20.0835</td><td>41.292</td><td>ma078</td><td>25</td><td>3</td><td>9114</td><td>134.41357</td><td>57.604214</td><td>1.10569</td><td>1.15089</td><td>1.21106</td><td>1.78219</td><td>1.85994</td><td>2.12685</td><td>0.898721</td><td>0.929654</td><td>0.937466</td><td>57372</td><td>57373</td><td>57373</td><td>2.72072</td><td>2.66314</td><td>2.64652</td><td>2.61686</td><td>2080</td><td>0</td><td>0</td><td>1</td><td>plateTargets-1.par</td><td>6013</td><td>J085444.56+572848.8</td><td>127</td><td>217</td><td>0</td><td>0.0408108</td><td>0.0193227</td><td>0.0264533</td><td>0.0386469</td><td>0.042869</td><td>0.0188554</td><td>0.0266531</td><td>0.794785</td><td>-999.0</td><td>0.651037</td><td>0.681893</td><td>1.04947</td><td>1.13205</td><td>-999.0</td><td>0.631507</td><td>0.660498</td><td>35</td><td>3600</td><td>5</td><td>v1_0_1</td><td>51261</td><td>-999</td><td>0.0408108</td><td>0.0411932</td><td>-15.9069 .. -19.6569</td><td>-16.127 .. -19.5493</td><td>206.664 .. 49.3569</td><td>5341650000.0</td><td>4642460000.0</td><td>0.598115</td><td>12.5169</td><td>0.405779 .. 0.072394</td><td>7.01311</td><td>6.11281</td><td>12.4553 .. 396.399</td><td>2.27628 .. 0.000372112</td><td>12.4406 .. 390.985</td><td>2.3517 .. 0.000398299</td><td>0.508217</td><td>1.44272</td><td>12.3759</td><td>8.34906</td><td>10.1128 .. 432.884</td><td>3.38905 .. 0.00964978</td><td>1.5619979358006435</td><td>14.355437278747559</td><td>0.6765359119793715</td><td>0.23419562301556418</td><td>0.6739844282455619</td><td>0.006739656007202572</td><td>36.85326879733403</td><td>0.04204024887591865</td><td>37.98221005537202</td><td>0.05640746039294769</td><td>188.3088174477578</td><td>0.16826186470866497</td><td>194.97775272347383</td><td>6.932242299930594</td><td>0.9585752877878831</td><td>0.07208969706038451</td><td>2.457986344552885</td><td>0.6629820156636723</td><td>0.04575759010348131</td><td>10.492041769351301</td><td>11.292909462167833</td><td>10.847252340042417</td><td>3.5</td><td>293.3478638373148</td><td>10.60192409708804</td><td>0.6790488070059231</td><td>0.05316399052089292</td><td>115971867.9868961</td><td>7747575.084882941</td><td>1.6956282295929506</td><td>0.03670610210595715</td><td>10.124313484194262</td><td>9.034999166941406</td><td>10.177811159857796</td><td>9.124034282826187</td><td>1207886.7459959988</td><td>9.583724021911621</td><td>-999.0</td><td>273.50491644321835</td><td>6.866128229994085</td><td>4.730921268463135</td><td>0.0</td><td>0.0</td><td>0.0</td><td>10.600037009816079</td><td>10.15080355502181</td><td>0.0</td><td>0.163</td><td>0.112</td><td>-999.0</td><td>8.515048082090281</td><td>168.30899596736322</td><td>29.53675151629983</td></tr>\n",
       "<tr><td>10001</td><td>12703</td><td>10001-12703</td><td>1-55648</td><td>v3_1_1</td><td>v3_1_1</td><td>v1_9_1</td><td>v5_5_36</td><td>v2_9</td><td>APOGEE-2&amp;MaNGA</td><td>MaNGA dither</td><td>136.017159969</td><td>57.0923291779</td><td>159.56459216</td><td>40.3368076472</td><td>136.01716</td><td>57.092329</td><td>0.0258626</td><td>9</td><td>8100.81</td><td>0</td><td>19.9086</td><td>40.7596</td><td>ma077</td><td>31</td><td>3</td><td>9114</td><td>134.41357</td><td>57.604214</td><td>1.09975</td><td>1.13824</td><td>1.19323</td><td>1.78219</td><td>1.85994</td><td>2.12685</td><td>0.898721</td><td>0.929654</td><td>0.937466</td><td>57372</td><td>57373</td><td>57373</td><td>2.7262</td><td>2.61384</td><td>2.56576</td><td>2.53132</td><td>2080</td><td>0</td><td>0</td><td>1</td><td>plateTargets-1.par</td><td>6013</td><td>J090404.13+570532.3</td><td>127</td><td>169</td><td>0</td><td>0.0462094</td><td>0.0227277</td><td>0.0296235</td><td>0.0443908</td><td>0.0487145</td><td>0.0222592</td><td>0.03022</td><td>0.55597</td><td>-999.0</td><td>0.570051</td><td>0.643308</td><td>0.979861</td><td>1.21834</td><td>-999.0</td><td>0.534143</td><td>0.597944</td><td>39</td><td>3600</td><td>2</td><td>v1_0_1</td><td>59078</td><td>-999</td><td>0.0462094</td><td>0.046579</td><td>-15.9552 .. -20.5965</td><td>-16.3926 .. -20.4663</td><td>223.74 .. 875.365</td><td>13693500000.0</td><td>9439710000.0</td><td>0.378034</td><td>51.5052</td><td>0.219711 .. 0.0391981</td><td>6.523</td><td>4.87172</td><td>13.8626 .. 635.975</td><td>1.79171 .. 0.00598687</td><td>14.4442 .. 722.823</td><td>1.96905 .. 0.00930865</td><td>0.205749</td><td>2.18084</td><td>51.2808</td><td>8.09139</td><td>9.82225 .. 820.242</td><td>2.79287 .. 0.0443689</td><td>1.1414035570714935</td><td>14.743389129638672</td><td>16.699456893928602</td><td>0.0963277859001372</td><td>0.868911357820688</td><td>0.0007131052643978732</td><td>36.558508375391675</td><td>0.020946818786307338</td><td>35.641571170832165</td><td>0.018071593708941423</td><td>56.79483322166177</td><td>0.08249999450764357</td><td>369.9104377816068</td><td>1.1162754236338</td><td>2.2255004811754473</td><td>0.025995323685563534</td><td>57.98401438954021</td><td>1.0019694161891133</td><td>0.003716146716676395</td><td>10.501250692751151</td><td>11.98875372506019</td><td>11.44150293569664</td><td>2.5</td><td>1201.0759702017704</td><td>23.844360911771343</td><td>0.5494068894426105</td><td>0.02030870938454245</td><td>494628915.16105384</td><td>13753186.951918408</td><td>1.3970129924747783</td><td>0.0114278522601265</td><td>10.546935338970071</td><td>9.081725877664413</td><td>10.558369569453301</td><td>9.103192513387299</td><td>203727.58256011392</td><td>9.775858879089355</td><td>-999.0</td><td>383.131393858277</td><td>32.519186623217024</td><td>4.756507873535156</td><td>0.0</td><td>0.0</td><td>0.0</td><td>11.32307263875663</td><td>10.727979027247507</td><td>0.0</td><td>0.085</td><td>0.059</td><td>-999.0</td><td>9.902006982545116</td><td>347.745404077086</td><td>47.8247202374236</td></tr>\n",
       "<tr><td>10001</td><td>12704</td><td>10001-12704</td><td>1-55616</td><td>v3_1_1</td><td>v3_1_1</td><td>v1_9_1</td><td>v5_5_36</td><td>v2_9</td><td>APOGEE-2&amp;MaNGA</td><td>MaNGA dither</td><td>133.989966869</td><td>57.6779676669</td><td>159.101196491</td><td>39.1494998661</td><td>133.98997</td><td>57.677968</td><td>0.0476794</td><td>9</td><td>8100.81</td><td>64</td><td>19.9086</td><td>40.7596</td><td>ma076</td><td>34</td><td>3</td><td>9114</td><td>134.41357</td><td>57.604214</td><td>1.10705</td><td>1.15123</td><td>1.21051</td><td>1.78219</td><td>1.85994</td><td>2.12685</td><td>0.898721</td><td>0.929654</td><td>0.937466</td><td>57372</td><td>57373</td><td>57373</td><td>2.6788</td><td>2.58733</td><td>2.52311</td><td>2.47903</td><td>4160</td><td>0</td><td>0</td><td>1</td><td>plateTargets-1.par</td><td>6013</td><td>J085557.56+574040.6</td><td>127</td><td>397</td><td>0</td><td>0.0141215</td><td>0.0183756</td><td>0.0258019</td><td>0.037294</td><td>0.0415338</td><td>0.0141373</td><td>0.0310467</td><td>0.67973</td><td>-999.0</td><td>-999.0</td><td>-999.0</td><td>-999.0</td><td>-999.0</td><td>0.716568</td><td>0.45291</td><td>0.474847</td><td>36</td><td>3600</td><td>5</td><td>v1_0_1</td><td>59044</td><td>-999</td><td>0.0141215</td><td>0.0145852</td><td>-14.2399 .. -19.4321</td><td>-14.2982 .. -19.3602</td><td>262.464 .. 794.079</td><td>4286640000.0</td><td>4218380000.0</td><td>0.212315</td><td>81.0961</td><td>0.388503 .. 0.0693118</td><td>16.0734</td><td>11.44</td><td>18.0685 .. 2387.32</td><td>0.731053 .. 1.94195e-05</td><td>18.855 .. 2747.21</td><td>1.50036 .. 0.000434694</td><td>0.15</td><td>0.869326</td><td>81.2193</td><td>18.2816</td><td>17.8616 .. 2923.9</td><td>2.16404 .. 0.00123046</td><td>1.2909390780165348</td><td>33.156402587890625</td><td>-2.634762784476005</td><td>0.09187106750706249</td><td>0.4055339772671592</td><td>0.0006001633102882991</td><td>36.43376557407452</td><td>0.01858300451194395</td><td>38.139029680496584</td><td>0.02222913860579567</td><td>85.11107958400636</td><td>0.057813166931291814</td><td>122.48415062258817</td><td>0.3994965769481449</td><td>2.016120495793798</td><td>0.004139169135295307</td><td>22.622761000584767</td><td>3.9043682508897124</td><td>0.08876432226865019</td><td>5.708876239096034</td><td>10.919496867791567</td><td>10.33626744461852</td><td>3.5</td><td>589.741380235529</td><td>13.146010279176876</td><td>0.16832394280031962</td><td>0.004839248890317191</td><td>541588696.96986</td><td>5004394.585211396</td><td>0.8480244916060672</td><td>0.0027159735332440583</td><td>9.918768524805014</td><td>8.032310918758885</td><td>9.924592856288296</td><td>8.044620557122625</td><td>265311.1920361342</td><td>9.239542007446289</td><td>-999.0</td><td>292.93732389433455</td><td>4.826130375197129</td><td>4.773223400115967</td><td>0.0</td><td>0.0</td><td>0.0</td><td>10.37352631137793</td><td>9.51492042443341</td><td>0.0</td><td>0.157</td><td>0.109</td><td>-999.0</td><td>6.80524567314194</td><td>122.48211130453265</td><td>14.72299702222846</td></tr>\n",
       "</table></div>"
      ],
      "text/plain": [
       "<Table length=4>\n",
       "plate ifudsgn   plateifu  ...       v_3p5            v_3p5_err    \n",
       "int64 bytes32   bytes32   ...      float64            float64     \n",
       "----- ------- ----------- ... ------------------ -----------------\n",
       "10001   12701 10001-12701 ... 183.14938552312165 24.91258446340628\n",
       "10001   12702 10001-12702 ... 168.30899596736322 29.53675151629983\n",
       "10001   12703 10001-12703 ...   347.745404077086  47.8247202374236\n",
       "10001   12704 10001-12704 ... 122.48211130453265 14.72299702222846"
      ]
     },
     "execution_count": 60,
     "metadata": {},
     "output_type": "execute_result"
    }
   ],
   "source": [
    "working_table[0:4]"
   ]
  },
  {
   "cell_type": "code",
   "execution_count": 61,
   "metadata": {},
   "outputs": [
    {
     "data": {
      "text/html": [
       "<div><i>Table length=4</i>\n",
       "<table id=\"table140461582329296\" class=\"table-striped table-bordered table-condensed\">\n",
       "<thead><tr><th>plate</th><th>ifudsgn</th><th>plateifu</th><th>mangaid</th><th>versdrp2</th><th>versdrp3</th><th>verscore</th><th>versutil</th><th>versprim</th><th>platetyp</th><th>srvymode</th><th>objra</th><th>objdec</th><th>ifuglon</th><th>ifuglat</th><th>ifura</th><th>ifudec</th><th>ebvgal</th><th>nexp</th><th>exptime</th><th>drp3qual</th><th>bluesn2</th><th>redsn2</th><th>harname</th><th>frlplug</th><th>cartid</th><th>designid</th><th>cenra</th><th>cendec</th><th>airmsmin</th><th>airmsmed</th><th>airmsmax</th><th>seemin</th><th>seemed</th><th>seemax</th><th>transmin</th><th>transmed</th><th>transmax</th><th>mjdmin</th><th>mjdmed</th><th>mjdmax</th><th>gfwhm</th><th>rfwhm</th><th>ifwhm</th><th>zfwhm</th><th>mngtarg1</th><th>mngtarg2</th><th>mngtarg3</th><th>catidnum</th><th>plttarg</th><th>manga_tileid</th><th>nsa_iauname</th><th>ifudesignsize</th><th>ifutargetsize</th><th>ifudesignwrongsize</th><th>z</th><th>zmin</th><th>zmax</th><th>szmin</th><th>szmax</th><th>ezmin</th><th>ezmax</th><th>probs</th><th>pweight</th><th>psweight</th><th>psrweight</th><th>sweight</th><th>srweight</th><th>eweight</th><th>esweight</th><th>esrweight</th><th>nsa_field</th><th>nsa_run</th><th>nsa_camcol</th><th>nsa_version</th><th>nsa_nsaid</th><th>nsa_nsaid_v1b</th><th>nsa_z</th><th>nsa_zdist</th><th>nsa_sersic_absmag [7]</th><th>nsa_elpetro_absmag [7]</th><th>nsa_elpetro_amivar [7]</th><th>nsa_sersic_mass</th><th>nsa_elpetro_mass</th><th>nsa_elpetro_ba</th><th>nsa_elpetro_phi</th><th>nsa_extinction [7]</th><th>nsa_elpetro_th50_r</th><th>nsa_petro_th50</th><th>nsa_petro_flux [7]</th><th>nsa_petro_flux_ivar [7]</th><th>nsa_elpetro_flux [7]</th><th>nsa_elpetro_flux_ivar [7]</th><th>nsa_sersic_ba</th><th>nsa_sersic_n</th><th>nsa_sersic_phi</th><th>nsa_sersic_th50</th><th>nsa_sersic_flux [7]</th><th>nsa_sersic_flux_ivar [7]</th><th>smoothness_score</th><th>nsa_elpetro_th90</th><th>v_sys</th><th>v_sys_err</th><th>ba</th><th>ba_err</th><th>x0</th><th>x0_err</th><th>y0</th><th>y0_err</th><th>phi</th><th>phi_err</th><th>v_max</th><th>v_max_err</th><th>r_turn</th><th>r_turn_err</th><th>chi2</th><th>alpha</th><th>alpha_err</th><th>Rmax</th><th>M</th><th>M_err</th><th>fit_flag</th><th>Sigma_disk</th><th>Sigma_disk_err</th><th>R_disk</th><th>R_disk_err</th><th>rho_bulge</th><th>rho_bulge_err</th><th>R_bulge</th><th>R_bulge_err</th><th>M90_disk</th><th>M90_disk_err</th><th>M_disk</th><th>M_disk_err</th><th>chi2_disk</th><th>logHI</th><th>logHIlim</th><th>WF50</th><th>WF50_err</th><th>DL_ttype</th><th>vis_tidal</th><th>b</th><th>b_err</th><th>M_R90</th><th>M_R90_err</th><th>fit_function</th><th>A_g</th><th>A_r</th><th>logH2</th><th>R90_kpc</th><th>v_3p5</th><th>v_3p5_err</th></tr></thead>\n",
       "<thead><tr><th>int64</th><th>bytes32</th><th>bytes32</th><th>bytes32</th><th>bytes32</th><th>bytes32</th><th>bytes32</th><th>bytes32</th><th>bytes32</th><th>bytes32</th><th>bytes32</th><th>float64</th><th>float64</th><th>float64</th><th>float64</th><th>float64</th><th>float64</th><th>float64</th><th>int64</th><th>float64</th><th>int64</th><th>float64</th><th>float64</th><th>bytes53</th><th>int64</th><th>bytes32</th><th>int64</th><th>float64</th><th>float64</th><th>float64</th><th>float64</th><th>float64</th><th>float64</th><th>float64</th><th>float64</th><th>float64</th><th>float64</th><th>float64</th><th>int64</th><th>int64</th><th>int64</th><th>float64</th><th>float64</th><th>float64</th><th>float64</th><th>int64</th><th>int64</th><th>int64</th><th>int64</th><th>bytes32</th><th>int64</th><th>bytes19</th><th>int64</th><th>int64</th><th>int64</th><th>float64</th><th>float64</th><th>float64</th><th>float64</th><th>float64</th><th>float64</th><th>float64</th><th>float64</th><th>float64</th><th>float64</th><th>float64</th><th>float64</th><th>float64</th><th>float64</th><th>float64</th><th>float64</th><th>int64</th><th>int64</th><th>int64</th><th>bytes6</th><th>int64</th><th>int64</th><th>float64</th><th>float64</th><th>float64</th><th>float64</th><th>float64</th><th>float64</th><th>float64</th><th>float64</th><th>float64</th><th>float64</th><th>float64</th><th>float64</th><th>float64</th><th>float64</th><th>float64</th><th>float64</th><th>float64</th><th>float64</th><th>float64</th><th>float64</th><th>float64</th><th>float64</th><th>float64</th><th>float64</th><th>float64</th><th>float64</th><th>float64</th><th>float64</th><th>float64</th><th>float64</th><th>float64</th><th>float64</th><th>float64</th><th>float64</th><th>float64</th><th>float64</th><th>float64</th><th>float64</th><th>float64</th><th>float64</th><th>float64</th><th>float64</th><th>float64</th><th>float64</th><th>float64</th><th>float64</th><th>float64</th><th>float64</th><th>float64</th><th>float64</th><th>float64</th><th>float64</th><th>float64</th><th>float64</th><th>float64</th><th>float64</th><th>float64</th><th>float64</th><th>float64</th><th>float64</th><th>float64</th><th>float64</th><th>float64</th><th>float64</th><th>float64</th><th>float64</th><th>float64</th><th>float64</th><th>float64</th><th>float64</th><th>float64</th><th>float64</th><th>float64</th><th>float64</th><th>float64</th></tr></thead>\n",
       "<tr><td>10001</td><td>12701</td><td>10001-12701</td><td>1-48157</td><td>v3_1_1</td><td>v3_1_1</td><td>v1_9_1</td><td>v5_5_36</td><td>v2_9</td><td>APOGEE-2&amp;MaNGA</td><td>MaNGA dither</td><td>133.371090612</td><td>57.5984251446</td><td>159.27921887</td><td>38.8381829181</td><td>133.37109</td><td>57.598425</td><td>0.0545561</td><td>9</td><td>8100.81</td><td>0</td><td>20.0835</td><td>41.292</td><td>ma079</td><td>22</td><td>3</td><td>9114</td><td>134.41357</td><td>57.604214</td><td>1.10715</td><td>1.15321</td><td>1.21404</td><td>1.78219</td><td>1.85994</td><td>2.12685</td><td>0.898721</td><td>0.929654</td><td>0.937466</td><td>57372</td><td>57373</td><td>57373</td><td>2.69906</td><td>2.64546</td><td>2.59645</td><td>2.54039</td><td>2080</td><td>0</td><td>0</td><td>1</td><td>plateTargets-1.par</td><td>6013</td><td>J085329.03+573554.9</td><td>127</td><td>127</td><td>0</td><td>0.0392074</td><td>0.0193562</td><td>0.0264775</td><td>0.0386959</td><td>0.0429176</td><td>0.0193562</td><td>0.0264775</td><td>0.748562</td><td>-999.0</td><td>0.665321</td><td>0.705378</td><td>1.08789</td><td>1.19925</td><td>-999.0</td><td>0.66562</td><td>0.705713</td><td>203</td><td>1350</td><td>6</td><td>v1_0_1</td><td>51226</td><td>-999</td><td>0.0392074</td><td>0.0395926</td><td>-16.2982 .. -19.5112</td><td>-16.2321 .. -19.5522</td><td>275.541 .. 452.944</td><td>3068010000.0</td><td>2685340000.0</td><td>0.417013</td><td>69.2463</td><td>0.448783 .. 0.0800664</td><td>5.16633</td><td>3.63987</td><td>12.7947 .. 413.049</td><td>3.26768 .. 0.000422625</td><td>13.8306 .. 425.941</td><td>3.03694 .. 0.00496838</td><td>0.335333</td><td>0.741845</td><td>68.2584</td><td>5.29184</td><td>14.8124 .. 412.19</td><td>2.50888 .. 0.0150605</td><td>1.560186343059074</td><td>9.852487564086914</td><td>2.946989472970758</td><td>0.09848277794062997</td><td>0.8525269160441389</td><td>0.004661246847300842</td><td>38.7739389484797</td><td>0.022936739976051144</td><td>37.440940071078124</td><td>0.016138461970098106</td><td>61.88507825188626</td><td>0.07338042747869138</td><td>183.15428191832711</td><td>2.8318738759310786</td><td>2.2299464843830368</td><td>0.006099342053787376</td><td>10.529260284502032</td><td>4.181226771589277</td><td>0.07058094055808059</td><td>6.435441132989916</td><td>11.185428134112588</td><td>10.663096428880776</td><td>1.5</td><td>300.9007693953248</td><td>15.203381761428345</td><td>0.42300918794160963</td><td>0.04332889447409282</td><td>318528356.25649077</td><td>10973819.90888883</td><td>1.1700697820493802</td><td>0.01234311518755433</td><td>10.054323200255043</td><td>8.681101900065409</td><td>10.119328135890797</td><td>8.780959524997495</td><td>471538.3029792875</td><td>10.350040435791016</td><td>-999.0</td><td>309.752973573684</td><td>50.84180796596384</td><td>6.564641952514648</td><td>0.0</td><td>0.0</td><td>0.0</td><td>10.637055736445056</td><td>9.856536145016422</td><td>0.0</td><td>0.18</td><td>0.125</td><td>-999.0</td><td>5.614479609229095</td><td>183.14938552312165</td><td>24.91258446340628</td></tr>\n",
       "<tr><td>10001</td><td>12702</td><td>10001-12702</td><td>1-48188</td><td>v3_1_1</td><td>v3_1_1</td><td>v1_9_1</td><td>v5_5_36</td><td>v2_9</td><td>APOGEE-2&amp;MaNGA</td><td>MaNGA dither</td><td>133.685669869</td><td>57.4802503218</td><td>159.390126911</td><td>39.0253440844</td><td>133.68567</td><td>57.48025</td><td>0.0492053</td><td>9</td><td>8100.81</td><td>0</td><td>20.0835</td><td>41.292</td><td>ma078</td><td>25</td><td>3</td><td>9114</td><td>134.41357</td><td>57.604214</td><td>1.10569</td><td>1.15089</td><td>1.21106</td><td>1.78219</td><td>1.85994</td><td>2.12685</td><td>0.898721</td><td>0.929654</td><td>0.937466</td><td>57372</td><td>57373</td><td>57373</td><td>2.72072</td><td>2.66314</td><td>2.64652</td><td>2.61686</td><td>2080</td><td>0</td><td>0</td><td>1</td><td>plateTargets-1.par</td><td>6013</td><td>J085444.56+572848.8</td><td>127</td><td>217</td><td>0</td><td>0.0408108</td><td>0.0193227</td><td>0.0264533</td><td>0.0386469</td><td>0.042869</td><td>0.0188554</td><td>0.0266531</td><td>0.794785</td><td>-999.0</td><td>0.651037</td><td>0.681893</td><td>1.04947</td><td>1.13205</td><td>-999.0</td><td>0.631507</td><td>0.660498</td><td>35</td><td>3600</td><td>5</td><td>v1_0_1</td><td>51261</td><td>-999</td><td>0.0408108</td><td>0.0411932</td><td>-15.9069 .. -19.6569</td><td>-16.127 .. -19.5493</td><td>206.664 .. 49.3569</td><td>5341650000.0</td><td>4642460000.0</td><td>0.598115</td><td>12.5169</td><td>0.405779 .. 0.072394</td><td>7.01311</td><td>6.11281</td><td>12.4553 .. 396.399</td><td>2.27628 .. 0.000372112</td><td>12.4406 .. 390.985</td><td>2.3517 .. 0.000398299</td><td>0.508217</td><td>1.44272</td><td>12.3759</td><td>8.34906</td><td>10.1128 .. 432.884</td><td>3.38905 .. 0.00964978</td><td>1.5619979358006435</td><td>14.355437278747559</td><td>0.6765359119793715</td><td>0.23419562301556418</td><td>0.6739844282455619</td><td>0.006739656007202572</td><td>36.85326879733403</td><td>0.04204024887591865</td><td>37.98221005537202</td><td>0.05640746039294769</td><td>188.3088174477578</td><td>0.16826186470866497</td><td>194.97775272347383</td><td>6.932242299930594</td><td>0.9585752877878831</td><td>0.07208969706038451</td><td>2.457986344552885</td><td>0.6629820156636723</td><td>0.04575759010348131</td><td>10.492041769351301</td><td>11.292909462167833</td><td>10.847252340042417</td><td>3.5</td><td>293.3478638373148</td><td>10.60192409708804</td><td>0.6790488070059231</td><td>0.05316399052089292</td><td>115971867.9868961</td><td>7747575.084882941</td><td>1.6956282295929506</td><td>0.03670610210595715</td><td>10.124313484194262</td><td>9.034999166941406</td><td>10.177811159857796</td><td>9.124034282826187</td><td>1207886.7459959988</td><td>9.583724021911621</td><td>-999.0</td><td>273.50491644321835</td><td>6.866128229994085</td><td>4.730921268463135</td><td>0.0</td><td>0.0</td><td>0.0</td><td>10.600037009816079</td><td>10.15080355502181</td><td>0.0</td><td>0.163</td><td>0.112</td><td>-999.0</td><td>8.515048082090281</td><td>168.30899596736322</td><td>29.53675151629983</td></tr>\n",
       "<tr><td>10001</td><td>12703</td><td>10001-12703</td><td>1-55648</td><td>v3_1_1</td><td>v3_1_1</td><td>v1_9_1</td><td>v5_5_36</td><td>v2_9</td><td>APOGEE-2&amp;MaNGA</td><td>MaNGA dither</td><td>136.017159969</td><td>57.0923291779</td><td>159.56459216</td><td>40.3368076472</td><td>136.01716</td><td>57.092329</td><td>0.0258626</td><td>9</td><td>8100.81</td><td>0</td><td>19.9086</td><td>40.7596</td><td>ma077</td><td>31</td><td>3</td><td>9114</td><td>134.41357</td><td>57.604214</td><td>1.09975</td><td>1.13824</td><td>1.19323</td><td>1.78219</td><td>1.85994</td><td>2.12685</td><td>0.898721</td><td>0.929654</td><td>0.937466</td><td>57372</td><td>57373</td><td>57373</td><td>2.7262</td><td>2.61384</td><td>2.56576</td><td>2.53132</td><td>2080</td><td>0</td><td>0</td><td>1</td><td>plateTargets-1.par</td><td>6013</td><td>J090404.13+570532.3</td><td>127</td><td>169</td><td>0</td><td>0.0462094</td><td>0.0227277</td><td>0.0296235</td><td>0.0443908</td><td>0.0487145</td><td>0.0222592</td><td>0.03022</td><td>0.55597</td><td>-999.0</td><td>0.570051</td><td>0.643308</td><td>0.979861</td><td>1.21834</td><td>-999.0</td><td>0.534143</td><td>0.597944</td><td>39</td><td>3600</td><td>2</td><td>v1_0_1</td><td>59078</td><td>-999</td><td>0.0462094</td><td>0.046579</td><td>-15.9552 .. -20.5965</td><td>-16.3926 .. -20.4663</td><td>223.74 .. 875.365</td><td>13693500000.0</td><td>9439710000.0</td><td>0.378034</td><td>51.5052</td><td>0.219711 .. 0.0391981</td><td>6.523</td><td>4.87172</td><td>13.8626 .. 635.975</td><td>1.79171 .. 0.00598687</td><td>14.4442 .. 722.823</td><td>1.96905 .. 0.00930865</td><td>0.205749</td><td>2.18084</td><td>51.2808</td><td>8.09139</td><td>9.82225 .. 820.242</td><td>2.79287 .. 0.0443689</td><td>1.1414035570714935</td><td>14.743389129638672</td><td>16.699456893928602</td><td>0.0963277859001372</td><td>0.868911357820688</td><td>0.0007131052643978732</td><td>36.558508375391675</td><td>0.020946818786307338</td><td>35.641571170832165</td><td>0.018071593708941423</td><td>56.79483322166177</td><td>0.08249999450764357</td><td>369.9104377816068</td><td>1.1162754236338</td><td>2.2255004811754473</td><td>0.025995323685563534</td><td>57.98401438954021</td><td>1.0019694161891133</td><td>0.003716146716676395</td><td>10.501250692751151</td><td>11.98875372506019</td><td>11.44150293569664</td><td>2.5</td><td>1201.0759702017704</td><td>23.844360911771343</td><td>0.5494068894426105</td><td>0.02030870938454245</td><td>494628915.16105384</td><td>13753186.951918408</td><td>1.3970129924747783</td><td>0.0114278522601265</td><td>10.546935338970071</td><td>9.081725877664413</td><td>10.558369569453301</td><td>9.103192513387299</td><td>203727.58256011392</td><td>9.775858879089355</td><td>-999.0</td><td>383.131393858277</td><td>32.519186623217024</td><td>4.756507873535156</td><td>0.0</td><td>0.0</td><td>0.0</td><td>11.32307263875663</td><td>10.727979027247507</td><td>0.0</td><td>0.085</td><td>0.059</td><td>-999.0</td><td>9.902006982545116</td><td>347.745404077086</td><td>47.8247202374236</td></tr>\n",
       "<tr><td>10001</td><td>12704</td><td>10001-12704</td><td>1-55616</td><td>v3_1_1</td><td>v3_1_1</td><td>v1_9_1</td><td>v5_5_36</td><td>v2_9</td><td>APOGEE-2&amp;MaNGA</td><td>MaNGA dither</td><td>133.989966869</td><td>57.6779676669</td><td>159.101196491</td><td>39.1494998661</td><td>133.98997</td><td>57.677968</td><td>0.0476794</td><td>9</td><td>8100.81</td><td>64</td><td>19.9086</td><td>40.7596</td><td>ma076</td><td>34</td><td>3</td><td>9114</td><td>134.41357</td><td>57.604214</td><td>1.10705</td><td>1.15123</td><td>1.21051</td><td>1.78219</td><td>1.85994</td><td>2.12685</td><td>0.898721</td><td>0.929654</td><td>0.937466</td><td>57372</td><td>57373</td><td>57373</td><td>2.6788</td><td>2.58733</td><td>2.52311</td><td>2.47903</td><td>4160</td><td>0</td><td>0</td><td>1</td><td>plateTargets-1.par</td><td>6013</td><td>J085557.56+574040.6</td><td>127</td><td>397</td><td>0</td><td>0.0141215</td><td>0.0183756</td><td>0.0258019</td><td>0.037294</td><td>0.0415338</td><td>0.0141373</td><td>0.0310467</td><td>0.67973</td><td>-999.0</td><td>-999.0</td><td>-999.0</td><td>-999.0</td><td>-999.0</td><td>0.716568</td><td>0.45291</td><td>0.474847</td><td>36</td><td>3600</td><td>5</td><td>v1_0_1</td><td>59044</td><td>-999</td><td>0.0141215</td><td>0.0145852</td><td>-14.2399 .. -19.4321</td><td>-14.2982 .. -19.3602</td><td>262.464 .. 794.079</td><td>4286640000.0</td><td>4218380000.0</td><td>0.212315</td><td>81.0961</td><td>0.388503 .. 0.0693118</td><td>16.0734</td><td>11.44</td><td>18.0685 .. 2387.32</td><td>0.731053 .. 1.94195e-05</td><td>18.855 .. 2747.21</td><td>1.50036 .. 0.000434694</td><td>0.15</td><td>0.869326</td><td>81.2193</td><td>18.2816</td><td>17.8616 .. 2923.9</td><td>2.16404 .. 0.00123046</td><td>1.2909390780165348</td><td>33.156402587890625</td><td>-2.634762784476005</td><td>0.09187106750706249</td><td>0.4055339772671592</td><td>0.0006001633102882991</td><td>36.43376557407452</td><td>0.01858300451194395</td><td>38.139029680496584</td><td>0.02222913860579567</td><td>85.11107958400636</td><td>0.057813166931291814</td><td>122.48415062258817</td><td>0.3994965769481449</td><td>2.016120495793798</td><td>0.004139169135295307</td><td>22.622761000584767</td><td>3.9043682508897124</td><td>0.08876432226865019</td><td>5.708876239096034</td><td>10.919496867791567</td><td>10.33626744461852</td><td>3.5</td><td>589.741380235529</td><td>13.146010279176876</td><td>0.16832394280031962</td><td>0.004839248890317191</td><td>541588696.96986</td><td>5004394.585211396</td><td>0.8480244916060672</td><td>0.0027159735332440583</td><td>9.918768524805014</td><td>8.032310918758885</td><td>9.924592856288296</td><td>8.044620557122625</td><td>265311.1920361342</td><td>9.239542007446289</td><td>-999.0</td><td>292.93732389433455</td><td>4.826130375197129</td><td>4.773223400115967</td><td>0.0</td><td>0.0</td><td>0.0</td><td>10.37352631137793</td><td>9.51492042443341</td><td>0.0</td><td>0.157</td><td>0.109</td><td>-999.0</td><td>6.80524567314194</td><td>122.48211130453265</td><td>14.72299702222846</td></tr>\n",
       "</table></div>"
      ],
      "text/plain": [
       "<Table length=4>\n",
       "plate ifudsgn   plateifu  ...       v_3p5            v_3p5_err    \n",
       "int64 bytes32   bytes32   ...      float64            float64     \n",
       "----- ------- ----------- ... ------------------ -----------------\n",
       "10001   12701 10001-12701 ... 183.14938552312165 24.91258446340628\n",
       "10001   12702 10001-12702 ... 168.30899596736322 29.53675151629983\n",
       "10001   12703 10001-12703 ...   347.745404077086  47.8247202374236\n",
       "10001   12704 10001-12704 ... 122.48211130453265 14.72299702222846"
      ]
     },
     "execution_count": 61,
     "metadata": {},
     "output_type": "execute_result"
    }
   ],
   "source": [
    "verr_table[0:4]"
   ]
  },
  {
   "cell_type": "code",
   "execution_count": 62,
   "metadata": {},
   "outputs": [],
   "source": [
    "working_table['v_3p5'] = verr_table['v_3p5']\n",
    "working_table['v_3p5_err'] = verr_table['v_3p5_err']"
   ]
  },
  {
   "cell_type": "code",
   "execution_count": null,
   "metadata": {},
   "outputs": [],
   "source": []
  },
  {
   "cell_type": "code",
   "execution_count": null,
   "metadata": {},
   "outputs": [],
   "source": []
  }
 ],
 "metadata": {
  "kernelspec": {
   "display_name": "Python 3",
   "language": "python",
   "name": "python3"
  },
  "language_info": {
   "codemirror_mode": {
    "name": "ipython",
    "version": 3
   },
   "file_extension": ".py",
   "mimetype": "text/x-python",
   "name": "python",
   "nbconvert_exporter": "python",
   "pygments_lexer": "ipython3",
   "version": "3.7.4"
  }
 },
 "nbformat": 4,
 "nbformat_minor": 2
}
