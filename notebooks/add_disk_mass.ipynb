{
 "cells": [
  {
   "cell_type": "code",
   "execution_count": 47,
   "metadata": {},
   "outputs": [],
   "source": [
    "import astropy\n",
    "import numpy as np\n",
    "from astropy.table import Table\n",
    "\n",
    "import sys\n",
    "sys.path.insert(1, '/Users/nityaravi/Documents/GitHub/RotationCurves/')\n",
    "\n",
    "from spirals.rotation_curve_functions import disk_mass\n",
    "from astropy.io import fits"
   ]
  },
  {
   "cell_type": "code",
   "execution_count": 3,
   "metadata": {},
   "outputs": [],
   "source": [
    "NSA_FN = '/Users/nityaravi/Documents/Research/RotationCurves/data/nsa_v1_0_1.fits'\n",
    "DISK_FITS_FN = '/Users/nityaravi/Documents/Research/RotationCurves/data/manga/output_files/DR17/Pipe3d_disk_bulge.fits'"
   ]
  },
  {
   "cell_type": "code",
   "execution_count": 4,
   "metadata": {},
   "outputs": [],
   "source": [
    "galaxies_table = Table.read(DISK_FITS_FN, format='fits')\n",
    "nsa_table = Table.read(NSA_FN, format='fits')"
   ]
  },
  {
   "cell_type": "code",
   "execution_count": 5,
   "metadata": {},
   "outputs": [
    {
     "data": {
      "text/plain": [
       "11273"
      ]
     },
     "execution_count": 5,
     "metadata": {},
     "output_type": "execute_result"
    }
   ],
   "source": [
    "len(galaxies_table)"
   ]
  },
  {
   "cell_type": "code",
   "execution_count": 7,
   "metadata": {},
   "outputs": [
    {
     "name": "stdout",
     "output_type": "stream",
     "text": [
      "0\n",
      "1000\n",
      "2000\n",
      "3000\n",
      "4000\n",
      "5000\n",
      "6000\n",
      "7000\n",
      "8000\n",
      "9000\n",
      "10000\n",
      "11000\n"
     ]
    }
   ],
   "source": [
    "# indices of galaxies in nsa_table\n",
    "nsa_index = np.ones(len(galaxies_table))*np.nan\n",
    "nsa_ids = galaxies_table['nsa_nsaid']\n",
    "for i in range(0, len(galaxies_table)):\n",
    "    \n",
    "    if nsa_ids[i] >= 0:\n",
    "        nsa_index[i] = np.where(nsa_table['NSAID'] == nsa_ids[i])[0][0]\n",
    "        \n",
    "    if i % 1000 ==0:\n",
    "        print(i)"
   ]
  },
  {
   "cell_type": "code",
   "execution_count": 12,
   "metadata": {},
   "outputs": [
    {
     "data": {
      "text/plain": [
       "array([ 48157.,  48188.,  55648., ..., 294374., 294459., 550782.])"
      ]
     },
     "execution_count": 12,
     "metadata": {},
     "output_type": "execute_result"
    }
   ],
   "source": [
    "nsa_index"
   ]
  },
  {
   "cell_type": "code",
   "execution_count": 13,
   "metadata": {},
   "outputs": [
    {
     "name": "stdout",
     "output_type": "stream",
     "text": [
      "0\n",
      "1000\n",
      "2000\n",
      "3000\n",
      "4000\n",
      "5000\n",
      "6000\n",
      "7000\n",
      "8000\n",
      "9000\n",
      "10000\n",
      "11000\n"
     ]
    }
   ],
   "source": [
    "R90 = np.ones(len(nsa_index))*np.nan\n",
    "for i in range(0, len(nsa_index)):\n",
    "    if np.isfinite(nsa_index[i]):\n",
    "        R90[i] = nsa_table['ELPETRO_TH90_R'][int(nsa_index[i])]\n",
    "    \n",
    "    if i % 1000 ==0:\n",
    "        print(i)"
   ]
  },
  {
   "cell_type": "code",
   "execution_count": 52,
   "metadata": {},
   "outputs": [],
   "source": [
    "z = galaxies_table['nsa_z']\n",
    "H_0 = 100      # Hubble's Constant in units of h km/s/Mpc\n",
    "c = 299792.458 # Speed of light in units of km/s"
   ]
  },
  {
   "cell_type": "code",
   "execution_count": 34,
   "metadata": {},
   "outputs": [],
   "source": [
    "# add R90 to galaxies_table\n",
    "galaxies_table['nsa_elpetro_th90'] = R90"
   ]
  },
  {
   "cell_type": "code",
   "execution_count": 53,
   "metadata": {},
   "outputs": [],
   "source": [
    "dist_to_galaxy_Mpc = c*z/H_0\n",
    "dist_to_galaxy_kpc = dist_to_galaxy_Mpc*1000\n",
    "\n",
    "R90_kpc = dist_to_galaxy_kpc*np.tan(R90*(1./60)*(1./60)*(np.pi/180))"
   ]
  },
  {
   "cell_type": "code",
   "execution_count": 54,
   "metadata": {},
   "outputs": [],
   "source": [
    "function_parameters = {'Sigma_disk': galaxies_table['Sigma_disk'],\n",
    "                   'R_disk': galaxies_table['R_disk'],\n",
    "                   'R_bulge': galaxies_table['R_bulge'],\n",
    "                   'rho_bulge': galaxies_table['rho_bulge'],\n",
    "                   'Sigma_disk_err': galaxies_table['Sigma_disk_err'],\n",
    "                   'R_disk_err': galaxies_table['R_disk_err'],\n",
    "                   'R_bulge_err': galaxies_table['R_bulge_err'],\n",
    "                   'rho_bulge_err': galaxies_table['rho_bulge_err'],\n",
    "}"
   ]
  },
  {
   "cell_type": "code",
   "execution_count": 55,
   "metadata": {},
   "outputs": [
    {
     "name": "stderr",
     "output_type": "stream",
     "text": [
      "/Users/nityaravi/Documents/GitHub/RotationCurves/spirals/rotation_curve_functions.py:277: RuntimeWarning: overflow encountered in exp\n",
      "  Mdisk = 2*np.pi*SigD*Rd*(Rd - np.exp(-r/Rd)*(r + Rd))\n",
      "/Users/nityaravi/Documents/GitHub/RotationCurves/spirals/rotation_curve_functions.py:279: RuntimeWarning: overflow encountered in exp\n",
      "  Mdisk_err2 = (4*np.pi*Rd*SigD - 2*np.exp(-r/Rd)*np.pi*SigD*(r**2 + 2*r*Rd +2*Rd**2)/Rd)**2\\\n",
      "/Users/nityaravi/Documents/GitHub/RotationCurves/spirals/rotation_curve_functions.py:288: RuntimeWarning: overflow encountered in exp\n",
      "  F = 1 - np.exp(-x) * (1 + x + x**2 / 2)\n",
      "/Users/nityaravi/Documents/GitHub/RotationCurves/spirals/rotation_curve_functions.py:291: RuntimeWarning: overflow encountered in exp\n",
      "  M_bulge_err2= ((4*np.pi*rho_bulge/R_bulge)*(6*R_bulge**3-np.exp(-x) \\\n",
      "/Users/nityaravi/Documents/GitHub/RotationCurves/spirals/rotation_curve_functions.py:300: RuntimeWarning: divide by zero encountered in log10\n",
      "  return np.log10(Mdisk_tot), np.log10(Mdisk_tot_err)\n"
     ]
    }
   ],
   "source": [
    "M90_disk, M90_disk_err = disk_mass(function_parameters, R90_kpc)\n",
    "M_disk, M_disk_err = disk_mass(function_parameters, 3.5*R90_kpc)"
   ]
  },
  {
   "cell_type": "code",
   "execution_count": 56,
   "metadata": {},
   "outputs": [],
   "source": [
    "galaxies_table['M90_disk'] = M90_disk\n",
    "galaxies_table['M90_disk_err'] = M90_disk_err\n",
    "galaxies_table['M_disk'] = M_disk\n",
    "galaxies_table['M_disk_err'] = M_disk_err"
   ]
  },
  {
   "cell_type": "code",
   "execution_count": 57,
   "metadata": {},
   "outputs": [],
   "source": [
    "galaxies_table.write('/Users/nityaravi/Documents/Research/RotationCurves/data/manga/output_files/DR17/disk_masses.fits',\n",
    "                      format='fits', overwrite=True)"
   ]
  }
 ],
 "metadata": {
  "kernelspec": {
   "display_name": "Python 3",
   "language": "python",
   "name": "python3"
  },
  "language_info": {
   "codemirror_mode": {
    "name": "ipython",
    "version": 3
   },
   "file_extension": ".py",
   "mimetype": "text/x-python",
   "name": "python",
   "nbconvert_exporter": "python",
   "pygments_lexer": "ipython3",
   "version": "3.7.4"
  }
 },
 "nbformat": 4,
 "nbformat_minor": 2
}
