{
 "cells": [
  {
   "cell_type": "code",
   "execution_count": 19,
   "metadata": {},
   "outputs": [],
   "source": [
    "import numpy as np\n",
    "from astropy.io import fits\n",
    "from astropy.table import Table\n",
    "import sys\n",
    "import matplotlib.pyplot as plt\n",
    "sys.path.insert(1,\"/Users/nityaravi/Documents/Github/RotationCurves/spirals/\")\n",
    "#sys.path.insert(1, '/home/kelly/Documents/RotationCurves/spirals/')\n",
    "from rotation_curve_functions import disk_vel, disk_bulge_vel"
   ]
  },
  {
   "cell_type": "code",
   "execution_count": 2,
   "metadata": {},
   "outputs": [],
   "source": [
    "OUTPUT_FOLDER = '/Users/nityaravi/Documents/Research/data/manga/output_files/'\n",
    "BULGE_FN = OUTPUT_FOLDER + 'out_bulge_diskFit.fits'"
   ]
  },
  {
   "cell_type": "code",
   "execution_count": 3,
   "metadata": {},
   "outputs": [],
   "source": [
    "tab = Table.read(BULGE_FN, format='fits')"
   ]
  },
  {
   "cell_type": "code",
   "execution_count": 7,
   "metadata": {},
   "outputs": [],
   "source": [
    "gal_index = np.where(tab['plateifu'] == '8082-9102')[0][0]"
   ]
  },
  {
   "cell_type": "code",
   "execution_count": 9,
   "metadata": {},
   "outputs": [
    {
     "data": {
      "text/html": [
       "<i>Row index=4857</i>\n",
       "<table id=\"table140581394797520\">\n",
       "<thead><tr><th>plate</th><th>ifudsgn</th><th>plateifu</th><th>mangaid</th><th>versdrp2</th><th>versdrp3</th><th>verscore</th><th>versutil</th><th>versprim</th><th>platetyp</th><th>srvymode</th><th>objra</th><th>objdec</th><th>ifuglon</th><th>ifuglat</th><th>ifura</th><th>ifudec</th><th>ebvgal</th><th>nexp</th><th>exptime</th><th>drp3qual</th><th>bluesn2</th><th>redsn2</th><th>harname</th><th>frlplug</th><th>cartid</th><th>designid</th><th>cenra</th><th>cendec</th><th>airmsmin</th><th>airmsmed</th><th>airmsmax</th><th>seemin</th><th>seemed</th><th>seemax</th><th>transmin</th><th>transmed</th><th>transmax</th><th>mjdmin</th><th>mjdmed</th><th>mjdmax</th><th>gfwhm</th><th>rfwhm</th><th>ifwhm</th><th>zfwhm</th><th>mngtarg1</th><th>mngtarg2</th><th>mngtarg3</th><th>catidnum</th><th>plttarg</th><th>manga_tileid</th><th>nsa_iauname</th><th>ifudesignsize</th><th>ifutargetsize</th><th>ifudesignwrongsize</th><th>z</th><th>zmin</th><th>zmax</th><th>szmin</th><th>szmax</th><th>ezmin</th><th>ezmax</th><th>probs</th><th>pweight</th><th>psweight</th><th>psrweight</th><th>sweight</th><th>srweight</th><th>eweight</th><th>esweight</th><th>esrweight</th><th>nsa_field</th><th>nsa_run</th><th>nsa_camcol</th><th>nsa_version</th><th>nsa_nsaid</th><th>nsa_nsaid_v1b</th><th>nsa_z</th><th>nsa_zdist</th><th>nsa_sersic_absmag [7]</th><th>nsa_elpetro_absmag [7]</th><th>nsa_elpetro_amivar [7]</th><th>nsa_sersic_mass</th><th>nsa_elpetro_mass</th><th>nsa_elpetro_ba</th><th>nsa_elpetro_phi</th><th>nsa_extinction [7]</th><th>nsa_elpetro_th50_r</th><th>nsa_petro_th50</th><th>nsa_petro_flux [7]</th><th>nsa_petro_flux_ivar [7]</th><th>nsa_elpetro_flux [7]</th><th>nsa_elpetro_flux_ivar [7]</th><th>nsa_sersic_ba</th><th>nsa_sersic_n</th><th>nsa_sersic_phi</th><th>nsa_sersic_th50</th><th>nsa_sersic_flux [7]</th><th>nsa_sersic_flux_ivar [7]</th><th>smoothness_score</th><th>nsa_elpetro_th90</th><th>v_sys</th><th>v_sys_err</th><th>ba</th><th>ba_err</th><th>x0</th><th>x0_err</th><th>y0</th><th>y0_err</th><th>phi</th><th>phi_err</th><th>v_max</th><th>v_max_err</th><th>r_turn</th><th>r_turn_err</th><th>chi2</th><th>alpha</th><th>alpha_err</th><th>Rmax</th><th>M</th><th>M_err</th><th>fit_flag</th><th>Sigma_disk</th><th>Sigma_disk_err</th><th>R_disk</th><th>R_disk_err</th><th>rho_bulge</th><th>rho_bulge_err</th><th>R_bulge</th><th>R_bulge_err</th><th>chi2_disk</th><th>M90_disk</th><th>M90_disk_err</th></tr></thead>\n",
       "<thead><tr><th>int64</th><th>bytes32</th><th>bytes32</th><th>bytes32</th><th>bytes32</th><th>bytes32</th><th>bytes32</th><th>bytes32</th><th>bytes32</th><th>bytes32</th><th>bytes32</th><th>float64</th><th>float64</th><th>float64</th><th>float64</th><th>float64</th><th>float64</th><th>float64</th><th>int64</th><th>float64</th><th>int64</th><th>float64</th><th>float64</th><th>bytes53</th><th>int64</th><th>bytes32</th><th>int64</th><th>float64</th><th>float64</th><th>float64</th><th>float64</th><th>float64</th><th>float64</th><th>float64</th><th>float64</th><th>float64</th><th>float64</th><th>float64</th><th>int64</th><th>int64</th><th>int64</th><th>float64</th><th>float64</th><th>float64</th><th>float64</th><th>int64</th><th>int64</th><th>int64</th><th>int64</th><th>bytes32</th><th>int64</th><th>bytes19</th><th>int64</th><th>int64</th><th>int64</th><th>float64</th><th>float64</th><th>float64</th><th>float64</th><th>float64</th><th>float64</th><th>float64</th><th>float64</th><th>float64</th><th>float64</th><th>float64</th><th>float64</th><th>float64</th><th>float64</th><th>float64</th><th>float64</th><th>int64</th><th>int64</th><th>int64</th><th>bytes6</th><th>int64</th><th>int64</th><th>float64</th><th>float64</th><th>float64</th><th>float64</th><th>float64</th><th>float64</th><th>float64</th><th>float64</th><th>float64</th><th>float64</th><th>float64</th><th>float64</th><th>float64</th><th>float64</th><th>float64</th><th>float64</th><th>float64</th><th>float64</th><th>float64</th><th>float64</th><th>float64</th><th>float64</th><th>float64</th><th>float64</th><th>float64</th><th>float64</th><th>float64</th><th>float64</th><th>float64</th><th>float64</th><th>float64</th><th>float64</th><th>float64</th><th>float64</th><th>float64</th><th>float64</th><th>float64</th><th>float64</th><th>float64</th><th>float64</th><th>float64</th><th>float64</th><th>float64</th><th>float64</th><th>float64</th><th>float64</th><th>float64</th><th>float64</th><th>float64</th><th>float64</th><th>float64</th><th>float64</th><th>float64</th><th>float64</th><th>float64</th><th>float64</th></tr></thead>\n",
       "<tr><td>8082</td><td>9102</td><td>8082-9102</td><td>1-109394</td><td>v3_1_1</td><td>v3_1_1</td><td>v1_9_1</td><td>v5_5_36</td><td>v2_9</td><td>MaNGA</td><td>MaNGA dither</td><td>50.179936141</td><td>-1.0022917898</td><td>183.143404703</td><td>-45.6954144323</td><td>50.179936</td><td>-1.0022918</td><td>0.0695693</td><td>12</td><td>10801.1</td><td>0</td><td>23.2312</td><td>51.842</td><td>ma022</td><td>33</td><td>2</td><td>8642</td><td>49.4731</td><td>0.0</td><td>1.20316</td><td>1.22243</td><td>1.27776</td><td>1.36235</td><td>1.59326</td><td>1.96028</td><td>0.91646</td><td>0.941591</td><td>0.954692</td><td>56925</td><td>56954</td><td>56954</td><td>2.55952</td><td>2.58128</td><td>2.55926</td><td>2.53913</td><td>4288</td><td>0</td><td>128</td><td>1</td><td>plateTargets-1.par</td><td>7723</td><td>J032043.18-010008.2</td><td>91</td><td>91</td><td>0</td><td>0.0361073</td><td>0.0257258</td><td>0.0348361</td><td>0.0522104</td><td>0.0571187</td><td>0.023507</td><td>0.0365433</td><td>0.67973</td><td>-999.0</td><td>-999.0</td><td>-999.0</td><td>-999.0</td><td>-999.0</td><td>0.545559</td><td>0.276614</td><td>0.294864</td><td>790</td><td>4849</td><td>1</td><td>v1_0_1</td><td>115801</td><td>-999</td><td>0.0361073</td><td>0.0363433</td><td>-16.4383 .. -21.3578</td><td>-16.4459 .. -21.2009</td><td>381.981 .. 1054.36</td><td>23173500000.0</td><td>19945700000.0</td><td>0.42712</td><td>114.911</td><td>0.573129 .. 0.102251</td><td>7.17137</td><td>5.50047</td><td>16.9997 .. 2300.29</td><td>2.48828 .. 0.00326358</td><td>17.6572 .. 2239.16</td><td>3.71439 .. 0.00485335</td><td>0.314274</td><td>1.3022</td><td>115.475</td><td>8.41406</td><td>17.5353 .. 2570.54</td><td>3.70723 .. 0.0135074</td><td>0.7780162062600394</td><td>16.0274600982666</td><td>--</td><td>--</td><td>--</td><td>--</td><td>--</td><td>--</td><td>--</td><td>--</td><td>--</td><td>--</td><td>--</td><td>--</td><td>--</td><td>--</td><td>--</td><td>--</td><td>--</td><td>--</td><td>--</td><td>--</td><td>--</td><td>3441.071035863163</td><td>45.64739189420848</td><td>0.5760636655257144</td><td>0.015602969136087011</td><td>1037989959.7338778</td><td>41070994.086614266</td><td>1.276698763876978</td><td>0.01463987129699675</td><td>3197093073.0313287</td><td>9.855811384802973</td><td>12.055765761372221</td></tr>\n",
       "</table>"
      ],
      "text/plain": [
       "<Row index=4857>\n",
       "plate ifudsgn  plateifu mangaid  versdrp2 versdrp3 verscore versutil versprim platetyp   srvymode      objra         objdec       ifuglon       ifuglat       ifura     ifudec     ebvgal   nexp exptime drp3qual bluesn2  redsn2 harname frlplug  cartid designid  cenra   cendec airmsmin airmsmed airmsmax  seemin  seemed  seemax transmin transmed transmax mjdmin mjdmed mjdmax  gfwhm   rfwhm   ifwhm   zfwhm  mngtarg1 mngtarg2 mngtarg3 catidnum      plttarg       manga_tileid     nsa_iauname     ifudesignsize ifutargetsize ifudesignwrongsize     z        zmin      zmax     szmin     szmax    ezmin     ezmax    probs  pweight psweight psrweight sweight srweight eweight  esweight esrweight nsa_field nsa_run nsa_camcol nsa_version nsa_nsaid nsa_nsaid_v1b   nsa_z   nsa_zdist nsa_sersic_absmag [7] nsa_elpetro_absmag [7] nsa_elpetro_amivar [7] nsa_sersic_mass nsa_elpetro_mass nsa_elpetro_ba nsa_elpetro_phi  nsa_extinction [7]  nsa_elpetro_th50_r nsa_petro_th50 nsa_petro_flux [7] nsa_petro_flux_ivar [7] nsa_elpetro_flux [7] nsa_elpetro_flux_ivar [7] nsa_sersic_ba nsa_sersic_n nsa_sersic_phi nsa_sersic_th50 nsa_sersic_flux [7] nsa_sersic_flux_ivar [7]  smoothness_score  nsa_elpetro_th90  v_sys  v_sys_err    ba    ba_err    x0    x0_err    y0    y0_err   phi   phi_err  v_max  v_max_err  r_turn r_turn_err   chi2   alpha  alpha_err   Rmax     M     M_err  fit_flag     Sigma_disk      Sigma_disk_err        R_disk            R_disk_err          rho_bulge        rho_bulge_err         R_bulge          R_bulge_err         chi2_disk           M90_disk        M90_disk_err   \n",
       "int64 bytes32  bytes32  bytes32  bytes32  bytes32  bytes32  bytes32  bytes32  bytes32    bytes32      float64       float64       float64       float64      float64   float64    float64  int64 float64  int64   float64 float64 bytes53  int64  bytes32  int64   float64 float64 float64  float64  float64  float64 float64 float64 float64  float64  float64  int64  int64  int64  float64 float64 float64 float64  int64    int64    int64    int64        bytes32          int64           bytes19           int64         int64           int64         float64   float64   float64   float64   float64  float64   float64  float64 float64 float64   float64  float64 float64  float64  float64   float64    int64    int64    int64       bytes6     int64       int64      float64   float64         float64               float64                float64             float64         float64         float64         float64           float64             float64          float64          float64               float64               float64                 float64             float64      float64       float64         float64           float64               float64               float64           float64      float64  float64  float64 float64 float64 float64 float64 float64 float64 float64 float64  float64  float64  float64   float64 float64  float64  float64 float64 float64 float64       float64           float64           float64             float64             float64            float64            float64            float64            float64            float64           float64      \n",
       "----- ------- --------- -------- -------- -------- -------- -------- -------- -------- ------------ ------------ ------------- ------------- -------------- --------- ---------- --------- ----- ------- -------- ------- ------- ------- ------- ------- -------- ------- ------- -------- -------- -------- ------- ------- ------- -------- -------- -------- ------ ------ ------ ------- ------- ------- ------- -------- -------- -------- -------- ------------------ ------------ ------------------- ------------- ------------- ------------------ --------- --------- --------- --------- --------- -------- --------- ------- ------- -------- --------- ------- -------- -------- -------- --------- --------- ------- ---------- ----------- --------- ------------- --------- --------- --------------------- ---------------------- ---------------------- --------------- ---------------- -------------- --------------- -------------------- ------------------ -------------- ------------------ ----------------------- -------------------- ------------------------- ------------- ------------ -------------- --------------- ------------------- ------------------------ ------------------ ---------------- ------- --------- ------- ------- ------- ------- ------- ------- ------- ------- ------- --------- ------- ---------- ------- ------- --------- ------- ------- ------- -------- ----------------- ----------------- ------------------ -------------------- ------------------ ------------------ ----------------- ------------------- ------------------ ----------------- ------------------\n",
       " 8082    9102 8082-9102 1-109394   v3_1_1   v3_1_1   v1_9_1  v5_5_36     v2_9    MaNGA MaNGA dither 50.179936141 -1.0022917898 183.143404703 -45.6954144323 50.179936 -1.0022918 0.0695693    12 10801.1        0 23.2312  51.842   ma022      33       2     8642 49.4731     0.0  1.20316  1.22243  1.27776 1.36235 1.59326 1.96028  0.91646 0.941591 0.954692  56925  56954  56954 2.55952 2.58128 2.55926 2.53913     4288        0      128        1 plateTargets-1.par         7723 J032043.18-010008.2            91            91                  0 0.0361073 0.0257258 0.0348361 0.0522104 0.0571187 0.023507 0.0365433 0.67973  -999.0   -999.0    -999.0  -999.0   -999.0 0.545559 0.276614  0.294864       790    4849          1      v1_0_1    115801          -999 0.0361073 0.0363433  -16.4383 .. -21.3578   -16.4459 .. -21.2009     381.981 .. 1054.36   23173500000.0    19945700000.0        0.42712         114.911 0.573129 .. 0.102251            7.17137        5.50047 16.9997 .. 2300.29   2.48828 .. 0.00326358   17.6572 .. 2239.16     3.71439 .. 0.00485335      0.314274       1.3022        115.475         8.41406  17.5353 .. 2570.54     3.70723 .. 0.0135074 0.7780162062600394 16.0274600982666      --        --      --      --      --      --      --      --      --      --      --        --      --         --      --      --        --      --      --      --       -- 3441.071035863163 45.64739189420848 0.5760636655257144 0.015602969136087011 1037989959.7338778 41070994.086614266 1.276698763876978 0.01463987129699675 3197093073.0313287 9.855811384802973 12.055765761372221"
      ]
     },
     "execution_count": 9,
     "metadata": {},
     "output_type": "execute_result"
    }
   ],
   "source": [
    "#8082-9102\n",
    "gal_row = tab[gal_index]\n",
    "gal_row"
   ]
  },
  {
   "cell_type": "code",
   "execution_count": 33,
   "metadata": {},
   "outputs": [],
   "source": [
    "R90 = gal_row['nsa_elpetro_th90']\n",
    "S_d = gal_row['Sigma_disk']\n",
    "R_d = gal_row['R_disk']\n",
    "rho_b = gal_row['rho_bulge']\n",
    "R_b = gal_row['R_bulge']\n",
    "x = np.linspace(0, 3*R90, 10000)"
   ]
  },
  {
   "cell_type": "code",
   "execution_count": 32,
   "metadata": {},
   "outputs": [
    {
     "data": {
      "text/plain": [
       "[<matplotlib.lines.Line2D at 0x7fdba12978d0>]"
      ]
     },
     "execution_count": 32,
     "metadata": {},
     "output_type": "execute_result"
    },
    {
     "data": {
      "image/png": "[encoded data removed]",
      "text/plain": [
       "<Figure size 432x288 with 1 Axes>"
      ]
     },
     "metadata": {
      "needs_background": "light"
     },
     "output_type": "display_data"
    }
   ],
   "source": [
    "plt.plot(x/R90,disk_vel(x, S_d, R_d) ,label='disk')\n",
    "plt.plot()\n",
    "#plt.\n",
    "#plt.plot( ,label='bulge')"
   ]
  },
  {
   "cell_type": "code",
   "execution_count": null,
   "metadata": {},
   "outputs": [],
   "source": []
  }
 ],
 "metadata": {
  "kernelspec": {
   "display_name": "Python 3",
   "language": "python",
   "name": "python3"
  },
  "language_info": {
   "codemirror_mode": {
    "name": "ipython",
    "version": 3
   },
   "file_extension": ".py",
   "mimetype": "text/x-python",
   "name": "python",
   "nbconvert_exporter": "python",
   "pygments_lexer": "ipython3",
   "version": "3.7.4"
  }
 },
 "nbformat": 4,
 "nbformat_minor": 2
}
