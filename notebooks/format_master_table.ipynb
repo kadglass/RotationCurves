{
 "cells": [
  {
   "cell_type": "code",
   "execution_count": 63,
   "metadata": {},
   "outputs": [],
   "source": [
    "from astropy.table import Table\n",
    "import numpy as np\n",
    "from astropy.io import fits"
   ]
  },
  {
   "cell_type": "code",
   "execution_count": 68,
   "metadata": {},
   "outputs": [],
   "source": [
    "m_fn = '/Users/nityaravi/Documents/Research/RotationCurves/data/manga/output_files/DR17/master_table_DR17_noWords.fits'\n",
    "w_fn = '/Users/nityaravi/Documents/Research/RotationCurves/data/manga/output_files/DR17/disk_masses_HIdr3_err_morph_v2.fits'"
   ]
  },
  {
   "cell_type": "code",
   "execution_count": 69,
   "metadata": {},
   "outputs": [],
   "source": [
    "m = Table.read(m_fn)\n",
    "w = Table.read(w_fn)"
   ]
  },
  {
   "cell_type": "code",
   "execution_count": 78,
   "metadata": {},
   "outputs": [
    {
     "data": {
      "text/html": [
       "<div><i>Table length=4</i>\n",
       "<table id=\"table140465563854224\" class=\"table-striped table-bordered table-condensed\">\n",
       "<thead><tr><th>MaNGA_plate</th><th>MaNGA_IFU</th><th>NSA_ba</th><th>NSA_phi</th><th>NSA_redshift</th><th>Sigma_disk_map</th><th>Sigma_disk_err_map</th><th>Rdisk_map</th><th>Rdisk_err_map</th><th>rho_bulge_map</th><th>rho_bulge_err_map</th><th>R_bulge_map</th><th>R_bulge_err_map</th><th>M90_disk_map</th><th>M90_disk_err_map</th><th>M3p5_disk_map</th><th>M3p5_disk_err_map</th><th>NSA_elpetro_th90</th><th>chi2_disk_map</th><th>logHI</th><th>logHI200kms</th><th>WF50</th><th>WF50_err</th><th>DL_ttype</th><th>CMD_class</th></tr></thead>\n",
       "<thead><tr><th>int64</th><th>int64</th><th>float64</th><th>float64</th><th>float64</th><th>float64</th><th>float64</th><th>float64</th><th>float64</th><th>float64</th><th>float64</th><th>float64</th><th>float64</th><th>float64</th><th>float64</th><th>float64</th><th>float64</th><th>float64</th><th>float64</th><th>float64</th><th>float64</th><th>float64</th><th>float64</th><th>float64</th><th>float64</th></tr></thead>\n",
       "<tr><td>10001</td><td>12701</td><td>0.417013</td><td>69.2463</td><td>0.0392074</td><td>300.9007693953248</td><td>15.203381761428345</td><td>0.42300918794160963</td><td>0.04332889447409282</td><td>318528356.25649077</td><td>10973819.90888883</td><td>318528356.25649077</td><td>10973819.90888883</td><td>10.054323200255043</td><td>8.681101900065409</td><td>10.119328135890797</td><td>8.780959524997495</td><td>9.852487564086914</td><td>471538.3029792875</td><td>10.350040435791016</td><td>-999.0</td><td>309.752973573684</td><td>50.84180796596384</td><td>6.564641952514648</td><td>51226.0</td></tr>\n",
       "<tr><td>10001</td><td>12702</td><td>0.598115</td><td>12.5169</td><td>0.0408108</td><td>293.3478638373148</td><td>10.60192409708804</td><td>0.6790488070059231</td><td>0.05316399052089292</td><td>115971867.9868961</td><td>7747575.084882941</td><td>115971867.9868961</td><td>7747575.084882941</td><td>10.124313484194262</td><td>9.034999166941406</td><td>10.177811159857796</td><td>9.124034282826187</td><td>14.355437278747559</td><td>1207886.7459959988</td><td>9.583724021911621</td><td>-999.0</td><td>273.50491644321835</td><td>6.866128229994085</td><td>4.730921268463135</td><td>51261.0</td></tr>\n",
       "<tr><td>10001</td><td>12703</td><td>0.378034</td><td>51.5052</td><td>0.0462094</td><td>1201.0759702017704</td><td>23.844360911771343</td><td>0.5494068894426105</td><td>0.02030870938454245</td><td>494628915.16105384</td><td>13753186.951918408</td><td>494628915.16105384</td><td>13753186.951918408</td><td>10.546935338970071</td><td>9.081725877664413</td><td>10.558369569453301</td><td>9.103192513387299</td><td>14.743389129638672</td><td>203727.58256011392</td><td>9.775858879089355</td><td>-999.0</td><td>383.131393858277</td><td>32.519186623217024</td><td>4.756507873535156</td><td>59078.0</td></tr>\n",
       "<tr><td>10001</td><td>12704</td><td>0.212315</td><td>81.0961</td><td>0.0141215</td><td>589.741380235529</td><td>13.146010279176876</td><td>0.16832394280031962</td><td>0.004839248890317191</td><td>541588696.96986</td><td>5004394.585211396</td><td>541588696.96986</td><td>5004394.585211396</td><td>9.918768524805014</td><td>8.032310918758885</td><td>9.924592856288296</td><td>8.044620557122625</td><td>33.156402587890625</td><td>265311.1920361342</td><td>9.239542007446289</td><td>-999.0</td><td>292.93732389433455</td><td>4.826130375197129</td><td>4.773223400115967</td><td>59044.0</td></tr>\n",
       "</table></div>"
      ],
      "text/plain": [
       "<Table length=4>\n",
       "MaNGA_plate MaNGA_IFU  NSA_ba  ...      DL_ttype     CMD_class\n",
       "   int64      int64   float64  ...      float64       float64 \n",
       "----------- --------- -------- ... ----------------- ---------\n",
       "      10001     12701 0.417013 ... 6.564641952514648   51226.0\n",
       "      10001     12702 0.598115 ... 4.730921268463135   51261.0\n",
       "      10001     12703 0.378034 ... 4.756507873535156   59078.0\n",
       "      10001     12704 0.212315 ... 4.773223400115967   59044.0"
      ]
     },
     "execution_count": 78,
     "metadata": {},
     "output_type": "execute_result"
    }
   ],
   "source": [
    "m[0:4]"
   ]
  },
  {
   "cell_type": "code",
   "execution_count": 79,
   "metadata": {},
   "outputs": [
    {
     "data": {
      "text/html": [
       "<div><i>Table length=4</i>\n",
       "<table id=\"table140465563853136\" class=\"table-striped table-bordered table-condensed\">\n",
       "<thead><tr><th>plate</th><th>ifudsgn</th><th>plateifu</th><th>mangaid</th><th>versdrp2</th><th>versdrp3</th><th>verscore</th><th>versutil</th><th>versprim</th><th>platetyp</th><th>srvymode</th><th>objra</th><th>objdec</th><th>ifuglon</th><th>ifuglat</th><th>ifura</th><th>ifudec</th><th>ebvgal</th><th>nexp</th><th>exptime</th><th>drp3qual</th><th>bluesn2</th><th>redsn2</th><th>harname</th><th>frlplug</th><th>cartid</th><th>designid</th><th>cenra</th><th>cendec</th><th>airmsmin</th><th>airmsmed</th><th>airmsmax</th><th>seemin</th><th>seemed</th><th>seemax</th><th>transmin</th><th>transmed</th><th>transmax</th><th>mjdmin</th><th>mjdmed</th><th>mjdmax</th><th>gfwhm</th><th>rfwhm</th><th>ifwhm</th><th>zfwhm</th><th>mngtarg1</th><th>mngtarg2</th><th>mngtarg3</th><th>catidnum</th><th>plttarg</th><th>manga_tileid</th><th>nsa_iauname</th><th>ifudesignsize</th><th>ifutargetsize</th><th>ifudesignwrongsize</th><th>z</th><th>zmin</th><th>zmax</th><th>szmin</th><th>szmax</th><th>ezmin</th><th>ezmax</th><th>probs</th><th>pweight</th><th>psweight</th><th>psrweight</th><th>sweight</th><th>srweight</th><th>eweight</th><th>esweight</th><th>esrweight</th><th>nsa_field</th><th>nsa_run</th><th>nsa_camcol</th><th>nsa_version</th><th>nsa_nsaid</th><th>nsa_nsaid_v1b</th><th>nsa_z</th><th>nsa_zdist</th><th>nsa_sersic_absmag [7]</th><th>nsa_elpetro_absmag [7]</th><th>nsa_elpetro_amivar [7]</th><th>nsa_sersic_mass</th><th>nsa_elpetro_mass</th><th>nsa_elpetro_ba</th><th>nsa_elpetro_phi</th><th>nsa_extinction [7]</th><th>nsa_elpetro_th50_r</th><th>nsa_petro_th50</th><th>nsa_petro_flux [7]</th><th>nsa_petro_flux_ivar [7]</th><th>nsa_elpetro_flux [7]</th><th>nsa_elpetro_flux_ivar [7]</th><th>nsa_sersic_ba</th><th>nsa_sersic_n</th><th>nsa_sersic_phi</th><th>nsa_sersic_th50</th><th>nsa_sersic_flux [7]</th><th>nsa_sersic_flux_ivar [7]</th><th>smoothness_score</th><th>nsa_elpetro_th90</th><th>v_sys</th><th>v_sys_err</th><th>ba</th><th>ba_err</th><th>x0</th><th>x0_err</th><th>y0</th><th>y0_err</th><th>phi</th><th>phi_err</th><th>v_max</th><th>v_max_err</th><th>r_turn</th><th>r_turn_err</th><th>chi2</th><th>alpha</th><th>alpha_err</th><th>Rmax</th><th>M</th><th>M_err</th><th>fit_flag</th><th>Sigma_disk</th><th>Sigma_disk_err</th><th>R_disk</th><th>R_disk_err</th><th>rho_bulge</th><th>rho_bulge_err</th><th>R_bulge</th><th>R_bulge_err</th><th>M90_disk</th><th>M90_disk_err</th><th>M_disk</th><th>M_disk_err</th><th>chi2_disk</th><th>logHI</th><th>logHIlim</th><th>WF50</th><th>WF50_err</th><th>DL_ttype</th><th>vis_tidal</th></tr></thead>\n",
       "<thead><tr><th>int64</th><th>bytes32</th><th>bytes32</th><th>bytes32</th><th>bytes32</th><th>bytes32</th><th>bytes32</th><th>bytes32</th><th>bytes32</th><th>bytes32</th><th>bytes32</th><th>float64</th><th>float64</th><th>float64</th><th>float64</th><th>float64</th><th>float64</th><th>float64</th><th>int64</th><th>float64</th><th>int64</th><th>float64</th><th>float64</th><th>bytes53</th><th>int64</th><th>bytes32</th><th>int64</th><th>float64</th><th>float64</th><th>float64</th><th>float64</th><th>float64</th><th>float64</th><th>float64</th><th>float64</th><th>float64</th><th>float64</th><th>float64</th><th>int64</th><th>int64</th><th>int64</th><th>float64</th><th>float64</th><th>float64</th><th>float64</th><th>int64</th><th>int64</th><th>int64</th><th>int64</th><th>bytes32</th><th>int64</th><th>bytes19</th><th>int64</th><th>int64</th><th>int64</th><th>float64</th><th>float64</th><th>float64</th><th>float64</th><th>float64</th><th>float64</th><th>float64</th><th>float64</th><th>float64</th><th>float64</th><th>float64</th><th>float64</th><th>float64</th><th>float64</th><th>float64</th><th>float64</th><th>int64</th><th>int64</th><th>int64</th><th>bytes6</th><th>int64</th><th>int64</th><th>float64</th><th>float64</th><th>float64</th><th>float64</th><th>float64</th><th>float64</th><th>float64</th><th>float64</th><th>float64</th><th>float64</th><th>float64</th><th>float64</th><th>float64</th><th>float64</th><th>float64</th><th>float64</th><th>float64</th><th>float64</th><th>float64</th><th>float64</th><th>float64</th><th>float64</th><th>float64</th><th>float64</th><th>float64</th><th>float64</th><th>float64</th><th>float64</th><th>float64</th><th>float64</th><th>float64</th><th>float64</th><th>float64</th><th>float64</th><th>float64</th><th>float64</th><th>float64</th><th>float64</th><th>float64</th><th>float64</th><th>float64</th><th>float64</th><th>float64</th><th>float64</th><th>float64</th><th>float64</th><th>float64</th><th>float64</th><th>float64</th><th>float64</th><th>float64</th><th>float64</th><th>float64</th><th>float64</th><th>float64</th><th>float64</th><th>float64</th><th>float64</th><th>float64</th><th>float64</th><th>float64</th><th>float64</th><th>float64</th><th>float64</th></tr></thead>\n",
       "<tr><td>10001</td><td>12701</td><td>10001-12701</td><td>1-48157</td><td>v3_1_1</td><td>v3_1_1</td><td>v1_9_1</td><td>v5_5_36</td><td>v2_9</td><td>APOGEE-2&amp;MaNGA</td><td>MaNGA dither</td><td>133.371090612</td><td>57.5984251446</td><td>159.27921887</td><td>38.8381829181</td><td>133.37109</td><td>57.598425</td><td>0.0545561</td><td>9</td><td>8100.81</td><td>0</td><td>20.0835</td><td>41.292</td><td>ma079</td><td>22</td><td>3</td><td>9114</td><td>134.41357</td><td>57.604214</td><td>1.10715</td><td>1.15321</td><td>1.21404</td><td>1.78219</td><td>1.85994</td><td>2.12685</td><td>0.898721</td><td>0.929654</td><td>0.937466</td><td>57372</td><td>57373</td><td>57373</td><td>2.69906</td><td>2.64546</td><td>2.59645</td><td>2.54039</td><td>2080</td><td>0</td><td>0</td><td>1</td><td>plateTargets-1.par</td><td>6013</td><td>J085329.03+573554.9</td><td>127</td><td>127</td><td>0</td><td>0.0392074</td><td>0.0193562</td><td>0.0264775</td><td>0.0386959</td><td>0.0429176</td><td>0.0193562</td><td>0.0264775</td><td>0.748562</td><td>-999.0</td><td>0.665321</td><td>0.705378</td><td>1.08789</td><td>1.19925</td><td>-999.0</td><td>0.66562</td><td>0.705713</td><td>203</td><td>1350</td><td>6</td><td>v1_0_1</td><td>51226</td><td>-999</td><td>0.0392074</td><td>0.0395926</td><td>-16.2982 .. -19.5112</td><td>-16.2321 .. -19.5522</td><td>275.541 .. 452.944</td><td>3068010000.0</td><td>2685340000.0</td><td>0.417013</td><td>69.2463</td><td>0.448783 .. 0.0800664</td><td>5.16633</td><td>3.63987</td><td>12.7947 .. 413.049</td><td>3.26768 .. 0.000422625</td><td>13.8306 .. 425.941</td><td>3.03694 .. 0.00496838</td><td>0.335333</td><td>0.741845</td><td>68.2584</td><td>5.29184</td><td>14.8124 .. 412.19</td><td>2.50888 .. 0.0150605</td><td>--</td><td>9.852487564086914</td><td>--</td><td>--</td><td>--</td><td>--</td><td>--</td><td>--</td><td>--</td><td>--</td><td>--</td><td>--</td><td>--</td><td>--</td><td>--</td><td>--</td><td>--</td><td>--</td><td>--</td><td>--</td><td>--</td><td>--</td><td>--</td><td>300.9007693953248</td><td>15.203381761428345</td><td>0.42300918794160963</td><td>0.04332889447409282</td><td>318528356.25649077</td><td>10973819.90888883</td><td>1.1700697820493802</td><td>0.01234311518755433</td><td>10.054323200255043</td><td>8.681101900065409</td><td>10.119328135890797</td><td>8.780959524997495</td><td>471538.3029792875</td><td>10.350040435791016</td><td>-999.0</td><td>309.752973573684</td><td>50.84180796596384</td><td>6.564641952514648</td><td>0.0</td></tr>\n",
       "<tr><td>10001</td><td>12702</td><td>10001-12702</td><td>1-48188</td><td>v3_1_1</td><td>v3_1_1</td><td>v1_9_1</td><td>v5_5_36</td><td>v2_9</td><td>APOGEE-2&amp;MaNGA</td><td>MaNGA dither</td><td>133.685669869</td><td>57.4802503218</td><td>159.390126911</td><td>39.0253440844</td><td>133.68567</td><td>57.48025</td><td>0.0492053</td><td>9</td><td>8100.81</td><td>0</td><td>20.0835</td><td>41.292</td><td>ma078</td><td>25</td><td>3</td><td>9114</td><td>134.41357</td><td>57.604214</td><td>1.10569</td><td>1.15089</td><td>1.21106</td><td>1.78219</td><td>1.85994</td><td>2.12685</td><td>0.898721</td><td>0.929654</td><td>0.937466</td><td>57372</td><td>57373</td><td>57373</td><td>2.72072</td><td>2.66314</td><td>2.64652</td><td>2.61686</td><td>2080</td><td>0</td><td>0</td><td>1</td><td>plateTargets-1.par</td><td>6013</td><td>J085444.56+572848.8</td><td>127</td><td>217</td><td>0</td><td>0.0408108</td><td>0.0193227</td><td>0.0264533</td><td>0.0386469</td><td>0.042869</td><td>0.0188554</td><td>0.0266531</td><td>0.794785</td><td>-999.0</td><td>0.651037</td><td>0.681893</td><td>1.04947</td><td>1.13205</td><td>-999.0</td><td>0.631507</td><td>0.660498</td><td>35</td><td>3600</td><td>5</td><td>v1_0_1</td><td>51261</td><td>-999</td><td>0.0408108</td><td>0.0411932</td><td>-15.9069 .. -19.6569</td><td>-16.127 .. -19.5493</td><td>206.664 .. 49.3569</td><td>5341650000.0</td><td>4642460000.0</td><td>0.598115</td><td>12.5169</td><td>0.405779 .. 0.072394</td><td>7.01311</td><td>6.11281</td><td>12.4553 .. 396.399</td><td>2.27628 .. 0.000372112</td><td>12.4406 .. 390.985</td><td>2.3517 .. 0.000398299</td><td>0.508217</td><td>1.44272</td><td>12.3759</td><td>8.34906</td><td>10.1128 .. 432.884</td><td>3.38905 .. 0.00964978</td><td>--</td><td>14.355437278747559</td><td>--</td><td>--</td><td>--</td><td>--</td><td>--</td><td>--</td><td>--</td><td>--</td><td>--</td><td>--</td><td>--</td><td>--</td><td>--</td><td>--</td><td>--</td><td>--</td><td>--</td><td>--</td><td>--</td><td>--</td><td>--</td><td>293.3478638373148</td><td>10.60192409708804</td><td>0.6790488070059231</td><td>0.05316399052089292</td><td>115971867.9868961</td><td>7747575.084882941</td><td>1.6956282295929506</td><td>0.03670610210595715</td><td>10.124313484194262</td><td>9.034999166941406</td><td>10.177811159857796</td><td>9.124034282826187</td><td>1207886.7459959988</td><td>9.583724021911621</td><td>-999.0</td><td>273.50491644321835</td><td>6.866128229994085</td><td>4.730921268463135</td><td>0.0</td></tr>\n",
       "<tr><td>10001</td><td>12703</td><td>10001-12703</td><td>1-55648</td><td>v3_1_1</td><td>v3_1_1</td><td>v1_9_1</td><td>v5_5_36</td><td>v2_9</td><td>APOGEE-2&amp;MaNGA</td><td>MaNGA dither</td><td>136.017159969</td><td>57.0923291779</td><td>159.56459216</td><td>40.3368076472</td><td>136.01716</td><td>57.092329</td><td>0.0258626</td><td>9</td><td>8100.81</td><td>0</td><td>19.9086</td><td>40.7596</td><td>ma077</td><td>31</td><td>3</td><td>9114</td><td>134.41357</td><td>57.604214</td><td>1.09975</td><td>1.13824</td><td>1.19323</td><td>1.78219</td><td>1.85994</td><td>2.12685</td><td>0.898721</td><td>0.929654</td><td>0.937466</td><td>57372</td><td>57373</td><td>57373</td><td>2.7262</td><td>2.61384</td><td>2.56576</td><td>2.53132</td><td>2080</td><td>0</td><td>0</td><td>1</td><td>plateTargets-1.par</td><td>6013</td><td>J090404.13+570532.3</td><td>127</td><td>169</td><td>0</td><td>0.0462094</td><td>0.0227277</td><td>0.0296235</td><td>0.0443908</td><td>0.0487145</td><td>0.0222592</td><td>0.03022</td><td>0.55597</td><td>-999.0</td><td>0.570051</td><td>0.643308</td><td>0.979861</td><td>1.21834</td><td>-999.0</td><td>0.534143</td><td>0.597944</td><td>39</td><td>3600</td><td>2</td><td>v1_0_1</td><td>59078</td><td>-999</td><td>0.0462094</td><td>0.046579</td><td>-15.9552 .. -20.5965</td><td>-16.3926 .. -20.4663</td><td>223.74 .. 875.365</td><td>13693500000.0</td><td>9439710000.0</td><td>0.378034</td><td>51.5052</td><td>0.219711 .. 0.0391981</td><td>6.523</td><td>4.87172</td><td>13.8626 .. 635.975</td><td>1.79171 .. 0.00598687</td><td>14.4442 .. 722.823</td><td>1.96905 .. 0.00930865</td><td>0.205749</td><td>2.18084</td><td>51.2808</td><td>8.09139</td><td>9.82225 .. 820.242</td><td>2.79287 .. 0.0443689</td><td>--</td><td>14.743389129638672</td><td>--</td><td>--</td><td>--</td><td>--</td><td>--</td><td>--</td><td>--</td><td>--</td><td>--</td><td>--</td><td>--</td><td>--</td><td>--</td><td>--</td><td>--</td><td>--</td><td>--</td><td>--</td><td>--</td><td>--</td><td>--</td><td>1201.0759702017704</td><td>23.844360911771343</td><td>0.5494068894426105</td><td>0.02030870938454245</td><td>494628915.16105384</td><td>13753186.951918408</td><td>1.3970129924747783</td><td>0.0114278522601265</td><td>10.546935338970071</td><td>9.081725877664413</td><td>10.558369569453301</td><td>9.103192513387299</td><td>203727.58256011392</td><td>9.775858879089355</td><td>-999.0</td><td>383.131393858277</td><td>32.519186623217024</td><td>4.756507873535156</td><td>0.0</td></tr>\n",
       "<tr><td>10001</td><td>12704</td><td>10001-12704</td><td>1-55616</td><td>v3_1_1</td><td>v3_1_1</td><td>v1_9_1</td><td>v5_5_36</td><td>v2_9</td><td>APOGEE-2&amp;MaNGA</td><td>MaNGA dither</td><td>133.989966869</td><td>57.6779676669</td><td>159.101196491</td><td>39.1494998661</td><td>133.98997</td><td>57.677968</td><td>0.0476794</td><td>9</td><td>8100.81</td><td>64</td><td>19.9086</td><td>40.7596</td><td>ma076</td><td>34</td><td>3</td><td>9114</td><td>134.41357</td><td>57.604214</td><td>1.10705</td><td>1.15123</td><td>1.21051</td><td>1.78219</td><td>1.85994</td><td>2.12685</td><td>0.898721</td><td>0.929654</td><td>0.937466</td><td>57372</td><td>57373</td><td>57373</td><td>2.6788</td><td>2.58733</td><td>2.52311</td><td>2.47903</td><td>4160</td><td>0</td><td>0</td><td>1</td><td>plateTargets-1.par</td><td>6013</td><td>J085557.56+574040.6</td><td>127</td><td>397</td><td>0</td><td>0.0141215</td><td>0.0183756</td><td>0.0258019</td><td>0.037294</td><td>0.0415338</td><td>0.0141373</td><td>0.0310467</td><td>0.67973</td><td>-999.0</td><td>-999.0</td><td>-999.0</td><td>-999.0</td><td>-999.0</td><td>0.716568</td><td>0.45291</td><td>0.474847</td><td>36</td><td>3600</td><td>5</td><td>v1_0_1</td><td>59044</td><td>-999</td><td>0.0141215</td><td>0.0145852</td><td>-14.2399 .. -19.4321</td><td>-14.2982 .. -19.3602</td><td>262.464 .. 794.079</td><td>4286640000.0</td><td>4218380000.0</td><td>0.212315</td><td>81.0961</td><td>0.388503 .. 0.0693118</td><td>16.0734</td><td>11.44</td><td>18.0685 .. 2387.32</td><td>0.731053 .. 1.94195e-05</td><td>18.855 .. 2747.21</td><td>1.50036 .. 0.000434694</td><td>0.15</td><td>0.869326</td><td>81.2193</td><td>18.2816</td><td>17.8616 .. 2923.9</td><td>2.16404 .. 0.00123046</td><td>--</td><td>33.156402587890625</td><td>--</td><td>--</td><td>--</td><td>--</td><td>--</td><td>--</td><td>--</td><td>--</td><td>--</td><td>--</td><td>--</td><td>--</td><td>--</td><td>--</td><td>--</td><td>--</td><td>--</td><td>--</td><td>--</td><td>--</td><td>--</td><td>589.741380235529</td><td>13.146010279176876</td><td>0.16832394280031962</td><td>0.004839248890317191</td><td>541588696.96986</td><td>5004394.585211396</td><td>0.8480244916060672</td><td>0.0027159735332440583</td><td>9.918768524805014</td><td>8.032310918758885</td><td>9.924592856288296</td><td>8.044620557122625</td><td>265311.1920361342</td><td>9.239542007446289</td><td>-999.0</td><td>292.93732389433455</td><td>4.826130375197129</td><td>4.773223400115967</td><td>0.0</td></tr>\n",
       "</table></div>"
      ],
      "text/plain": [
       "<Table length=4>\n",
       "plate ifudsgn   plateifu  ...      WF50_err           DL_ttype     vis_tidal\n",
       "int64 bytes32   bytes32   ...      float64            float64       float64 \n",
       "----- ------- ----------- ... ------------------ ----------------- ---------\n",
       "10001   12701 10001-12701 ...  50.84180796596384 6.564641952514648       0.0\n",
       "10001   12702 10001-12702 ...  6.866128229994085 4.730921268463135       0.0\n",
       "10001   12703 10001-12703 ... 32.519186623217024 4.756507873535156       0.0\n",
       "10001   12704 10001-12704 ...  4.826130375197129 4.773223400115967       0.0"
      ]
     },
     "execution_count": 79,
     "metadata": {},
     "output_type": "execute_result"
    }
   ],
   "source": [
    "w[0:4]"
   ]
  },
  {
   "cell_type": "code",
   "execution_count": null,
   "metadata": {},
   "outputs": [],
   "source": [
    "# add R90"
   ]
  }
 ],
 "metadata": {
  "kernelspec": {
   "display_name": "Python 3",
   "language": "python",
   "name": "python3"
  },
  "language_info": {
   "codemirror_mode": {
    "name": "ipython",
    "version": 3
   },
   "file_extension": ".py",
   "mimetype": "text/x-python",
   "name": "python",
   "nbconvert_exporter": "python",
   "pygments_lexer": "ipython3",
   "version": "3.7.4"
  }
 },
 "nbformat": 4,
 "nbformat_minor": 2
}
