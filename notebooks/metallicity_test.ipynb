{
 "cells": [
  {
   "cell_type": "code",
   "execution_count": 16,
   "metadata": {},
   "outputs": [],
   "source": [
    "from astropy.table import Table\n",
    "import os\n",
    "from astropy.io import fits\n",
    "import math as ma"
   ]
  },
  {
   "cell_type": "code",
   "execution_count": 3,
   "metadata": {},
   "outputs": [],
   "source": [
    "DRP_FOLDER = '/Users/nityaravi/Documents/Research/RotationCurves/data/manga/DR17/'"
   ]
  },
  {
   "cell_type": "code",
   "execution_count": 6,
   "metadata": {},
   "outputs": [],
   "source": [
    "gal_ID = '8082-12702'\n",
    "\n",
    "file_name = DRP_FOLDER + 'manga-' + gal_ID + '-LOGCUBE.fits.gz'\n",
    "\n",
    "#maps = {}\n",
    "\n",
    "#cube = fits.open(file_name)\n",
    "\n",
    "#maps['r_band'] = cube[13].data\n",
    "#maps['g_band'] = cube[12].data\n",
    "\n",
    "#cube.close()"
   ]
  },
  {
   "cell_type": "code",
   "execution_count": 7,
   "metadata": {},
   "outputs": [],
   "source": [
    "hdu = fits.open(file_name)"
   ]
  },
  {
   "cell_type": "code",
   "execution_count": 14,
   "metadata": {},
   "outputs": [
    {
     "data": {
      "text/plain": [
       "XTENSION= 'IMAGE   '           / IMAGE extension                                \n",
       "BITPIX  =                  -32 / Number of bits per data pixel                  \n",
       "NAXIS   =                    2 / Number of data axes                            \n",
       "NAXIS1  =                   72 /                                                \n",
       "NAXIS2  =                   72 /                                                \n",
       "PCOUNT  =                    0 / No Group Parameters                            \n",
       "GCOUNT  =                    1 / One Data Group                                 \n",
       "CRPIX1  =              37.0000 /                                                \n",
       "CRPIX2  =              37.0000 /                                                \n",
       "CRVAL1  =        48.4384160000 /                                                \n",
       "CRVAL2  =      -0.241460050000 /                                                \n",
       "CD1_1   =   -0.000138889000000 /                                                \n",
       "CD2_2   =    0.000138889000000 /                                                \n",
       "CTYPE1  = 'RA---TAN'           /                                                \n",
       "CTYPE2  = 'DEC--TAN'           /                                                \n",
       "CUNIT1  = 'deg     '           /                                                \n",
       "CUNIT2  = 'deg     '           /                                                \n",
       "IFURA   =        48.4384160000 / IFU R.A. (J2000 deg.)                          \n",
       "IFUDEC  =      -0.241460050000 / IFU Dec. (J2000 deg.)                          \n",
       "OBJRA   =        48.4384159113 / Object R.A. (J2000 deg.)                       \n",
       "OBJDEC  =      -0.241460052673 / Object Dec. (J2000 deg.)                       \n",
       "BSCALE  =              1.00000 / Flux unit scaling                              \n",
       "BZERO   =              0.00000 / Flux zeropoint                                 \n",
       "BUNIT   = 'nanomaggies/pixel'  /                                                \n",
       "RFWHM   =              2.59276 / Reconstructed FWHM in r-band (arcsec)          \n",
       "EXTNAME = 'RIMG    '           /                                                \n",
       "DATASUM = '80004906'           / data unit checksum updated 2020-12-02T23:57:58 \n",
       "CHECKSUM= 'PcAARZ30Pa97PY97'   / HDU checksum updated 2020-12-02T23:57:58       "
      ]
     },
     "execution_count": 14,
     "metadata": {},
     "output_type": "execute_result"
    }
   ],
   "source": [
    "hdu[13].header"
   ]
  },
  {
   "cell_type": "code",
   "execution_count": 83,
   "metadata": {},
   "outputs": [
    {
     "name": "stdout",
     "output_type": "stream",
     "text": [
      "2e-08\n"
     ]
    }
   ],
   "source": [
    "flux = 20\n",
    "f0 = 10**9\n",
    "b = 1.2e-10\n",
    "\n",
    "print(flux/f0)\n",
    "\n",
    "mag = -2.5/ma.log(10) * (ma.asinh((flux/f0)/(2*b)) + ma.log(b))"
   ]
  },
  {
   "cell_type": "code",
   "execution_count": 84,
   "metadata": {},
   "outputs": [
    {
     "data": {
      "text/plain": [
       "19.247385926447173"
      ]
     },
     "execution_count": 84,
     "metadata": {},
     "output_type": "execute_result"
    }
   ],
   "source": [
    "mag"
   ]
  },
  {
   "cell_type": "code",
   "execution_count": 85,
   "metadata": {},
   "outputs": [
    {
     "data": {
      "text/plain": [
       "19.247425010840047"
      ]
     },
     "execution_count": 85,
     "metadata": {},
     "output_type": "execute_result"
    }
   ],
   "source": [
    "22.5 - 2.5*ma.log10(20)"
   ]
  },
  {
   "cell_type": "code",
   "execution_count": null,
   "metadata": {},
   "outputs": [],
   "source": []
  }
 ],
 "metadata": {
  "kernelspec": {
   "display_name": "Python 3",
   "language": "python",
   "name": "python3"
  },
  "language_info": {
   "codemirror_mode": {
    "name": "ipython",
    "version": 3
   },
   "file_extension": ".py",
   "mimetype": "text/x-python",
   "name": "python",
   "nbconvert_exporter": "python",
   "pygments_lexer": "ipython3",
   "version": "3.7.4"
  }
 },
 "nbformat": 4,
 "nbformat_minor": 2
}
