{
 "cells": [
  {
   "cell_type": "code",
   "execution_count": 2,
   "metadata": {},
   "outputs": [],
   "source": [
    "import numpy as np\n",
    "import numpy.ma as ma\n",
    "\n",
    "from astropy.table import QTable, Table\n",
    "\n",
    "import sys\n",
    "#sys.path.insert(1,\"/Users/kellydouglass/Documents/Research/Rotation_curves/RotationCurves/spirals/\")\n",
    "sys.path.insert(1, '/Users/nityaravi/Documents/GitHub/RotationCurves/spirals')\n",
    "#sys.path.insert(1, '/home/kelly/Documents/RotationCurves/spirals/')\n",
    "from DRP_rotation_curve import extract_data\n",
    "from DRP_rotation_curve_plottingFunctions import plot_vel\n",
    "from DRP_vel_map_functions import model_vel_map, \\\n",
    "                                  find_center, \\\n",
    "                                  find_phi, \\\n",
    "                                  deproject_spaxel, \\\n",
    "                                  find_vel_bounds, \\\n",
    "                                  find_sigma_bounds\n",
    "from DRP_vel_map_plottingFunctions import plot_rot_curve\n",
    "\n",
    "#from mpl_toolkits.mplot3d import Axes3D\n",
    "import matplotlib.pyplot as plt\n",
    "%matplotlib notebook"
   ]
  },
  {
   "cell_type": "code",
   "execution_count": 3,
   "metadata": {},
   "outputs": [],
   "source": [
    "#MANGA_FOLDER = '/Users/kellydouglass/Documents/Research/data/SDSS/dr16/manga/spectro/'\n",
    "#MANGA_FOLDER = '/home/kelly/Documents/Data/SDSS/dr16/manga/spectro/'\n",
    "#MANGA_FOLDER = '/Users/kellydouglass/Documents/Research/data/SDSS/dr17/manga/spectro/'\n",
    "MANGA_FOLDER = '/Users/nityaravi/Documents/Research/data/manga/'\n",
    "\n",
    "#VEL_MAP_FOLDER = MANGA_FOLDER + 'analysis/v2_4_3/2.2.1/HYB10-GAU-MILESHC/'\n",
    "#VEL_MAP_FOLDER = MANGA_FOLDER + 'analysis/v'\n",
    "VEL_MAP_FOLDER = MANGA_FOLDER + 'DR17/'\n",
    "DRP_FILENAME = MANGA_FOLDER + 'DR17/' + 'drpall-v3_1_1.fits'\n",
    "\n",
    "NSA_FILENAME = '/Users/nityaravi/Documents/Research/data/nsa_v1_0_1.fits'"
   ]
  },
  {
   "cell_type": "markdown",
   "metadata": {},
   "source": [
    "# Sample galaxy properties"
   ]
  },
  {
   "cell_type": "code",
   "execution_count": 4,
   "metadata": {},
   "outputs": [
    {
     "name": "stderr",
     "output_type": "stream",
     "text": [
      "WARNING: hdu= was not specified but multiple tables are present, reading in first available table (hdu=1) [astropy.io.fits.connect]\n"
     ]
    }
   ],
   "source": [
    "DRP_table = Table.read( DRP_FILENAME, format='fits')\n",
    "DRP_index = {}\n",
    "\n",
    "for i in range(len(DRP_table)):\n",
    "    gal_ID1 = DRP_table['plateifu'][i]\n",
    "\n",
    "    DRP_index[gal_ID1] = i"
   ]
  },
  {
   "cell_type": "code",
   "execution_count": 711,
   "metadata": {},
   "outputs": [],
   "source": [
    "# worked but bad fits\n",
    "\n",
    "#gal_ID = '11958-3701' \n",
    "#gal_ID = '11871-9101'\n",
    "#gal_ID = '10497-3704' # try center (19,21)\n",
    "#gal_ID = '9874-6101'\n",
    "#gal_ID = '9487-9102' # try center (32,34)\n",
    "#gal_ID = '9042-6101'\n",
    "#gal_ID = '8244-3701' # try center (22,22)\n",
    "#gal_ID = '8084-12703'\n",
    "#gal_ID = '7990-1902'\n",
    "#gal_ID = '8713-9102'\n",
    "#gal_ID = '8553-1901' # try phi -= 0.5*pi\n",
    "#gal_ID = '8550-12703'\n",
    "#gal_ID = '8446-1901' # try ctr (17,17)\n",
    "#gal_ID = '8442-12701' # might actually be okay\n",
    "#gal_ID = '8313-6102'\n",
    "#gal_ID = '8253-12704' # try ctr (35,38)\n",
    "#gal_ID = '8096-12701'\n",
    "#gal_ID = '8096-6102'\n",
    "#gal_ID = '8095-3701'\n",
    "\n",
    "\n",
    "# didn't work\n",
    "#gal_ID = '7958-6101' # nan Hess, domain error --> try ctr(28,28) FAILED\n",
    "#gal_ID = '8077-12702' # singlar hessian --> ??\n",
    "#gal_ID = '8249-3704' # nan Hess --> try ctr (23,20) FAILED\n",
    "#gal_ID = '8250-6101' #mass out not def --> try ctr (26,25) FAILED\n",
    "#gal_ID = '8252-3701' #list index out of range --> try ctr (20,22) FAILED\n",
    "#gal_ID = '8252-9101' #mass out not def --> try ctr (30,30)\n",
    "#gal_ID = '8313-12702' # list index out of range --> try ctr(36,38)\n",
    "#gal_ID = '8717-3704' # list ind out of range --> try ctr(20,22)\n",
    "#gal_ID = '8727-12705' #singular hess --> try ctr(35,32), phi += 0.5*pi\n",
    "#gal_ID = '9000-1901' #singular hess --> try phi += 0.5*pi\n",
    "#gal_ID = '9487-3703' # math domain error --> try ctr(20,22)\n",
    "#gal_ID = '9491-6101' #list index out of range --> try ctr (25,25)\n",
    "#gal_ID = '10519-6103' # singular hess --> ??\n",
    "#gal_ID = '12085-6101' # math domain err --> try ct (28,28)\n",
    "\n",
    "\n",
    "manga_plate, manga_IFU = gal_ID.split('-')"
   ]
  },
  {
   "cell_type": "code",
   "execution_count": 712,
   "metadata": {},
   "outputs": [
    {
     "name": "stdout",
     "output_type": "stream",
     "text": [
      "5% of the maximum S/N: 4.540958404541016\n"
     ]
    }
   ],
   "source": [
    "maps = extract_data(VEL_MAP_FOLDER, gal_ID, ['Ha_vel', 'Ha_flux', 'Ha_sigma', 'r_band'])\n",
    "\n",
    "mr_band = ma.array(maps['r_band'], mask=maps['Ha_vel_mask'])\n",
    "mHa_vel = ma.array(maps['Ha_vel'], mask=maps['Ha_vel_mask'])\n",
    "mHa_vel_ivar = ma.array(maps['Ha_vel_ivar'], mask=maps['Ha_vel_mask'])\n",
    "\n",
    "mHa_sigma = ma.array(maps['Ha_sigma'], \n",
    "                     mask=maps['Ha_sigma_mask'] + maps['Ha_vel_mask'])#np.logical_or(Ha_sigma_mask > 0, Ha_vel_mask > 0))\n",
    "mHa_sigma_ivar = ma.array(maps['Ha_sigma_ivar'], \n",
    "                          mask=maps['Ha_sigma_mask'] + maps['Ha_vel_mask'])\n",
    "\n",
    "SN = maps['Ha_flux']*np.sqrt(maps['Ha_flux_ivar'])\n",
    "m5Ha_vel = ma.array(maps['Ha_vel'], \n",
    "                    mask=np.logical_or(maps['Ha_vel_mask'] > 0, np.abs(SN) < 5))#0.05*np.max(np.abs(SN))))\n",
    "print('5% of the maximum S/N:', 0.05*np.max(np.abs(SN)))"
   ]
  },
  {
   "cell_type": "code",
   "execution_count": 713,
   "metadata": {},
   "outputs": [],
   "source": [
    "i_DRP = DRP_index[gal_ID]\n",
    "phi_EofN_deg = DRP_table['nsa_elpetro_phi'][i_DRP]"
   ]
  },
  {
   "cell_type": "markdown",
   "metadata": {},
   "source": [
    "# Test `find_center`"
   ]
  },
  {
   "cell_type": "code",
   "execution_count": 714,
   "metadata": {},
   "outputs": [],
   "source": [
    "maybe_center = find_center(mHa_vel)"
   ]
  },
  {
   "cell_type": "code",
   "execution_count": 715,
   "metadata": {},
   "outputs": [
    {
     "data": {
      "text/plain": [
       "(26, 38)"
      ]
     },
     "execution_count": 715,
     "metadata": {},
     "output_type": "execute_result"
    }
   ],
   "source": [
    "maybe_center"
   ]
  },
  {
   "cell_type": "code",
   "execution_count": 706,
   "metadata": {},
   "outputs": [],
   "source": [
    "maybe_center = (35,38)"
   ]
  },
  {
   "cell_type": "code",
   "execution_count": 716,
   "metadata": {},
   "outputs": [
    {
     "data": {
      "image/png": "[encoded data removed]",
      "text/plain": [
       "<Figure size 864x360 with 4 Axes>"
      ]
     },
     "metadata": {
      "needs_background": "light"
     },
     "output_type": "display_data"
    }
   ],
   "source": [
    "plt.figure(figsize=(12,5))\n",
    "\n",
    "plt.subplot(121)\n",
    "plt.imshow(mHa_vel, origin='lower', cmap='RdBu_r', vmin=-250, vmax=250)\n",
    "plt.plot(maybe_center[1], maybe_center[0], 'k.')\n",
    "plt.colorbar()\n",
    "\n",
    "plt.subplot(122)\n",
    "plt.imshow(np.abs(mHa_vel), origin='lower')\n",
    "plt.plot(maybe_center[1], maybe_center[0], 'r.')\n",
    "plt.colorbar();"
   ]
  },
  {
   "cell_type": "markdown",
   "metadata": {},
   "source": [
    "# Test `find_phi`"
   ]
  },
  {
   "cell_type": "code",
   "execution_count": 717,
   "metadata": {},
   "outputs": [
    {
     "name": "stdout",
     "output_type": "stream",
     "text": [
      "3.228352621640581\n"
     ]
    }
   ],
   "source": [
    "#maybe_center=(30,30)\n",
    "phi_EofN_deg = DRP_table['nsa_elpetro_phi'][i_DRP]\n",
    "maybe_phi = find_phi(maybe_center,phi_EofN_deg ,mHa_vel)"
   ]
  },
  {
   "cell_type": "code",
   "execution_count": 718,
   "metadata": {},
   "outputs": [
    {
     "data": {
      "text/plain": [
       "4.97098"
      ]
     },
     "execution_count": 718,
     "metadata": {},
     "output_type": "execute_result"
    }
   ],
   "source": [
    "phi_EofN_deg"
   ]
  },
  {
   "cell_type": "code",
   "execution_count": 719,
   "metadata": {},
   "outputs": [
    {
     "data": {
      "text/plain": [
       "184.97098"
      ]
     },
     "execution_count": 719,
     "metadata": {},
     "output_type": "execute_result"
    }
   ],
   "source": [
    "maybe_phi*180/np.pi"
   ]
  },
  {
   "cell_type": "code",
   "execution_count": 520,
   "metadata": {},
   "outputs": [
    {
     "ename": "FileNotFoundError",
     "evalue": "[Errno 2] No such file or directory: '/Users/nityaravi/Documents/Research/data/manga/DRP_map_Hessians/8250-6101_Hessian.npy'",
     "output_type": "error",
     "traceback": [
      "\u001b[0;31m---------------------------------------------------------------------------\u001b[0m",
      "\u001b[0;31mFileNotFoundError\u001b[0m                         Traceback (most recent call last)",
      "\u001b[0;32m<ipython-input-520-d5b9e17836d7>\u001b[0m in \u001b[0;36m<module>\u001b[0;34m\u001b[0m\n\u001b[1;32m      1\u001b[0m \u001b[0mf\u001b[0m \u001b[0;34m=\u001b[0m \u001b[0;34m'/Users/nityaravi/Documents/Research/data/manga/DRP_map_Hessians/'\u001b[0m \u001b[0;34m+\u001b[0m \u001b[0mgal_ID\u001b[0m \u001b[0;34m+\u001b[0m \u001b[0;34m'_Hessian.npy'\u001b[0m\u001b[0;34m\u001b[0m\u001b[0;34m\u001b[0m\u001b[0m\n\u001b[1;32m      2\u001b[0m \u001b[0;34m\u001b[0m\u001b[0m\n\u001b[0;32m----> 3\u001b[0;31m \u001b[0mhess\u001b[0m \u001b[0;34m=\u001b[0m \u001b[0mnp\u001b[0m\u001b[0;34m.\u001b[0m\u001b[0mload\u001b[0m\u001b[0;34m(\u001b[0m\u001b[0mf\u001b[0m\u001b[0;34m)\u001b[0m\u001b[0;34m\u001b[0m\u001b[0;34m\u001b[0m\u001b[0m\n\u001b[0m",
      "\u001b[0;32m~/anaconda3/lib/python3.7/site-packages/numpy/lib/npyio.py\u001b[0m in \u001b[0;36mload\u001b[0;34m(file, mmap_mode, allow_pickle, fix_imports, encoding)\u001b[0m\n\u001b[1;32m    426\u001b[0m         \u001b[0mown_fid\u001b[0m \u001b[0;34m=\u001b[0m \u001b[0;32mFalse\u001b[0m\u001b[0;34m\u001b[0m\u001b[0;34m\u001b[0m\u001b[0m\n\u001b[1;32m    427\u001b[0m     \u001b[0;32melse\u001b[0m\u001b[0;34m:\u001b[0m\u001b[0;34m\u001b[0m\u001b[0;34m\u001b[0m\u001b[0m\n\u001b[0;32m--> 428\u001b[0;31m         \u001b[0mfid\u001b[0m \u001b[0;34m=\u001b[0m \u001b[0mopen\u001b[0m\u001b[0;34m(\u001b[0m\u001b[0mos_fspath\u001b[0m\u001b[0;34m(\u001b[0m\u001b[0mfile\u001b[0m\u001b[0;34m)\u001b[0m\u001b[0;34m,\u001b[0m \u001b[0;34m\"rb\"\u001b[0m\u001b[0;34m)\u001b[0m\u001b[0;34m\u001b[0m\u001b[0;34m\u001b[0m\u001b[0m\n\u001b[0m\u001b[1;32m    429\u001b[0m         \u001b[0mown_fid\u001b[0m \u001b[0;34m=\u001b[0m \u001b[0;32mTrue\u001b[0m\u001b[0;34m\u001b[0m\u001b[0;34m\u001b[0m\u001b[0m\n\u001b[1;32m    430\u001b[0m \u001b[0;34m\u001b[0m\u001b[0m\n",
      "\u001b[0;31mFileNotFoundError\u001b[0m: [Errno 2] No such file or directory: '/Users/nityaravi/Documents/Research/data/manga/DRP_map_Hessians/8250-6101_Hessian.npy'"
     ]
    }
   ],
   "source": [
    "f = '/Users/nityaravi/Documents/Research/data/manga/DRP_map_Hessians/' + gal_ID + '_Hessian.npy'\n",
    "\n",
    "hess = np.load(f)"
   ]
  },
  {
   "cell_type": "code",
   "execution_count": 508,
   "metadata": {},
   "outputs": [
    {
     "data": {
      "text/plain": [
       "(8, 8)"
      ]
     },
     "execution_count": 508,
     "metadata": {},
     "output_type": "execute_result"
    }
   ],
   "source": [
    "hess.shape"
   ]
  },
  {
   "cell_type": "code",
   "execution_count": 509,
   "metadata": {},
   "outputs": [
    {
     "data": {
      "text/plain": [
       "array([[nan, nan, nan, nan, nan, nan, nan, nan],\n",
       "       [nan, nan, nan, nan, nan, nan, nan, nan],\n",
       "       [nan, nan, nan, nan, nan, nan, nan, nan],\n",
       "       [nan, nan, nan, nan, nan, nan, nan, nan],\n",
       "       [nan, nan, nan, nan, nan, nan, nan, nan],\n",
       "       [nan, nan, nan, nan, nan, nan, nan, nan],\n",
       "       [nan, nan, nan, nan, nan, nan, nan, nan],\n",
       "       [nan, nan, nan, nan, nan, nan, nan, nan]])"
      ]
     },
     "execution_count": 509,
     "metadata": {},
     "output_type": "execute_result"
    }
   ],
   "source": [
    "hess"
   ]
  },
  {
   "cell_type": "markdown",
   "metadata": {},
   "source": [
    "### gal2 = '8095-1902'\n",
    "f2 = f = '/Users/nityaravi/Documents/Research/data/manga/DRP_map_Hessians/' + gal2 + '_Hessian.npy'\n",
    "hess2 = np.load(f2)"
   ]
  },
  {
   "cell_type": "code",
   "execution_count": 25,
   "metadata": {},
   "outputs": [
    {
     "data": {
      "text/plain": [
       "array([[ 3.51538961e+01,  6.09741926e+02,  2.92474276e+02,\n",
       "        -2.31750093e+02,  6.41026738e+01,  2.08474872e+00,\n",
       "        -1.09583186e+02,  8.61984956e+01],\n",
       "       [ 6.09741926e+02,  2.26589671e+05,  3.57541987e+03,\n",
       "        -2.12927448e+03, -1.40401431e+04,  7.70006677e+02,\n",
       "        -4.08133932e+04,  3.17420953e+04],\n",
       "       [ 2.92474276e+02,  3.57541987e+03,  3.39160808e+03,\n",
       "        -2.16707455e+03,  1.24881322e+03,  1.24362210e+01,\n",
       "        -7.00061225e+02,  5.43832457e+02],\n",
       "       [-2.31750093e+02, -2.12927448e+03, -2.16707455e+03,\n",
       "         2.14817464e+03,  2.13473938e+02, -7.35432852e+00,\n",
       "         4.18833742e+02, -3.21428504e+02],\n",
       "       [ 6.41026738e+01, -1.40401431e+04,  1.24881322e+03,\n",
       "         2.13473938e+02,  8.48141532e+04, -4.82617692e+01,\n",
       "         2.26485138e+03, -1.90408018e+03],\n",
       "       [ 2.08474872e+00,  7.70006677e+02,  1.24362210e+01,\n",
       "        -7.35432852e+00, -4.82617692e+01,  2.63158979e+00,\n",
       "        -1.38725996e+02,  1.08250130e+02],\n",
       "       [-1.09583186e+02, -4.08133932e+04, -7.00061225e+02,\n",
       "         4.18833742e+02,  2.26485138e+03, -1.38725996e+02,\n",
       "         8.64109813e+03, -6.01372731e+03],\n",
       "       [ 8.61984956e+01,  3.17420953e+04,  5.43832457e+02,\n",
       "        -3.21428504e+02, -1.90408018e+03,  1.08250130e+02,\n",
       "        -6.01372731e+03,  4.57280813e+03]])"
      ]
     },
     "execution_count": 25,
     "metadata": {},
     "output_type": "execute_result"
    }
   ],
   "source": [
    "hess2"
   ]
  },
  {
   "cell_type": "code",
   "execution_count": null,
   "metadata": {},
   "outputs": [],
   "source": []
  }
 ],
 "metadata": {
  "kernelspec": {
   "display_name": "Python 3",
   "language": "python",
   "name": "python3"
  },
  "language_info": {
   "codemirror_mode": {
    "name": "ipython",
    "version": 3
   },
   "file_extension": ".py",
   "mimetype": "text/x-python",
   "name": "python",
   "nbconvert_exporter": "python",
   "pygments_lexer": "ipython3",
   "version": "3.7.4"
  }
 },
 "nbformat": 4,
 "nbformat_minor": 4
}
