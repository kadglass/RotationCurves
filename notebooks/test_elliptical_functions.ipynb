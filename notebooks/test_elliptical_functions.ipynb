{
 "cells": [
  {
   "cell_type": "code",
   "execution_count": 3,
   "metadata": {},
   "outputs": [],
   "source": [
    "import numpy as np\n",
    "import matplotlib.pyplot as plt\n",
    "import sys\n",
    "sys.path.insert(1, '/Users/nityaravi/Documents/GitHub/RotationCurves/ellipticals/')\n",
    "\n",
    "from IO_data import*"
   ]
  },
  {
   "cell_type": "code",
   "execution_count": 5,
   "metadata": {},
   "outputs": [],
   "source": [
    "MAP_FOLDER = '/Users/nityaravi/Documents/Research/RotationCurves/data/manga/DR17/'"
   ]
  },
  {
   "cell_type": "markdown",
   "metadata": {},
   "source": [
    "## Pick a new color map"
   ]
  },
  {
   "cell_type": "code",
   "execution_count": 12,
   "metadata": {},
   "outputs": [],
   "source": [
    "gal_ID = '8614-12703'\n",
    "\n",
    "maps = extract_data(MAP_FOLDER, gal_ID, 'star_sigma')\n",
    "sigma_masked = ma.array(maps['star_sigma'], mask=maps['star_sigma_mask'])"
   ]
  },
  {
   "cell_type": "code",
   "execution_count": 31,
   "metadata": {},
   "outputs": [
    {
     "data": {
      "text/plain": [
       "Text(0, 0.5, 'spaxel')"
      ]
     },
     "execution_count": 31,
     "metadata": {},
     "output_type": "execute_result"
    },
    {
     "data": {
      "image/png": "[encoded data removed]",
      "text/plain": [
       "<Figure size 432x288 with 2 Axes>"
      ]
     },
     "metadata": {
      "needs_background": "light"
     },
     "output_type": "display_data"
    }
   ],
   "source": [
    "fig, ax = plt.subplots()\n",
    "\n",
    "sigma_map = sigma_masked\n",
    "############################################################################\n",
    "# Determine limits of color scale\n",
    "#---------------------------------------------------------------------------\n",
    "minimum = ma.min(sigma_map)\n",
    "maximum = ma.max(sigma_map)\n",
    "\n",
    "if minimum > 0:\n",
    "    vmax_bound = maximum\n",
    "    vmin_bound = 0\n",
    "else:\n",
    "    vmax_bound = np.max( [np.abs(minimum), np.abs(maximum)])\n",
    "    vmin_bound = -vmax_bound\n",
    "\n",
    "    cbar_ticks = np.linspace( vmin_bound, vmax_bound, 11, dtype='int')\n",
    "\n",
    "vel_im = ax.imshow( sigma_map, \n",
    "                        cmap='spring', \n",
    "                        origin='lower', \n",
    "                        vmin=vmin_bound, \n",
    "                        vmax=vmax_bound)\n",
    "\n",
    "cbar = plt.colorbar( vel_im, ax=ax, ticks=cbar_ticks)\n",
    "cbar.ax.tick_params( direction='in', labelsize=16)\n",
    "cbar.set_label(r'$\\sigma_{*}$ [km/s]', fontsize=18) # formatting for paper\n",
    "\n",
    "ax.tick_params( axis='both', direction='in', labelsize=16)\n",
    "ax.yaxis.set_ticks_position('both')\n",
    "ax.xaxis.set_ticks_position('both')\n",
    "ax.set_xlabel('spaxel', fontsize=18)\n",
    "ax.set_ylabel('spaxel', fontsize=18)"
   ]
  },
  {
   "cell_type": "code",
   "execution_count": null,
   "metadata": {},
   "outputs": [],
   "source": []
  }
 ],
 "metadata": {
  "kernelspec": {
   "display_name": "Python 3",
   "language": "python",
   "name": "python3"
  },
  "language_info": {
   "codemirror_mode": {
    "name": "ipython",
    "version": 3
   },
   "file_extension": ".py",
   "mimetype": "text/x-python",
   "name": "python",
   "nbconvert_exporter": "python",
   "pygments_lexer": "ipython3",
   "version": "3.7.4"
  }
 },
 "nbformat": 4,
 "nbformat_minor": 2
}
