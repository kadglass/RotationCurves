{
 "cells": [
  {
   "cell_type": "code",
   "execution_count": 50,
   "metadata": {},
   "outputs": [],
   "source": [
    "import numpy as np\n",
    "import matplotlib.pyplot as plt\n",
    "import matplotlib\n",
    "from astropy.table import Table\n",
    "import numpy.ma as ma\n",
    "from skimage.filters import gaussian\n",
    "import sys\n",
    "sys.path.insert(1,\"/Users/nityaravi/Documents/Github/RotationCurves/spirals/\")\n",
    "from DRP_rotation_curve import extract_data\n"
   ]
  },
  {
   "cell_type": "code",
   "execution_count": 43,
   "metadata": {},
   "outputs": [],
   "source": [
    "matplotlib.rcParams['savefig.dpi'] = 300\n",
    "matplotlib.rcParams['figure.dpi'] = 100"
   ]
  },
  {
   "cell_type": "code",
   "execution_count": 5,
   "metadata": {},
   "outputs": [],
   "source": [
    "folder = '/Users/nityaravi/Documents/Research/RotationCurves/data/manga/output_files/DR17/CURRENT_MASTER_TABLE/'\n",
    "fn = folder + 'H_alpha_HIvel_BB_extinction_H2_MxCG_R90_v3p5_Z_SFR_Portsmouthflux_Zglob.fits'\n",
    "MANGA_FOLDER = '/Users/nityaravi/Documents/Research/RotationCurves/data/manga/'\n",
    "NSA_FILENAME = '/Users/nityaravi/Documents/Research/RotationCurves/data/nsa_v1_0_1.fits'\n",
    "VEL_MAP_FOLDER = MANGA_FOLDER + 'DR17/'"
   ]
  },
  {
   "cell_type": "code",
   "execution_count": 180,
   "metadata": {},
   "outputs": [
    {
     "data": {
      "text/html": [
       "<i>Row index=1362</i>\n",
       "<table id=\"table140620324960656\">\n",
       "<thead><tr><th>plate</th><th>ifudsgn</th><th>plateifu</th><th>mangaid</th><th>versdrp2</th><th>versdrp3</th><th>verscore</th><th>versutil</th><th>versprim</th><th>platetyp</th><th>srvymode</th><th>objra</th><th>objdec</th><th>ifuglon</th><th>ifuglat</th><th>ifura</th><th>ifudec</th><th>ebvgal</th><th>nexp</th><th>exptime</th><th>drp3qual</th><th>bluesn2</th><th>redsn2</th><th>harname</th><th>frlplug</th><th>cartid</th><th>designid</th><th>cenra</th><th>cendec</th><th>airmsmin</th><th>airmsmed</th><th>airmsmax</th><th>seemin</th><th>seemed</th><th>seemax</th><th>transmin</th><th>transmed</th><th>transmax</th><th>mjdmin</th><th>mjdmed</th><th>mjdmax</th><th>gfwhm</th><th>rfwhm</th><th>ifwhm</th><th>zfwhm</th><th>mngtarg1</th><th>mngtarg2</th><th>mngtarg3</th><th>catidnum</th><th>plttarg</th><th>manga_tileid</th><th>nsa_iauname</th><th>ifudesignsize</th><th>ifutargetsize</th><th>ifudesignwrongsize</th><th>z</th><th>zmin</th><th>zmax</th><th>szmin</th><th>szmax</th><th>ezmin</th><th>ezmax</th><th>probs</th><th>pweight</th><th>psweight</th><th>psrweight</th><th>sweight</th><th>srweight</th><th>eweight</th><th>esweight</th><th>esrweight</th><th>nsa_field</th><th>nsa_run</th><th>nsa_camcol</th><th>nsa_version</th><th>nsa_nsaid</th><th>nsa_nsaid_v1b</th><th>nsa_z</th><th>nsa_zdist</th><th>nsa_sersic_absmag [7]</th><th>nsa_elpetro_absmag [7]</th><th>nsa_elpetro_amivar [7]</th><th>nsa_sersic_mass</th><th>nsa_elpetro_mass</th><th>nsa_elpetro_ba</th><th>nsa_elpetro_phi</th><th>nsa_extinction [7]</th><th>nsa_elpetro_th50_r</th><th>nsa_petro_th50</th><th>nsa_petro_flux [7]</th><th>nsa_petro_flux_ivar [7]</th><th>nsa_elpetro_flux [7]</th><th>nsa_elpetro_flux_ivar [7]</th><th>nsa_sersic_ba</th><th>nsa_sersic_n</th><th>nsa_sersic_phi</th><th>nsa_sersic_th50</th><th>nsa_sersic_flux [7]</th><th>nsa_sersic_flux_ivar [7]</th><th>smoothness_score</th><th>nsa_elpetro_th90</th><th>v_sys</th><th>v_sys_err</th><th>ba</th><th>ba_err</th><th>x0</th><th>x0_err</th><th>y0</th><th>y0_err</th><th>phi</th><th>phi_err</th><th>v_max</th><th>v_max_err</th><th>r_turn</th><th>r_turn_err</th><th>chi2</th><th>alpha</th><th>alpha_err</th><th>Rmax</th><th>M</th><th>M_err</th><th>fit_flag</th><th>Sigma_disk</th><th>Sigma_disk_err</th><th>R_disk</th><th>R_disk_err</th><th>rho_bulge</th><th>rho_bulge_err</th><th>R_bulge</th><th>R_bulge_err</th><th>M90_disk</th><th>M90_disk_err</th><th>M_disk</th><th>M_disk_err</th><th>chi2_disk</th><th>logHI</th><th>logHIlim</th><th>WF50</th><th>WF50_err</th><th>DL_ttype</th><th>vis_tidal</th><th>b</th><th>b_err</th><th>M_R90</th><th>M_R90_err</th><th>fit_function</th><th>A_g</th><th>A_r</th><th>logH2</th><th>R90_kpc</th><th>v_3p5</th><th>v_3p5_err</th><th>NSA_plate</th><th>NSA_fiberID</th><th>NSA_MJD</th><th>logH2_CG</th><th>logH2_CG_err</th><th>logH2_M</th><th>Z</th><th>Z_err</th><th>M_Z</th><th>M_Z_err</th><th>grad_Z</th><th>grad_Z_err</th><th>Z_0</th><th>Z_0_err</th><th>SFR</th><th>sSFR</th><th>SFR_err</th><th>sSFR_err</th><th>Flux_OII_3726</th><th>Flux_OII_3726_Err</th><th>Flux_OII_3728</th><th>Flux_OII_3728_Err</th><th>Flux_OIII_4958</th><th>Flux_OIII_4958_Err</th><th>Flux_OIII_5006</th><th>Flux_OIII_5006_Err</th><th>Flux_NII_6547</th><th>Flux_NII_6547_Err</th><th>Flux_NII_6583</th><th>Flux_NII_6583_Err</th><th>Flux_Ha_6562</th><th>Flux_Ha_6562_Err</th><th>Flux_Hb_4861</th><th>Flux_Hb_4861_Err</th><th>CMD_class</th><th>rabsmag_NSA</th><th>param_H2</th><th>param_H2_err</th><th>Z_map</th><th>Z_err_map</th><th>M_Z_map</th><th>M_Z_err_map</th></tr></thead>\n",
       "<thead><tr><th>int64</th><th>bytes32</th><th>bytes32</th><th>bytes32</th><th>bytes32</th><th>bytes32</th><th>bytes32</th><th>bytes32</th><th>bytes32</th><th>bytes32</th><th>bytes32</th><th>float64</th><th>float64</th><th>float64</th><th>float64</th><th>float64</th><th>float64</th><th>float64</th><th>int64</th><th>float64</th><th>int64</th><th>float64</th><th>float64</th><th>bytes53</th><th>int64</th><th>bytes32</th><th>int64</th><th>float64</th><th>float64</th><th>float64</th><th>float64</th><th>float64</th><th>float64</th><th>float64</th><th>float64</th><th>float64</th><th>float64</th><th>float64</th><th>int64</th><th>int64</th><th>int64</th><th>float64</th><th>float64</th><th>float64</th><th>float64</th><th>int64</th><th>int64</th><th>int64</th><th>int64</th><th>bytes32</th><th>int64</th><th>bytes19</th><th>int64</th><th>int64</th><th>int64</th><th>float64</th><th>float64</th><th>float64</th><th>float64</th><th>float64</th><th>float64</th><th>float64</th><th>float64</th><th>float64</th><th>float64</th><th>float64</th><th>float64</th><th>float64</th><th>float64</th><th>float64</th><th>float64</th><th>int64</th><th>int64</th><th>int64</th><th>bytes6</th><th>int64</th><th>int64</th><th>float64</th><th>float64</th><th>float64</th><th>float64</th><th>float64</th><th>float64</th><th>float64</th><th>float64</th><th>float64</th><th>float64</th><th>float64</th><th>float64</th><th>float64</th><th>float64</th><th>float64</th><th>float64</th><th>float64</th><th>float64</th><th>float64</th><th>float64</th><th>float64</th><th>float64</th><th>float64</th><th>float64</th><th>float64</th><th>float64</th><th>float64</th><th>float64</th><th>float64</th><th>float64</th><th>float64</th><th>float64</th><th>float64</th><th>float64</th><th>float64</th><th>float64</th><th>float64</th><th>float64</th><th>float64</th><th>float64</th><th>float64</th><th>float64</th><th>float64</th><th>float64</th><th>float64</th><th>float64</th><th>float64</th><th>float64</th><th>float64</th><th>float64</th><th>float64</th><th>float64</th><th>float64</th><th>float64</th><th>float64</th><th>float64</th><th>float64</th><th>float64</th><th>float64</th><th>float64</th><th>float64</th><th>float64</th><th>float64</th><th>float64</th><th>float64</th><th>float64</th><th>float64</th><th>float64</th><th>float64</th><th>float64</th><th>float64</th><th>float64</th><th>float64</th><th>float64</th><th>float64</th><th>int64</th><th>int64</th><th>int64</th><th>float64</th><th>float64</th><th>float64</th><th>float64</th><th>float64</th><th>float64</th><th>float64</th><th>float64</th><th>float64</th><th>float64</th><th>float64</th><th>float64</th><th>float64</th><th>float64</th><th>float64</th><th>float64</th><th>float64</th><th>float64</th><th>float64</th><th>float64</th><th>float64</th><th>float64</th><th>float64</th><th>float64</th><th>float64</th><th>float64</th><th>float64</th><th>float64</th><th>float64</th><th>float64</th><th>float64</th><th>float64</th><th>float64</th><th>float64</th><th>float64</th><th>float64</th><th>float64</th><th>float64</th><th>float64</th></tr></thead>\n",
       "<tr><td>11011</td><td>3702</td><td>11011-3702</td><td>1-321127</td><td>v3_1_1</td><td>v3_1_1</td><td>v1_9_1</td><td>v5_5_36</td><td>v2_9</td><td>APOGEE-2&amp;MaNGA</td><td>MaNGA dither</td><td>216.729290026</td><td>48.0998981802</td><td>87.7919919663</td><td>61.9967871339</td><td>216.72929</td><td>48.099898</td><td>0.0219919</td><td>9</td><td>8100.73</td><td>0</td><td>20.7804</td><td>46.7142</td><td>ma081</td><td>27</td><td>4</td><td>11652</td><td>217.30728</td><td>48.938065</td><td>1.03703</td><td>1.06679</td><td>1.15371</td><td>1.36872</td><td>1.48051</td><td>1.54698</td><td>0.841774</td><td>0.87204</td><td>0.910849</td><td>58575</td><td>58575</td><td>58575</td><td>2.55149</td><td>2.48224</td><td>2.4606</td><td>2.44156</td><td>1168</td><td>0</td><td>0</td><td>1</td><td>plateTargets-1.par</td><td>6329</td><td>J142655.02+480559.6</td><td>37</td><td>37</td><td>0</td><td>0.025556073</td><td>0.020718733</td><td>0.027553614</td><td>0.040786084</td><td>0.045009885</td><td>0.020718733</td><td>0.027553614</td><td>0.67973006</td><td>1.6151279</td><td>0.63629895</td><td>0.68812716</td><td>-999.0</td><td>-999.0</td><td>1.6167629</td><td>0.6365526</td><td>0.68842375</td><td>112</td><td>3838</td><td>4</td><td>v1_0_1</td><td>339890</td><td>-999</td><td>0.025556073</td><td>0.025902875</td><td>-12.176959 .. -20.250113</td><td>-14.254416 .. -19.908049</td><td>0.5493269 .. 900.6623</td><td>11304580000.0</td><td>7575208400.0</td><td>0.65388304</td><td>1.7195435</td><td>0.18024392 .. 0.032156907</td><td>4.989942</td><td>4.456124</td><td>3.3949125 .. 1591.2616</td><td>0.012917887 .. 0.0021021808</td><td>6.707876 .. 1466.0629</td><td>0.014404271 .. 0.0026080532</td><td>0.49115112</td><td>6.0</td><td>3.7451782</td><td>10.644553</td><td>0.9429962 .. 2008.0093</td><td>0.03251243 .. 0.0067546875</td><td>1.9344233668606612</td><td>15.041358947753906</td><td>-49.688912689270964</td><td>5973.79121782392</td><td>0.8849845861826917</td><td>5.020546004213951e-05</td><td>22.72728271020704</td><td>637.3243918456857</td><td>29.90545996722548</td><td>213.26879514742757</td><td>141.16170557020365</td><td>0.000790469662624622</td><td>4528.858812747207</td><td>1305.0688648688647</td><td>35.02804154851608</td><td>28.291833649567344</td><td>9.565943379072223</td><td>44.60724721338191</td><td>5075763.134728775</td><td>3.9286008108210697</td><td>13.463319953319594</td><td>13.134663834098074</td><td>0.5</td><td>7175.791950966716</td><td>148.71810404067074</td><td>0.2682407495233719</td><td>0.010368301525713716</td><td>3262786633.5267406</td><td>208214509.9075618</td><td>0.6311850243002507</td><td>0.012400883175770308</td><td>10.37511254651207</td><td>9.251119647914742</td><td>10.377754318926476</td><td>9.257383209924058</td><td>247128.80034436606</td><td>-999.0</td><td>8.940696716308594</td><td>-999.0</td><td>-999.0</td><td>0.12078773975372314</td><td>0.0</td><td>0.0</td><td>0.0</td><td>11.831115794287577</td><td>11.5549730277627</td><td>0.0</td><td>0.073</td><td>0.05</td><td>-999.0</td><td>5.586975487662074</td><td>2528.2367267374416</td><td>599.879980109592</td><td>1673</td><td>485</td><td>53462</td><td>--</td><td>--</td><td>--</td><td>8.735520568901157</td><td>0.049063471163515886</td><td>--</td><td>--</td><td>--</td><td>--</td><td>--</td><td>--</td><td>-1.59622350698358</td><td>-11.973977825910056</td><td>0.0858708947896957</td><td>-2.716594615985998</td><td>19.35523</td><td>49.1881</td><td>252.7505</td><td>61.63438</td><td>25.38677</td><td>3.23081</td><td>72.53364</td><td>9.230886</td><td>18.05312</td><td>3.096029</td><td>53.09741</td><td>9.105968</td><td>92.76912</td><td>9.829432</td><td>76.81202</td><td>14.02904</td><td>3.0</td><td>-19.32236</td><td>8.8970372</td><td>0.5634194160550735</td><td>0.0</td><td>0.0</td><td>0.0</td><td>0.0</td></tr>\n",
       "</table>"
      ],
      "text/plain": [
       "<Row index=1362>\n",
       "plate ifudsgn  plateifu  mangaid  versdrp2 versdrp3 verscore versutil versprim    platetyp      srvymode       objra         objdec       ifuglon       ifuglat      ifura     ifudec    ebvgal   nexp exptime drp3qual bluesn2  redsn2 harname frlplug  cartid designid   cenra     cendec  airmsmin airmsmed airmsmax  seemin  seemed  seemax transmin transmed transmax mjdmin mjdmed mjdmax  gfwhm   rfwhm   ifwhm   zfwhm  mngtarg1 mngtarg2 mngtarg3 catidnum      plttarg       manga_tileid     nsa_iauname     ifudesignsize ifutargetsize ifudesignwrongsize      z          zmin        zmax       szmin       szmax       ezmin       ezmax      probs     pweight   psweight  psrweight  sweight srweight  eweight   esweight esrweight  nsa_field nsa_run nsa_camcol nsa_version nsa_nsaid nsa_nsaid_v1b    nsa_z     nsa_zdist   nsa_sersic_absmag [7]    nsa_elpetro_absmag [7]  nsa_elpetro_amivar [7] nsa_sersic_mass nsa_elpetro_mass nsa_elpetro_ba nsa_elpetro_phi     nsa_extinction [7]    nsa_elpetro_th50_r nsa_petro_th50   nsa_petro_flux [7]     nsa_petro_flux_ivar [7]    nsa_elpetro_flux [7]  nsa_elpetro_flux_ivar [7]  nsa_sersic_ba nsa_sersic_n nsa_sersic_phi nsa_sersic_th50  nsa_sersic_flux [7]    nsa_sersic_flux_ivar [7]   smoothness_score   nsa_elpetro_th90         v_sys           v_sys_err             ba                 ba_err                x0              x0_err              y0              y0_err              phi               phi_err              v_max           v_max_err            r_turn          r_turn_err            chi2             alpha           alpha_err            Rmax                M                M_err        fit_flag     Sigma_disk      Sigma_disk_err         R_disk            R_disk_err          rho_bulge        rho_bulge_err        R_bulge           R_bulge_err           M90_disk        M90_disk_err         M_disk           M_disk_err        chi2_disk       logHI       logHIlim       WF50  WF50_err       DL_ttype      vis_tidal    b     b_err        M_R90           M_R90_err     fit_function   A_g     A_r    logH2       R90_kpc            v_3p5           v_3p5_err     NSA_plate NSA_fiberID NSA_MJD logH2_CG logH2_CG_err logH2_M         Z                Z_err           M_Z   M_Z_err  grad_Z grad_Z_err   Z_0   Z_0_err        SFR                sSFR             SFR_err            sSFR_err      Flux_OII_3726 Flux_OII_3726_Err Flux_OII_3728 Flux_OII_3728_Err Flux_OIII_4958 Flux_OIII_4958_Err Flux_OIII_5006 Flux_OIII_5006_Err Flux_NII_6547 Flux_NII_6547_Err Flux_NII_6583 Flux_NII_6583_Err Flux_Ha_6562 Flux_Ha_6562_Err Flux_Hb_4861 Flux_Hb_4861_Err CMD_class rabsmag_NSA  param_H2    param_H2_err     Z_map  Z_err_map M_Z_map M_Z_err_map\n",
       "int64 bytes32  bytes32   bytes32  bytes32  bytes32  bytes32  bytes32  bytes32     bytes32       bytes32       float64       float64       float64       float64     float64   float64   float64  int64 float64  int64   float64 float64 bytes53  int64  bytes32  int64    float64   float64  float64  float64  float64  float64 float64 float64 float64  float64  float64  int64  int64  int64  float64 float64 float64 float64  int64    int64    int64    int64        bytes32          int64           bytes19           int64         int64           int64          float64     float64     float64     float64     float64     float64     float64    float64    float64   float64    float64   float64 float64   float64   float64   float64     int64    int64    int64       bytes6     int64       int64       float64     float64           float64                  float64                 float64             float64         float64         float64         float64              float64               float64          float64            float64                   float64                  float64                  float64              float64      float64       float64         float64            float64                  float64                float64            float64             float64           float64           float64              float64             float64           float64           float64           float64            float64             float64             float64           float64            float64           float64            float64           float64           float64           float64            float64            float64       float64       float64           float64            float64             float64             float64            float64           float64             float64             float64           float64           float64            float64           float64       float64      float64      float64 float64        float64        float64  float64 float64      float64           float64        float64    float64 float64 float64      float64           float64           float64        int64      int64     int64  float64    float64    float64      float64            float64        float64 float64 float64  float64   float64 float64      float64            float64            float64            float64          float64         float64         float64         float64         float64          float64          float64          float64          float64         float64         float64         float64        float64        float64        float64        float64       float64    float64    float64       float64       float64  float64  float64   float64  \n",
       "----- ------- ---------- -------- -------- -------- -------- -------- -------- -------------- ------------ ------------- ------------- ------------- ------------- --------- --------- --------- ----- ------- -------- ------- ------- ------- ------- ------- -------- --------- --------- -------- -------- -------- ------- ------- ------- -------- -------- -------- ------ ------ ------ ------- ------- ------- ------- -------- -------- -------- -------- ------------------ ------------ ------------------- ------------- ------------- ------------------ ----------- ----------- ----------- ----------- ----------- ----------- ----------- ---------- --------- ---------- ---------- ------- -------- --------- --------- ---------- --------- ------- ---------- ----------- --------- ------------- ----------- ----------- ------------------------ ------------------------ ---------------------- --------------- ---------------- -------------- --------------- ------------------------- ------------------ -------------- ---------------------- --------------------------- --------------------- --------------------------- ------------- ------------ -------------- --------------- ---------------------- -------------------------- ------------------ ------------------ ------------------- ---------------- ------------------ --------------------- ----------------- ----------------- ----------------- ------------------ ------------------ -------------------- ----------------- ------------------ ----------------- ------------------ ----------------- ----------------- ----------------- ------------------ ------------------ ------------------ -------- ----------------- ------------------ ------------------ -------------------- ------------------ ----------------- ------------------ -------------------- ----------------- ----------------- ------------------ ----------------- ------------------ ------- ----------------- ------- -------- ------------------- --------- ------- ------- ------------------ ---------------- ------------ ------- ------- ------- ----------------- ------------------ ---------------- --------- ----------- ------- -------- ------------ ------- ----------------- -------------------- ------- ------- ------- ---------- ------- ------- ----------------- ------------------- ------------------ ------------------ ------------- ----------------- ------------- ----------------- -------------- ------------------ -------------- ------------------ ------------- ----------------- ------------- ----------------- ------------ ---------------- ------------ ---------------- --------- ----------- --------- ------------------ ------- --------- ------- -----------\n",
       "11011    3702 11011-3702 1-321127   v3_1_1   v3_1_1   v1_9_1  v5_5_36     v2_9 APOGEE-2&MaNGA MaNGA dither 216.729290026 48.0998981802 87.7919919663 61.9967871339 216.72929 48.099898 0.0219919     9 8100.73        0 20.7804 46.7142   ma081      27       4    11652 217.30728 48.938065  1.03703  1.06679  1.15371 1.36872 1.48051 1.54698 0.841774  0.87204 0.910849  58575  58575  58575 2.55149 2.48224  2.4606 2.44156     1168        0        0        1 plateTargets-1.par         6329 J142655.02+480559.6            37            37                  0 0.025556073 0.020718733 0.027553614 0.040786084 0.045009885 0.020718733 0.027553614 0.67973006 1.6151279 0.63629895 0.68812716  -999.0   -999.0 1.6167629 0.6365526 0.68842375       112    3838          4      v1_0_1    339890          -999 0.025556073 0.025902875 -12.176959 .. -20.250113 -14.254416 .. -19.908049  0.5493269 .. 900.6623   11304580000.0     7575208400.0     0.65388304       1.7195435 0.18024392 .. 0.032156907           4.989942       4.456124 3.3949125 .. 1591.2616 0.012917887 .. 0.0021021808 6.707876 .. 1466.0629 0.014404271 .. 0.0026080532    0.49115112          6.0      3.7451782       10.644553 0.9429962 .. 2008.0093 0.03251243 .. 0.0067546875 1.9344233668606612 15.041358947753906 -49.688912689270964 5973.79121782392 0.8849845861826917 5.020546004213951e-05 22.72728271020704 637.3243918456857 29.90545996722548 213.26879514742757 141.16170557020365 0.000790469662624622 4528.858812747207 1305.0688648688647 35.02804154851608 28.291833649567344 9.565943379072223 44.60724721338191 5075763.134728775 3.9286008108210697 13.463319953319594 13.134663834098074      0.5 7175.791950966716 148.71810404067074 0.2682407495233719 0.010368301525713716 3262786633.5267406 208214509.9075618 0.6311850243002507 0.012400883175770308 10.37511254651207 9.251119647914742 10.377754318926476 9.257383209924058 247128.80034436606  -999.0 8.940696716308594  -999.0   -999.0 0.12078773975372314       0.0     0.0     0.0 11.831115794287577 11.5549730277627          0.0   0.073    0.05  -999.0 5.586975487662074 2528.2367267374416 599.879980109592      1673         485   53462       --           --      -- 8.735520568901157 0.049063471163515886      --      --      --         --      --      -- -1.59622350698358 -11.973977825910056 0.0858708947896957 -2.716594615985998      19.35523           49.1881      252.7505          61.63438       25.38677            3.23081       72.53364           9.230886      18.05312          3.096029      53.09741          9.105968     92.76912         9.829432     76.81202         14.02904       3.0   -19.32236 8.8970372 0.5634194160550735     0.0       0.0     0.0         0.0"
      ]
     },
     "execution_count": 180,
     "metadata": {},
     "output_type": "execute_result"
    }
   ],
   "source": [
    "t = Table.read(fn, format='fits')\n",
    "t_dict = {}\n",
    "for i in range(0, len(t)):\n",
    "    gal_ID = t['plateifu'][i]\n",
    "    t_dict[gal_ID] = i\n",
    "t[t_dict['11011-3702']]"
   ]
  },
  {
   "cell_type": "code",
   "execution_count": 211,
   "metadata": {},
   "outputs": [],
   "source": [
    "def find_center(vel_map):\n",
    "    '''\n",
    "    Locate the center of the galaxy velocity map, defined as the position with\n",
    "    the velocity value closest to 0.\n",
    "\n",
    "\n",
    "    PARAMETERS\n",
    "    ==========\n",
    "\n",
    "    vel_map : numpy ndarray of shape (n,n)\n",
    "        Masked H-alpha velocity map\n",
    "\n",
    "\n",
    "    RETURNS\n",
    "    =======\n",
    "\n",
    "    center : numpy ndarray of shape (,2)\n",
    "        Center coordinates of velocity map, [y,x] or [row, column]\n",
    "    '''\n",
    "\n",
    "    ############################################################################\n",
    "    # Transform velocity map so that the 0th value is the maximum in the array\n",
    "    # (including the masked points)\n",
    "    #---------------------------------------------------------------------------\n",
    "    neg_map = -np.abs(vel_map)\n",
    "    shifted_neg_map = neg_map + np.abs(ma.min(vel_map))\n",
    "\n",
    "    # Set all masked values to have a value of -1\n",
    "    shifted_neg_map[vel_map.mask] = -1\n",
    "    ############################################################################\n",
    "\n",
    "\n",
    "    ############################################################################\n",
    "    # Find the location of the maximum in the shifted negative map\n",
    "    #---------------------------------------------------------------------------\n",
    "    smoothed_map = gaussian(shifted_neg_map, sigma=2)\n",
    "\n",
    "    center = np.unravel_index(np.argmax(smoothed_map), smoothed_map.shape)\n",
    "    ############################################################################\n",
    "\n",
    "    return center\n",
    "\n",
    "def find_phi(center_coords, phi_angle, vel_map):\n",
    "    '''\n",
    "    Find a point along the semi-major axis that has data to determine if phi\n",
    "    needs to be adjusted.  (This is necessary because the positive y-axis is\n",
    "    defined as being along the semi-major axis of the positive velocity side of\n",
    "    the velocity map.)\n",
    "\n",
    "\n",
    "    PARAMETERS\n",
    "    ==========\n",
    "\n",
    "    center_coords : tuple\n",
    "        Coordinates of the center of the galaxy\n",
    "\n",
    "    phi_angle : float\n",
    "        Initial rotation angle of the galaxy, E of N.  Units are degrees.\n",
    "\n",
    "    vel_map : masked ndarray of shape (n,n)\n",
    "        Masked H-alpha velocity map\n",
    "\n",
    "\n",
    "    RETURNS\n",
    "    =======\n",
    "\n",
    "    phi_adjusted : float\n",
    "        Rotation angle of the galaxy, E of N, that points along the positive\n",
    "        velocity sector.  Units are radians.\n",
    "    '''\n",
    "    \n",
    "    spax_jump = []\n",
    "    spax = []\n",
    "    \n",
    "    # Convert phi_angle to radians\n",
    "    phi = phi_angle*np.pi/180.\n",
    "    \n",
    "    print('phi: ', phi)\n",
    "\n",
    "    # Extract \"systemic\" velocity (velocity at center spaxel)\n",
    "    v_sys = vel_map[center_coords]\n",
    "\n",
    "    f = 0.4\n",
    "\n",
    "    checkpoint_masked = True\n",
    "\n",
    "    while checkpoint_masked and not vel_map.mask.all():\n",
    "        delta_x = center_coords[1]*f\n",
    "        delta_y = delta_x/np.tan(phi)\n",
    "        semi_major_axis_spaxel = np.array([int(center_coords[0] + delta_y), int(center_coords[1] - delta_x)])\n",
    "        \n",
    "        print('spax jump: ', semi_major_axis_spaxel)\n",
    "        spax_jump.append([semi_major_axis_spaxel[0], semi_major_axis_spaxel[1]])\n",
    "        \n",
    "        in_map = True # check if pt along semi major axis is in the vel map\n",
    "        \n",
    "        for i in range(len(semi_major_axis_spaxel)):\n",
    "            if semi_major_axis_spaxel[i] < 0:\n",
    "                in_map = False\n",
    "            elif semi_major_axis_spaxel[i] >= vel_map.shape[i]:\n",
    "                in_map = False\n",
    "        \n",
    "        '''\n",
    "        print('spax: ', semi_major_axis_spaxel)\n",
    "        spax.append([semi_major_axis_spaxel[0], semi_major_axis_spaxel[1]])\n",
    "\n",
    "        # Check value along semi-major axis\n",
    "        if vel_map.mask[tuple(semi_major_axis_spaxel)] == 0:\n",
    "            checkpoint_masked = False\n",
    "        else:\n",
    "            f *= 0.9'''\n",
    "        \n",
    "        if in_map == False:\n",
    "            f *= 0.9\n",
    "        elif vel_map.mask[tuple(semi_major_axis_spaxel)] == 0:\n",
    "            checkpoint_masked=False\n",
    "        else:\n",
    "            f *= 0.9\n",
    "            \n",
    "\n",
    "    if vel_map.mask.all() or vel_map[tuple(semi_major_axis_spaxel)] - v_sys >= 0:\n",
    "        phi_adjusted = phi\n",
    "        print('no flip')\n",
    "    else:\n",
    "        phi_adjusted = phi + np.pi\n",
    "        print('flip')\n",
    "\n",
    "    print('new phi: ', phi_adjusted)\n",
    "\n",
    "    return phi_adjusted, spax_jump, spax"
   ]
  },
  {
   "cell_type": "code",
   "execution_count": 229,
   "metadata": {},
   "outputs": [],
   "source": [
    "gal_ID = '10519-12702'\n",
    "\n",
    "i_t = t_dict[gal_ID]\n",
    "phi_angle = t['nsa_elpetro_phi'][i_t]\n",
    "\n",
    "\n",
    "maps = extract_data(VEL_MAP_FOLDER,\n",
    "                    gal_ID,\n",
    "                    ['Ha_vel', 'Ha_flux', 'Ha_sigma', 'r_band'])\n",
    "\n",
    "vel = maps['Ha_vel']\n",
    "vel_mask = maps['Ha_vel_mask']\n",
    "vel_ivar = maps['Ha_vel_ivar']\n",
    "\n",
    "Ha_flux = maps['Ha_flux']\n",
    "Ha_flux_mask = maps['Ha_flux_mask']\n",
    "Ha_flux_ivar = maps['Ha_flux_ivar']\n",
    "\n",
    "Ha_sigma_ivar = maps['Ha_sigma_ivar']\n",
    "\n",
    "\n",
    "vel_mask = np.logical_or(vel_mask > 0, np.abs(Ha_flux*np.sqrt(Ha_flux_ivar)) < 5)\n",
    "\n",
    "mvel = ma.array( vel, mask=vel_mask)\n",
    "    "
   ]
  },
  {
   "cell_type": "code",
   "execution_count": 230,
   "metadata": {},
   "outputs": [
    {
     "data": {
      "image/png": "[encoded data removed]",
      "text/plain": [
       "<Figure size 600x400 with 2 Axes>"
      ]
     },
     "metadata": {
      "needs_background": "light"
     },
     "output_type": "display_data"
    }
   ],
   "source": [
    "plt.imshow(mvel, cmap='coolwarm')\n",
    "plt.colorbar(label='v [km/s]')\n",
    "plt.xlabel('spaxel')\n",
    "plt.ylabel('spaxel')\n",
    "plt.gca().invert_yaxis()"
   ]
  },
  {
   "cell_type": "code",
   "execution_count": 231,
   "metadata": {},
   "outputs": [
    {
     "data": {
      "text/plain": [
       "(35, 29)"
      ]
     },
     "execution_count": 231,
     "metadata": {},
     "output_type": "execute_result"
    }
   ],
   "source": [
    "center = find_center(mvel)\n",
    "center"
   ]
  },
  {
   "cell_type": "code",
   "execution_count": 232,
   "metadata": {},
   "outputs": [
    {
     "name": "stdout",
     "output_type": "stream",
     "text": [
      "phi:  0.03122830364130854\n",
      "delta:  11.600000000000001 371.3371397889078\n",
      "spax jump:  [406  17]\n",
      "delta:  10.440000000000001 334.203425810017\n",
      "spax jump:  [369  18]\n",
      "delta:  9.396000000000003 300.78308322901535\n",
      "spax jump:  [335  19]\n",
      "delta:  8.456400000000002 270.7047749061138\n",
      "spax jump:  [305  20]\n",
      "delta:  7.610760000000002 243.6342974155024\n",
      "spax jump:  [278  21]\n",
      "delta:  6.849684000000002 219.27086767395218\n",
      "spax jump:  [254  22]\n",
      "delta:  6.164715600000003 197.343780906557\n",
      "spax jump:  [232  22]\n",
      "delta:  5.548244040000003 177.60940281590132\n",
      "spax jump:  [212  23]\n",
      "delta:  4.993419636000003 159.8484625343112\n",
      "spax jump:  [194  24]\n",
      "delta:  4.494077672400002 143.86361628088005\n",
      "spax jump:  [178  24]\n",
      "delta:  4.044669905160002 129.47725465279206\n",
      "spax jump:  [164  24]\n",
      "delta:  3.6402029146440014 116.52952918751284\n",
      "spax jump:  [151  25]\n",
      "delta:  3.2761826231796016 104.87657626876157\n",
      "spax jump:  [139  25]\n",
      "delta:  2.9485643608616416 94.38891864188541\n",
      "spax jump:  [129  26]\n",
      "delta:  2.6537079247754773 84.95002677769686\n",
      "spax jump:  [119  26]\n",
      "delta:  2.38833713229793 76.45502409992719\n",
      "spax jump:  [111  26]\n",
      "delta:  2.149503419068137 68.80952168993447\n",
      "spax jump:  [103  26]\n",
      "delta:  1.9345530771613233 61.928569520941025\n",
      "spax jump:  [96 27]\n",
      "delta:  1.741097769445191 55.73571256884692\n",
      "spax jump:  [90 27]\n",
      "delta:  1.5669879925006722 50.162141311962245\n",
      "spax jump:  [85 27]\n",
      "delta:  1.410289193250605 45.145927180766016\n",
      "spax jump:  [80 27]\n",
      "delta:  1.2692602739255445 40.631334462689416\n",
      "spax jump:  [75 27]\n",
      "delta:  1.14233424653299 36.568201016420474\n",
      "spax jump:  [71 27]\n",
      "delta:  1.028100821879691 32.91138091477843\n",
      "spax jump:  [67 27]\n",
      "delta:  0.925290739691722 29.620242823300586\n",
      "spax jump:  [64 28]\n",
      "delta:  0.83276166572255 26.658218540970534\n",
      "spax jump:  [61 28]\n",
      "delta:  0.7494854991502949 23.99239668687348\n",
      "spax jump:  [58 28]\n",
      "delta:  0.6745369492352655 21.593157018186133\n",
      "spax jump:  [56 28]\n",
      "delta:  0.6070832543117389 19.43384131636752\n",
      "spax jump:  [54 28]\n",
      "delta:  0.546374928880565 17.49045718473077\n",
      "spax jump:  [52 28]\n",
      "flip\n",
      "new phi:  3.1728209572311017\n"
     ]
    },
    {
     "data": {
      "text/plain": [
       "181.78925"
      ]
     },
     "execution_count": 232,
     "metadata": {},
     "output_type": "execute_result"
    }
   ],
   "source": [
    "newphi, spax_jump, spax = find_phi(center, phi_angle, mvel)\n",
    "np.degrees(newphi)"
   ]
  },
  {
   "cell_type": "code",
   "execution_count": 222,
   "metadata": {},
   "outputs": [
    {
     "data": {
      "text/plain": [
       "[[-714, 26],\n",
       " [-639, 28],\n",
       " [-571, 29],\n",
       " [-510, 31],\n",
       " [-455, 32],\n",
       " [-406, 33],\n",
       " [-362, 34],\n",
       " [-322, 35],\n",
       " [-286, 36],\n",
       " [-254, 37],\n",
       " [-224, 37],\n",
       " [-198, 38],\n",
       " [-175, 39],\n",
       " [-153, 39],\n",
       " [-134, 39],\n",
       " [-117, 40],\n",
       " [-102, 40],\n",
       " [-88, 41],\n",
       " [-75, 41],\n",
       " [-64, 41],\n",
       " [-54, 41],\n",
       " [-45, 42],\n",
       " [-36, 42],\n",
       " [-29, 42],\n",
       " [-22, 42],\n",
       " [-16, 42],\n",
       " [-11, 42],\n",
       " [-6, 42],\n",
       " [-2, 43],\n",
       " [1, 43],\n",
       " [5, 43],\n",
       " [8, 43],\n",
       " [11, 43],\n",
       " [13, 43]]"
      ]
     },
     "execution_count": 222,
     "metadata": {},
     "output_type": "execute_result"
    }
   ],
   "source": [
    "spax_jump"
   ]
  },
  {
   "cell_type": "code",
   "execution_count": 224,
   "metadata": {},
   "outputs": [
    {
     "data": {
      "image/png": "[encoded data removed]",
      "text/plain": [
       "<Figure size 600x400 with 2 Axes>"
      ]
     },
     "metadata": {
      "needs_background": "light"
     },
     "output_type": "display_data"
    }
   ],
   "source": [
    "plt.imshow(mvel, cmap='coolwarm')\n",
    "plt.colorbar(label='v [km/s]')\n",
    "plt.xlabel('spaxel')\n",
    "plt.ylabel('spaxel')\n",
    "for i in range(0,len(spax_jump)):\n",
    "#    plt.scatter(spax_jump[i][1], spax_jump[i][0], marker='x', color='cyan')\n",
    "    plt.scatter(spax_jump[i][1], spax_jump[i][0], marker='x', color='k')\n",
    "plt.gca().invert_yaxis()\n",
    "\n",
    "plt.show()"
   ]
  },
  {
   "cell_type": "code",
   "execution_count": 210,
   "metadata": {},
   "outputs": [
    {
     "data": {
      "text/plain": [
       "-95.420074"
      ]
     },
     "execution_count": 210,
     "metadata": {},
     "output_type": "execute_result"
    }
   ],
   "source": [
    "mvel[(37,20)] - mvel[center]"
   ]
  },
  {
   "cell_type": "code",
   "execution_count": null,
   "metadata": {},
   "outputs": [],
   "source": []
  }
 ],
 "metadata": {
  "kernelspec": {
   "display_name": "Python 3",
   "language": "python",
   "name": "python3"
  },
  "language_info": {
   "codemirror_mode": {
    "name": "ipython",
    "version": 3
   },
   "file_extension": ".py",
   "mimetype": "text/x-python",
   "name": "python",
   "nbconvert_exporter": "python",
   "pygments_lexer": "ipython3",
   "version": "3.7.4"
  }
 },
 "nbformat": 4,
 "nbformat_minor": 2
}
