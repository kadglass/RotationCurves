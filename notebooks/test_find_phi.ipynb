{
 "cells": [
  {
   "cell_type": "code",
   "execution_count": 1,
   "metadata": {},
   "outputs": [],
   "source": [
    "import numpy as np\n",
    "import matplotlib.pyplot as plt\n",
    "import matplotlib\n",
    "from astropy.table import Table\n",
    "import numpy.ma as ma\n",
    "from skimage.filters import gaussian\n",
    "import sys\n",
    "sys.path.insert(1,\"/Users/nityaravi/Documents/Github/RotationCurves/spirals/\")\n",
    "from DRP_rotation_curve import extract_data\n"
   ]
  },
  {
   "cell_type": "code",
   "execution_count": 2,
   "metadata": {},
   "outputs": [],
   "source": [
    "matplotlib.rcParams['savefig.dpi'] = 300\n",
    "matplotlib.rcParams['figure.dpi'] = 100"
   ]
  },
  {
   "cell_type": "code",
   "execution_count": 3,
   "metadata": {},
   "outputs": [],
   "source": [
    "folder = '/Users/nityaravi/Documents/Research/RotationCurves/data/manga/output_files/DR17/CURRENT_MASTER_TABLE/'\n",
    "fn = folder + 'H_alpha_HIvel_BB_extinction_H2_MxCG_R90_v3p5_Z_SFR_Portsmouthflux_Zglob.fits'\n",
    "MANGA_FOLDER = '/Users/nityaravi/Documents/Research/RotationCurves/data/manga/'\n",
    "NSA_FILENAME = '/Users/nityaravi/Documents/Research/RotationCurves/data/nsa_v1_0_1.fits'\n",
    "VEL_MAP_FOLDER = MANGA_FOLDER + 'DR17/'"
   ]
  },
  {
   "cell_type": "code",
   "execution_count": 1,
   "metadata": {},
   "outputs": [
    {
     "ename": "NameError",
     "evalue": "name 'Table' is not defined",
     "output_type": "error",
     "traceback": [
      "\u001b[0;31m---------------------------------------------------------------------------\u001b[0m",
      "\u001b[0;31mNameError\u001b[0m                                 Traceback (most recent call last)",
      "\u001b[0;32m<ipython-input-1-2db52627562f>\u001b[0m in \u001b[0;36m<module>\u001b[0;34m\u001b[0m\n\u001b[0;32m----> 1\u001b[0;31m \u001b[0mt\u001b[0m \u001b[0;34m=\u001b[0m \u001b[0mTable\u001b[0m\u001b[0;34m.\u001b[0m\u001b[0mread\u001b[0m\u001b[0;34m(\u001b[0m\u001b[0mfn\u001b[0m\u001b[0;34m,\u001b[0m \u001b[0mformat\u001b[0m\u001b[0;34m=\u001b[0m\u001b[0;34m'fits'\u001b[0m\u001b[0;34m)\u001b[0m\u001b[0;34m\u001b[0m\u001b[0;34m\u001b[0m\u001b[0m\n\u001b[0m\u001b[1;32m      2\u001b[0m \u001b[0mt_dict\u001b[0m \u001b[0;34m=\u001b[0m \u001b[0;34m{\u001b[0m\u001b[0;34m}\u001b[0m\u001b[0;34m\u001b[0m\u001b[0;34m\u001b[0m\u001b[0m\n\u001b[1;32m      3\u001b[0m \u001b[0;32mfor\u001b[0m \u001b[0mi\u001b[0m \u001b[0;32min\u001b[0m \u001b[0mrange\u001b[0m\u001b[0;34m(\u001b[0m\u001b[0;36m0\u001b[0m\u001b[0;34m,\u001b[0m \u001b[0mlen\u001b[0m\u001b[0;34m(\u001b[0m\u001b[0mt\u001b[0m\u001b[0;34m)\u001b[0m\u001b[0;34m)\u001b[0m\u001b[0;34m:\u001b[0m\u001b[0;34m\u001b[0m\u001b[0;34m\u001b[0m\u001b[0m\n\u001b[1;32m      4\u001b[0m     \u001b[0mgal_ID\u001b[0m \u001b[0;34m=\u001b[0m \u001b[0mt\u001b[0m\u001b[0;34m[\u001b[0m\u001b[0;34m'plateifu'\u001b[0m\u001b[0;34m]\u001b[0m\u001b[0;34m[\u001b[0m\u001b[0mi\u001b[0m\u001b[0;34m]\u001b[0m\u001b[0;34m\u001b[0m\u001b[0;34m\u001b[0m\u001b[0m\n\u001b[1;32m      5\u001b[0m     \u001b[0mt_dict\u001b[0m\u001b[0;34m[\u001b[0m\u001b[0mgal_ID\u001b[0m\u001b[0;34m]\u001b[0m \u001b[0;34m=\u001b[0m \u001b[0mi\u001b[0m\u001b[0;34m\u001b[0m\u001b[0;34m\u001b[0m\u001b[0m\n",
      "\u001b[0;31mNameError\u001b[0m: name 'Table' is not defined"
     ]
    }
   ],
   "source": [
    "t = Table.read(fn, format='fits')\n",
    "t_dict = {}\n",
    "for i in range(0, len(t)):\n",
    "    gal_ID = t['plateifu'][i]\n",
    "    t_dict[gal_ID] = i"
   ]
  },
  {
   "cell_type": "code",
   "execution_count": 20,
   "metadata": {},
   "outputs": [],
   "source": [
    "def find_center(vel_map):\n",
    "    '''\n",
    "    Locate the center of the galaxy velocity map, defined as the position with\n",
    "    the velocity value closest to 0.\n",
    "\n",
    "\n",
    "    PARAMETERS\n",
    "    ==========\n",
    "\n",
    "    vel_map : numpy ndarray of shape (n,n)\n",
    "        Masked H-alpha velocity map\n",
    "\n",
    "\n",
    "    RETURNS\n",
    "    =======\n",
    "\n",
    "    center : numpy ndarray of shape (,2)\n",
    "        Center coordinates of velocity map, [y,x] or [row, column]\n",
    "    '''\n",
    "\n",
    "    ############################################################################\n",
    "    # Transform velocity map so that the 0th value is the maximum in the array\n",
    "    # (including the masked points)\n",
    "    #---------------------------------------------------------------------------\n",
    "    neg_map = -np.abs(vel_map)\n",
    "    shifted_neg_map = neg_map + np.abs(ma.min(vel_map))\n",
    "\n",
    "    # Set all masked values to have a value of -1\n",
    "    shifted_neg_map[vel_map.mask] = -1\n",
    "    ############################################################################\n",
    "\n",
    "\n",
    "    ############################################################################\n",
    "    # Find the location of the maximum in the shifted negative map\n",
    "    #---------------------------------------------------------------------------\n",
    "    smoothed_map = gaussian(shifted_neg_map, sigma=2)\n",
    "\n",
    "    center = np.unravel_index(np.argmax(smoothed_map), smoothed_map.shape)\n",
    "    ############################################################################\n",
    "\n",
    "    return center\n",
    "\n",
    "def find_phi(center_coords, phi_angle, vel_map):\n",
    "    '''\n",
    "    Find a point along the semi-major axis that has data to determine if phi\n",
    "    needs to be adjusted.  (This is necessary because the positive y-axis is\n",
    "    defined as being along the semi-major axis of the positive velocity side of\n",
    "    the velocity map.)\n",
    "\n",
    "\n",
    "    PARAMETERS\n",
    "    ==========\n",
    "\n",
    "    center_coords : tuple\n",
    "        Coordinates of the center of the galaxy\n",
    "\n",
    "    phi_angle : float\n",
    "        Initial rotation angle of the galaxy, E of N.  Units are degrees.\n",
    "\n",
    "    vel_map : masked ndarray of shape (n,n)\n",
    "        Masked H-alpha velocity map\n",
    "\n",
    "\n",
    "    RETURNS\n",
    "    =======\n",
    "\n",
    "    phi_adjusted : float\n",
    "        Rotation angle of the galaxy, E of N, that points along the positive\n",
    "        velocity sector.  Units are radians.\n",
    "    '''\n",
    "    \n",
    "    spax_jump = []\n",
    "    spax = []\n",
    "    \n",
    "    # Convert phi_angle to radians\n",
    "    phi = phi_angle*np.pi/180.\n",
    "    \n",
    "    print('phi: ', phi)\n",
    "\n",
    "    # Extract \"systemic\" velocity (velocity at center spaxel)\n",
    "    v_sys = vel_map[center_coords]\n",
    "\n",
    "    f = 0.4\n",
    "\n",
    "    checkpoint_masked = True\n",
    "\n",
    "    while checkpoint_masked and not vel_map.mask.all():\n",
    "        delta_x = center_coords[1]*f\n",
    "        delta_y = delta_x/np.tan(phi)\n",
    "        semi_major_axis_spaxel = np.array([int(center_coords[0] + delta_y), int(center_coords[1] - delta_x)])\n",
    "        \n",
    "        print('spax jump: ', semi_major_axis_spaxel)\n",
    "        spax_jump.append([semi_major_axis_spaxel[0], semi_major_axis_spaxel[1]])\n",
    "        \n",
    "        in_map = True # check if pt along semi major axis is in the vel map\n",
    "        \n",
    "        for i in range(len(semi_major_axis_spaxel)):\n",
    "            if semi_major_axis_spaxel[i] < 0:\n",
    "                in_map = False\n",
    "            elif semi_major_axis_spaxel[i] >= vel_map.shape[i]:\n",
    "                in_map = False\n",
    "        \n",
    "        '''\n",
    "        print('spax: ', semi_major_axis_spaxel)\n",
    "        spax.append([semi_major_axis_spaxel[0], semi_major_axis_spaxel[1]])\n",
    "\n",
    "        # Check value along semi-major axis\n",
    "        if vel_map.mask[tuple(semi_major_axis_spaxel)] == 0:\n",
    "            checkpoint_masked = False\n",
    "        else:\n",
    "            f *= 0.9'''\n",
    "        \n",
    "        if in_map == False:\n",
    "            f *= 0.9\n",
    "        elif vel_map.mask[tuple(semi_major_axis_spaxel)] == 0:\n",
    "            checkpoint_masked=False\n",
    "        else:\n",
    "            f *= 0.9\n",
    "            \n",
    "\n",
    "    if vel_map.mask.all() or vel_map[tuple(semi_major_axis_spaxel)] - v_sys >= 0:\n",
    "        phi_adjusted = phi\n",
    "        print('no flip')\n",
    "    else:\n",
    "        phi_adjusted = phi + np.pi\n",
    "        print('flip')\n",
    "\n",
    "    print('new phi: ', phi_adjusted)\n",
    "\n",
    "    return phi_adjusted, spax_jump, spax"
   ]
  },
  {
   "cell_type": "code",
   "execution_count": 25,
   "metadata": {},
   "outputs": [],
   "source": [
    "gal_ID = '10507-3702'\n",
    "\n",
    "i_t = t_dict[gal_ID]\n",
    "phi_angle = t['nsa_elpetro_phi'][i_t]\n",
    "\n",
    "\n",
    "maps = extract_data(VEL_MAP_FOLDER,\n",
    "                    gal_ID,\n",
    "                    ['Ha_vel', 'Ha_flux', 'Ha_sigma', 'r_band'])\n",
    "\n",
    "vel = maps['Ha_vel']\n",
    "vel_mask = maps['Ha_vel_mask']\n",
    "vel_ivar = maps['Ha_vel_ivar']\n",
    "\n",
    "Ha_flux = maps['Ha_flux']\n",
    "Ha_flux_mask = maps['Ha_flux_mask']\n",
    "Ha_flux_ivar = maps['Ha_flux_ivar']\n",
    "\n",
    "Ha_sigma_ivar = maps['Ha_sigma_ivar']\n",
    "\n",
    "\n",
    "vel_mask = np.logical_or(vel_mask > 0, np.abs(Ha_flux*np.sqrt(Ha_flux_ivar)) < 5)\n",
    "\n",
    "mvel = ma.array( vel, mask=vel_mask)\n",
    "    "
   ]
  },
  {
   "cell_type": "code",
   "execution_count": 26,
   "metadata": {},
   "outputs": [
    {
     "data": {
      "image/png": "[encoded data removed]",
      "text/plain": [
       "<Figure size 600x400 with 2 Axes>"
      ]
     },
     "metadata": {
      "needs_background": "light"
     },
     "output_type": "display_data"
    }
   ],
   "source": [
    "plt.imshow(mvel, cmap='coolwarm')\n",
    "plt.colorbar(label='v [km/s]')\n",
    "plt.xlabel('spaxel')\n",
    "plt.ylabel('spaxel')\n",
    "plt.gca().invert_yaxis()"
   ]
  },
  {
   "cell_type": "code",
   "execution_count": 27,
   "metadata": {},
   "outputs": [
    {
     "data": {
      "text/plain": [
       "(20, 28)"
      ]
     },
     "execution_count": 27,
     "metadata": {},
     "output_type": "execute_result"
    }
   ],
   "source": [
    "center = find_center(mvel)\n",
    "center"
   ]
  },
  {
   "cell_type": "code",
   "execution_count": 29,
   "metadata": {},
   "outputs": [
    {
     "name": "stdout",
     "output_type": "stream",
     "text": [
      "phi:  3.0972787438816574\n",
      "spax jump:  [-232   16]\n",
      "spax jump:  [-207   17]\n",
      "spax jump:  [-184   18]\n",
      "spax jump:  [-164   19]\n",
      "spax jump:  [-145   20]\n",
      "spax jump:  [-129   21]\n",
      "spax jump:  [-114   22]\n",
      "spax jump:  [-100   22]\n",
      "spax jump:  [-88  23]\n",
      "spax jump:  [-77  23]\n",
      "spax jump:  [-68  24]\n",
      "spax jump:  [-59  24]\n",
      "spax jump:  [-51  24]\n",
      "spax jump:  [-44  25]\n",
      "spax jump:  [-37  25]\n",
      "spax jump:  [-32  25]\n",
      "spax jump:  [-26  25]\n",
      "spax jump:  [-22  26]\n",
      "spax jump:  [-17  26]\n",
      "spax jump:  [-14  26]\n",
      "spax jump:  [-10  26]\n",
      "spax jump:  [-7 26]\n",
      "spax jump:  [-4 26]\n",
      "spax jump:  [-2 27]\n",
      "spax jump:  [ 0 27]\n",
      "spax jump:  [ 1 27]\n",
      "spax jump:  [ 3 27]\n",
      "spax jump:  [ 5 27]\n",
      "spax jump:  [ 6 27]\n",
      "spax jump:  [ 8 27]\n",
      "flip\n",
      "new phi:  6.238871397471451\n"
     ]
    },
    {
     "data": {
      "text/plain": [
       "357.461"
      ]
     },
     "execution_count": 29,
     "metadata": {},
     "output_type": "execute_result"
    }
   ],
   "source": [
    "newphi,_,_ = find_phi(center, phi_angle, mvel)\n",
    "np.degrees(newphi)"
   ]
  },
  {
   "cell_type": "code",
   "execution_count": 10,
   "metadata": {},
   "outputs": [
    {
     "data": {
      "text/plain": [
       "[[-232, 16],\n",
       " [-207, 17],\n",
       " [-184, 18],\n",
       " [-164, 19],\n",
       " [-145, 20],\n",
       " [-129, 21],\n",
       " [-114, 22],\n",
       " [-100, 22],\n",
       " [-88, 23],\n",
       " [-77, 23],\n",
       " [-68, 24],\n",
       " [-59, 24],\n",
       " [-51, 24],\n",
       " [-44, 25],\n",
       " [-37, 25],\n",
       " [-32, 25],\n",
       " [-26, 25],\n",
       " [-22, 26],\n",
       " [-17, 26],\n",
       " [-14, 26],\n",
       " [-10, 26],\n",
       " [-7, 26],\n",
       " [-4, 26],\n",
       " [-2, 27],\n",
       " [0, 27],\n",
       " [1, 27],\n",
       " [3, 27],\n",
       " [5, 27],\n",
       " [6, 27],\n",
       " [8, 27]]"
      ]
     },
     "execution_count": 10,
     "metadata": {},
     "output_type": "execute_result"
    }
   ],
   "source": [
    "spax_jump"
   ]
  },
  {
   "cell_type": "code",
   "execution_count": 13,
   "metadata": {},
   "outputs": [
    {
     "data": {
      "image/png": "[encoded data removed]",
      "text/plain": [
       "<Figure size 600x400 with 2 Axes>"
      ]
     },
     "metadata": {
      "needs_background": "light"
     },
     "output_type": "display_data"
    }
   ],
   "source": [
    "plt.imshow(mvel, cmap='coolwarm')\n",
    "plt.colorbar(label='v [km/s]')\n",
    "plt.xlabel('spaxel')\n",
    "plt.ylabel('spaxel')\n",
    "#for i in range(0,len(spax_jump)):\n",
    "#    plt.scatter(spax_jump[i][1], spax_jump[i][0], marker='x', color='cyan')\n",
    "    #plt.scatter(spax_jump[i][1], spax_jump[i][0], marker='x', color='k')\n",
    "plt.gca().invert_yaxis()\n",
    "\n",
    "plt.show()"
   ]
  },
  {
   "cell_type": "code",
   "execution_count": 210,
   "metadata": {},
   "outputs": [
    {
     "data": {
      "text/plain": [
       "-95.420074"
      ]
     },
     "execution_count": 210,
     "metadata": {},
     "output_type": "execute_result"
    }
   ],
   "source": [
    "mvel[(37,20)] - mvel[center]"
   ]
  },
  {
   "cell_type": "code",
   "execution_count": null,
   "metadata": {},
   "outputs": [],
   "source": []
  }
 ],
 "metadata": {
  "kernelspec": {
   "display_name": "Python 3",
   "language": "python",
   "name": "python3"
  },
  "language_info": {
   "codemirror_mode": {
    "name": "ipython",
    "version": 3
   },
   "file_extension": ".py",
   "mimetype": "text/x-python",
   "name": "python",
   "nbconvert_exporter": "python",
   "pygments_lexer": "ipython3",
   "version": "3.7.4"
  }
 },
 "nbformat": 4,
 "nbformat_minor": 2
}
