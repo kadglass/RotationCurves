{
 "cells": [
  {
   "cell_type": "code",
   "execution_count": 1,
   "metadata": {},
   "outputs": [],
   "source": [
    "from astropy.table import Table\n",
    "\n",
    "import numpy as np\n",
    "\n",
    "import sys\n",
    "sys.path.insert(1, '/Users/nityaravi/Documents/GitHub/RotationCurves/spirals/')\n",
    "from extract_HI_functions import calculate_HI_R90, MHI_inner_disk, MHI_outer_disk\n",
    "\n",
    "import matplotlib.pyplot as plt"
   ]
  },
  {
   "cell_type": "code",
   "execution_count": 2,
   "metadata": {},
   "outputs": [],
   "source": [
    "master_table_folder = '/Users/nityaravi/Documents/Research/RotationCurves/data/manga/output_files/DR17/CURRENT_MASTER_TABLE/'\n",
    "master_table_fn = master_table_folder + 'H_alpha_HIvel_BB_extinction_H2_MxCG_R90_v3p5_Z_SFR_Portsmouthflux_Zglob_HIR90.fits'\n",
    "master_table = Table.read(master_table_fn, format='fits')"
   ]
  },
  {
   "cell_type": "code",
   "execution_count": 10,
   "metadata": {},
   "outputs": [
    {
     "data": {
      "text/html": [
       "<div><i>Table length=5</i>\n",
       "<table id=\"table140439412335376\" class=\"table-striped table-bordered table-condensed\">\n",
       "<thead><tr><th>plate</th><th>ifudsgn</th><th>plateifu</th><th>mangaid</th><th>versdrp2</th><th>versdrp3</th><th>verscore</th><th>versutil</th><th>versprim</th><th>platetyp</th><th>srvymode</th><th>objra</th><th>objdec</th><th>ifuglon</th><th>ifuglat</th><th>ifura</th><th>ifudec</th><th>ebvgal</th><th>nexp</th><th>exptime</th><th>drp3qual</th><th>bluesn2</th><th>redsn2</th><th>harname</th><th>frlplug</th><th>cartid</th><th>designid</th><th>cenra</th><th>cendec</th><th>airmsmin</th><th>airmsmed</th><th>airmsmax</th><th>seemin</th><th>seemed</th><th>seemax</th><th>transmin</th><th>transmed</th><th>transmax</th><th>mjdmin</th><th>mjdmed</th><th>mjdmax</th><th>gfwhm</th><th>rfwhm</th><th>ifwhm</th><th>zfwhm</th><th>mngtarg1</th><th>mngtarg2</th><th>mngtarg3</th><th>catidnum</th><th>plttarg</th><th>manga_tileid</th><th>nsa_iauname</th><th>ifudesignsize</th><th>ifutargetsize</th><th>ifudesignwrongsize</th><th>z</th><th>zmin</th><th>zmax</th><th>szmin</th><th>szmax</th><th>ezmin</th><th>ezmax</th><th>probs</th><th>pweight</th><th>psweight</th><th>psrweight</th><th>sweight</th><th>srweight</th><th>eweight</th><th>esweight</th><th>esrweight</th><th>nsa_field</th><th>nsa_run</th><th>nsa_camcol</th><th>nsa_version</th><th>nsa_nsaid</th><th>nsa_nsaid_v1b</th><th>nsa_z</th><th>nsa_zdist</th><th>nsa_sersic_absmag [7]</th><th>nsa_elpetro_absmag [7]</th><th>nsa_elpetro_amivar [7]</th><th>nsa_sersic_mass</th><th>nsa_elpetro_mass</th><th>nsa_elpetro_ba</th><th>nsa_elpetro_phi</th><th>nsa_extinction [7]</th><th>nsa_elpetro_th50_r</th><th>nsa_petro_th50</th><th>nsa_petro_flux [7]</th><th>nsa_petro_flux_ivar [7]</th><th>nsa_elpetro_flux [7]</th><th>nsa_elpetro_flux_ivar [7]</th><th>nsa_sersic_ba</th><th>nsa_sersic_n</th><th>nsa_sersic_phi</th><th>nsa_sersic_th50</th><th>nsa_sersic_flux [7]</th><th>nsa_sersic_flux_ivar [7]</th><th>smoothness_score</th><th>nsa_elpetro_th90</th><th>v_sys</th><th>v_sys_err</th><th>ba</th><th>ba_err</th><th>x0</th><th>x0_err</th><th>y0</th><th>y0_err</th><th>phi</th><th>phi_err</th><th>v_max</th><th>v_max_err</th><th>r_turn</th><th>r_turn_err</th><th>chi2</th><th>alpha</th><th>alpha_err</th><th>Rmax</th><th>M</th><th>M_err</th><th>fit_flag</th><th>Sigma_disk</th><th>Sigma_disk_err</th><th>R_disk</th><th>R_disk_err</th><th>rho_bulge</th><th>rho_bulge_err</th><th>R_bulge</th><th>R_bulge_err</th><th>M90_disk</th><th>M90_disk_err</th><th>M_disk</th><th>M_disk_err</th><th>chi2_disk</th><th>logHI</th><th>logHIlim</th><th>WF50</th><th>WF50_err</th><th>DL_ttype</th><th>vis_tidal</th><th>b</th><th>b_err</th><th>M_R90</th><th>M_R90_err</th><th>fit_function</th><th>A_g</th><th>A_r</th><th>logH2</th><th>R90_kpc</th><th>v_3p5</th><th>v_3p5_err</th><th>NSA_plate</th><th>NSA_fiberID</th><th>NSA_MJD</th><th>logH2_CG</th><th>logH2_CG_err</th><th>logH2_M</th><th>Z</th><th>Z_err</th><th>M_Z</th><th>M_Z_err</th><th>grad_Z</th><th>grad_Z_err</th><th>Z_0</th><th>Z_0_err</th><th>SFR</th><th>sSFR</th><th>SFR_err</th><th>sSFR_err</th><th>Flux_OII_3726</th><th>Flux_OII_3726_Err</th><th>Flux_OII_3728</th><th>Flux_OII_3728_Err</th><th>Flux_OIII_4958</th><th>Flux_OIII_4958_Err</th><th>Flux_OIII_5006</th><th>Flux_OIII_5006_Err</th><th>Flux_NII_6547</th><th>Flux_NII_6547_Err</th><th>Flux_NII_6583</th><th>Flux_NII_6583_Err</th><th>Flux_Ha_6562</th><th>Flux_Ha_6562_Err</th><th>Flux_Hb_4861</th><th>Flux_Hb_4861_Err</th><th>CMD_class</th><th>rabsmag_NSA</th><th>param_H2</th><th>param_H2_err</th><th>Z_map</th><th>Z_err_map</th><th>M_Z_map</th><th>M_Z_err_map</th><th>logHI_R90</th><th>logMHI_90</th></tr></thead>\n",
       "<thead><tr><th>int64</th><th>bytes32</th><th>bytes32</th><th>bytes32</th><th>bytes32</th><th>bytes32</th><th>bytes32</th><th>bytes32</th><th>bytes32</th><th>bytes32</th><th>bytes32</th><th>float64</th><th>float64</th><th>float64</th><th>float64</th><th>float64</th><th>float64</th><th>float64</th><th>int64</th><th>float64</th><th>int64</th><th>float64</th><th>float64</th><th>bytes53</th><th>int64</th><th>bytes32</th><th>int64</th><th>float64</th><th>float64</th><th>float64</th><th>float64</th><th>float64</th><th>float64</th><th>float64</th><th>float64</th><th>float64</th><th>float64</th><th>float64</th><th>int64</th><th>int64</th><th>int64</th><th>float64</th><th>float64</th><th>float64</th><th>float64</th><th>int64</th><th>int64</th><th>int64</th><th>int64</th><th>bytes32</th><th>int64</th><th>bytes19</th><th>int64</th><th>int64</th><th>int64</th><th>float64</th><th>float64</th><th>float64</th><th>float64</th><th>float64</th><th>float64</th><th>float64</th><th>float64</th><th>float64</th><th>float64</th><th>float64</th><th>float64</th><th>float64</th><th>float64</th><th>float64</th><th>float64</th><th>int64</th><th>int64</th><th>int64</th><th>bytes6</th><th>int64</th><th>int64</th><th>float64</th><th>float64</th><th>float64</th><th>float64</th><th>float64</th><th>float64</th><th>float64</th><th>float64</th><th>float64</th><th>float64</th><th>float64</th><th>float64</th><th>float64</th><th>float64</th><th>float64</th><th>float64</th><th>float64</th><th>float64</th><th>float64</th><th>float64</th><th>float64</th><th>float64</th><th>float64</th><th>float64</th><th>float64</th><th>float64</th><th>float64</th><th>float64</th><th>float64</th><th>float64</th><th>float64</th><th>float64</th><th>float64</th><th>float64</th><th>float64</th><th>float64</th><th>float64</th><th>float64</th><th>float64</th><th>float64</th><th>float64</th><th>float64</th><th>float64</th><th>float64</th><th>float64</th><th>float64</th><th>float64</th><th>float64</th><th>float64</th><th>float64</th><th>float64</th><th>float64</th><th>float64</th><th>float64</th><th>float64</th><th>float64</th><th>float64</th><th>float64</th><th>float64</th><th>float64</th><th>float64</th><th>float64</th><th>float64</th><th>float64</th><th>float64</th><th>float64</th><th>float64</th><th>float64</th><th>float64</th><th>float64</th><th>float64</th><th>float64</th><th>float64</th><th>float64</th><th>float64</th><th>int64</th><th>int64</th><th>int64</th><th>float64</th><th>float64</th><th>float64</th><th>float64</th><th>float64</th><th>float64</th><th>float64</th><th>float64</th><th>float64</th><th>float64</th><th>float64</th><th>float64</th><th>float64</th><th>float64</th><th>float64</th><th>float64</th><th>float64</th><th>float64</th><th>float64</th><th>float64</th><th>float64</th><th>float64</th><th>float64</th><th>float64</th><th>float64</th><th>float64</th><th>float64</th><th>float64</th><th>float64</th><th>float64</th><th>float64</th><th>float64</th><th>float64</th><th>float64</th><th>float64</th><th>float64</th><th>float64</th><th>float64</th><th>float64</th><th>float64</th><th>float64</th></tr></thead>\n",
       "<tr><td>10001</td><td>12701</td><td>10001-12701</td><td>1-48157</td><td>v3_1_1</td><td>v3_1_1</td><td>v1_9_1</td><td>v5_5_36</td><td>v2_9</td><td>APOGEE-2&amp;MaNGA</td><td>MaNGA dither</td><td>133.371090612</td><td>57.5984251446</td><td>159.27921887</td><td>38.8381829181</td><td>133.37109</td><td>57.598425</td><td>0.0545561</td><td>9</td><td>8100.81</td><td>0</td><td>20.0835</td><td>41.292</td><td>ma079</td><td>22</td><td>3</td><td>9114</td><td>134.41357</td><td>57.604214</td><td>1.10715</td><td>1.15321</td><td>1.21404</td><td>1.78219</td><td>1.85994</td><td>2.12685</td><td>0.898721</td><td>0.929654</td><td>0.937466</td><td>57372</td><td>57373</td><td>57373</td><td>2.69906</td><td>2.64546</td><td>2.59645</td><td>2.54039</td><td>2080</td><td>0</td><td>0</td><td>1</td><td>plateTargets-1.par</td><td>6013</td><td>J085329.03+573554.9</td><td>127</td><td>127</td><td>0</td><td>0.0392074</td><td>0.0193562</td><td>0.0264775</td><td>0.0386959</td><td>0.0429176</td><td>0.0193562</td><td>0.0264775</td><td>0.748562</td><td>-999.0</td><td>0.665321</td><td>0.705378</td><td>1.08789</td><td>1.19925</td><td>-999.0</td><td>0.66562</td><td>0.705713</td><td>203</td><td>1350</td><td>6</td><td>v1_0_1</td><td>51226</td><td>-999</td><td>0.0392074</td><td>0.0395926</td><td>-16.2982 .. -19.5112</td><td>-16.2321 .. -19.5522</td><td>275.541 .. 452.944</td><td>3068010000.0</td><td>2685340000.0</td><td>0.417013</td><td>69.2463</td><td>0.448783 .. 0.0800664</td><td>5.16633</td><td>3.63987</td><td>12.7947 .. 413.049</td><td>3.26768 .. 0.000422625</td><td>13.8306 .. 425.941</td><td>3.03694 .. 0.00496838</td><td>0.335333</td><td>0.741845</td><td>68.2584</td><td>5.29184</td><td>14.8124 .. 412.19</td><td>2.50888 .. 0.0150605</td><td>1.560186343059074</td><td>9.852487564086914</td><td>2.946989472970758</td><td>0.09848277794062997</td><td>0.8525269160441389</td><td>0.004661246847300842</td><td>38.7739389484797</td><td>0.022936739976051144</td><td>37.440940071078124</td><td>0.016138461970098106</td><td>61.88507825188626</td><td>0.07338042747869138</td><td>183.15428191832711</td><td>2.8318738759310786</td><td>2.2299464843830368</td><td>0.006099342053787376</td><td>10.529260284502032</td><td>4.181226771589277</td><td>0.07058094055808059</td><td>6.435441132989916</td><td>11.185428134112588</td><td>10.663096428880776</td><td>1.5</td><td>300.9007693953248</td><td>15.203381761428345</td><td>0.42300918794160963</td><td>0.04332889447409282</td><td>318528356.25649077</td><td>10973819.90888883</td><td>1.1700697820493802</td><td>0.01234311518755433</td><td>10.054323200255043</td><td>8.681101900065409</td><td>10.119328135890797</td><td>8.780959524997495</td><td>471538.3029792875</td><td>10.350040435791016</td><td>-999.0</td><td>309.752973573684</td><td>50.84180796596384</td><td>6.564641952514648</td><td>0.0</td><td>0.0</td><td>0.0</td><td>10.637055736445056</td><td>9.856536145016422</td><td>0.0</td><td>0.18</td><td>0.125</td><td>-999.0</td><td>5.614479609229095</td><td>183.14938552312165</td><td>24.91258446340628</td><td>448</td><td>450</td><td>51900</td><td>--</td><td>--</td><td>--</td><td>8.421086766593023</td><td>0.036466659990572275</td><td>8.486220534884033</td><td>7.883433825112772</td><td>--</td><td>--</td><td>--</td><td>--</td><td>-0.0895131693945173</td><td>-10.208841305285315</td><td>0.0925213500857353</td><td>-1.4278817802878185</td><td>373.937</td><td>93.22031</td><td>178.0243</td><td>59.27842</td><td>36.35599</td><td>2.990807</td><td>103.8743</td><td>8.545163</td><td>39.741</td><td>2.801536</td><td>116.8853</td><td>8.239811</td><td>443.3094</td><td>18.30397</td><td>139.8048</td><td>9.187597</td><td>1.0</td><td>-19.2112</td><td>8.914480000000001</td><td>0.5000280813874357</td><td>0.0</td><td>0.0</td><td>0.0</td><td>0.0</td><td>9.372622413684429</td><td>9.372622413684429</td></tr>\n",
       "<tr><td>10001</td><td>12702</td><td>10001-12702</td><td>1-48188</td><td>v3_1_1</td><td>v3_1_1</td><td>v1_9_1</td><td>v5_5_36</td><td>v2_9</td><td>APOGEE-2&amp;MaNGA</td><td>MaNGA dither</td><td>133.685669869</td><td>57.4802503218</td><td>159.390126911</td><td>39.0253440844</td><td>133.68567</td><td>57.48025</td><td>0.0492053</td><td>9</td><td>8100.81</td><td>0</td><td>20.0835</td><td>41.292</td><td>ma078</td><td>25</td><td>3</td><td>9114</td><td>134.41357</td><td>57.604214</td><td>1.10569</td><td>1.15089</td><td>1.21106</td><td>1.78219</td><td>1.85994</td><td>2.12685</td><td>0.898721</td><td>0.929654</td><td>0.937466</td><td>57372</td><td>57373</td><td>57373</td><td>2.72072</td><td>2.66314</td><td>2.64652</td><td>2.61686</td><td>2080</td><td>0</td><td>0</td><td>1</td><td>plateTargets-1.par</td><td>6013</td><td>J085444.56+572848.8</td><td>127</td><td>217</td><td>0</td><td>0.0408108</td><td>0.0193227</td><td>0.0264533</td><td>0.0386469</td><td>0.042869</td><td>0.0188554</td><td>0.0266531</td><td>0.794785</td><td>-999.0</td><td>0.651037</td><td>0.681893</td><td>1.04947</td><td>1.13205</td><td>-999.0</td><td>0.631507</td><td>0.660498</td><td>35</td><td>3600</td><td>5</td><td>v1_0_1</td><td>51261</td><td>-999</td><td>0.0408108</td><td>0.0411932</td><td>-15.9069 .. -19.6569</td><td>-16.127 .. -19.5493</td><td>206.664 .. 49.3569</td><td>5341650000.0</td><td>4642460000.0</td><td>0.598115</td><td>12.5169</td><td>0.405779 .. 0.072394</td><td>7.01311</td><td>6.11281</td><td>12.4553 .. 396.399</td><td>2.27628 .. 0.000372112</td><td>12.4406 .. 390.985</td><td>2.3517 .. 0.000398299</td><td>0.508217</td><td>1.44272</td><td>12.3759</td><td>8.34906</td><td>10.1128 .. 432.884</td><td>3.38905 .. 0.00964978</td><td>1.5619979358006435</td><td>14.355437278747559</td><td>0.6765359119793715</td><td>0.23419562301556418</td><td>0.6739844282455619</td><td>0.006739656007202572</td><td>36.85326879733403</td><td>0.04204024887591865</td><td>37.98221005537202</td><td>0.05640746039294769</td><td>188.3088174477578</td><td>0.16826186470866497</td><td>194.97775272347383</td><td>6.932242299930594</td><td>0.9585752877878831</td><td>0.07208969706038451</td><td>2.457986344552885</td><td>0.6629820156636723</td><td>0.04575759010348131</td><td>10.492041769351301</td><td>11.292909462167833</td><td>10.847252340042417</td><td>3.5</td><td>293.3478638373148</td><td>10.60192409708804</td><td>0.6790488070059231</td><td>0.05316399052089292</td><td>115971867.9868961</td><td>7747575.084882941</td><td>1.6956282295929506</td><td>0.03670610210595715</td><td>10.124313484194262</td><td>9.034999166941406</td><td>10.177811159857796</td><td>9.124034282826187</td><td>1207886.7459959988</td><td>9.583724021911621</td><td>-999.0</td><td>273.50491644321835</td><td>6.866128229994085</td><td>4.730921268463135</td><td>0.0</td><td>0.0</td><td>0.0</td><td>10.600037009816079</td><td>10.15080355502181</td><td>0.0</td><td>0.163</td><td>0.112</td><td>-999.0</td><td>8.515048082090281</td><td>168.30899596736322</td><td>29.53675151629983</td><td>448</td><td>524</td><td>51900</td><td>--</td><td>--</td><td>--</td><td>0.0</td><td>0.0</td><td>--</td><td>--</td><td>--</td><td>--</td><td>--</td><td>--</td><td>-0.608526199959836</td><td>-10.786337359817633</td><td>0.0754329945892096</td><td>-1.6623030769914453</td><td>89.1607</td><td>31.75793</td><td>0.0</td><td>0.0</td><td>2.399247</td><td>1.55884</td><td>6.854991</td><td>4.453827</td><td>5.203186</td><td>1.023157</td><td>15.30349</td><td>3.009284</td><td>38.54522</td><td>5.763519</td><td>22.61532</td><td>6.524312</td><td>2.0</td><td>-19.0722</td><td>8.829494</td><td>0.5599995760141252</td><td>0.0</td><td>0.0</td><td>0.0</td><td>0.0</td><td>9.18949974524763</td><td>9.18949974524763</td></tr>\n",
       "<tr><td>10001</td><td>12703</td><td>10001-12703</td><td>1-55648</td><td>v3_1_1</td><td>v3_1_1</td><td>v1_9_1</td><td>v5_5_36</td><td>v2_9</td><td>APOGEE-2&amp;MaNGA</td><td>MaNGA dither</td><td>136.017159969</td><td>57.0923291779</td><td>159.56459216</td><td>40.3368076472</td><td>136.01716</td><td>57.092329</td><td>0.0258626</td><td>9</td><td>8100.81</td><td>0</td><td>19.9086</td><td>40.7596</td><td>ma077</td><td>31</td><td>3</td><td>9114</td><td>134.41357</td><td>57.604214</td><td>1.09975</td><td>1.13824</td><td>1.19323</td><td>1.78219</td><td>1.85994</td><td>2.12685</td><td>0.898721</td><td>0.929654</td><td>0.937466</td><td>57372</td><td>57373</td><td>57373</td><td>2.7262</td><td>2.61384</td><td>2.56576</td><td>2.53132</td><td>2080</td><td>0</td><td>0</td><td>1</td><td>plateTargets-1.par</td><td>6013</td><td>J090404.13+570532.3</td><td>127</td><td>169</td><td>0</td><td>0.0462094</td><td>0.0227277</td><td>0.0296235</td><td>0.0443908</td><td>0.0487145</td><td>0.0222592</td><td>0.03022</td><td>0.55597</td><td>-999.0</td><td>0.570051</td><td>0.643308</td><td>0.979861</td><td>1.21834</td><td>-999.0</td><td>0.534143</td><td>0.597944</td><td>39</td><td>3600</td><td>2</td><td>v1_0_1</td><td>59078</td><td>-999</td><td>0.0462094</td><td>0.046579</td><td>-15.9552 .. -20.5965</td><td>-16.3926 .. -20.4663</td><td>223.74 .. 875.365</td><td>13693500000.0</td><td>9439710000.0</td><td>0.378034</td><td>51.5052</td><td>0.219711 .. 0.0391981</td><td>6.523</td><td>4.87172</td><td>13.8626 .. 635.975</td><td>1.79171 .. 0.00598687</td><td>14.4442 .. 722.823</td><td>1.96905 .. 0.00930865</td><td>0.205749</td><td>2.18084</td><td>51.2808</td><td>8.09139</td><td>9.82225 .. 820.242</td><td>2.79287 .. 0.0443689</td><td>1.1414035570714935</td><td>14.743389129638672</td><td>16.699456893928602</td><td>0.0963277859001372</td><td>0.868911357820688</td><td>0.0007131052643978732</td><td>36.558508375391675</td><td>0.020946818786307338</td><td>35.641571170832165</td><td>0.018071593708941423</td><td>56.79483322166177</td><td>0.08249999450764357</td><td>369.9104377816068</td><td>1.1162754236338</td><td>2.2255004811754473</td><td>0.025995323685563534</td><td>57.98401438954021</td><td>1.0019694161891133</td><td>0.003716146716676395</td><td>10.501250692751151</td><td>11.98875372506019</td><td>11.44150293569664</td><td>2.5</td><td>1201.0759702017704</td><td>23.844360911771343</td><td>0.5494068894426105</td><td>0.02030870938454245</td><td>494628915.16105384</td><td>13753186.951918408</td><td>1.3970129924747783</td><td>0.0114278522601265</td><td>10.546935338970071</td><td>9.081725877664413</td><td>10.558369569453301</td><td>9.103192513387299</td><td>203727.58256011392</td><td>9.775858879089355</td><td>-999.0</td><td>383.131393858277</td><td>32.519186623217024</td><td>4.756507873535156</td><td>0.0</td><td>0.0</td><td>0.0</td><td>11.32307263875663</td><td>10.727979027247507</td><td>0.0</td><td>0.085</td><td>0.059</td><td>-999.0</td><td>9.902006982545116</td><td>347.745404077086</td><td>47.8247202374236</td><td>483</td><td>535</td><td>51924</td><td>--</td><td>--</td><td>--</td><td>8.630948670089284</td><td>0.029058075876715075</td><td>8.256377563614926</td><td>8.747992117355881</td><td>--</td><td>--</td><td>--</td><td>--</td><td>0.100402942083708</td><td>-10.457966627369593</td><td>0.0599349962547421</td><td>-1.3547741139822944</td><td>112.7216</td><td>61.29302</td><td>102.8859</td><td>52.6389</td><td>11.65704</td><td>2.48872</td><td>33.30582</td><td>7.110629</td><td>45.03778</td><td>3.149421</td><td>132.4641</td><td>9.263003</td><td>341.2613</td><td>12.1679</td><td>141.0871</td><td>17.48393</td><td>1.0</td><td>-19.9387</td><td>9.205480000000001</td><td>0.5112931674450579</td><td>0.0</td><td>0.0</td><td>0.0</td><td>0.0</td><td>9.335680626404208</td><td>9.335680626404208</td></tr>\n",
       "<tr><td>10001</td><td>12704</td><td>10001-12704</td><td>1-55616</td><td>v3_1_1</td><td>v3_1_1</td><td>v1_9_1</td><td>v5_5_36</td><td>v2_9</td><td>APOGEE-2&amp;MaNGA</td><td>MaNGA dither</td><td>133.989966869</td><td>57.6779676669</td><td>159.101196491</td><td>39.1494998661</td><td>133.98997</td><td>57.677968</td><td>0.0476794</td><td>9</td><td>8100.81</td><td>64</td><td>19.9086</td><td>40.7596</td><td>ma076</td><td>34</td><td>3</td><td>9114</td><td>134.41357</td><td>57.604214</td><td>1.10705</td><td>1.15123</td><td>1.21051</td><td>1.78219</td><td>1.85994</td><td>2.12685</td><td>0.898721</td><td>0.929654</td><td>0.937466</td><td>57372</td><td>57373</td><td>57373</td><td>2.6788</td><td>2.58733</td><td>2.52311</td><td>2.47903</td><td>4160</td><td>0</td><td>0</td><td>1</td><td>plateTargets-1.par</td><td>6013</td><td>J085557.56+574040.6</td><td>127</td><td>397</td><td>0</td><td>0.0141215</td><td>0.0183756</td><td>0.0258019</td><td>0.037294</td><td>0.0415338</td><td>0.0141373</td><td>0.0310467</td><td>0.67973</td><td>-999.0</td><td>-999.0</td><td>-999.0</td><td>-999.0</td><td>-999.0</td><td>0.716568</td><td>0.45291</td><td>0.474847</td><td>36</td><td>3600</td><td>5</td><td>v1_0_1</td><td>59044</td><td>-999</td><td>0.0141215</td><td>0.0145852</td><td>-14.2399 .. -19.4321</td><td>-14.2982 .. -19.3602</td><td>262.464 .. 794.079</td><td>4286640000.0</td><td>4218380000.0</td><td>0.212315</td><td>81.0961</td><td>0.388503 .. 0.0693118</td><td>16.0734</td><td>11.44</td><td>18.0685 .. 2387.32</td><td>0.731053 .. 1.94195e-05</td><td>18.855 .. 2747.21</td><td>1.50036 .. 0.000434694</td><td>0.15</td><td>0.869326</td><td>81.2193</td><td>18.2816</td><td>17.8616 .. 2923.9</td><td>2.16404 .. 0.00123046</td><td>1.2909390780165348</td><td>33.156402587890625</td><td>-2.634762784476005</td><td>0.09187106750706249</td><td>0.4055339772671592</td><td>0.0006001633102882991</td><td>36.43376557407452</td><td>0.01858300451194395</td><td>38.139029680496584</td><td>0.02222913860579567</td><td>85.11107958400636</td><td>0.057813166931291814</td><td>122.48415062258817</td><td>0.3994965769481449</td><td>2.016120495793798</td><td>0.004139169135295307</td><td>22.622761000584767</td><td>3.9043682508897124</td><td>0.08876432226865019</td><td>5.708876239096034</td><td>10.919496867791567</td><td>10.33626744461852</td><td>3.5</td><td>589.741380235529</td><td>13.146010279176876</td><td>0.16832394280031962</td><td>0.004839248890317191</td><td>541588696.96986</td><td>5004394.585211396</td><td>0.8480244916060672</td><td>0.0027159735332440583</td><td>9.918768524805014</td><td>8.032310918758885</td><td>9.924592856288296</td><td>8.044620557122625</td><td>265311.1920361342</td><td>9.239542007446289</td><td>-999.0</td><td>292.93732389433455</td><td>4.826130375197129</td><td>4.773223400115967</td><td>0.0</td><td>0.0</td><td>0.0</td><td>10.37352631137793</td><td>9.51492042443341</td><td>0.0</td><td>0.157</td><td>0.109</td><td>-999.0</td><td>6.80524567314194</td><td>122.48211130453265</td><td>14.72299702222846</td><td>483</td><td>456</td><td>51924</td><td>--</td><td>--</td><td>--</td><td>0.0</td><td>0.0</td><td>--</td><td>--</td><td>--</td><td>--</td><td>--</td><td>--</td><td>-0.465113695140934</td><td>-10.38970655142923</td><td>0.0942158468067646</td><td>-2.3450859943066042</td><td>--</td><td>--</td><td>--</td><td>--</td><td>--</td><td>--</td><td>--</td><td>--</td><td>--</td><td>--</td><td>--</td><td>--</td><td>--</td><td>--</td><td>--</td><td>--</td><td>-99.0</td><td>-18.7303</td><td>--</td><td>--</td><td>0.0</td><td>0.0</td><td>0.0</td><td>0.0</td><td>8.949839609021893</td><td>8.949839609021893</td></tr>\n",
       "<tr><td>10001</td><td>12705</td><td>10001-12705</td><td>1-55784</td><td>v3_1_1</td><td>v3_1_1</td><td>v1_9_1</td><td>v5_5_36</td><td>v2_9</td><td>APOGEE-2&amp;MaNGA</td><td>MaNGA dither</td><td>136.75137451</td><td>57.4514369241</td><td>158.989317689</td><td>40.6452221361</td><td>136.75137</td><td>57.451437</td><td>0.0313756</td><td>9</td><td>8100.81</td><td>0</td><td>19.9086</td><td>40.7596</td><td>ma075</td><td>36</td><td>3</td><td>9114</td><td>134.41357</td><td>57.604214</td><td>1.10226</td><td>1.13845</td><td>1.19148</td><td>1.78219</td><td>1.85994</td><td>2.12685</td><td>0.898721</td><td>0.929654</td><td>0.937466</td><td>57372</td><td>57373</td><td>57373</td><td>2.76525</td><td>2.72247</td><td>2.6945</td><td>2.68859</td><td>2080</td><td>0</td><td>0</td><td>1</td><td>plateTargets-1.par</td><td>6013</td><td>J090700.33+572705.1</td><td>127</td><td>127</td><td>0</td><td>0.0462349</td><td>0.0237085</td><td>0.0309678</td><td>0.0465261</td><td>0.0509661</td><td>0.0237085</td><td>0.0309678</td><td>0.570179</td><td>-999.0</td><td>0.498846</td><td>0.559482</td><td>0.859826</td><td>1.05734</td><td>-999.0</td><td>0.499088</td><td>0.559786</td><td>42</td><td>3600</td><td>2</td><td>v1_0_1</td><td>59219</td><td>-999</td><td>0.0462349</td><td>0.0466083</td><td>-17.0919 .. -20.792</td><td>-17.3181 .. -20.6366</td><td>426.79 .. 721.697</td><td>12987300000.0</td><td>9651730000.0</td><td>0.541128</td><td>132.903</td><td>0.269762 .. 0.0481275</td><td>5.743</td><td>4.54868</td><td>30.9177 .. 822.353</td><td>1.66031 .. 0.00289279</td><td>32.4019 .. 845.756</td><td>1.51105 .. 0.0033936</td><td>0.471451</td><td>1.25046</td><td>133.75</td><td>6.2694</td><td>26.1276 .. 967.317</td><td>1.54431 .. 0.0197392</td><td>1.116217114299689</td><td>12.379983901977539</td><td>-8.559958473756444</td><td>0.07498428303186003</td><td>0.9497052971746266</td><td>0.0007072587113618216</td><td>36.80000403333341</td><td>0.011457654590714562</td><td>37.926953271029255</td><td>0.01071175343699258</td><td>301.8849973850022</td><td>0.03844968008047375</td><td>576.8959287841191</td><td>3.9366078252233434</td><td>1.929803966282252</td><td>0.011467226401374831</td><td>38.76054951559863</td><td>1.0207175658745684</td><td>0.009951905349191898</td><td>11.029000013721355</td><td>12.301076709360334</td><td>11.549619822177911</td><td>0.5</td><td>1615.3588848989846</td><td>30.920309406718417</td><td>0.5102050654719471</td><td>0.014777290954071761</td><td>417122595.5683198</td><td>11888416.927521065</td><td>1.4122833591643253</td><td>0.012338668467583646</td><td>10.47990656722755</td><td>9.012954266113937</td><td>10.507483607381268</td><td>9.0620649533384</td><td>212526.77787122419</td><td>9.864717483520508</td><td>-999.0</td><td>429.8801805090781</td><td>67.64509032547672</td><td>4.76101016998291</td><td>0.0</td><td>0.0</td><td>0.0</td><td>11.635990412349255</td><td>10.81301448064697</td><td>0.0</td><td>0.104</td><td>0.072</td><td>-999.0</td><td>8.319276770107702</td><td>543.5527785584017</td><td>50.98015669144624</td><td>484</td><td>281</td><td>51907</td><td>--</td><td>--</td><td>--</td><td>8.537221437647208</td><td>0.03834449417925915</td><td>8.21191936980759</td><td>8.006056750345365</td><td>--</td><td>--</td><td>--</td><td>--</td><td>0.482522582767926</td><td>-10.024961024613342</td><td>0.0749382834881544</td><td>-0.9628960712749419</td><td>203.5995</td><td>284.2818</td><td>386.5781</td><td>215.5094</td><td>17.91286</td><td>4.375536</td><td>51.1796</td><td>12.50153</td><td>107.0298</td><td>5.265628</td><td>314.7936</td><td>15.48714</td><td>930.6642</td><td>28.85929</td><td>301.5423</td><td>15.14367</td><td>1.0</td><td>-20.2512</td><td>9.330480000000001</td><td>0.516182565160816</td><td>0.0</td><td>0.0</td><td>0.0</td><td>0.0</td><td>9.26583678602232</td><td>9.26583678602232</td></tr>\n",
       "</table></div>"
      ],
      "text/plain": [
       "<Table length=5>\n",
       "plate ifudsgn   plateifu  ... M_Z_err_map     logHI_R90         logMHI_90    \n",
       "int64 bytes32   bytes32   ...   float64        float64           float64     \n",
       "----- ------- ----------- ... ----------- ----------------- -----------------\n",
       "10001   12701 10001-12701 ...         0.0 9.372622413684429 9.372622413684429\n",
       "10001   12702 10001-12702 ...         0.0  9.18949974524763  9.18949974524763\n",
       "10001   12703 10001-12703 ...         0.0 9.335680626404208 9.335680626404208\n",
       "10001   12704 10001-12704 ...         0.0 8.949839609021893 8.949839609021893\n",
       "10001   12705 10001-12705 ...         0.0  9.26583678602232  9.26583678602232"
      ]
     },
     "execution_count": 10,
     "metadata": {},
     "output_type": "execute_result"
    }
   ],
   "source": [
    "master_table[0:5]"
   ]
  },
  {
   "cell_type": "code",
   "execution_count": 11,
   "metadata": {},
   "outputs": [],
   "source": [
    "master_table['logHI_R90'] = -999*np.ones(len(master_table))"
   ]
  },
  {
   "cell_type": "code",
   "execution_count": 12,
   "metadata": {},
   "outputs": [],
   "source": [
    "for i in range(0, len(master_table)):\n",
    "    logHI = master_table['logHI'][i]\n",
    "    R90_kpc = master_table['R90_kpc'][i]\n",
    "    M90_disk = master_table['M90_disk'][i]\n",
    "    if M90_disk >= 9:\n",
    "        if logHI > 0 and R90_kpc > 0:\n",
    "            master_table['logHI_R90'][i] = calculate_HI_R90(logHI, R90_kpc)"
   ]
  },
  {
   "cell_type": "code",
   "execution_count": 13,
   "metadata": {},
   "outputs": [
    {
     "data": {
      "text/html": [
       "<div><i>Table length=11273</i>\n",
       "<table id=\"table140439412466640\" class=\"table-striped table-bordered table-condensed\">\n",
       "<thead><tr><th>logHI_R90</th><th>logHI</th></tr></thead>\n",
       "<thead><tr><th>float64</th><th>float64</th></tr></thead>\n",
       "<tr><td>9.372622413684429</td><td>10.350040435791016</td></tr>\n",
       "<tr><td>9.18949974524763</td><td>9.583724021911621</td></tr>\n",
       "<tr><td>9.335680626404208</td><td>9.775858879089355</td></tr>\n",
       "<tr><td>8.949839609021893</td><td>9.239542007446289</td></tr>\n",
       "<tr><td>9.26583678602232</td><td>9.864717483520508</td></tr>\n",
       "<tr><td>-999.0</td><td>-999.0</td></tr>\n",
       "<tr><td>-999.0</td><td>-999.0</td></tr>\n",
       "<tr><td>-999.0</td><td>-999.0</td></tr>\n",
       "<tr><td>-999.0</td><td>-999.0</td></tr>\n",
       "<tr><td>-999.0</td><td>-999.0</td></tr>\n",
       "<tr><td>...</td><td>...</td></tr>\n",
       "<tr><td>-999.0</td><td>-999.0</td></tr>\n",
       "<tr><td>9.00291694179411</td><td>9.672205924987793</td></tr>\n",
       "<tr><td>-999.0</td><td>9.355055809020996</td></tr>\n",
       "<tr><td>-999.0</td><td>-999.0</td></tr>\n",
       "<tr><td>-999.0</td><td>-999.0</td></tr>\n",
       "<tr><td>8.663330648414785</td><td>9.338874816894531</td></tr>\n",
       "<tr><td>8.937483509051429</td><td>9.631711959838867</td></tr>\n",
       "<tr><td>9.19353314554826</td><td>9.723223686218262</td></tr>\n",
       "<tr><td>-999.0</td><td>-999.0</td></tr>\n",
       "<tr><td>9.0742447603205</td><td>9.764639854431152</td></tr>\n",
       "</table></div>"
      ],
      "text/plain": [
       "<Table length=11273>\n",
       "    logHI_R90           logHI       \n",
       "     float64           float64      \n",
       "----------------- ------------------\n",
       "9.372622413684429 10.350040435791016\n",
       " 9.18949974524763  9.583724021911621\n",
       "9.335680626404208  9.775858879089355\n",
       "8.949839609021893  9.239542007446289\n",
       " 9.26583678602232  9.864717483520508\n",
       "           -999.0             -999.0\n",
       "           -999.0             -999.0\n",
       "           -999.0             -999.0\n",
       "           -999.0             -999.0\n",
       "           -999.0             -999.0\n",
       "              ...                ...\n",
       "           -999.0             -999.0\n",
       " 9.00291694179411  9.672205924987793\n",
       "           -999.0  9.355055809020996\n",
       "           -999.0             -999.0\n",
       "           -999.0             -999.0\n",
       "8.663330648414785  9.338874816894531\n",
       "8.937483509051429  9.631711959838867\n",
       " 9.19353314554826  9.723223686218262\n",
       "           -999.0             -999.0\n",
       "  9.0742447603205  9.764639854431152"
      ]
     },
     "execution_count": 13,
     "metadata": {},
     "output_type": "execute_result"
    }
   ],
   "source": [
    "master_table['logHI_R90','logHI']"
   ]
  },
  {
   "cell_type": "code",
   "execution_count": 15,
   "metadata": {},
   "outputs": [],
   "source": [
    "master_table.remove_column('logMHI_90')"
   ]
  },
  {
   "cell_type": "code",
   "execution_count": 16,
   "metadata": {},
   "outputs": [],
   "source": [
    "master_table.write(master_table_fn, format='fits', overwrite=True)"
   ]
  },
  {
   "cell_type": "code",
   "execution_count": 17,
   "metadata": {},
   "outputs": [
    {
     "data": {
      "text/plain": [
       "Text(0.5, 0, 'HI mass [M$_\\\\odot$]')"
      ]
     },
     "execution_count": 17,
     "metadata": {},
     "output_type": "execute_result"
    },
    {
     "data": {
      "image/png": "[encoded data removed]",
      "text/plain": [
       "<Figure size 432x288 with 1 Axes>"
      ]
     },
     "metadata": {
      "needs_background": "light"
     },
     "output_type": "display_data"
    }
   ],
   "source": [
    "plt.hist(master_table['logHI'],bins=np.arange(7,12,0.25),alpha=0.5, label='total HI mass')\n",
    "plt.hist(master_table['logHI_R90'], bins=np.arange(7,12,0.25),alpha=0.5, label='HI mass within R90')\n",
    "plt.legend()\n",
    "plt.xlabel('HI mass [M$_\\odot$]')"
   ]
  },
  {
   "cell_type": "code",
   "execution_count": null,
   "metadata": {},
   "outputs": [],
   "source": []
  }
 ],
 "metadata": {
  "kernelspec": {
   "display_name": "Python 3",
   "language": "python",
   "name": "python3"
  },
  "language_info": {
   "codemirror_mode": {
    "name": "ipython",
    "version": 3
   },
   "file_extension": ".py",
   "mimetype": "text/x-python",
   "name": "python",
   "nbconvert_exporter": "python",
   "pygments_lexer": "ipython3",
   "version": "3.7.4"
  }
 },
 "nbformat": 4,
 "nbformat_minor": 2
}
